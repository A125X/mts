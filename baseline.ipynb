{
 "cells": [
  {
   "attachments": {},
   "cell_type": "markdown",
   "metadata": {},
   "source": [
    "Метрика соревнования — ROC-AUC – для определения пола, f1 weighted – для определения возраста. Все решения высчитываются по формуле - 2 * f1_weighted(по 6 возрастным бакетам) + gini по полу. Возрастные бакеты 18-24, 25-34, 35-44, 45-54, 55-64 65+."
   ]
  },
  {
   "attachments": {},
   "cell_type": "markdown",
   "metadata": {},
   "source": [
    "# Обработка данных"
   ]
  },
  {
   "cell_type": "code",
   "execution_count": 1,
   "metadata": {},
   "outputs": [
    {
     "name": "stdout",
     "output_type": "stream",
     "text": [
      "Note: you may need to restart the kernel to use updated packages.\n",
      "Note: you may need to restart the kernel to use updated packages.\n",
      "Note: you may need to restart the kernel to use updated packages.\n",
      "Note: you may need to restart the kernel to use updated packages.\n"
     ]
    }
   ],
   "source": [
    "import pandas as pd\n",
    "%pip install polars -q\n",
    "import polars as pl\n",
    "import numpy as np\n",
    "import time\n",
    "%pip install pyarrow -q\n",
    "import pyarrow as pa\n",
    "import pyarrow.parquet as pq\n",
    "import scipy\n",
    "%pip install implicit -q\n",
    "import implicit\n",
    "import bisect\n",
    "import sklearn.metrics as m\n",
    "%pip install catboost -q\n",
    "from catboost import CatBoostClassifier, CatBoostRegressor, Pool\n",
    "from sklearn.model_selection import train_test_split\n",
    "from sklearn.calibration import calibration_curve, CalibratedClassifierCV\n",
    "import seaborn as sns\n",
    "import matplotlib.pyplot as plt\n",
    "import plotly.express as px\n",
    "\n",
    "%matplotlib inline\n",
    "sns.set_style('darkgrid')"
   ]
  },
  {
   "cell_type": "code",
   "execution_count": 2,
   "metadata": {},
   "outputs": [],
   "source": [
    "LOCAL_DATA_PATH = './context_data/'\n",
    "SPLIT_SEED = 42\n",
    "DATA_FILE = 'competition_data_final_pqt'\n",
    "TARGET_FILE = 'public_train.pqt'\n",
    "SUBMISSION_FILE = 'submit_2.pqt'"
   ]
  },
  {
   "cell_type": "code",
   "execution_count": 3,
   "metadata": {},
   "outputs": [
    {
     "data": {
      "text/html": [
       "<div>\n",
       "<style scoped>\n",
       "    .dataframe tbody tr th:only-of-type {\n",
       "        vertical-align: middle;\n",
       "    }\n",
       "\n",
       "    .dataframe tbody tr th {\n",
       "        vertical-align: top;\n",
       "    }\n",
       "\n",
       "    .dataframe thead th {\n",
       "        text-align: right;\n",
       "    }\n",
       "</style>\n",
       "<table border=\"1\" class=\"dataframe\">\n",
       "  <thead>\n",
       "    <tr style=\"text-align: right;\">\n",
       "      <th></th>\n",
       "      <th>user_id</th>\n",
       "    </tr>\n",
       "  </thead>\n",
       "  <tbody>\n",
       "    <tr>\n",
       "      <th>221301</th>\n",
       "      <td>221301</td>\n",
       "    </tr>\n",
       "    <tr>\n",
       "      <th>31271</th>\n",
       "      <td>31271</td>\n",
       "    </tr>\n",
       "    <tr>\n",
       "      <th>211594</th>\n",
       "      <td>211594</td>\n",
       "    </tr>\n",
       "    <tr>\n",
       "      <th>253119</th>\n",
       "      <td>253119</td>\n",
       "    </tr>\n",
       "    <tr>\n",
       "      <th>192578</th>\n",
       "      <td>192578</td>\n",
       "    </tr>\n",
       "  </tbody>\n",
       "</table>\n",
       "</div>"
      ],
      "text/plain": [
       "        user_id\n",
       "221301   221301\n",
       "31271     31271\n",
       "211594   211594\n",
       "253119   253119\n",
       "192578   192578"
      ]
     },
     "execution_count": 3,
     "metadata": {},
     "output_type": "execute_result"
    }
   ],
   "source": [
    "id_to_submit = pq.read_table(f'{LOCAL_DATA_PATH}/{SUBMISSION_FILE}').to_pandas()\n",
    "id_to_submit.head()"
   ]
  },
  {
   "cell_type": "code",
   "execution_count": 4,
   "metadata": {},
   "outputs": [
    {
     "name": "stdout",
     "output_type": "stream",
     "text": [
      "<class 'pandas.core.frame.DataFrame'>\n",
      "Int64Index: 144724 entries, 221301 to 145315\n",
      "Data columns (total 1 columns):\n",
      " #   Column   Non-Null Count   Dtype\n",
      "---  ------   --------------   -----\n",
      " 0   user_id  144724 non-null  int64\n",
      "dtypes: int64(1)\n",
      "memory usage: 2.2 MB\n"
     ]
    }
   ],
   "source": [
    "id_to_submit.info()"
   ]
  },
  {
   "cell_type": "code",
   "execution_count": 5,
   "metadata": {},
   "outputs": [],
   "source": [
    "data = pd.read_feather(f'{LOCAL_DATA_PATH}/dataset_full.feather')"
   ]
  },
  {
   "cell_type": "code",
   "execution_count": 6,
   "metadata": {},
   "outputs": [
    {
     "data": {
      "text/html": [
       "<div>\n",
       "<style scoped>\n",
       "    .dataframe tbody tr th:only-of-type {\n",
       "        vertical-align: middle;\n",
       "    }\n",
       "\n",
       "    .dataframe tbody tr th {\n",
       "        vertical-align: top;\n",
       "    }\n",
       "\n",
       "    .dataframe thead th {\n",
       "        text-align: right;\n",
       "    }\n",
       "</style>\n",
       "<table border=\"1\" class=\"dataframe\">\n",
       "  <thead>\n",
       "    <tr style=\"text-align: right;\">\n",
       "      <th></th>\n",
       "      <th>region_name</th>\n",
       "      <th>city_name</th>\n",
       "      <th>cpe_manufacturer_name</th>\n",
       "      <th>cpe_model_name</th>\n",
       "      <th>url_host</th>\n",
       "      <th>cpe_type_cd</th>\n",
       "      <th>cpe_model_os_type</th>\n",
       "      <th>price</th>\n",
       "      <th>date</th>\n",
       "      <th>part_of_day</th>\n",
       "      <th>request_cnt</th>\n",
       "      <th>user_id</th>\n",
       "    </tr>\n",
       "  </thead>\n",
       "  <tbody>\n",
       "    <tr>\n",
       "      <th>0</th>\n",
       "      <td>Краснодарский край</td>\n",
       "      <td>Краснодар</td>\n",
       "      <td>Apple</td>\n",
       "      <td>iPhone 7</td>\n",
       "      <td>ad.adriver.ru</td>\n",
       "      <td>smartphone</td>\n",
       "      <td>iOS</td>\n",
       "      <td>20368.0</td>\n",
       "      <td>2022-06-15</td>\n",
       "      <td>morning</td>\n",
       "      <td>1</td>\n",
       "      <td>45098</td>\n",
       "    </tr>\n",
       "    <tr>\n",
       "      <th>1</th>\n",
       "      <td>Краснодарский край</td>\n",
       "      <td>Краснодар</td>\n",
       "      <td>Apple</td>\n",
       "      <td>iPhone 7</td>\n",
       "      <td>apple.com</td>\n",
       "      <td>smartphone</td>\n",
       "      <td>iOS</td>\n",
       "      <td>20368.0</td>\n",
       "      <td>2022-06-19</td>\n",
       "      <td>morning</td>\n",
       "      <td>1</td>\n",
       "      <td>45098</td>\n",
       "    </tr>\n",
       "    <tr>\n",
       "      <th>2</th>\n",
       "      <td>Краснодарский край</td>\n",
       "      <td>Краснодар</td>\n",
       "      <td>Apple</td>\n",
       "      <td>iPhone 7</td>\n",
       "      <td>avatars.mds.yandex.net</td>\n",
       "      <td>smartphone</td>\n",
       "      <td>iOS</td>\n",
       "      <td>20368.0</td>\n",
       "      <td>2022-06-12</td>\n",
       "      <td>day</td>\n",
       "      <td>1</td>\n",
       "      <td>45098</td>\n",
       "    </tr>\n",
       "    <tr>\n",
       "      <th>3</th>\n",
       "      <td>Краснодарский край</td>\n",
       "      <td>Краснодар</td>\n",
       "      <td>Apple</td>\n",
       "      <td>iPhone 7</td>\n",
       "      <td>googleads.g.doubleclick.net</td>\n",
       "      <td>smartphone</td>\n",
       "      <td>iOS</td>\n",
       "      <td>20368.0</td>\n",
       "      <td>2022-05-16</td>\n",
       "      <td>day</td>\n",
       "      <td>1</td>\n",
       "      <td>45098</td>\n",
       "    </tr>\n",
       "    <tr>\n",
       "      <th>4</th>\n",
       "      <td>Краснодарский край</td>\n",
       "      <td>Краснодар</td>\n",
       "      <td>Apple</td>\n",
       "      <td>iPhone 7</td>\n",
       "      <td>googleads.g.doubleclick.net</td>\n",
       "      <td>smartphone</td>\n",
       "      <td>iOS</td>\n",
       "      <td>20368.0</td>\n",
       "      <td>2022-05-30</td>\n",
       "      <td>day</td>\n",
       "      <td>1</td>\n",
       "      <td>45098</td>\n",
       "    </tr>\n",
       "  </tbody>\n",
       "</table>\n",
       "</div>"
      ],
      "text/plain": [
       "          region_name  city_name cpe_manufacturer_name cpe_model_name  \\\n",
       "0  Краснодарский край  Краснодар                 Apple       iPhone 7   \n",
       "1  Краснодарский край  Краснодар                 Apple       iPhone 7   \n",
       "2  Краснодарский край  Краснодар                 Apple       iPhone 7   \n",
       "3  Краснодарский край  Краснодар                 Apple       iPhone 7   \n",
       "4  Краснодарский край  Краснодар                 Apple       iPhone 7   \n",
       "\n",
       "                      url_host cpe_type_cd cpe_model_os_type    price  \\\n",
       "0                ad.adriver.ru  smartphone               iOS  20368.0   \n",
       "1                    apple.com  smartphone               iOS  20368.0   \n",
       "2       avatars.mds.yandex.net  smartphone               iOS  20368.0   \n",
       "3  googleads.g.doubleclick.net  smartphone               iOS  20368.0   \n",
       "4  googleads.g.doubleclick.net  smartphone               iOS  20368.0   \n",
       "\n",
       "        date part_of_day  request_cnt  user_id  \n",
       "0 2022-06-15     morning            1    45098  \n",
       "1 2022-06-19     morning            1    45098  \n",
       "2 2022-06-12         day            1    45098  \n",
       "3 2022-05-16         day            1    45098  \n",
       "4 2022-05-30         day            1    45098  "
      ]
     },
     "execution_count": 6,
     "metadata": {},
     "output_type": "execute_result"
    }
   ],
   "source": [
    "data.head()"
   ]
  },
  {
   "cell_type": "code",
   "execution_count": 7,
   "metadata": {},
   "outputs": [
    {
     "data": {
      "text/html": [
       "<div>\n",
       "<style scoped>\n",
       "    .dataframe tbody tr th:only-of-type {\n",
       "        vertical-align: middle;\n",
       "    }\n",
       "\n",
       "    .dataframe tbody tr th {\n",
       "        vertical-align: top;\n",
       "    }\n",
       "\n",
       "    .dataframe thead th {\n",
       "        text-align: right;\n",
       "    }\n",
       "</style>\n",
       "<table border=\"1\" class=\"dataframe\">\n",
       "  <thead>\n",
       "    <tr style=\"text-align: right;\">\n",
       "      <th></th>\n",
       "      <th>price</th>\n",
       "      <th>request_cnt</th>\n",
       "      <th>user_id</th>\n",
       "    </tr>\n",
       "  </thead>\n",
       "  <tbody>\n",
       "    <tr>\n",
       "      <th>count</th>\n",
       "      <td>3.163100e+08</td>\n",
       "      <td>3.228994e+08</td>\n",
       "      <td>3.228994e+08</td>\n",
       "    </tr>\n",
       "    <tr>\n",
       "      <th>mean</th>\n",
       "      <td>3.308510e+04</td>\n",
       "      <td>1.724197e+00</td>\n",
       "      <td>2.070983e+05</td>\n",
       "    </tr>\n",
       "    <tr>\n",
       "      <th>std</th>\n",
       "      <td>2.583592e+04</td>\n",
       "      <td>1.213835e+00</td>\n",
       "      <td>1.200584e+05</td>\n",
       "    </tr>\n",
       "    <tr>\n",
       "      <th>min</th>\n",
       "      <td>9.000000e+01</td>\n",
       "      <td>1.000000e+00</td>\n",
       "      <td>0.000000e+00</td>\n",
       "    </tr>\n",
       "    <tr>\n",
       "      <th>25%</th>\n",
       "      <td>1.397400e+04</td>\n",
       "      <td>1.000000e+00</td>\n",
       "      <td>1.027880e+05</td>\n",
       "    </tr>\n",
       "    <tr>\n",
       "      <th>50%</th>\n",
       "      <td>2.199000e+04</td>\n",
       "      <td>1.000000e+00</td>\n",
       "      <td>2.068870e+05</td>\n",
       "    </tr>\n",
       "    <tr>\n",
       "      <th>75%</th>\n",
       "      <td>4.999000e+04</td>\n",
       "      <td>2.000000e+00</td>\n",
       "      <td>3.113950e+05</td>\n",
       "    </tr>\n",
       "    <tr>\n",
       "      <th>max</th>\n",
       "      <td>1.956570e+05</td>\n",
       "      <td>1.600000e+01</td>\n",
       "      <td>4.153160e+05</td>\n",
       "    </tr>\n",
       "  </tbody>\n",
       "</table>\n",
       "</div>"
      ],
      "text/plain": [
       "              price   request_cnt       user_id\n",
       "count  3.163100e+08  3.228994e+08  3.228994e+08\n",
       "mean   3.308510e+04  1.724197e+00  2.070983e+05\n",
       "std    2.583592e+04  1.213835e+00  1.200584e+05\n",
       "min    9.000000e+01  1.000000e+00  0.000000e+00\n",
       "25%    1.397400e+04  1.000000e+00  1.027880e+05\n",
       "50%    2.199000e+04  1.000000e+00  2.068870e+05\n",
       "75%    4.999000e+04  2.000000e+00  3.113950e+05\n",
       "max    1.956570e+05  1.600000e+01  4.153160e+05"
      ]
     },
     "execution_count": 7,
     "metadata": {},
     "output_type": "execute_result"
    }
   ],
   "source": [
    "data.describe()"
   ]
  },
  {
   "cell_type": "code",
   "execution_count": 8,
   "metadata": {},
   "outputs": [],
   "source": [
    "data = pa.Table.from_pandas(data)"
   ]
  },
  {
   "cell_type": "code",
   "execution_count": 9,
   "metadata": {},
   "outputs": [
    {
     "data": {
      "text/html": [
       "<div>\n",
       "<style scoped>\n",
       "    .dataframe tbody tr th:only-of-type {\n",
       "        vertical-align: middle;\n",
       "    }\n",
       "\n",
       "    .dataframe tbody tr th {\n",
       "        vertical-align: top;\n",
       "    }\n",
       "\n",
       "    .dataframe thead tr th {\n",
       "        text-align: left;\n",
       "    }\n",
       "</style>\n",
       "<table border=\"1\" class=\"dataframe\">\n",
       "  <thead>\n",
       "    <tr>\n",
       "      <th></th>\n",
       "      <th>field</th>\n",
       "      <th>type</th>\n",
       "    </tr>\n",
       "  </thead>\n",
       "  <tbody>\n",
       "    <tr>\n",
       "      <th>0</th>\n",
       "      <td>region_name</td>\n",
       "      <td>dictionary&lt;values=string, indices=int8, ordere...</td>\n",
       "    </tr>\n",
       "    <tr>\n",
       "      <th>1</th>\n",
       "      <td>city_name</td>\n",
       "      <td>dictionary&lt;values=string, indices=int16, order...</td>\n",
       "    </tr>\n",
       "    <tr>\n",
       "      <th>2</th>\n",
       "      <td>cpe_manufacturer_name</td>\n",
       "      <td>dictionary&lt;values=string, indices=int8, ordere...</td>\n",
       "    </tr>\n",
       "    <tr>\n",
       "      <th>3</th>\n",
       "      <td>cpe_model_name</td>\n",
       "      <td>dictionary&lt;values=string, indices=int16, order...</td>\n",
       "    </tr>\n",
       "    <tr>\n",
       "      <th>4</th>\n",
       "      <td>url_host</td>\n",
       "      <td>dictionary&lt;values=string, indices=int32, order...</td>\n",
       "    </tr>\n",
       "    <tr>\n",
       "      <th>5</th>\n",
       "      <td>cpe_type_cd</td>\n",
       "      <td>dictionary&lt;values=string, indices=int8, ordere...</td>\n",
       "    </tr>\n",
       "    <tr>\n",
       "      <th>6</th>\n",
       "      <td>cpe_model_os_type</td>\n",
       "      <td>dictionary&lt;values=string, indices=int8, ordere...</td>\n",
       "    </tr>\n",
       "    <tr>\n",
       "      <th>7</th>\n",
       "      <td>price</td>\n",
       "      <td>float</td>\n",
       "    </tr>\n",
       "    <tr>\n",
       "      <th>8</th>\n",
       "      <td>date</td>\n",
       "      <td>timestamp[ns]</td>\n",
       "    </tr>\n",
       "    <tr>\n",
       "      <th>9</th>\n",
       "      <td>part_of_day</td>\n",
       "      <td>dictionary&lt;values=string, indices=int8, ordere...</td>\n",
       "    </tr>\n",
       "    <tr>\n",
       "      <th>10</th>\n",
       "      <td>request_cnt</td>\n",
       "      <td>int8</td>\n",
       "    </tr>\n",
       "    <tr>\n",
       "      <th>11</th>\n",
       "      <td>user_id</td>\n",
       "      <td>int32</td>\n",
       "    </tr>\n",
       "  </tbody>\n",
       "</table>\n",
       "</div>"
      ],
      "text/plain": [
       "                    field                                               type\n",
       "0             region_name  dictionary<values=string, indices=int8, ordere...\n",
       "1               city_name  dictionary<values=string, indices=int16, order...\n",
       "2   cpe_manufacturer_name  dictionary<values=string, indices=int8, ordere...\n",
       "3          cpe_model_name  dictionary<values=string, indices=int16, order...\n",
       "4                url_host  dictionary<values=string, indices=int32, order...\n",
       "5             cpe_type_cd  dictionary<values=string, indices=int8, ordere...\n",
       "6       cpe_model_os_type  dictionary<values=string, indices=int8, ordere...\n",
       "7                   price                                              float\n",
       "8                    date                                      timestamp[ns]\n",
       "9             part_of_day  dictionary<values=string, indices=int8, ordere...\n",
       "10            request_cnt                                               int8\n",
       "11                user_id                                              int32"
      ]
     },
     "execution_count": 9,
     "metadata": {},
     "output_type": "execute_result"
    }
   ],
   "source": [
    "pd.DataFrame([(z.name, z.type) for z in data.schema], columns = [['field', 'type']])"
   ]
  },
  {
   "cell_type": "code",
   "execution_count": 10,
   "metadata": {},
   "outputs": [
    {
     "data": {
      "text/plain": [
       "smartphone    322781599\n",
       "tablet            53768\n",
       "plain             36116\n",
       "phablet           27952\n",
       "Name: cpe_type_cd, dtype: int64"
      ]
     },
     "execution_count": 10,
     "metadata": {},
     "output_type": "execute_result"
    }
   ],
   "source": [
    "data.select(['cpe_type_cd']).to_pandas()['cpe_type_cd'].value_counts()"
   ]
  },
  {
   "cell_type": "code",
   "execution_count": 12,
   "metadata": {},
   "outputs": [
    {
     "data": {
      "text/html": [
       "<div>\n",
       "<style scoped>\n",
       "    .dataframe tbody tr th:only-of-type {\n",
       "        vertical-align: middle;\n",
       "    }\n",
       "\n",
       "    .dataframe tbody tr th {\n",
       "        vertical-align: top;\n",
       "    }\n",
       "\n",
       "    .dataframe thead th {\n",
       "        text-align: right;\n",
       "    }\n",
       "</style>\n",
       "<table border=\"1\" class=\"dataframe\">\n",
       "  <thead>\n",
       "    <tr style=\"text-align: right;\">\n",
       "      <th></th>\n",
       "      <th>age</th>\n",
       "      <th>user_id</th>\n",
       "    </tr>\n",
       "  </thead>\n",
       "  <tbody>\n",
       "    <tr>\n",
       "      <th>count</th>\n",
       "      <td>269970.000000</td>\n",
       "      <td>270000.000000</td>\n",
       "    </tr>\n",
       "    <tr>\n",
       "      <th>mean</th>\n",
       "      <td>38.793940</td>\n",
       "      <td>207547.794719</td>\n",
       "    </tr>\n",
       "    <tr>\n",
       "      <th>std</th>\n",
       "      <td>11.739916</td>\n",
       "      <td>119901.875310</td>\n",
       "    </tr>\n",
       "    <tr>\n",
       "      <th>min</th>\n",
       "      <td>14.000000</td>\n",
       "      <td>0.000000</td>\n",
       "    </tr>\n",
       "    <tr>\n",
       "      <th>25%</th>\n",
       "      <td>30.000000</td>\n",
       "      <td>103651.500000</td>\n",
       "    </tr>\n",
       "    <tr>\n",
       "      <th>50%</th>\n",
       "      <td>37.000000</td>\n",
       "      <td>207456.500000</td>\n",
       "    </tr>\n",
       "    <tr>\n",
       "      <th>75%</th>\n",
       "      <td>47.000000</td>\n",
       "      <td>311565.250000</td>\n",
       "    </tr>\n",
       "    <tr>\n",
       "      <th>max</th>\n",
       "      <td>91.000000</td>\n",
       "      <td>415313.000000</td>\n",
       "    </tr>\n",
       "  </tbody>\n",
       "</table>\n",
       "</div>"
      ],
      "text/plain": [
       "                 age        user_id\n",
       "count  269970.000000  270000.000000\n",
       "mean       38.793940  207547.794719\n",
       "std        11.739916  119901.875310\n",
       "min        14.000000       0.000000\n",
       "25%        30.000000  103651.500000\n",
       "50%        37.000000  207456.500000\n",
       "75%        47.000000  311565.250000\n",
       "max        91.000000  415313.000000"
      ]
     },
     "execution_count": 12,
     "metadata": {},
     "output_type": "execute_result"
    }
   ],
   "source": [
    "targets = pd.read_feather(f'{LOCAL_DATA_PATH}/target_train.feather')\n",
    "targets.head()\n",
    "targets.describe()"
   ]
  },
  {
   "cell_type": "code",
   "execution_count": 13,
   "metadata": {},
   "outputs": [
    {
     "data": {
      "text/html": [
       "<div>\n",
       "<style scoped>\n",
       "    .dataframe tbody tr th:only-of-type {\n",
       "        vertical-align: middle;\n",
       "    }\n",
       "\n",
       "    .dataframe tbody tr th {\n",
       "        vertical-align: top;\n",
       "    }\n",
       "\n",
       "    .dataframe thead tr th {\n",
       "        text-align: left;\n",
       "    }\n",
       "</style>\n",
       "<table border=\"1\" class=\"dataframe\">\n",
       "  <thead>\n",
       "    <tr>\n",
       "      <th></th>\n",
       "      <th>field</th>\n",
       "      <th>type</th>\n",
       "    </tr>\n",
       "  </thead>\n",
       "  <tbody>\n",
       "    <tr>\n",
       "      <th>0</th>\n",
       "      <td>age</td>\n",
       "      <td>double</td>\n",
       "    </tr>\n",
       "    <tr>\n",
       "      <th>1</th>\n",
       "      <td>is_male</td>\n",
       "      <td>string</td>\n",
       "    </tr>\n",
       "    <tr>\n",
       "      <th>2</th>\n",
       "      <td>user_id</td>\n",
       "      <td>int64</td>\n",
       "    </tr>\n",
       "  </tbody>\n",
       "</table>\n",
       "</div>"
      ],
      "text/plain": [
       "     field    type\n",
       "0      age  double\n",
       "1  is_male  string\n",
       "2  user_id   int64"
      ]
     },
     "execution_count": 13,
     "metadata": {},
     "output_type": "execute_result"
    }
   ],
   "source": [
    "targets = pa.Table.from_pandas(targets)\n",
    "pd.DataFrame([(z.name, z.type) for z in targets.schema], columns = [['field', 'type']])"
   ]
  },
  {
   "cell_type": "code",
   "execution_count": 14,
   "metadata": {},
   "outputs": [
    {
     "name": "stdout",
     "output_type": "stream",
     "text": [
      "CPU times: user 6.79 s, sys: 2.05 s, total: 8.84 s\n",
      "Wall time: 13.8 s\n"
     ]
    }
   ],
   "source": [
    "%%time\n",
    "data_agg = data.select(['user_id', 'url_host', 'request_cnt']).\\\n",
    "    group_by(['user_id', 'url_host']).aggregate([('request_cnt', \"sum\")])"
   ]
  },
  {
   "cell_type": "code",
   "execution_count": 16,
   "metadata": {},
   "outputs": [
    {
     "data": {
      "text/html": [
       "<div>\n",
       "<style scoped>\n",
       "    .dataframe tbody tr th:only-of-type {\n",
       "        vertical-align: middle;\n",
       "    }\n",
       "\n",
       "    .dataframe tbody tr th {\n",
       "        vertical-align: top;\n",
       "    }\n",
       "\n",
       "    .dataframe thead tr th {\n",
       "        text-align: left;\n",
       "    }\n",
       "</style>\n",
       "<table border=\"1\" class=\"dataframe\">\n",
       "  <thead>\n",
       "    <tr>\n",
       "      <th></th>\n",
       "      <th>field</th>\n",
       "      <th>type</th>\n",
       "    </tr>\n",
       "  </thead>\n",
       "  <tbody>\n",
       "    <tr>\n",
       "      <th>0</th>\n",
       "      <td>request_cnt_sum</td>\n",
       "      <td>int64</td>\n",
       "    </tr>\n",
       "    <tr>\n",
       "      <th>1</th>\n",
       "      <td>user_id</td>\n",
       "      <td>int32</td>\n",
       "    </tr>\n",
       "    <tr>\n",
       "      <th>2</th>\n",
       "      <td>url_host</td>\n",
       "      <td>dictionary&lt;values=string, indices=int32, order...</td>\n",
       "    </tr>\n",
       "  </tbody>\n",
       "</table>\n",
       "</div>"
      ],
      "text/plain": [
       "             field                                               type\n",
       "0  request_cnt_sum                                              int64\n",
       "1          user_id                                              int32\n",
       "2         url_host  dictionary<values=string, indices=int32, order..."
      ]
     },
     "execution_count": 16,
     "metadata": {},
     "output_type": "execute_result"
    }
   ],
   "source": [
    "pd.DataFrame([(z.name, z.type) for z in data_agg.schema], columns = [['field', 'type']])"
   ]
  },
  {
   "cell_type": "code",
   "execution_count": 17,
   "metadata": {},
   "outputs": [
    {
     "name": "stdout",
     "output_type": "stream",
     "text": [
      "199683 urls\n",
      "415317 users\n"
     ]
    }
   ],
   "source": [
    "url_set = set(data_agg.select(['url_host']).to_pandas()['url_host'])\n",
    "print(f'{len(url_set)} urls')\n",
    "url_dict = {url: idurl for url, idurl in zip(url_set, range(len(url_set)))}\n",
    "usr_set = set(data_agg.select(['user_id']).to_pandas()['user_id'])\n",
    "print(f'{len(usr_set)} users')\n",
    "usr_dict = {usr: user_id for usr, user_id in zip(usr_set, range(len(usr_set)))}"
   ]
  },
  {
   "cell_type": "code",
   "execution_count": 21,
   "metadata": {},
   "outputs": [
    {
     "name": "stdout",
     "output_type": "stream",
     "text": [
      "Note: you may need to restart the kernel to use updated packages.\n",
      "CPU times: user 602 ms, sys: 559 ms, total: 1.16 s\n",
      "Wall time: 3.43 s\n"
     ]
    }
   ],
   "source": [
    "%%time\n",
    "%pip install annoy -q\n",
    "values = np.array(data_agg.select(['request_cnt_sum']).to_pandas()['request_cnt_sum'])\n",
    "rows = np.array(data_agg.select(['user_id']).to_pandas()['user_id'].map(usr_dict))\n",
    "cols = np.array(data_agg.select(['url_host']).to_pandas()['url_host'].map(url_dict))\n",
    "mat = scipy.sparse.coo_matrix((values, (rows, cols)), shape=(rows.max() + 1, cols.max() + 1))\n",
    "als = implicit.approximate_als.AnnoyAlternatingLeastSquares(factors = 50, iterations = 30, use_gpu = False, \\\n",
    "       calculate_training_loss = False, regularization = 0.1)"
   ]
  },
  {
   "cell_type": "code",
   "execution_count": 22,
   "metadata": {},
   "outputs": [
    {
     "name": "stderr",
     "output_type": "stream",
     "text": [
      "/Users/a125x/opt/miniconda3/envs/torch/lib/python3.9/site-packages/implicit/utils.py:138: ParameterWarning: Method expects CSR input, and was passed coo_matrix instead. Converting to CSR took 1.38553786277771 seconds\n",
      "  warnings.warn(\n"
     ]
    },
    {
     "data": {
      "application/vnd.jupyter.widget-view+json": {
       "model_id": "372613556c0949bcb9a245a0a91b392f",
       "version_major": 2,
       "version_minor": 0
      },
      "text/plain": [
       "  0%|          | 0/30 [00:00<?, ?it/s]"
      ]
     },
     "metadata": {},
     "output_type": "display_data"
    },
    {
     "name": "stdout",
     "output_type": "stream",
     "text": [
      "CPU times: user 42min 22s, sys: 21min 4s, total: 1h 3min 27s\n",
      "Wall time: 35min 35s\n"
     ]
    }
   ],
   "source": [
    "%%time\n",
    "als.fit(mat)"
   ]
  },
  {
   "cell_type": "code",
   "execution_count": 23,
   "metadata": {},
   "outputs": [
    {
     "ename": "AttributeError",
     "evalue": "'AnnoyModel' object has no attribute 'user_factors'",
     "output_type": "error",
     "traceback": [
      "\u001b[0;31m---------------------------------------------------------------------------\u001b[0m",
      "\u001b[0;31mAttributeError\u001b[0m                            Traceback (most recent call last)",
      "Cell \u001b[0;32mIn [23], line 1\u001b[0m\n\u001b[0;32m----> 1\u001b[0m u_factors \u001b[39m=\u001b[39m als\u001b[39m.\u001b[39;49muser_factors \n\u001b[1;32m      2\u001b[0m \u001b[39mlen\u001b[39m(u_factors)\n",
      "\u001b[0;31mAttributeError\u001b[0m: 'AnnoyModel' object has no attribute 'user_factors'"
     ]
    }
   ],
   "source": [
    "u_factors = als.user_factors \n",
    "len(u_factors)"
   ]
  },
  {
   "cell_type": "code",
   "execution_count": 24,
   "metadata": {},
   "outputs": [
    {
     "ename": "AttributeError",
     "evalue": "'AnnoyModel' object has no attribute 'item_factors'",
     "output_type": "error",
     "traceback": [
      "\u001b[0;31m---------------------------------------------------------------------------\u001b[0m",
      "\u001b[0;31mAttributeError\u001b[0m                            Traceback (most recent call last)",
      "Cell \u001b[0;32mIn [24], line 1\u001b[0m\n\u001b[0;32m----> 1\u001b[0m d_factors \u001b[39m=\u001b[39m als\u001b[39m.\u001b[39;49mitem_factors\n\u001b[1;32m      2\u001b[0m \u001b[39mlen\u001b[39m(d_factors)\n",
      "\u001b[0;31mAttributeError\u001b[0m: 'AnnoyModel' object has no attribute 'item_factors'"
     ]
    }
   ],
   "source": [
    "d_factors = als.item_factors\n",
    "len(d_factors)"
   ]
  },
  {
   "attachments": {},
   "cell_type": "markdown",
   "metadata": {},
   "source": [
    "# Оценка по полу"
   ]
  },
  {
   "cell_type": "code",
   "execution_count": 25,
   "metadata": {},
   "outputs": [
    {
     "ename": "NameError",
     "evalue": "name 'd_factors' is not defined",
     "output_type": "error",
     "traceback": [
      "\u001b[0;31m---------------------------------------------------------------------------\u001b[0m",
      "\u001b[0;31mNameError\u001b[0m                                 Traceback (most recent call last)",
      "File \u001b[0;32m<timed exec>:2\u001b[0m\n",
      "\u001b[0;31mNameError\u001b[0m: name 'd_factors' is not defined"
     ]
    }
   ],
   "source": [
    "%%time\n",
    "inv_usr_map = {v: k for k, v in usr_dict.items()}\n",
    "usr_emb = pd.DataFrame(d_factors)\n",
    "usr_emb['user_id'] = usr_emb.index.map(inv_usr_map)\n",
    "usr_targets = targets.to_pandas()\n",
    "df = usr_targets.merge(usr_emb, how = 'inner', on = ['user_id'])\n",
    "df = df[df['is_male'] != 'NA']\n",
    "df = df.dropna()\n",
    "df['is_male'] = df['is_male'].map(int)\n",
    "df['is_male'].value_counts()"
   ]
  },
  {
   "cell_type": "code",
   "execution_count": 26,
   "metadata": {},
   "outputs": [
    {
     "ename": "NameError",
     "evalue": "name 'df' is not defined",
     "output_type": "error",
     "traceback": [
      "\u001b[0;31m---------------------------------------------------------------------------\u001b[0m",
      "\u001b[0;31mNameError\u001b[0m                                 Traceback (most recent call last)",
      "File \u001b[0;32m<timed exec>:2\u001b[0m\n",
      "\u001b[0;31mNameError\u001b[0m: name 'df' is not defined"
     ]
    }
   ],
   "source": [
    "%%time\n",
    "x_train, x_test, y_train, y_test = train_test_split(\\\n",
    "    df.drop(['user_id', 'age', 'is_male'], axis = 1), df['is_male'], test_size = 0.33, random_state = SPLIT_SEED)\n",
    "clf = CatBoostClassifier()\n",
    "clf.fit(x_train, y_train, verbose = False)\n",
    "print(f'GINI по полу {2 * m.roc_auc_score(y_test, clf.predict_proba(x_test)[:,1]) - 1:2.3f}')"
   ]
  },
  {
   "cell_type": "code",
   "execution_count": null,
   "metadata": {},
   "outputs": [],
   "source": [
    "clf.fit(df.drop(['user_id', 'age', 'is_male'], axis = 1), df['is_male'], verbose = False)"
   ]
  },
  {
   "cell_type": "code",
   "execution_count": null,
   "metadata": {},
   "outputs": [],
   "source": [
    "id_to_submit['user_id'].unique"
   ]
  },
  {
   "cell_type": "code",
   "execution_count": null,
   "metadata": {},
   "outputs": [],
   "source": [
    "len(clf.predict_proba(id_to_submit.merge(usr_emb, how = 'left', on = ['user_id']))[:,1])"
   ]
  },
  {
   "cell_type": "code",
   "execution_count": null,
   "metadata": {},
   "outputs": [],
   "source": [
    "id_to_submit['is_male'] = clf.predict_proba(id_to_submit.merge(usr_emb, how = 'left', on = ['user_id']))[:,1]"
   ]
  },
  {
   "attachments": {},
   "cell_type": "markdown",
   "metadata": {},
   "source": [
    "# Оценка по возрасту"
   ]
  },
  {
   "cell_type": "code",
   "execution_count": null,
   "metadata": {},
   "outputs": [],
   "source": [
    "def age_bucket(x):\n",
    "    return bisect.bisect_left([18,25,35,45,55,65], x)"
   ]
  },
  {
   "cell_type": "code",
   "execution_count": null,
   "metadata": {},
   "outputs": [],
   "source": [
    "df = usr_targets.merge(usr_emb, how = 'inner', on = ['user_id'])\n",
    "df = df[df['age'] != 'NA']\n",
    "df = df.dropna()\n",
    "df['age'] = df['age'].map(age_bucket)\n",
    "sns.histplot(df['age'], bins = 7)"
   ]
  },
  {
   "cell_type": "code",
   "execution_count": null,
   "metadata": {},
   "outputs": [],
   "source": [
    "x_train, x_test, y_train, y_test = train_test_split(\\\n",
    "    df.drop(['user_id', 'age', 'is_male'], axis = 1), df['age'], test_size = 0.33, random_state = SPLIT_SEED)\n",
    "\n",
    "clf = CatBoostClassifier()\n",
    "clf.fit(x_train, y_train, verbose = False)\n",
    "print(m.classification_report(y_test, clf.predict(x_test), \\\n",
    "                            target_names = ['18-25','25-34', '35-44', '45-54', '55-65', '65+']))"
   ]
  },
  {
   "cell_type": "code",
   "execution_count": null,
   "metadata": {},
   "outputs": [],
   "source": [
    "clf.fit(df.drop(['user_id', 'age', 'is_male'], axis = 1), df['age'], verbose = False)"
   ]
  },
  {
   "cell_type": "code",
   "execution_count": null,
   "metadata": {},
   "outputs": [],
   "source": [
    "id_to_submit['age'] = clf.predict(id_to_submit[['user_id']].merge(usr_emb, how = 'left', on = ['user_id']))"
   ]
  },
  {
   "attachments": {},
   "cell_type": "markdown",
   "metadata": {},
   "source": [
    "# Обработка сабмита"
   ]
  },
  {
   "attachments": {},
   "cell_type": "markdown",
   "metadata": {},
   "source": [
    "id_to_submit.head()"
   ]
  },
  {
   "cell_type": "code",
   "execution_count": null,
   "metadata": {},
   "outputs": [],
   "source": [
    "id_to_submit.is_male.value_counts()"
   ]
  },
  {
   "cell_type": "code",
   "execution_count": null,
   "metadata": {},
   "outputs": [],
   "source": [
    "id_to_submit.age.value_counts()"
   ]
  },
  {
   "cell_type": "code",
   "execution_count": null,
   "metadata": {},
   "outputs": [],
   "source": [
    "id_to_submit.to_csv('submission.csv', index = False)"
   ]
  }
 ],
 "metadata": {
  "kernelspec": {
   "display_name": "torch",
   "language": "python",
   "name": "python3"
  },
  "language_info": {
   "codemirror_mode": {
    "name": "ipython",
    "version": 3
   },
   "file_extension": ".py",
   "mimetype": "text/x-python",
   "name": "python",
   "nbconvert_exporter": "python",
   "pygments_lexer": "ipython3",
   "version": "3.9.13"
  },
  "orig_nbformat": 4,
  "vscode": {
   "interpreter": {
    "hash": "dec525beecad1253d558215be43fe388cfdb23d116f783c6d23544e0c511c071"
   }
  }
 },
 "nbformat": 4,
 "nbformat_minor": 2
}
