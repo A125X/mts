{
 "cells": [
  {
   "cell_type": "markdown",
   "id": "8c5f5f95",
   "metadata": {
    "papermill": {
     "duration": 0.0096,
     "end_time": "2023-03-04T14:58:16.263672",
     "exception": false,
     "start_time": "2023-03-04T14:58:16.254072",
     "status": "completed"
    },
    "tags": []
   },
   "source": [
    "## Imports and constants"
   ]
  },
  {
   "cell_type": "markdown",
   "id": "a3a03854",
   "metadata": {
    "papermill": {
     "duration": 0.007728,
     "end_time": "2023-03-04T14:58:16.280495",
     "exception": false,
     "start_time": "2023-03-04T14:58:16.272767",
     "status": "completed"
    },
    "tags": []
   },
   "source": [
    "*ideas: k-fold, transformers, features generation*"
   ]
  },
  {
   "cell_type": "code",
   "execution_count": 1,
   "id": "c9c2d664",
   "metadata": {
    "execution": {
     "iopub.execute_input": "2023-03-04T14:58:16.298660Z",
     "iopub.status.busy": "2023-03-04T14:58:16.297710Z",
     "iopub.status.idle": "2023-03-04T14:58:16.308121Z",
     "shell.execute_reply": "2023-03-04T14:58:16.306649Z"
    },
    "papermill": {
     "duration": 0.022259,
     "end_time": "2023-03-04T14:58:16.310789",
     "exception": false,
     "start_time": "2023-03-04T14:58:16.288530",
     "status": "completed"
    },
    "tags": []
   },
   "outputs": [],
   "source": [
    "import sys\n",
    "import os\n",
    "import warnings\n",
    "os.environ['OPENBLAS_NUM_THREADS'] = '1'\n",
    "warnings.filterwarnings('ignore')"
   ]
  },
  {
   "cell_type": "code",
   "execution_count": 2,
   "id": "b2a95677",
   "metadata": {
    "execution": {
     "iopub.execute_input": "2023-03-04T14:58:16.329070Z",
     "iopub.status.busy": "2023-03-04T14:58:16.328510Z",
     "iopub.status.idle": "2023-03-04T14:58:45.883735Z",
     "shell.execute_reply": "2023-03-04T14:58:45.882628Z"
    },
    "papermill": {
     "duration": 29.567721,
     "end_time": "2023-03-04T14:58:45.886578",
     "exception": false,
     "start_time": "2023-03-04T14:58:16.318857",
     "status": "completed"
    },
    "tags": []
   },
   "outputs": [
    {
     "name": "stdout",
     "output_type": "stream",
     "text": [
      "\u001b[33mWARNING: Running pip as the 'root' user can result in broken permissions and conflicting behaviour with the system package manager. It is recommended to use a virtual environment instead: https://pip.pypa.io/warnings/venv\u001b[0m\u001b[33m\r\n",
      "\u001b[0mCollecting faiss-cpu\r\n",
      "  Downloading faiss_cpu-1.7.3-cp37-cp37m-manylinux_2_17_x86_64.manylinux2014_x86_64.whl (17.0 MB)\r\n",
      "\u001b[2K     \u001b[90m━━━━━━━━━━━━━━━━━━━━━━━━━━━━━━━━━━━━━━━\u001b[0m \u001b[32m17.0/17.0 MB\u001b[0m \u001b[31m188.7 MB/s\u001b[0m eta \u001b[36m0:00:00\u001b[0m\r\n",
      "\u001b[?25hInstalling collected packages: faiss-cpu\r\n",
      "Successfully installed faiss-cpu-1.7.3\r\n",
      "\u001b[33mWARNING: Running pip as the 'root' user can result in broken permissions and conflicting behaviour with the system package manager. It is recommended to use a virtual environment instead: https://pip.pypa.io/warnings/venv\u001b[0m\u001b[33m\r\n",
      "\u001b[0m"
     ]
    }
   ],
   "source": [
    "import pandas as pd\n",
    "import numpy as np\n",
    "import time\n",
    "import pyarrow.parquet as pq\n",
    "import scipy\n",
    "import implicit\n",
    "import bisect\n",
    "import sklearn.metrics as m\n",
    "from catboost import CatBoostClassifier, CatBoostRegressor, Pool\n",
    "from sklearn.model_selection import train_test_split\n",
    "from sklearn.model_selection import KFold\n",
    "from sklearn.calibration import calibration_curve, CalibratedClassifierCV\n",
    "import tensorflow as tf\n",
    "import seaborn as sns\n",
    "import matplotlib.pyplot as plt\n",
    "import plotly.express as px\n",
    "import pyarrow as pa\n",
    "\n",
    "%matplotlib inline\n",
    "sns.set_style('darkgrid')\n",
    "\n",
    "!pip install feather-format >> none\n",
    "!pip install faiss-cpu --no-cache"
   ]
  },
  {
   "cell_type": "code",
   "execution_count": 3,
   "id": "25bcfe4c",
   "metadata": {
    "execution": {
     "iopub.execute_input": "2023-03-04T14:58:45.906487Z",
     "iopub.status.busy": "2023-03-04T14:58:45.906080Z",
     "iopub.status.idle": "2023-03-04T14:58:45.913209Z",
     "shell.execute_reply": "2023-03-04T14:58:45.911858Z"
    },
    "papermill": {
     "duration": 0.01943,
     "end_time": "2023-03-04T14:58:45.915114",
     "exception": false,
     "start_time": "2023-03-04T14:58:45.895684",
     "status": "completed"
    },
    "tags": []
   },
   "outputs": [],
   "source": [
    "SPLIT_SEED = 42\n",
    "FAISS_ITERATIONS = 200\n",
    "KFOLD_SPLITS = 5\n",
    "EMBEDDING = True\n",
    "\n",
    "if (EMBEDDING):\n",
    "    LOCAL_DATA_PATH = '/kaggle/input/mts-ml-cookies'\n",
    "    DATA_FILE = 'dataset_full.feather'\n",
    "    TARGET_FILE = 'target_train.feather'\n",
    "    SUBMISSION_FILE = 'submission.feather'"
   ]
  },
  {
   "cell_type": "code",
   "execution_count": 4,
   "id": "49e53530",
   "metadata": {
    "execution": {
     "iopub.execute_input": "2023-03-04T14:58:45.934815Z",
     "iopub.status.busy": "2023-03-04T14:58:45.934461Z",
     "iopub.status.idle": "2023-03-04T14:58:46.025252Z",
     "shell.execute_reply": "2023-03-04T14:58:46.024207Z"
    },
    "papermill": {
     "duration": 0.103845,
     "end_time": "2023-03-04T14:58:46.027707",
     "exception": false,
     "start_time": "2023-03-04T14:58:45.923862",
     "status": "completed"
    },
    "tags": []
   },
   "outputs": [],
   "source": [
    "id_to_submit = pd.read_feather(f'{LOCAL_DATA_PATH}/{SUBMISSION_FILE}')"
   ]
  },
  {
   "cell_type": "markdown",
   "id": "622e2ad5",
   "metadata": {
    "papermill": {
     "duration": 0.009007,
     "end_time": "2023-03-04T14:58:46.045924",
     "exception": false,
     "start_time": "2023-03-04T14:58:46.036917",
     "status": "completed"
    },
    "tags": []
   },
   "source": [
    "## Showing data"
   ]
  },
  {
   "cell_type": "code",
   "execution_count": 5,
   "id": "138ddb50",
   "metadata": {
    "execution": {
     "iopub.execute_input": "2023-03-04T14:58:46.065485Z",
     "iopub.status.busy": "2023-03-04T14:58:46.064775Z",
     "iopub.status.idle": "2023-03-04T14:58:46.085023Z",
     "shell.execute_reply": "2023-03-04T14:58:46.084289Z"
    },
    "papermill": {
     "duration": 0.032199,
     "end_time": "2023-03-04T14:58:46.086869",
     "exception": false,
     "start_time": "2023-03-04T14:58:46.054670",
     "status": "completed"
    },
    "tags": []
   },
   "outputs": [
    {
     "data": {
      "text/html": [
       "<div>\n",
       "<style scoped>\n",
       "    .dataframe tbody tr th:only-of-type {\n",
       "        vertical-align: middle;\n",
       "    }\n",
       "\n",
       "    .dataframe tbody tr th {\n",
       "        vertical-align: top;\n",
       "    }\n",
       "\n",
       "    .dataframe thead th {\n",
       "        text-align: right;\n",
       "    }\n",
       "</style>\n",
       "<table border=\"1\" class=\"dataframe\">\n",
       "  <thead>\n",
       "    <tr style=\"text-align: right;\">\n",
       "      <th></th>\n",
       "      <th>user_id</th>\n",
       "    </tr>\n",
       "  </thead>\n",
       "  <tbody>\n",
       "    <tr>\n",
       "      <th>0</th>\n",
       "      <td>221301</td>\n",
       "    </tr>\n",
       "    <tr>\n",
       "      <th>1</th>\n",
       "      <td>31271</td>\n",
       "    </tr>\n",
       "    <tr>\n",
       "      <th>2</th>\n",
       "      <td>211594</td>\n",
       "    </tr>\n",
       "  </tbody>\n",
       "</table>\n",
       "</div>"
      ],
      "text/plain": [
       "   user_id\n",
       "0   221301\n",
       "1    31271\n",
       "2   211594"
      ]
     },
     "metadata": {},
     "output_type": "display_data"
    },
    {
     "data": {
      "text/plain": [
       "<bound method DataFrame.info of         user_id\n",
       "0        221301\n",
       "1         31271\n",
       "2        211594\n",
       "3        253119\n",
       "4        192578\n",
       "...         ...\n",
       "144719   415284\n",
       "144720   415285\n",
       "144721   415286\n",
       "144722   415306\n",
       "144723   415315\n",
       "\n",
       "[144724 rows x 1 columns]>"
      ]
     },
     "execution_count": 5,
     "metadata": {},
     "output_type": "execute_result"
    }
   ],
   "source": [
    "display(id_to_submit.head(3))\n",
    "id_to_submit.info"
   ]
  },
  {
   "cell_type": "code",
   "execution_count": 6,
   "id": "74ccab63",
   "metadata": {
    "execution": {
     "iopub.execute_input": "2023-03-04T14:58:46.105837Z",
     "iopub.status.busy": "2023-03-04T14:58:46.105215Z",
     "iopub.status.idle": "2023-03-04T14:59:16.578581Z",
     "shell.execute_reply": "2023-03-04T14:59:16.577218Z"
    },
    "papermill": {
     "duration": 30.485874,
     "end_time": "2023-03-04T14:59:16.581357",
     "exception": false,
     "start_time": "2023-03-04T14:58:46.095483",
     "status": "completed"
    },
    "tags": []
   },
   "outputs": [],
   "source": [
    "data = pd.read_feather(f'{LOCAL_DATA_PATH}/{DATA_FILE}')"
   ]
  },
  {
   "cell_type": "code",
   "execution_count": 7,
   "id": "10184149",
   "metadata": {
    "execution": {
     "iopub.execute_input": "2023-03-04T14:59:16.600452Z",
     "iopub.status.busy": "2023-03-04T14:59:16.600004Z",
     "iopub.status.idle": "2023-03-04T14:59:35.879924Z",
     "shell.execute_reply": "2023-03-04T14:59:35.879035Z"
    },
    "papermill": {
     "duration": 19.291589,
     "end_time": "2023-03-04T14:59:35.881795",
     "exception": false,
     "start_time": "2023-03-04T14:59:16.590206",
     "status": "completed"
    },
    "tags": []
   },
   "outputs": [
    {
     "data": {
      "text/html": [
       "<div>\n",
       "<style scoped>\n",
       "    .dataframe tbody tr th:only-of-type {\n",
       "        vertical-align: middle;\n",
       "    }\n",
       "\n",
       "    .dataframe tbody tr th {\n",
       "        vertical-align: top;\n",
       "    }\n",
       "\n",
       "    .dataframe thead th {\n",
       "        text-align: right;\n",
       "    }\n",
       "</style>\n",
       "<table border=\"1\" class=\"dataframe\">\n",
       "  <thead>\n",
       "    <tr style=\"text-align: right;\">\n",
       "      <th></th>\n",
       "      <th>region_name</th>\n",
       "      <th>city_name</th>\n",
       "      <th>cpe_manufacturer_name</th>\n",
       "      <th>cpe_model_name</th>\n",
       "      <th>url_host</th>\n",
       "      <th>cpe_type_cd</th>\n",
       "      <th>cpe_model_os_type</th>\n",
       "      <th>price</th>\n",
       "      <th>date</th>\n",
       "      <th>part_of_day</th>\n",
       "      <th>request_cnt</th>\n",
       "      <th>user_id</th>\n",
       "    </tr>\n",
       "  </thead>\n",
       "  <tbody>\n",
       "    <tr>\n",
       "      <th>0</th>\n",
       "      <td>Краснодарский край</td>\n",
       "      <td>Краснодар</td>\n",
       "      <td>Apple</td>\n",
       "      <td>iPhone 7</td>\n",
       "      <td>ad.adriver.ru</td>\n",
       "      <td>smartphone</td>\n",
       "      <td>iOS</td>\n",
       "      <td>20368.0</td>\n",
       "      <td>2022-06-15</td>\n",
       "      <td>morning</td>\n",
       "      <td>1</td>\n",
       "      <td>45098</td>\n",
       "    </tr>\n",
       "    <tr>\n",
       "      <th>1</th>\n",
       "      <td>Краснодарский край</td>\n",
       "      <td>Краснодар</td>\n",
       "      <td>Apple</td>\n",
       "      <td>iPhone 7</td>\n",
       "      <td>apple.com</td>\n",
       "      <td>smartphone</td>\n",
       "      <td>iOS</td>\n",
       "      <td>20368.0</td>\n",
       "      <td>2022-06-19</td>\n",
       "      <td>morning</td>\n",
       "      <td>1</td>\n",
       "      <td>45098</td>\n",
       "    </tr>\n",
       "    <tr>\n",
       "      <th>2</th>\n",
       "      <td>Краснодарский край</td>\n",
       "      <td>Краснодар</td>\n",
       "      <td>Apple</td>\n",
       "      <td>iPhone 7</td>\n",
       "      <td>avatars.mds.yandex.net</td>\n",
       "      <td>smartphone</td>\n",
       "      <td>iOS</td>\n",
       "      <td>20368.0</td>\n",
       "      <td>2022-06-12</td>\n",
       "      <td>day</td>\n",
       "      <td>1</td>\n",
       "      <td>45098</td>\n",
       "    </tr>\n",
       "    <tr>\n",
       "      <th>3</th>\n",
       "      <td>Краснодарский край</td>\n",
       "      <td>Краснодар</td>\n",
       "      <td>Apple</td>\n",
       "      <td>iPhone 7</td>\n",
       "      <td>googleads.g.doubleclick.net</td>\n",
       "      <td>smartphone</td>\n",
       "      <td>iOS</td>\n",
       "      <td>20368.0</td>\n",
       "      <td>2022-05-16</td>\n",
       "      <td>day</td>\n",
       "      <td>1</td>\n",
       "      <td>45098</td>\n",
       "    </tr>\n",
       "    <tr>\n",
       "      <th>4</th>\n",
       "      <td>Краснодарский край</td>\n",
       "      <td>Краснодар</td>\n",
       "      <td>Apple</td>\n",
       "      <td>iPhone 7</td>\n",
       "      <td>googleads.g.doubleclick.net</td>\n",
       "      <td>smartphone</td>\n",
       "      <td>iOS</td>\n",
       "      <td>20368.0</td>\n",
       "      <td>2022-05-30</td>\n",
       "      <td>day</td>\n",
       "      <td>1</td>\n",
       "      <td>45098</td>\n",
       "    </tr>\n",
       "  </tbody>\n",
       "</table>\n",
       "</div>"
      ],
      "text/plain": [
       "          region_name  city_name cpe_manufacturer_name cpe_model_name  \\\n",
       "0  Краснодарский край  Краснодар                 Apple       iPhone 7   \n",
       "1  Краснодарский край  Краснодар                 Apple       iPhone 7   \n",
       "2  Краснодарский край  Краснодар                 Apple       iPhone 7   \n",
       "3  Краснодарский край  Краснодар                 Apple       iPhone 7   \n",
       "4  Краснодарский край  Краснодар                 Apple       iPhone 7   \n",
       "\n",
       "                      url_host cpe_type_cd cpe_model_os_type    price  \\\n",
       "0                ad.adriver.ru  smartphone               iOS  20368.0   \n",
       "1                    apple.com  smartphone               iOS  20368.0   \n",
       "2       avatars.mds.yandex.net  smartphone               iOS  20368.0   \n",
       "3  googleads.g.doubleclick.net  smartphone               iOS  20368.0   \n",
       "4  googleads.g.doubleclick.net  smartphone               iOS  20368.0   \n",
       "\n",
       "        date part_of_day  request_cnt  user_id  \n",
       "0 2022-06-15     morning            1    45098  \n",
       "1 2022-06-19     morning            1    45098  \n",
       "2 2022-06-12         day            1    45098  \n",
       "3 2022-05-16         day            1    45098  \n",
       "4 2022-05-30         day            1    45098  "
      ]
     },
     "metadata": {},
     "output_type": "display_data"
    },
    {
     "data": {
      "text/html": [
       "<div>\n",
       "<style scoped>\n",
       "    .dataframe tbody tr th:only-of-type {\n",
       "        vertical-align: middle;\n",
       "    }\n",
       "\n",
       "    .dataframe tbody tr th {\n",
       "        vertical-align: top;\n",
       "    }\n",
       "\n",
       "    .dataframe thead th {\n",
       "        text-align: right;\n",
       "    }\n",
       "</style>\n",
       "<table border=\"1\" class=\"dataframe\">\n",
       "  <thead>\n",
       "    <tr style=\"text-align: right;\">\n",
       "      <th></th>\n",
       "      <th>price</th>\n",
       "      <th>request_cnt</th>\n",
       "      <th>user_id</th>\n",
       "    </tr>\n",
       "  </thead>\n",
       "  <tbody>\n",
       "    <tr>\n",
       "      <th>count</th>\n",
       "      <td>3.163100e+08</td>\n",
       "      <td>3.228994e+08</td>\n",
       "      <td>3.228994e+08</td>\n",
       "    </tr>\n",
       "    <tr>\n",
       "      <th>mean</th>\n",
       "      <td>3.308510e+04</td>\n",
       "      <td>1.724197e+00</td>\n",
       "      <td>2.070983e+05</td>\n",
       "    </tr>\n",
       "    <tr>\n",
       "      <th>std</th>\n",
       "      <td>2.583592e+04</td>\n",
       "      <td>1.213835e+00</td>\n",
       "      <td>1.200584e+05</td>\n",
       "    </tr>\n",
       "    <tr>\n",
       "      <th>min</th>\n",
       "      <td>9.000000e+01</td>\n",
       "      <td>1.000000e+00</td>\n",
       "      <td>0.000000e+00</td>\n",
       "    </tr>\n",
       "    <tr>\n",
       "      <th>25%</th>\n",
       "      <td>1.397400e+04</td>\n",
       "      <td>1.000000e+00</td>\n",
       "      <td>1.027880e+05</td>\n",
       "    </tr>\n",
       "    <tr>\n",
       "      <th>50%</th>\n",
       "      <td>2.199000e+04</td>\n",
       "      <td>1.000000e+00</td>\n",
       "      <td>2.068870e+05</td>\n",
       "    </tr>\n",
       "    <tr>\n",
       "      <th>75%</th>\n",
       "      <td>4.999000e+04</td>\n",
       "      <td>2.000000e+00</td>\n",
       "      <td>3.113950e+05</td>\n",
       "    </tr>\n",
       "    <tr>\n",
       "      <th>max</th>\n",
       "      <td>1.956570e+05</td>\n",
       "      <td>1.600000e+01</td>\n",
       "      <td>4.153160e+05</td>\n",
       "    </tr>\n",
       "  </tbody>\n",
       "</table>\n",
       "</div>"
      ],
      "text/plain": [
       "              price   request_cnt       user_id\n",
       "count  3.163100e+08  3.228994e+08  3.228994e+08\n",
       "mean   3.308510e+04  1.724197e+00  2.070983e+05\n",
       "std    2.583592e+04  1.213835e+00  1.200584e+05\n",
       "min    9.000000e+01  1.000000e+00  0.000000e+00\n",
       "25%    1.397400e+04  1.000000e+00  1.027880e+05\n",
       "50%    2.199000e+04  1.000000e+00  2.068870e+05\n",
       "75%    4.999000e+04  2.000000e+00  3.113950e+05\n",
       "max    1.956570e+05  1.600000e+01  4.153160e+05"
      ]
     },
     "execution_count": 7,
     "metadata": {},
     "output_type": "execute_result"
    }
   ],
   "source": [
    "display(data.head())\n",
    "data.describe()"
   ]
  },
  {
   "cell_type": "code",
   "execution_count": 8,
   "id": "9e75c745",
   "metadata": {
    "execution": {
     "iopub.execute_input": "2023-03-04T14:59:35.902988Z",
     "iopub.status.busy": "2023-03-04T14:59:35.901251Z",
     "iopub.status.idle": "2023-03-04T14:59:39.605287Z",
     "shell.execute_reply": "2023-03-04T14:59:39.604361Z"
    },
    "papermill": {
     "duration": 3.715915,
     "end_time": "2023-03-04T14:59:39.607134",
     "exception": false,
     "start_time": "2023-03-04T14:59:35.891219",
     "status": "completed"
    },
    "tags": []
   },
   "outputs": [
    {
     "data": {
      "text/html": [
       "<div>\n",
       "<style scoped>\n",
       "    .dataframe tbody tr th:only-of-type {\n",
       "        vertical-align: middle;\n",
       "    }\n",
       "\n",
       "    .dataframe tbody tr th {\n",
       "        vertical-align: top;\n",
       "    }\n",
       "\n",
       "    .dataframe thead tr th {\n",
       "        text-align: left;\n",
       "    }\n",
       "</style>\n",
       "<table border=\"1\" class=\"dataframe\">\n",
       "  <thead>\n",
       "    <tr>\n",
       "      <th></th>\n",
       "      <th>field</th>\n",
       "      <th>type</th>\n",
       "    </tr>\n",
       "  </thead>\n",
       "  <tbody>\n",
       "    <tr>\n",
       "      <th>0</th>\n",
       "      <td>region_name</td>\n",
       "      <td>dictionary&lt;values=string, indices=int8, ordere...</td>\n",
       "    </tr>\n",
       "    <tr>\n",
       "      <th>1</th>\n",
       "      <td>city_name</td>\n",
       "      <td>dictionary&lt;values=string, indices=int16, order...</td>\n",
       "    </tr>\n",
       "    <tr>\n",
       "      <th>2</th>\n",
       "      <td>cpe_manufacturer_name</td>\n",
       "      <td>dictionary&lt;values=string, indices=int8, ordere...</td>\n",
       "    </tr>\n",
       "    <tr>\n",
       "      <th>3</th>\n",
       "      <td>cpe_model_name</td>\n",
       "      <td>dictionary&lt;values=string, indices=int16, order...</td>\n",
       "    </tr>\n",
       "    <tr>\n",
       "      <th>4</th>\n",
       "      <td>url_host</td>\n",
       "      <td>dictionary&lt;values=string, indices=int32, order...</td>\n",
       "    </tr>\n",
       "    <tr>\n",
       "      <th>5</th>\n",
       "      <td>cpe_type_cd</td>\n",
       "      <td>dictionary&lt;values=string, indices=int8, ordere...</td>\n",
       "    </tr>\n",
       "    <tr>\n",
       "      <th>6</th>\n",
       "      <td>cpe_model_os_type</td>\n",
       "      <td>dictionary&lt;values=string, indices=int8, ordere...</td>\n",
       "    </tr>\n",
       "    <tr>\n",
       "      <th>7</th>\n",
       "      <td>price</td>\n",
       "      <td>float</td>\n",
       "    </tr>\n",
       "    <tr>\n",
       "      <th>8</th>\n",
       "      <td>date</td>\n",
       "      <td>timestamp[ns]</td>\n",
       "    </tr>\n",
       "    <tr>\n",
       "      <th>9</th>\n",
       "      <td>part_of_day</td>\n",
       "      <td>dictionary&lt;values=string, indices=int8, ordere...</td>\n",
       "    </tr>\n",
       "    <tr>\n",
       "      <th>10</th>\n",
       "      <td>request_cnt</td>\n",
       "      <td>int8</td>\n",
       "    </tr>\n",
       "    <tr>\n",
       "      <th>11</th>\n",
       "      <td>user_id</td>\n",
       "      <td>int32</td>\n",
       "    </tr>\n",
       "  </tbody>\n",
       "</table>\n",
       "</div>"
      ],
      "text/plain": [
       "                    field                                               type\n",
       "0             region_name  dictionary<values=string, indices=int8, ordere...\n",
       "1               city_name  dictionary<values=string, indices=int16, order...\n",
       "2   cpe_manufacturer_name  dictionary<values=string, indices=int8, ordere...\n",
       "3          cpe_model_name  dictionary<values=string, indices=int16, order...\n",
       "4                url_host  dictionary<values=string, indices=int32, order...\n",
       "5             cpe_type_cd  dictionary<values=string, indices=int8, ordere...\n",
       "6       cpe_model_os_type  dictionary<values=string, indices=int8, ordere...\n",
       "7                   price                                              float\n",
       "8                    date                                      timestamp[ns]\n",
       "9             part_of_day  dictionary<values=string, indices=int8, ordere...\n",
       "10            request_cnt                                               int8\n",
       "11                user_id                                              int32"
      ]
     },
     "execution_count": 8,
     "metadata": {},
     "output_type": "execute_result"
    }
   ],
   "source": [
    "data = pa.Table.from_pandas(data)\n",
    "pd.DataFrame([(z.name, z.type) for z in data.schema], columns = [['field', 'type']])"
   ]
  },
  {
   "cell_type": "code",
   "execution_count": 9,
   "id": "9c90913d",
   "metadata": {
    "execution": {
     "iopub.execute_input": "2023-03-04T14:59:39.626920Z",
     "iopub.status.busy": "2023-03-04T14:59:39.626565Z",
     "iopub.status.idle": "2023-03-04T14:59:41.826639Z",
     "shell.execute_reply": "2023-03-04T14:59:41.825618Z"
    },
    "papermill": {
     "duration": 2.212835,
     "end_time": "2023-03-04T14:59:41.829267",
     "exception": false,
     "start_time": "2023-03-04T14:59:39.616432",
     "status": "completed"
    },
    "tags": []
   },
   "outputs": [
    {
     "data": {
      "text/plain": [
       "smartphone    322781599\n",
       "tablet            53768\n",
       "plain             36116\n",
       "phablet           27952\n",
       "Name: cpe_type_cd, dtype: int64"
      ]
     },
     "execution_count": 9,
     "metadata": {},
     "output_type": "execute_result"
    }
   ],
   "source": [
    "data.select(['cpe_type_cd']).to_pandas()['cpe_type_cd'].value_counts()"
   ]
  },
  {
   "cell_type": "code",
   "execution_count": 10,
   "id": "150a7fc1",
   "metadata": {
    "execution": {
     "iopub.execute_input": "2023-03-04T14:59:41.850190Z",
     "iopub.status.busy": "2023-03-04T14:59:41.849824Z",
     "iopub.status.idle": "2023-03-04T14:59:41.922730Z",
     "shell.execute_reply": "2023-03-04T14:59:41.921344Z"
    },
    "papermill": {
     "duration": 0.085879,
     "end_time": "2023-03-04T14:59:41.924976",
     "exception": false,
     "start_time": "2023-03-04T14:59:41.839097",
     "status": "completed"
    },
    "tags": []
   },
   "outputs": [
    {
     "data": {
      "text/html": [
       "<div>\n",
       "<style scoped>\n",
       "    .dataframe tbody tr th:only-of-type {\n",
       "        vertical-align: middle;\n",
       "    }\n",
       "\n",
       "    .dataframe tbody tr th {\n",
       "        vertical-align: top;\n",
       "    }\n",
       "\n",
       "    .dataframe thead th {\n",
       "        text-align: right;\n",
       "    }\n",
       "</style>\n",
       "<table border=\"1\" class=\"dataframe\">\n",
       "  <thead>\n",
       "    <tr style=\"text-align: right;\">\n",
       "      <th></th>\n",
       "      <th>age</th>\n",
       "      <th>is_male</th>\n",
       "      <th>user_id</th>\n",
       "    </tr>\n",
       "  </thead>\n",
       "  <tbody>\n",
       "    <tr>\n",
       "      <th>0</th>\n",
       "      <td>31.0</td>\n",
       "      <td>1</td>\n",
       "      <td>350459</td>\n",
       "    </tr>\n",
       "    <tr>\n",
       "      <th>1</th>\n",
       "      <td>35.0</td>\n",
       "      <td>1</td>\n",
       "      <td>188276</td>\n",
       "    </tr>\n",
       "    <tr>\n",
       "      <th>2</th>\n",
       "      <td>41.0</td>\n",
       "      <td>0</td>\n",
       "      <td>99002</td>\n",
       "    </tr>\n",
       "    <tr>\n",
       "      <th>3</th>\n",
       "      <td>33.0</td>\n",
       "      <td>0</td>\n",
       "      <td>155506</td>\n",
       "    </tr>\n",
       "    <tr>\n",
       "      <th>4</th>\n",
       "      <td>54.0</td>\n",
       "      <td>0</td>\n",
       "      <td>213873</td>\n",
       "    </tr>\n",
       "  </tbody>\n",
       "</table>\n",
       "</div>"
      ],
      "text/plain": [
       "    age is_male  user_id\n",
       "0  31.0       1   350459\n",
       "1  35.0       1   188276\n",
       "2  41.0       0    99002\n",
       "3  33.0       0   155506\n",
       "4  54.0       0   213873"
      ]
     },
     "execution_count": 10,
     "metadata": {},
     "output_type": "execute_result"
    }
   ],
   "source": [
    "targets = pd.read_feather(f'{LOCAL_DATA_PATH}/{TARGET_FILE}')\n",
    "targets.head()"
   ]
  },
  {
   "cell_type": "code",
   "execution_count": 11,
   "id": "ce8d1d1e",
   "metadata": {
    "execution": {
     "iopub.execute_input": "2023-03-04T14:59:41.946262Z",
     "iopub.status.busy": "2023-03-04T14:59:41.945906Z",
     "iopub.status.idle": "2023-03-04T14:59:41.968128Z",
     "shell.execute_reply": "2023-03-04T14:59:41.967187Z"
    },
    "papermill": {
     "duration": 0.035253,
     "end_time": "2023-03-04T14:59:41.970140",
     "exception": false,
     "start_time": "2023-03-04T14:59:41.934887",
     "status": "completed"
    },
    "tags": []
   },
   "outputs": [
    {
     "data": {
      "text/html": [
       "<div>\n",
       "<style scoped>\n",
       "    .dataframe tbody tr th:only-of-type {\n",
       "        vertical-align: middle;\n",
       "    }\n",
       "\n",
       "    .dataframe tbody tr th {\n",
       "        vertical-align: top;\n",
       "    }\n",
       "\n",
       "    .dataframe thead tr th {\n",
       "        text-align: left;\n",
       "    }\n",
       "</style>\n",
       "<table border=\"1\" class=\"dataframe\">\n",
       "  <thead>\n",
       "    <tr>\n",
       "      <th></th>\n",
       "      <th>field</th>\n",
       "      <th>type</th>\n",
       "    </tr>\n",
       "  </thead>\n",
       "  <tbody>\n",
       "    <tr>\n",
       "      <th>0</th>\n",
       "      <td>age</td>\n",
       "      <td>double</td>\n",
       "    </tr>\n",
       "    <tr>\n",
       "      <th>1</th>\n",
       "      <td>is_male</td>\n",
       "      <td>string</td>\n",
       "    </tr>\n",
       "    <tr>\n",
       "      <th>2</th>\n",
       "      <td>user_id</td>\n",
       "      <td>int64</td>\n",
       "    </tr>\n",
       "  </tbody>\n",
       "</table>\n",
       "</div>"
      ],
      "text/plain": [
       "     field    type\n",
       "0      age  double\n",
       "1  is_male  string\n",
       "2  user_id   int64"
      ]
     },
     "execution_count": 11,
     "metadata": {},
     "output_type": "execute_result"
    }
   ],
   "source": [
    "targets = pa.Table.from_pandas(targets)\n",
    "pd.DataFrame([(z.name, z.type) for z in targets.schema], columns = [['field', 'type']])"
   ]
  },
  {
   "cell_type": "markdown",
   "id": "995469a5",
   "metadata": {
    "papermill": {
     "duration": 0.009415,
     "end_time": "2023-03-04T14:59:41.989498",
     "exception": false,
     "start_time": "2023-03-04T14:59:41.980083",
     "status": "completed"
    },
    "tags": []
   },
   "source": [
    "## Counting users <-> items embedding"
   ]
  },
  {
   "cell_type": "code",
   "execution_count": 12,
   "id": "e07c205c",
   "metadata": {
    "execution": {
     "iopub.execute_input": "2023-03-04T14:59:42.010472Z",
     "iopub.status.busy": "2023-03-04T14:59:42.010074Z",
     "iopub.status.idle": "2023-03-04T15:00:08.688835Z",
     "shell.execute_reply": "2023-03-04T15:00:08.687558Z"
    },
    "papermill": {
     "duration": 26.692333,
     "end_time": "2023-03-04T15:00:08.691623",
     "exception": false,
     "start_time": "2023-03-04T14:59:41.999290",
     "status": "completed"
    },
    "tags": []
   },
   "outputs": [
    {
     "name": "stdout",
     "output_type": "stream",
     "text": [
      "199683 urls\n",
      "415317 users\n",
      "CPU times: user 25.3 s, sys: 1.6 s, total: 26.9 s\n",
      "Wall time: 26.7 s\n"
     ]
    }
   ],
   "source": [
    "%%time\n",
    "if (EMBEDDING):\n",
    "    data_agg = data.select(['user_id', 'url_host', 'request_cnt']).\\\n",
    "        group_by(['user_id', 'url_host']).aggregate([('request_cnt', \"sum\")])\n",
    "\n",
    "    url_set = set(data_agg.select(['url_host']).to_pandas()['url_host'])\n",
    "    print(f'{len(url_set)} urls')\n",
    "    url_dict = {url: idurl for url, idurl in zip(url_set, range(len(url_set)))}\n",
    "    usr_set = set(data_agg.select(['user_id']).to_pandas()['user_id'])\n",
    "    print(f'{len(usr_set)} users')\n",
    "    usr_dict = {usr: user_id for usr, user_id in zip(usr_set, range(len(usr_set)))}"
   ]
  },
  {
   "cell_type": "code",
   "execution_count": 13,
   "id": "b6a781aa",
   "metadata": {
    "execution": {
     "iopub.execute_input": "2023-03-04T15:00:08.713019Z",
     "iopub.status.busy": "2023-03-04T15:00:08.712632Z",
     "iopub.status.idle": "2023-03-04T15:00:10.398394Z",
     "shell.execute_reply": "2023-03-04T15:00:10.396429Z"
    },
    "papermill": {
     "duration": 1.700145,
     "end_time": "2023-03-04T15:00:10.401736",
     "exception": false,
     "start_time": "2023-03-04T15:00:08.701591",
     "status": "completed"
    },
    "tags": []
   },
   "outputs": [
    {
     "name": "stdout",
     "output_type": "stream",
     "text": [
      "CPU times: user 1.32 s, sys: 397 ms, total: 1.72 s\n",
      "Wall time: 1.68 s\n"
     ]
    }
   ],
   "source": [
    "%%time\n",
    "if (EMBEDDING):\n",
    "    values = np.array(data_agg.select(['request_cnt_sum']).to_pandas()['request_cnt_sum'])\n",
    "    rows = np.array(data_agg.select(['user_id']).to_pandas()['user_id'].map(usr_dict))\n",
    "    cols = np.array(data_agg.select(['url_host']).to_pandas()['url_host'].map(url_dict))\n",
    "    mat = scipy.sparse.coo_matrix((values, (rows, cols)), shape=(rows.max() + 1, cols.max() + 1))\n",
    "    als = implicit.approximate_als.FaissAlternatingLeastSquares(factors = 50, iterations = FAISS_ITERATIONS, use_gpu = False, \\\n",
    "           calculate_training_loss = True, regularization = 0.1)"
   ]
  },
  {
   "cell_type": "code",
   "execution_count": 14,
   "id": "948f55e3",
   "metadata": {
    "execution": {
     "iopub.execute_input": "2023-03-04T15:00:10.423522Z",
     "iopub.status.busy": "2023-03-04T15:00:10.423185Z",
     "iopub.status.idle": "2023-03-04T15:29:07.243137Z",
     "shell.execute_reply": "2023-03-04T15:29:07.240788Z"
    },
    "papermill": {
     "duration": 1736.836976,
     "end_time": "2023-03-04T15:29:07.249165",
     "exception": false,
     "start_time": "2023-03-04T15:00:10.412189",
     "status": "completed"
    },
    "tags": []
   },
   "outputs": [
    {
     "data": {
      "application/vnd.jupyter.widget-view+json": {
       "model_id": "8302091b5c8241cea552004f9da5d915",
       "version_major": 2,
       "version_minor": 0
      },
      "text/plain": [
       "  0%|          | 0/200 [00:00<?, ?it/s]"
      ]
     },
     "metadata": {},
     "output_type": "display_data"
    },
    {
     "name": "stdout",
     "output_type": "stream",
     "text": [
      "CPU times: user 1h 50min 27s, sys: 1min 20s, total: 1h 51min 47s\n",
      "Wall time: 28min 56s\n"
     ]
    }
   ],
   "source": [
    "%%time\n",
    "if (EMBEDDING):\n",
    "    als.fit(mat)"
   ]
  },
  {
   "cell_type": "code",
   "execution_count": 15,
   "id": "30449aff",
   "metadata": {
    "execution": {
     "iopub.execute_input": "2023-03-04T15:29:07.275770Z",
     "iopub.status.busy": "2023-03-04T15:29:07.275195Z",
     "iopub.status.idle": "2023-03-04T15:29:07.285793Z",
     "shell.execute_reply": "2023-03-04T15:29:07.283680Z"
    },
    "papermill": {
     "duration": 0.027447,
     "end_time": "2023-03-04T15:29:07.288480",
     "exception": false,
     "start_time": "2023-03-04T15:29:07.261033",
     "status": "completed"
    },
    "tags": []
   },
   "outputs": [
    {
     "name": "stdout",
     "output_type": "stream",
     "text": [
      "199683\n"
     ]
    }
   ],
   "source": [
    "if (EMBEDDING):\n",
    "    u_factors = als.user_factors \n",
    "    print(len(u_factors))"
   ]
  },
  {
   "cell_type": "code",
   "execution_count": 16,
   "id": "2c6596a6",
   "metadata": {
    "execution": {
     "iopub.execute_input": "2023-03-04T15:29:07.311484Z",
     "iopub.status.busy": "2023-03-04T15:29:07.311122Z",
     "iopub.status.idle": "2023-03-04T15:29:07.317334Z",
     "shell.execute_reply": "2023-03-04T15:29:07.315381Z"
    },
    "papermill": {
     "duration": 0.02134,
     "end_time": "2023-03-04T15:29:07.320499",
     "exception": false,
     "start_time": "2023-03-04T15:29:07.299159",
     "status": "completed"
    },
    "tags": []
   },
   "outputs": [
    {
     "name": "stdout",
     "output_type": "stream",
     "text": [
      "415317\n"
     ]
    }
   ],
   "source": [
    "\n",
    "if (EMBEDDING):\n",
    "    d_factors = als.item_factors\n",
    "    print(len(d_factors))"
   ]
  },
  {
   "cell_type": "markdown",
   "id": "82499c83",
   "metadata": {
    "papermill": {
     "duration": 0.010459,
     "end_time": "2023-03-04T15:29:07.341486",
     "exception": false,
     "start_time": "2023-03-04T15:29:07.331027",
     "status": "completed"
    },
    "tags": []
   },
   "source": [
    "## Sex prediction"
   ]
  },
  {
   "cell_type": "code",
   "execution_count": 17,
   "id": "a46b2279",
   "metadata": {
    "execution": {
     "iopub.execute_input": "2023-03-04T15:29:07.364892Z",
     "iopub.status.busy": "2023-03-04T15:29:07.364501Z",
     "iopub.status.idle": "2023-03-04T15:29:07.413868Z",
     "shell.execute_reply": "2023-03-04T15:29:07.412248Z"
    },
    "papermill": {
     "duration": 0.064646,
     "end_time": "2023-03-04T15:29:07.416727",
     "exception": false,
     "start_time": "2023-03-04T15:29:07.352081",
     "status": "completed"
    },
    "tags": []
   },
   "outputs": [],
   "source": [
    "id_to_submit = pd.read_feather(f'{LOCAL_DATA_PATH}/{SUBMISSION_FILE}')"
   ]
  },
  {
   "cell_type": "code",
   "execution_count": 18,
   "id": "17c29129",
   "metadata": {
    "execution": {
     "iopub.execute_input": "2023-03-04T15:29:07.440252Z",
     "iopub.status.busy": "2023-03-04T15:29:07.439800Z",
     "iopub.status.idle": "2023-03-04T15:29:08.491806Z",
     "shell.execute_reply": "2023-03-04T15:29:08.490107Z"
    },
    "papermill": {
     "duration": 1.067201,
     "end_time": "2023-03-04T15:29:08.494835",
     "exception": false,
     "start_time": "2023-03-04T15:29:07.427634",
     "status": "completed"
    },
    "scrolled": true,
    "tags": []
   },
   "outputs": [
    {
     "name": "stdout",
     "output_type": "stream",
     "text": [
      "1    135314\n",
      "0    128982\n",
      "Name: is_male, dtype: int64\n"
     ]
    }
   ],
   "source": [
    "if (EMBEDDING):\n",
    "    inv_usr_map = {v: k for k, v in usr_dict.items()}\n",
    "    usr_emb = pd.DataFrame(d_factors)\n",
    "    usr_emb['user_id'] = usr_emb.index.map(inv_usr_map)\n",
    "    usr_targets = targets.to_pandas()\n",
    "    df = usr_targets.merge(usr_emb, how = 'inner', on = ['user_id'])\n",
    "    df = df[df['is_male'] != 'NA']\n",
    "    df = df.dropna()\n",
    "    df['is_male'] = df['is_male'].map(int)\n",
    "    print(df['is_male'].value_counts())"
   ]
  },
  {
   "cell_type": "markdown",
   "id": "cad211b7",
   "metadata": {
    "papermill": {
     "duration": 0.010238,
     "end_time": "2023-03-04T15:29:08.515800",
     "exception": false,
     "start_time": "2023-03-04T15:29:08.505562",
     "status": "completed"
    },
    "tags": []
   },
   "source": [
    "## Model variants"
   ]
  },
  {
   "cell_type": "code",
   "execution_count": 19,
   "id": "a091ffa4",
   "metadata": {
    "execution": {
     "iopub.execute_input": "2023-03-04T15:29:08.539102Z",
     "iopub.status.busy": "2023-03-04T15:29:08.538105Z",
     "iopub.status.idle": "2023-03-04T15:29:08.544334Z",
     "shell.execute_reply": "2023-03-04T15:29:08.542748Z"
    },
    "papermill": {
     "duration": 0.020465,
     "end_time": "2023-03-04T15:29:08.546757",
     "exception": false,
     "start_time": "2023-03-04T15:29:08.526292",
     "status": "completed"
    },
    "tags": []
   },
   "outputs": [],
   "source": [
    "max_gini = 0\n",
    "train_index = 0\n",
    "test_index = 0"
   ]
  },
  {
   "cell_type": "code",
   "execution_count": 20,
   "id": "bacb47ba",
   "metadata": {
    "execution": {
     "iopub.execute_input": "2023-03-04T15:29:08.569031Z",
     "iopub.status.busy": "2023-03-04T15:29:08.568705Z",
     "iopub.status.idle": "2023-03-04T15:33:40.386336Z",
     "shell.execute_reply": "2023-03-04T15:33:40.384852Z"
    },
    "papermill": {
     "duration": 271.842315,
     "end_time": "2023-03-04T15:33:40.399388",
     "exception": false,
     "start_time": "2023-03-04T15:29:08.557073",
     "status": "completed"
    },
    "tags": []
   },
   "outputs": [
    {
     "name": "stdout",
     "output_type": "stream",
     "text": [
      "TRAIN: [     0      1      2 ... 264293 264294 264295] TEST: [     6     11     12 ... 264268 264273 264292]\n",
      "GINI по полу 0.664, current max is 0.664\n",
      "\n",
      "TRAIN: [     2      3      5 ... 264291 264292 264294] TEST: [     0      1      4 ... 264288 264293 264295]\n",
      "GINI по полу 0.657, current max is 0.664\n",
      "\n",
      "TRAIN: [     0      1      2 ... 264292 264293 264295] TEST: [     3     21     23 ... 264285 264290 264294]\n",
      "GINI по полу 0.666, current max is 0.666\n",
      "\n",
      "TRAIN: [     0      1      3 ... 264293 264294 264295] TEST: [     2      7      8 ... 264274 264280 264282]\n",
      "GINI по полу 0.667, current max is 0.667\n",
      "\n",
      "TRAIN: [     0      1      2 ... 264293 264294 264295] TEST: [     5     10     15 ... 264286 264289 264291]\n",
      "GINI по полу 0.672, current max is 0.672\n",
      "\n",
      "CPU times: user 16min 47s, sys: 19.8 s, total: 17min 7s\n",
      "Wall time: 4min 31s\n"
     ]
    }
   ],
   "source": [
    "%%time\n",
    "clf = CatBoostClassifier()\n",
    "\n",
    "x = np.array(df.drop(['user_id', 'age', 'is_male'], axis = 1))\n",
    "y = np.array(df['is_male'])\n",
    "\n",
    "kf = KFold(n_splits=KFOLD_SPLITS, shuffle=True, random_state=SPLIT_SEED)\n",
    "\n",
    "for train_index, test_index in kf.split(x):\n",
    "    print(\"TRAIN:\", train_index, \"TEST:\", test_index)\n",
    "    x_train, x_test = x[train_index], x[test_index]\n",
    "    y_train, y_test = y[train_index], y[test_index]\n",
    "    clf.fit(x_train, y_train, verbose = False)\n",
    "    gini = float(f'{2 * m.roc_auc_score(y_test, clf.predict_proba(x_test)[:,1]) - 1:2.3f}')\n",
    "    if gini > max_gini:\n",
    "        max_gini = gini\n",
    "        max_train_index = train_index\n",
    "        max_test_index = test_index\n",
    "        \n",
    "    print(f'GINI по полу {gini}, current max is {max_gini}')\n",
    "    print()"
   ]
  },
  {
   "cell_type": "code",
   "execution_count": 21,
   "id": "1149b91b",
   "metadata": {
    "execution": {
     "iopub.execute_input": "2023-03-04T15:33:40.422043Z",
     "iopub.status.busy": "2023-03-04T15:33:40.421689Z",
     "iopub.status.idle": "2023-03-04T15:33:40.430506Z",
     "shell.execute_reply": "2023-03-04T15:33:40.429375Z"
    },
    "papermill": {
     "duration": 0.022627,
     "end_time": "2023-03-04T15:33:40.432369",
     "exception": false,
     "start_time": "2023-03-04T15:33:40.409742",
     "status": "completed"
    },
    "tags": []
   },
   "outputs": [
    {
     "data": {
      "text/plain": [
       "'\\nfrom sklearn.ensemble import RandomForestClassifier\\nfrom sklearn.datasets import make_classification\\nX, y = make_classification(n_samples=1000, n_features=4,\\n                            n_informative=2, n_redundant=0,\\n                           random_state=0, shuffle=False)\\nclf = RandomForestClassifier(max_depth=2, random_state=0)\\nclf.fit(X, y)\\nprint(clf.predict([[0, 0, 0, 0]]))\\n'"
      ]
     },
     "execution_count": 21,
     "metadata": {},
     "output_type": "execute_result"
    }
   ],
   "source": [
    "#may try other models later\n",
    "'''\n",
    "from sklearn.ensemble import RandomForestClassifier\n",
    "from sklearn.datasets import make_classification\n",
    "X, y = make_classification(n_samples=1000, n_features=4,\n",
    "                            n_informative=2, n_redundant=0,\n",
    "                           random_state=0, shuffle=False)\n",
    "clf = RandomForestClassifier(max_depth=2, random_state=0)\n",
    "clf.fit(X, y)\n",
    "print(clf.predict([[0, 0, 0, 0]]))\n",
    "'''"
   ]
  },
  {
   "cell_type": "code",
   "execution_count": 22,
   "id": "4103d235",
   "metadata": {
    "execution": {
     "iopub.execute_input": "2023-03-04T15:33:40.456539Z",
     "iopub.status.busy": "2023-03-04T15:33:40.456132Z",
     "iopub.status.idle": "2023-03-04T15:33:40.463936Z",
     "shell.execute_reply": "2023-03-04T15:33:40.461446Z"
    },
    "papermill": {
     "duration": 0.023077,
     "end_time": "2023-03-04T15:33:40.466877",
     "exception": false,
     "start_time": "2023-03-04T15:33:40.443800",
     "status": "completed"
    },
    "tags": []
   },
   "outputs": [
    {
     "name": "stdout",
     "output_type": "stream",
     "text": [
      "0.672\n",
      "[     0      1      2 ... 264293 264294 264295]\n",
      "[     5     10     15 ... 264286 264289 264291]\n"
     ]
    }
   ],
   "source": [
    "print(max_gini)\n",
    "print(max_train_index)\n",
    "print(max_test_index)"
   ]
  },
  {
   "cell_type": "code",
   "execution_count": 23,
   "id": "aeccca10",
   "metadata": {
    "execution": {
     "iopub.execute_input": "2023-03-04T15:33:40.490822Z",
     "iopub.status.busy": "2023-03-04T15:33:40.490441Z",
     "iopub.status.idle": "2023-03-04T15:34:32.783861Z",
     "shell.execute_reply": "2023-03-04T15:34:32.783048Z"
    },
    "papermill": {
     "duration": 52.316453,
     "end_time": "2023-03-04T15:34:32.794456",
     "exception": false,
     "start_time": "2023-03-04T15:33:40.478003",
     "status": "completed"
    },
    "tags": []
   },
   "outputs": [
    {
     "data": {
      "text/plain": [
       "<bound method Series.unique of 0         221301\n",
       "1          31271\n",
       "2         211594\n",
       "3         253119\n",
       "4         192578\n",
       "           ...  \n",
       "144719    415284\n",
       "144720    415285\n",
       "144721    415286\n",
       "144722    415306\n",
       "144723    415315\n",
       "Name: user_id, Length: 144724, dtype: int32>"
      ]
     },
     "execution_count": 23,
     "metadata": {},
     "output_type": "execute_result"
    }
   ],
   "source": [
    "clf.fit(x[max_train_index], y[max_train_index], verbose = False)\n",
    "id_to_submit['user_id'].unique"
   ]
  },
  {
   "cell_type": "code",
   "execution_count": 24,
   "id": "05c088c2",
   "metadata": {
    "execution": {
     "iopub.execute_input": "2023-03-04T15:34:32.819009Z",
     "iopub.status.busy": "2023-03-04T15:34:32.817805Z",
     "iopub.status.idle": "2023-03-04T15:34:33.184099Z",
     "shell.execute_reply": "2023-03-04T15:34:33.183350Z"
    },
    "papermill": {
     "duration": 0.381293,
     "end_time": "2023-03-04T15:34:33.186470",
     "exception": false,
     "start_time": "2023-03-04T15:34:32.805177",
     "status": "completed"
    },
    "tags": []
   },
   "outputs": [
    {
     "name": "stdout",
     "output_type": "stream",
     "text": [
      "144724\n"
     ]
    }
   ],
   "source": [
    "sex_prediction = clf.predict_proba(\n",
    "    id_to_submit.merge(usr_emb, how = 'left', on = ['user_id'])\n",
    ")[:,1]\n",
    "\n",
    "print(len(sex_prediction))\n",
    "id_to_submit['is_male'] = sex_prediction"
   ]
  },
  {
   "cell_type": "markdown",
   "id": "59d299ef",
   "metadata": {
    "papermill": {
     "duration": 0.010822,
     "end_time": "2023-03-04T15:34:33.209961",
     "exception": false,
     "start_time": "2023-03-04T15:34:33.199139",
     "status": "completed"
    },
    "tags": []
   },
   "source": [
    "## Age prediction"
   ]
  },
  {
   "cell_type": "code",
   "execution_count": 25,
   "id": "6e0fadc1",
   "metadata": {
    "execution": {
     "iopub.execute_input": "2023-03-04T15:34:33.238627Z",
     "iopub.status.busy": "2023-03-04T15:34:33.237702Z",
     "iopub.status.idle": "2023-03-04T15:34:33.244927Z",
     "shell.execute_reply": "2023-03-04T15:34:33.243709Z"
    },
    "papermill": {
     "duration": 0.025195,
     "end_time": "2023-03-04T15:34:33.247684",
     "exception": false,
     "start_time": "2023-03-04T15:34:33.222489",
     "status": "completed"
    },
    "tags": []
   },
   "outputs": [],
   "source": [
    "def age_bucket(x):\n",
    "    return bisect.bisect_left([18,25,35,45,55,65], x)"
   ]
  },
  {
   "cell_type": "code",
   "execution_count": 26,
   "id": "ff1f2a7a",
   "metadata": {
    "execution": {
     "iopub.execute_input": "2023-03-04T15:34:33.279850Z",
     "iopub.status.busy": "2023-03-04T15:34:33.278233Z",
     "iopub.status.idle": "2023-03-04T15:34:34.363591Z",
     "shell.execute_reply": "2023-03-04T15:34:34.362432Z"
    },
    "papermill": {
     "duration": 1.104523,
     "end_time": "2023-03-04T15:34:34.366628",
     "exception": false,
     "start_time": "2023-03-04T15:34:33.262105",
     "status": "completed"
    },
    "tags": []
   },
   "outputs": [
    {
     "data": {
      "text/plain": [
       "<AxesSubplot:xlabel='age', ylabel='Count'>"
      ]
     },
     "execution_count": 26,
     "metadata": {},
     "output_type": "execute_result"
    },
    {
     "data": {
      "image/png": "[encoded data removed]",
      "text/plain": [
       "<Figure size 432x288 with 1 Axes>"
      ]
     },
     "metadata": {},
     "output_type": "display_data"
    }
   ],
   "source": [
    "df = usr_targets.merge(usr_emb, how = 'inner', on = ['user_id'])\n",
    "df = df[df['age'] != 'NA']\n",
    "df = df.dropna()\n",
    "df['age'] = df['age'].map(age_bucket)\n",
    "sns.histplot(df['age'], bins = 7)"
   ]
  },
  {
   "cell_type": "code",
   "execution_count": 27,
   "id": "f67208a4",
   "metadata": {
    "execution": {
     "iopub.execute_input": "2023-03-04T15:34:34.391536Z",
     "iopub.status.busy": "2023-03-04T15:34:34.391117Z",
     "iopub.status.idle": "2023-03-04T15:34:34.398505Z",
     "shell.execute_reply": "2023-03-04T15:34:34.396589Z"
    },
    "papermill": {
     "duration": 0.022549,
     "end_time": "2023-03-04T15:34:34.401263",
     "exception": false,
     "start_time": "2023-03-04T15:34:34.378714",
     "status": "completed"
    },
    "tags": []
   },
   "outputs": [],
   "source": [
    "max_f1 = 0\n",
    "train_index = 0\n",
    "test_index = 0"
   ]
  },
  {
   "cell_type": "code",
   "execution_count": 28,
   "id": "4fa5d230",
   "metadata": {
    "execution": {
     "iopub.execute_input": "2023-03-04T15:34:34.426774Z",
     "iopub.status.busy": "2023-03-04T15:34:34.426334Z",
     "iopub.status.idle": "2023-03-04T15:57:16.513032Z",
     "shell.execute_reply": "2023-03-04T15:57:16.511515Z"
    },
    "papermill": {
     "duration": 1362.339671,
     "end_time": "2023-03-04T15:57:16.752734",
     "exception": false,
     "start_time": "2023-03-04T15:34:34.413063",
     "status": "completed"
    },
    "tags": []
   },
   "outputs": [
    {
     "name": "stdout",
     "output_type": "stream",
     "text": [
      "TRAIN: [     0      1      2 ... 264293 264294 264295] TEST: [     6     11     12 ... 264268 264273 264292]\n",
      "              precision    recall  f1-score   support\n",
      "\n",
      "         <18       0.00      0.00      0.00       149\n",
      "       18-25       0.49      0.28      0.36      6338\n",
      "       25-34       0.47      0.62      0.53     17128\n",
      "       35-44       0.39      0.52      0.44     15199\n",
      "       45-54       0.37      0.19      0.25      8249\n",
      "       55-65       0.43      0.19      0.26      4719\n",
      "         65+       0.35      0.02      0.03      1078\n",
      "\n",
      "    accuracy                           0.43     52860\n",
      "   macro avg       0.36      0.26      0.27     52860\n",
      "weighted avg       0.42      0.43      0.41     52860\n",
      "\n",
      "\n",
      "TRAIN: [     2      3      5 ... 264291 264292 264294] TEST: [     0      1      4 ... 264288 264293 264295]\n",
      "              precision    recall  f1-score   support\n",
      "\n",
      "         <18       0.00      0.00      0.00       151\n",
      "       18-25       0.49      0.28      0.36      6235\n",
      "       25-34       0.47      0.62      0.53     17143\n",
      "       35-44       0.39      0.52      0.44     15381\n",
      "       45-54       0.37      0.18      0.24      8300\n",
      "       55-65       0.40      0.19      0.26      4601\n",
      "         65+       0.29      0.01      0.03      1048\n",
      "\n",
      "    accuracy                           0.43     52859\n",
      "   macro avg       0.35      0.26      0.27     52859\n",
      "weighted avg       0.42      0.43      0.41     52859\n",
      "\n",
      "\n",
      "TRAIN: [     0      1      2 ... 264292 264293 264295] TEST: [     3     21     23 ... 264285 264290 264294]\n",
      "              precision    recall  f1-score   support\n",
      "\n",
      "         <18       0.00      0.00      0.00       159\n",
      "       18-25       0.49      0.29      0.36      6298\n",
      "       25-34       0.47      0.61      0.53     17228\n",
      "       35-44       0.39      0.52      0.45     15326\n",
      "       45-54       0.36      0.18      0.24      8173\n",
      "       55-65       0.42      0.20      0.27      4612\n",
      "         65+       0.46      0.02      0.03      1063\n",
      "\n",
      "    accuracy                           0.43     52859\n",
      "   macro avg       0.37      0.26      0.27     52859\n",
      "weighted avg       0.43      0.43      0.41     52859\n",
      "\n",
      "\n",
      "TRAIN: [     0      1      3 ... 264293 264294 264295] TEST: [     2      7      8 ... 264274 264280 264282]\n",
      "              precision    recall  f1-score   support\n",
      "\n",
      "         <18       0.00      0.00      0.00       168\n",
      "       18-25       0.52      0.29      0.37      6449\n",
      "       25-34       0.47      0.62      0.53     16954\n",
      "       35-44       0.39      0.52      0.45     15191\n",
      "       45-54       0.36      0.18      0.24      8334\n",
      "       55-65       0.42      0.20      0.27      4646\n",
      "         65+       0.53      0.02      0.03      1117\n",
      "\n",
      "    accuracy                           0.43     52859\n",
      "   macro avg       0.38      0.26      0.27     52859\n",
      "weighted avg       0.43      0.43      0.41     52859\n",
      "\n",
      "\n",
      "TRAIN: [     0      1      2 ... 264293 264294 264295] TEST: [     5     10     15 ... 264286 264289 264291]\n",
      "              precision    recall  f1-score   support\n",
      "\n",
      "         <18       0.00      0.00      0.00       161\n",
      "       18-25       0.52      0.29      0.37      6295\n",
      "       25-34       0.47      0.62      0.54     17239\n",
      "       35-44       0.39      0.52      0.45     15197\n",
      "       45-54       0.37      0.19      0.25      8198\n",
      "       55-65       0.42      0.19      0.26      4654\n",
      "         65+       0.31      0.01      0.02      1115\n",
      "\n",
      "    accuracy                           0.43     52859\n",
      "   macro avg       0.35      0.26      0.27     52859\n",
      "weighted avg       0.43      0.43      0.41     52859\n",
      "\n",
      "\n"
     ]
    }
   ],
   "source": [
    "clf = CatBoostClassifier()\n",
    "\n",
    "x = np.array(df.drop(['user_id', 'age', 'is_male'], axis = 1))\n",
    "y = np.array(df['age'])\n",
    "\n",
    "kf = KFold(n_splits=KFOLD_SPLITS, shuffle=True, random_state=SPLIT_SEED)\n",
    "\n",
    "for train_index, test_index in kf.split(x):\n",
    "    print(\"TRAIN:\", train_index, \"TEST:\", test_index)\n",
    "    x_train, x_test = x[train_index], x[test_index]\n",
    "    y_train, y_test = y[train_index], y[test_index]\n",
    "    clf.fit(x_train, y_train, verbose = False)\n",
    "    f1 = m.f1_score(y_test, clf.predict(x_test), average='weighted')\n",
    "    \n",
    "    if f1 > max_f1:\n",
    "        max_f1 = f1\n",
    "        max_train_index = train_index\n",
    "        max_test_index = test_index\n",
    "        \n",
    "    print(m.classification_report(\n",
    "        y_test, \n",
    "        clf.predict(x_test), \n",
    "        target_names = ['<18', '18-25','25-34', '35-44', '45-54', '55-65', '65+']\n",
    "    )\n",
    "         )\n",
    "    print()"
   ]
  },
  {
   "cell_type": "code",
   "execution_count": 29,
   "id": "7a4d4215",
   "metadata": {
    "execution": {
     "iopub.execute_input": "2023-03-04T15:57:16.778372Z",
     "iopub.status.busy": "2023-03-04T15:57:16.777948Z",
     "iopub.status.idle": "2023-03-04T15:57:16.785084Z",
     "shell.execute_reply": "2023-03-04T15:57:16.783481Z"
    },
    "papermill": {
     "duration": 0.022543,
     "end_time": "2023-03-04T15:57:16.787302",
     "exception": false,
     "start_time": "2023-03-04T15:57:16.764759",
     "status": "completed"
    },
    "tags": []
   },
   "outputs": [
    {
     "name": "stdout",
     "output_type": "stream",
     "text": [
      "0.4094285114755224\n",
      "[     0      1      2 ... 264293 264294 264295]\n",
      "[     5     10     15 ... 264286 264289 264291]\n"
     ]
    }
   ],
   "source": [
    "print(max_f1)\n",
    "print(max_train_index)\n",
    "print(max_test_index)"
   ]
  },
  {
   "cell_type": "code",
   "execution_count": 30,
   "id": "742c76d2",
   "metadata": {
    "execution": {
     "iopub.execute_input": "2023-03-04T15:57:16.812806Z",
     "iopub.status.busy": "2023-03-04T15:57:16.812413Z",
     "iopub.status.idle": "2023-03-04T16:01:51.337819Z",
     "shell.execute_reply": "2023-03-04T16:01:51.336030Z"
    },
    "papermill": {
     "duration": 274.541541,
     "end_time": "2023-03-04T16:01:51.340796",
     "exception": false,
     "start_time": "2023-03-04T15:57:16.799255",
     "status": "completed"
    },
    "tags": []
   },
   "outputs": [],
   "source": [
    "clf.fit(x[max_train_index], y[max_train_index], verbose = False)\n",
    "id_to_submit['age'] = clf.predict(id_to_submit[['user_id']].merge(usr_emb, how = 'left', on = ['user_id']))"
   ]
  },
  {
   "cell_type": "markdown",
   "id": "f60c9ae1",
   "metadata": {
    "papermill": {
     "duration": 0.012406,
     "end_time": "2023-03-04T16:01:51.365591",
     "exception": false,
     "start_time": "2023-03-04T16:01:51.353185",
     "status": "completed"
    },
    "tags": []
   },
   "source": [
    "## Submission"
   ]
  },
  {
   "cell_type": "code",
   "execution_count": 31,
   "id": "cbc3aa14",
   "metadata": {
    "execution": {
     "iopub.execute_input": "2023-03-04T16:01:51.391914Z",
     "iopub.status.busy": "2023-03-04T16:01:51.391492Z",
     "iopub.status.idle": "2023-03-04T16:01:51.694722Z",
     "shell.execute_reply": "2023-03-04T16:01:51.693080Z"
    },
    "papermill": {
     "duration": 0.319669,
     "end_time": "2023-03-04T16:01:51.697365",
     "exception": false,
     "start_time": "2023-03-04T16:01:51.377696",
     "status": "completed"
    },
    "tags": []
   },
   "outputs": [
    {
     "data": {
      "text/html": [
       "<div>\n",
       "<style scoped>\n",
       "    .dataframe tbody tr th:only-of-type {\n",
       "        vertical-align: middle;\n",
       "    }\n",
       "\n",
       "    .dataframe tbody tr th {\n",
       "        vertical-align: top;\n",
       "    }\n",
       "\n",
       "    .dataframe thead th {\n",
       "        text-align: right;\n",
       "    }\n",
       "</style>\n",
       "<table border=\"1\" class=\"dataframe\">\n",
       "  <thead>\n",
       "    <tr style=\"text-align: right;\">\n",
       "      <th></th>\n",
       "      <th>user_id</th>\n",
       "      <th>is_male</th>\n",
       "      <th>age</th>\n",
       "    </tr>\n",
       "  </thead>\n",
       "  <tbody>\n",
       "    <tr>\n",
       "      <th>0</th>\n",
       "      <td>221301</td>\n",
       "      <td>0.707329</td>\n",
       "      <td>3</td>\n",
       "    </tr>\n",
       "    <tr>\n",
       "      <th>1</th>\n",
       "      <td>31271</td>\n",
       "      <td>0.968886</td>\n",
       "      <td>2</td>\n",
       "    </tr>\n",
       "    <tr>\n",
       "      <th>2</th>\n",
       "      <td>211594</td>\n",
       "      <td>0.891101</td>\n",
       "      <td>2</td>\n",
       "    </tr>\n",
       "    <tr>\n",
       "      <th>3</th>\n",
       "      <td>253119</td>\n",
       "      <td>0.976306</td>\n",
       "      <td>2</td>\n",
       "    </tr>\n",
       "    <tr>\n",
       "      <th>4</th>\n",
       "      <td>192578</td>\n",
       "      <td>0.965964</td>\n",
       "      <td>3</td>\n",
       "    </tr>\n",
       "  </tbody>\n",
       "</table>\n",
       "</div>"
      ],
      "text/plain": [
       "   user_id   is_male  age\n",
       "0   221301  0.707329    3\n",
       "1    31271  0.968886    2\n",
       "2   211594  0.891101    2\n",
       "3   253119  0.976306    2\n",
       "4   192578  0.965964    3"
      ]
     },
     "metadata": {},
     "output_type": "display_data"
    },
    {
     "name": "stdout",
     "output_type": "stream",
     "text": [
      "0.853618    401\n",
      "0.856456    305\n",
      "0.853542    204\n",
      "0.753090    100\n",
      "0.882247     91\n",
      "           ... \n",
      "0.991815      1\n",
      "0.877178      1\n",
      "0.975855      1\n",
      "0.993998      1\n",
      "0.993327      1\n",
      "Name: is_male, Length: 141394, dtype: int64\n",
      "2    113259\n",
      "3     25252\n",
      "1      4548\n",
      "4      1492\n",
      "5       173\n",
      "Name: age, dtype: int64\n"
     ]
    }
   ],
   "source": [
    "display(id_to_submit.head())\n",
    "print(id_to_submit.is_male.value_counts())\n",
    "print(id_to_submit.age.value_counts())\n",
    "id_to_submit.to_csv('submission.csv', index = False)"
   ]
  },
  {
   "cell_type": "code",
   "execution_count": 32,
   "id": "760e3f53",
   "metadata": {
    "execution": {
     "iopub.execute_input": "2023-03-04T16:01:51.725172Z",
     "iopub.status.busy": "2023-03-04T16:01:51.724796Z",
     "iopub.status.idle": "2023-03-04T16:01:51.730003Z",
     "shell.execute_reply": "2023-03-04T16:01:51.729117Z"
    },
    "papermill": {
     "duration": 0.020928,
     "end_time": "2023-03-04T16:01:51.731902",
     "exception": false,
     "start_time": "2023-03-04T16:01:51.710974",
     "status": "completed"
    },
    "tags": []
   },
   "outputs": [
    {
     "name": "stdout",
     "output_type": "stream",
     "text": [
      "Score: 1.4908570229510447\n"
     ]
    }
   ],
   "source": [
    "print(f'Score: {max_gini + 2*max_f1}')"
   ]
  }
 ],
 "metadata": {
  "kernelspec": {
   "display_name": "Python 3",
   "language": "python",
   "name": "python3"
  },
  "language_info": {
   "codemirror_mode": {
    "name": "ipython",
    "version": 3
   },
   "file_extension": ".py",
   "mimetype": "text/x-python",
   "name": "python",
   "nbconvert_exporter": "python",
   "pygments_lexer": "ipython3",
   "version": "3.7.12"
  },
  "papermill": {
   "default_parameters": {},
   "duration": 3828.293099,
   "end_time": "2023-03-04T16:01:55.411898",
   "environment_variables": {},
   "exception": null,
   "input_path": "__notebook__.ipynb",
   "output_path": "__notebook__.ipynb",
   "parameters": {},
   "start_time": "2023-03-04T14:58:07.118799",
   "version": "2.3.4"
  },
  "widgets": {
   "application/vnd.jupyter.widget-state+json": {
    "state": {
     "1f984d7d24c1446ebe9fc125116121a0": {
      "model_module": "@jupyter-widgets/controls",
      "model_module_version": "1.5.0",
      "model_name": "HTMLModel",
      "state": {
       "_dom_classes": [],
       "_model_module": "@jupyter-widgets/controls",
       "_model_module_version": "1.5.0",
       "_model_name": "HTMLModel",
       "_view_count": null,
       "_view_module": "@jupyter-widgets/controls",
       "_view_module_version": "1.5.0",
       "_view_name": "HTMLView",
       "description": "",
       "description_tooltip": null,
       "layout": "IPY_MODEL_f4ae89be67994ee5a631d617b5c99c45",
       "placeholder": "​",
       "style": "IPY_MODEL_2b2dc13b48394269b18269145772b316",
       "value": "100%"
      }
     },
     "2b2dc13b48394269b18269145772b316": {
      "model_module": "@jupyter-widgets/controls",
      "model_module_version": "1.5.0",
      "model_name": "DescriptionStyleModel",
      "state": {
       "_model_module": "@jupyter-widgets/controls",
       "_model_module_version": "1.5.0",
       "_model_name": "DescriptionStyleModel",
       "_view_count": null,
       "_view_module": "@jupyter-widgets/base",
       "_view_module_version": "1.2.0",
       "_view_name": "StyleView",
       "description_width": ""
      }
     },
     "3f237d0810534ba2a3a1bea6b7324390": {
      "model_module": "@jupyter-widgets/base",
      "model_module_version": "1.2.0",
      "model_name": "LayoutModel",
      "state": {
       "_model_module": "@jupyter-widgets/base",
       "_model_module_version": "1.2.0",
       "_model_name": "LayoutModel",
       "_view_count": null,
       "_view_module": "@jupyter-widgets/base",
       "_view_module_version": "1.2.0",
       "_view_name": "LayoutView",
       "align_content": null,
       "align_items": null,
       "align_self": null,
       "border": null,
       "bottom": null,
       "display": null,
       "flex": null,
       "flex_flow": null,
       "grid_area": null,
       "grid_auto_columns": null,
       "grid_auto_flow": null,
       "grid_auto_rows": null,
       "grid_column": null,
       "grid_gap": null,
       "grid_row": null,
       "grid_template_areas": null,
       "grid_template_columns": null,
       "grid_template_rows": null,
       "height": null,
       "justify_content": null,
       "justify_items": null,
       "left": null,
       "margin": null,
       "max_height": null,
       "max_width": null,
       "min_height": null,
       "min_width": null,
       "object_fit": null,
       "object_position": null,
       "order": null,
       "overflow": null,
       "overflow_x": null,
       "overflow_y": null,
       "padding": null,
       "right": null,
       "top": null,
       "visibility": null,
       "width": null
      }
     },
     "7e1ac87f31ff494d875f786d69bdd916": {
      "model_module": "@jupyter-widgets/controls",
      "model_module_version": "1.5.0",
      "model_name": "HTMLModel",
      "state": {
       "_dom_classes": [],
       "_model_module": "@jupyter-widgets/controls",
       "_model_module_version": "1.5.0",
       "_model_name": "HTMLModel",
       "_view_count": null,
       "_view_module": "@jupyter-widgets/controls",
       "_view_module_version": "1.5.0",
       "_view_name": "HTMLView",
       "description": "",
       "description_tooltip": null,
       "layout": "IPY_MODEL_ef09d1d08489492b88abb7d13f3f5763",
       "placeholder": "​",
       "style": "IPY_MODEL_c1ad26620ab140a6ad7b6d157f42f132",
       "value": " 200/200 [28:51&lt;00:00,  8.60s/it, loss=0.000297]"
      }
     },
     "8302091b5c8241cea552004f9da5d915": {
      "model_module": "@jupyter-widgets/controls",
      "model_module_version": "1.5.0",
      "model_name": "HBoxModel",
      "state": {
       "_dom_classes": [],
       "_model_module": "@jupyter-widgets/controls",
       "_model_module_version": "1.5.0",
       "_model_name": "HBoxModel",
       "_view_count": null,
       "_view_module": "@jupyter-widgets/controls",
       "_view_module_version": "1.5.0",
       "_view_name": "HBoxView",
       "box_style": "",
       "children": [
        "IPY_MODEL_1f984d7d24c1446ebe9fc125116121a0",
        "IPY_MODEL_df38caed609645c299f0e77d901da524",
        "IPY_MODEL_7e1ac87f31ff494d875f786d69bdd916"
       ],
       "layout": "IPY_MODEL_fbfdb3f05fe245558a6a9e58b606fae4"
      }
     },
     "a815032f87dd47828cf8ba529ef25b0e": {
      "model_module": "@jupyter-widgets/controls",
      "model_module_version": "1.5.0",
      "model_name": "ProgressStyleModel",
      "state": {
       "_model_module": "@jupyter-widgets/controls",
       "_model_module_version": "1.5.0",
       "_model_name": "ProgressStyleModel",
       "_view_count": null,
       "_view_module": "@jupyter-widgets/base",
       "_view_module_version": "1.2.0",
       "_view_name": "StyleView",
       "bar_color": null,
       "description_width": ""
      }
     },
     "c1ad26620ab140a6ad7b6d157f42f132": {
      "model_module": "@jupyter-widgets/controls",
      "model_module_version": "1.5.0",
      "model_name": "DescriptionStyleModel",
      "state": {
       "_model_module": "@jupyter-widgets/controls",
       "_model_module_version": "1.5.0",
       "_model_name": "DescriptionStyleModel",
       "_view_count": null,
       "_view_module": "@jupyter-widgets/base",
       "_view_module_version": "1.2.0",
       "_view_name": "StyleView",
       "description_width": ""
      }
     },
     "df38caed609645c299f0e77d901da524": {
      "model_module": "@jupyter-widgets/controls",
      "model_module_version": "1.5.0",
      "model_name": "FloatProgressModel",
      "state": {
       "_dom_classes": [],
       "_model_module": "@jupyter-widgets/controls",
       "_model_module_version": "1.5.0",
       "_model_name": "FloatProgressModel",
       "_view_count": null,
       "_view_module": "@jupyter-widgets/controls",
       "_view_module_version": "1.5.0",
       "_view_name": "ProgressView",
       "bar_style": "success",
       "description": "",
       "description_tooltip": null,
       "layout": "IPY_MODEL_3f237d0810534ba2a3a1bea6b7324390",
       "max": 200.0,
       "min": 0.0,
       "orientation": "horizontal",
       "style": "IPY_MODEL_a815032f87dd47828cf8ba529ef25b0e",
       "value": 200.0
      }
     },
     "ef09d1d08489492b88abb7d13f3f5763": {
      "model_module": "@jupyter-widgets/base",
      "model_module_version": "1.2.0",
      "model_name": "LayoutModel",
      "state": {
       "_model_module": "@jupyter-widgets/base",
       "_model_module_version": "1.2.0",
       "_model_name": "LayoutModel",
       "_view_count": null,
       "_view_module": "@jupyter-widgets/base",
       "_view_module_version": "1.2.0",
       "_view_name": "LayoutView",
       "align_content": null,
       "align_items": null,
       "align_self": null,
       "border": null,
       "bottom": null,
       "display": null,
       "flex": null,
       "flex_flow": null,
       "grid_area": null,
       "grid_auto_columns": null,
       "grid_auto_flow": null,
       "grid_auto_rows": null,
       "grid_column": null,
       "grid_gap": null,
       "grid_row": null,
       "grid_template_areas": null,
       "grid_template_columns": null,
       "grid_template_rows": null,
       "height": null,
       "justify_content": null,
       "justify_items": null,
       "left": null,
       "margin": null,
       "max_height": null,
       "max_width": null,
       "min_height": null,
       "min_width": null,
       "object_fit": null,
       "object_position": null,
       "order": null,
       "overflow": null,
       "overflow_x": null,
       "overflow_y": null,
       "padding": null,
       "right": null,
       "top": null,
       "visibility": null,
       "width": null
      }
     },
     "f4ae89be67994ee5a631d617b5c99c45": {
      "model_module": "@jupyter-widgets/base",
      "model_module_version": "1.2.0",
      "model_name": "LayoutModel",
      "state": {
       "_model_module": "@jupyter-widgets/base",
       "_model_module_version": "1.2.0",
       "_model_name": "LayoutModel",
       "_view_count": null,
       "_view_module": "@jupyter-widgets/base",
       "_view_module_version": "1.2.0",
       "_view_name": "LayoutView",
       "align_content": null,
       "align_items": null,
       "align_self": null,
       "border": null,
       "bottom": null,
       "display": null,
       "flex": null,
       "flex_flow": null,
       "grid_area": null,
       "grid_auto_columns": null,
       "grid_auto_flow": null,
       "grid_auto_rows": null,
       "grid_column": null,
       "grid_gap": null,
       "grid_row": null,
       "grid_template_areas": null,
       "grid_template_columns": null,
       "grid_template_rows": null,
       "height": null,
       "justify_content": null,
       "justify_items": null,
       "left": null,
       "margin": null,
       "max_height": null,
       "max_width": null,
       "min_height": null,
       "min_width": null,
       "object_fit": null,
       "object_position": null,
       "order": null,
       "overflow": null,
       "overflow_x": null,
       "overflow_y": null,
       "padding": null,
       "right": null,
       "top": null,
       "visibility": null,
       "width": null
      }
     },
     "fbfdb3f05fe245558a6a9e58b606fae4": {
      "model_module": "@jupyter-widgets/base",
      "model_module_version": "1.2.0",
      "model_name": "LayoutModel",
      "state": {
       "_model_module": "@jupyter-widgets/base",
       "_model_module_version": "1.2.0",
       "_model_name": "LayoutModel",
       "_view_count": null,
       "_view_module": "@jupyter-widgets/base",
       "_view_module_version": "1.2.0",
       "_view_name": "LayoutView",
       "align_content": null,
       "align_items": null,
       "align_self": null,
       "border": null,
       "bottom": null,
       "display": null,
       "flex": null,
       "flex_flow": null,
       "grid_area": null,
       "grid_auto_columns": null,
       "grid_auto_flow": null,
       "grid_auto_rows": null,
       "grid_column": null,
       "grid_gap": null,
       "grid_row": null,
       "grid_template_areas": null,
       "grid_template_columns": null,
       "grid_template_rows": null,
       "height": null,
       "justify_content": null,
       "justify_items": null,
       "left": null,
       "margin": null,
       "max_height": null,
       "max_width": null,
       "min_height": null,
       "min_width": null,
       "object_fit": null,
       "object_position": null,
       "order": null,
       "overflow": null,
       "overflow_x": null,
       "overflow_y": null,
       "padding": null,
       "right": null,
       "top": null,
       "visibility": null,
       "width": null
      }
     }
    },
    "version_major": 2,
    "version_minor": 0
   }
  }
 },
 "nbformat": 4,
 "nbformat_minor": 5
}
