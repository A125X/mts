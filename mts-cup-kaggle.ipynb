{
 "cells": [
  {
   "cell_type": "markdown",
   "id": "141b7d9c",
   "metadata": {
    "papermill": {
     "duration": 0.012341,
     "end_time": "2023-03-08T15:30:44.042754",
     "exception": false,
     "start_time": "2023-03-08T15:30:44.030413",
     "status": "completed"
    },
    "tags": []
   },
   "source": [
    "## Imports and constants"
   ]
  },
  {
   "cell_type": "markdown",
   "id": "c22db7c6",
   "metadata": {
    "papermill": {
     "duration": 0.010078,
     "end_time": "2023-03-08T15:30:44.063767",
     "exception": false,
     "start_time": "2023-03-08T15:30:44.053689",
     "status": "completed"
    },
    "tags": []
   },
   "source": [
    "to do: \n",
    "\n",
    "k-fold, transformers, features generation, polars,\n",
    "fix left bisect as described in the changed rules"
   ]
  },
  {
   "cell_type": "code",
   "execution_count": 1,
   "id": "6c5b9e09",
   "metadata": {
    "execution": {
     "iopub.execute_input": "2023-03-08T15:30:44.085889Z",
     "iopub.status.busy": "2023-03-08T15:30:44.085005Z",
     "iopub.status.idle": "2023-03-08T15:30:44.103540Z",
     "shell.execute_reply": "2023-03-08T15:30:44.102694Z"
    },
    "papermill": {
     "duration": 0.032696,
     "end_time": "2023-03-08T15:30:44.106371",
     "exception": false,
     "start_time": "2023-03-08T15:30:44.073675",
     "status": "completed"
    },
    "tags": []
   },
   "outputs": [],
   "source": [
    "SPLIT_SEED = 42\n",
    "FAISS_ITERATIONS = 50\n",
    "KFOLD_SPLITS = 5\n",
    "IS_EMBEDDING_USED = True\n",
    "IS_MODEL_CATBOOST = True\n",
    "IS_NOTEBOOK_ON_KAGGLE = True\n",
    "\n",
    "if (IS_NOTEBOOK_ON_KAGGLE):\n",
    "    LOCAL_DATA_PATH = '/kaggle/input/mts-ml-cookies'\n",
    "    DATA_FILE = 'dataset_full.feather'\n",
    "    TARGET_FILE = 'target_train.feather'\n",
    "    SUBMISSION_FILE = 'submission.feather'"
   ]
  },
  {
   "cell_type": "code",
   "execution_count": 2,
   "id": "20701b4b",
   "metadata": {
    "execution": {
     "iopub.execute_input": "2023-03-08T15:30:44.128864Z",
     "iopub.status.busy": "2023-03-08T15:30:44.128128Z",
     "iopub.status.idle": "2023-03-08T15:30:44.133227Z",
     "shell.execute_reply": "2023-03-08T15:30:44.132401Z"
    },
    "papermill": {
     "duration": 0.019461,
     "end_time": "2023-03-08T15:30:44.135902",
     "exception": false,
     "start_time": "2023-03-08T15:30:44.116441",
     "status": "completed"
    },
    "tags": []
   },
   "outputs": [],
   "source": [
    "import sys\n",
    "import os\n",
    "import warnings\n",
    "os.environ['OPENBLAS_NUM_THREADS'] = '1'\n",
    "warnings.filterwarnings('ignore')"
   ]
  },
  {
   "cell_type": "code",
   "execution_count": 3,
   "id": "cd4b89ef",
   "metadata": {
    "execution": {
     "iopub.execute_input": "2023-03-08T15:30:44.160192Z",
     "iopub.status.busy": "2023-03-08T15:30:44.159092Z",
     "iopub.status.idle": "2023-03-08T15:31:31.636985Z",
     "shell.execute_reply": "2023-03-08T15:31:31.635826Z"
    },
    "papermill": {
     "duration": 47.492703,
     "end_time": "2023-03-08T15:31:31.639775",
     "exception": false,
     "start_time": "2023-03-08T15:30:44.147072",
     "status": "completed"
    },
    "tags": []
   },
   "outputs": [
    {
     "name": "stdout",
     "output_type": "stream",
     "text": [
      "\u001b[33mWARNING: Running pip as the 'root' user can result in broken permissions and conflicting behaviour with the system package manager. It is recommended to use a virtual environment instead: https://pip.pypa.io/warnings/venv\u001b[0m\u001b[33m\r\n",
      "\u001b[0m\u001b[33mWARNING: Running pip as the 'root' user can result in broken permissions and conflicting behaviour with the system package manager. It is recommended to use a virtual environment instead: https://pip.pypa.io/warnings/venv\u001b[0m\u001b[33m\r\n",
      "\u001b[0m\u001b[33mWARNING: Running pip as the 'root' user can result in broken permissions and conflicting behaviour with the system package manager. It is recommended to use a virtual environment instead: https://pip.pypa.io/warnings/venv\u001b[0m\u001b[33m\r\n",
      "\u001b[0m"
     ]
    }
   ],
   "source": [
    "!pip install feather-format >> none -q\n",
    "!pip install faiss-cpu --no-cache -q\n",
    "!pip install polars -q\n",
    "\n",
    "import pandas as pd\n",
    "import numpy as np\n",
    "import time\n",
    "import pyarrow.parquet as pq\n",
    "import scipy\n",
    "import implicit\n",
    "import bisect\n",
    "import sklearn.metrics as m\n",
    "from catboost import CatBoostClassifier, CatBoostRegressor, Pool\n",
    "from sklearn.model_selection import train_test_split\n",
    "from sklearn.model_selection import KFold\n",
    "from sklearn.calibration import calibration_curve, CalibratedClassifierCV\n",
    "import tensorflow as tf\n",
    "import seaborn as sns\n",
    "import matplotlib.pyplot as plt\n",
    "import plotly.express as px\n",
    "import pyarrow as pa\n",
    "import polars as pl\n",
    "\n",
    "%matplotlib inline\n",
    "sns.set_style('darkgrid')"
   ]
  },
  {
   "cell_type": "markdown",
   "id": "9298b467",
   "metadata": {
    "papermill": {
     "duration": 0.010016,
     "end_time": "2023-03-08T15:31:31.660035",
     "exception": false,
     "start_time": "2023-03-08T15:31:31.650019",
     "status": "completed"
    },
    "tags": []
   },
   "source": [
    "## Showing data"
   ]
  },
  {
   "cell_type": "code",
   "execution_count": 4,
   "id": "943b39ac",
   "metadata": {
    "execution": {
     "iopub.execute_input": "2023-03-08T15:31:31.682890Z",
     "iopub.status.busy": "2023-03-08T15:31:31.682489Z",
     "iopub.status.idle": "2023-03-08T15:31:31.756908Z",
     "shell.execute_reply": "2023-03-08T15:31:31.755265Z"
    },
    "papermill": {
     "duration": 0.089384,
     "end_time": "2023-03-08T15:31:31.759924",
     "exception": false,
     "start_time": "2023-03-08T15:31:31.670540",
     "status": "completed"
    },
    "tags": []
   },
   "outputs": [],
   "source": [
    "id_to_submit = pd.read_feather(f'{LOCAL_DATA_PATH}/{SUBMISSION_FILE}')"
   ]
  },
  {
   "cell_type": "code",
   "execution_count": 5,
   "id": "cb391d80",
   "metadata": {
    "execution": {
     "iopub.execute_input": "2023-03-08T15:31:31.782844Z",
     "iopub.status.busy": "2023-03-08T15:31:31.782233Z",
     "iopub.status.idle": "2023-03-08T15:31:31.807731Z",
     "shell.execute_reply": "2023-03-08T15:31:31.806509Z"
    },
    "papermill": {
     "duration": 0.04151,
     "end_time": "2023-03-08T15:31:31.811560",
     "exception": false,
     "start_time": "2023-03-08T15:31:31.770050",
     "status": "completed"
    },
    "tags": []
   },
   "outputs": [
    {
     "data": {
      "text/html": [
       "<div>\n",
       "<style scoped>\n",
       "    .dataframe tbody tr th:only-of-type {\n",
       "        vertical-align: middle;\n",
       "    }\n",
       "\n",
       "    .dataframe tbody tr th {\n",
       "        vertical-align: top;\n",
       "    }\n",
       "\n",
       "    .dataframe thead th {\n",
       "        text-align: right;\n",
       "    }\n",
       "</style>\n",
       "<table border=\"1\" class=\"dataframe\">\n",
       "  <thead>\n",
       "    <tr style=\"text-align: right;\">\n",
       "      <th></th>\n",
       "      <th>user_id</th>\n",
       "    </tr>\n",
       "  </thead>\n",
       "  <tbody>\n",
       "    <tr>\n",
       "      <th>0</th>\n",
       "      <td>221301</td>\n",
       "    </tr>\n",
       "    <tr>\n",
       "      <th>1</th>\n",
       "      <td>31271</td>\n",
       "    </tr>\n",
       "    <tr>\n",
       "      <th>2</th>\n",
       "      <td>211594</td>\n",
       "    </tr>\n",
       "  </tbody>\n",
       "</table>\n",
       "</div>"
      ],
      "text/plain": [
       "   user_id\n",
       "0   221301\n",
       "1    31271\n",
       "2   211594"
      ]
     },
     "metadata": {},
     "output_type": "display_data"
    },
    {
     "data": {
      "text/plain": [
       "<bound method DataFrame.info of         user_id\n",
       "0        221301\n",
       "1         31271\n",
       "2        211594\n",
       "3        253119\n",
       "4        192578\n",
       "...         ...\n",
       "144719   415284\n",
       "144720   415285\n",
       "144721   415286\n",
       "144722   415306\n",
       "144723   415315\n",
       "\n",
       "[144724 rows x 1 columns]>"
      ]
     },
     "execution_count": 5,
     "metadata": {},
     "output_type": "execute_result"
    }
   ],
   "source": [
    "display(id_to_submit.head(3))\n",
    "id_to_submit.info"
   ]
  },
  {
   "cell_type": "code",
   "execution_count": 6,
   "id": "75d9b915",
   "metadata": {
    "execution": {
     "iopub.execute_input": "2023-03-08T15:31:31.835989Z",
     "iopub.status.busy": "2023-03-08T15:31:31.835586Z",
     "iopub.status.idle": "2023-03-08T15:32:12.227146Z",
     "shell.execute_reply": "2023-03-08T15:32:12.225899Z"
    },
    "papermill": {
     "duration": 40.407304,
     "end_time": "2023-03-08T15:32:12.230220",
     "exception": false,
     "start_time": "2023-03-08T15:31:31.822916",
     "status": "completed"
    },
    "tags": []
   },
   "outputs": [],
   "source": [
    "data = pd.read_feather(f'{LOCAL_DATA_PATH}/{DATA_FILE}')"
   ]
  },
  {
   "cell_type": "code",
   "execution_count": 7,
   "id": "cfd3d6aa",
   "metadata": {
    "execution": {
     "iopub.execute_input": "2023-03-08T15:32:12.255388Z",
     "iopub.status.busy": "2023-03-08T15:32:12.253006Z",
     "iopub.status.idle": "2023-03-08T15:32:50.661245Z",
     "shell.execute_reply": "2023-03-08T15:32:50.659056Z"
    },
    "papermill": {
     "duration": 38.440054,
     "end_time": "2023-03-08T15:32:50.681114",
     "exception": false,
     "start_time": "2023-03-08T15:32:12.241060",
     "status": "completed"
    },
    "tags": []
   },
   "outputs": [
    {
     "data": {
      "text/html": [
       "<div>\n",
       "<style scoped>\n",
       "    .dataframe tbody tr th:only-of-type {\n",
       "        vertical-align: middle;\n",
       "    }\n",
       "\n",
       "    .dataframe tbody tr th {\n",
       "        vertical-align: top;\n",
       "    }\n",
       "\n",
       "    .dataframe thead th {\n",
       "        text-align: right;\n",
       "    }\n",
       "</style>\n",
       "<table border=\"1\" class=\"dataframe\">\n",
       "  <thead>\n",
       "    <tr style=\"text-align: right;\">\n",
       "      <th></th>\n",
       "      <th>region_name</th>\n",
       "      <th>city_name</th>\n",
       "      <th>cpe_manufacturer_name</th>\n",
       "      <th>cpe_model_name</th>\n",
       "      <th>url_host</th>\n",
       "      <th>cpe_type_cd</th>\n",
       "      <th>cpe_model_os_type</th>\n",
       "      <th>price</th>\n",
       "      <th>date</th>\n",
       "      <th>part_of_day</th>\n",
       "      <th>request_cnt</th>\n",
       "      <th>user_id</th>\n",
       "    </tr>\n",
       "  </thead>\n",
       "  <tbody>\n",
       "    <tr>\n",
       "      <th>0</th>\n",
       "      <td>Краснодарский край</td>\n",
       "      <td>Краснодар</td>\n",
       "      <td>Apple</td>\n",
       "      <td>iPhone 7</td>\n",
       "      <td>ad.adriver.ru</td>\n",
       "      <td>smartphone</td>\n",
       "      <td>iOS</td>\n",
       "      <td>20368.0</td>\n",
       "      <td>2022-06-15</td>\n",
       "      <td>morning</td>\n",
       "      <td>1</td>\n",
       "      <td>45098</td>\n",
       "    </tr>\n",
       "    <tr>\n",
       "      <th>1</th>\n",
       "      <td>Краснодарский край</td>\n",
       "      <td>Краснодар</td>\n",
       "      <td>Apple</td>\n",
       "      <td>iPhone 7</td>\n",
       "      <td>apple.com</td>\n",
       "      <td>smartphone</td>\n",
       "      <td>iOS</td>\n",
       "      <td>20368.0</td>\n",
       "      <td>2022-06-19</td>\n",
       "      <td>morning</td>\n",
       "      <td>1</td>\n",
       "      <td>45098</td>\n",
       "    </tr>\n",
       "    <tr>\n",
       "      <th>2</th>\n",
       "      <td>Краснодарский край</td>\n",
       "      <td>Краснодар</td>\n",
       "      <td>Apple</td>\n",
       "      <td>iPhone 7</td>\n",
       "      <td>avatars.mds.yandex.net</td>\n",
       "      <td>smartphone</td>\n",
       "      <td>iOS</td>\n",
       "      <td>20368.0</td>\n",
       "      <td>2022-06-12</td>\n",
       "      <td>day</td>\n",
       "      <td>1</td>\n",
       "      <td>45098</td>\n",
       "    </tr>\n",
       "    <tr>\n",
       "      <th>3</th>\n",
       "      <td>Краснодарский край</td>\n",
       "      <td>Краснодар</td>\n",
       "      <td>Apple</td>\n",
       "      <td>iPhone 7</td>\n",
       "      <td>googleads.g.doubleclick.net</td>\n",
       "      <td>smartphone</td>\n",
       "      <td>iOS</td>\n",
       "      <td>20368.0</td>\n",
       "      <td>2022-05-16</td>\n",
       "      <td>day</td>\n",
       "      <td>1</td>\n",
       "      <td>45098</td>\n",
       "    </tr>\n",
       "    <tr>\n",
       "      <th>4</th>\n",
       "      <td>Краснодарский край</td>\n",
       "      <td>Краснодар</td>\n",
       "      <td>Apple</td>\n",
       "      <td>iPhone 7</td>\n",
       "      <td>googleads.g.doubleclick.net</td>\n",
       "      <td>smartphone</td>\n",
       "      <td>iOS</td>\n",
       "      <td>20368.0</td>\n",
       "      <td>2022-05-30</td>\n",
       "      <td>day</td>\n",
       "      <td>1</td>\n",
       "      <td>45098</td>\n",
       "    </tr>\n",
       "  </tbody>\n",
       "</table>\n",
       "</div>"
      ],
      "text/plain": [
       "          region_name  city_name cpe_manufacturer_name cpe_model_name  \\\n",
       "0  Краснодарский край  Краснодар                 Apple       iPhone 7   \n",
       "1  Краснодарский край  Краснодар                 Apple       iPhone 7   \n",
       "2  Краснодарский край  Краснодар                 Apple       iPhone 7   \n",
       "3  Краснодарский край  Краснодар                 Apple       iPhone 7   \n",
       "4  Краснодарский край  Краснодар                 Apple       iPhone 7   \n",
       "\n",
       "                      url_host cpe_type_cd cpe_model_os_type    price  \\\n",
       "0                ad.adriver.ru  smartphone               iOS  20368.0   \n",
       "1                    apple.com  smartphone               iOS  20368.0   \n",
       "2       avatars.mds.yandex.net  smartphone               iOS  20368.0   \n",
       "3  googleads.g.doubleclick.net  smartphone               iOS  20368.0   \n",
       "4  googleads.g.doubleclick.net  smartphone               iOS  20368.0   \n",
       "\n",
       "        date part_of_day  request_cnt  user_id  \n",
       "0 2022-06-15     morning            1    45098  \n",
       "1 2022-06-19     morning            1    45098  \n",
       "2 2022-06-12         day            1    45098  \n",
       "3 2022-05-16         day            1    45098  \n",
       "4 2022-05-30         day            1    45098  "
      ]
     },
     "metadata": {},
     "output_type": "display_data"
    },
    {
     "data": {
      "text/html": [
       "<div>\n",
       "<style scoped>\n",
       "    .dataframe tbody tr th:only-of-type {\n",
       "        vertical-align: middle;\n",
       "    }\n",
       "\n",
       "    .dataframe tbody tr th {\n",
       "        vertical-align: top;\n",
       "    }\n",
       "\n",
       "    .dataframe thead th {\n",
       "        text-align: right;\n",
       "    }\n",
       "</style>\n",
       "<table border=\"1\" class=\"dataframe\">\n",
       "  <thead>\n",
       "    <tr style=\"text-align: right;\">\n",
       "      <th></th>\n",
       "      <th>price</th>\n",
       "      <th>request_cnt</th>\n",
       "      <th>user_id</th>\n",
       "    </tr>\n",
       "  </thead>\n",
       "  <tbody>\n",
       "    <tr>\n",
       "      <th>count</th>\n",
       "      <td>3.163100e+08</td>\n",
       "      <td>3.228994e+08</td>\n",
       "      <td>3.228994e+08</td>\n",
       "    </tr>\n",
       "    <tr>\n",
       "      <th>mean</th>\n",
       "      <td>3.308510e+04</td>\n",
       "      <td>1.724197e+00</td>\n",
       "      <td>2.070983e+05</td>\n",
       "    </tr>\n",
       "    <tr>\n",
       "      <th>std</th>\n",
       "      <td>2.583592e+04</td>\n",
       "      <td>1.213835e+00</td>\n",
       "      <td>1.200584e+05</td>\n",
       "    </tr>\n",
       "    <tr>\n",
       "      <th>min</th>\n",
       "      <td>9.000000e+01</td>\n",
       "      <td>1.000000e+00</td>\n",
       "      <td>0.000000e+00</td>\n",
       "    </tr>\n",
       "    <tr>\n",
       "      <th>25%</th>\n",
       "      <td>1.397400e+04</td>\n",
       "      <td>1.000000e+00</td>\n",
       "      <td>1.027880e+05</td>\n",
       "    </tr>\n",
       "    <tr>\n",
       "      <th>50%</th>\n",
       "      <td>2.199000e+04</td>\n",
       "      <td>1.000000e+00</td>\n",
       "      <td>2.068870e+05</td>\n",
       "    </tr>\n",
       "    <tr>\n",
       "      <th>75%</th>\n",
       "      <td>4.999000e+04</td>\n",
       "      <td>2.000000e+00</td>\n",
       "      <td>3.113950e+05</td>\n",
       "    </tr>\n",
       "    <tr>\n",
       "      <th>max</th>\n",
       "      <td>1.956570e+05</td>\n",
       "      <td>1.600000e+01</td>\n",
       "      <td>4.153160e+05</td>\n",
       "    </tr>\n",
       "  </tbody>\n",
       "</table>\n",
       "</div>"
      ],
      "text/plain": [
       "              price   request_cnt       user_id\n",
       "count  3.163100e+08  3.228994e+08  3.228994e+08\n",
       "mean   3.308510e+04  1.724197e+00  2.070983e+05\n",
       "std    2.583592e+04  1.213835e+00  1.200584e+05\n",
       "min    9.000000e+01  1.000000e+00  0.000000e+00\n",
       "25%    1.397400e+04  1.000000e+00  1.027880e+05\n",
       "50%    2.199000e+04  1.000000e+00  2.068870e+05\n",
       "75%    4.999000e+04  2.000000e+00  3.113950e+05\n",
       "max    1.956570e+05  1.600000e+01  4.153160e+05"
      ]
     },
     "execution_count": 7,
     "metadata": {},
     "output_type": "execute_result"
    }
   ],
   "source": [
    "display(data.head())\n",
    "data.describe()"
   ]
  },
  {
   "cell_type": "code",
   "execution_count": 8,
   "id": "7a879e03",
   "metadata": {
    "execution": {
     "iopub.execute_input": "2023-03-08T15:32:50.706713Z",
     "iopub.status.busy": "2023-03-08T15:32:50.706178Z",
     "iopub.status.idle": "2023-03-08T15:32:50.711768Z",
     "shell.execute_reply": "2023-03-08T15:32:50.710712Z"
    },
    "papermill": {
     "duration": 0.021847,
     "end_time": "2023-03-08T15:32:50.713987",
     "exception": false,
     "start_time": "2023-03-08T15:32:50.692140",
     "status": "completed"
    },
    "tags": []
   },
   "outputs": [],
   "source": [
    "#data = pa.Table.from_pandas(data)\n",
    "#pd.DataFrame([(z.name, z.type) for z in data.schema], columns = [['field', 'type']])"
   ]
  },
  {
   "cell_type": "code",
   "execution_count": 9,
   "id": "17b209c0",
   "metadata": {
    "execution": {
     "iopub.execute_input": "2023-03-08T15:32:50.738462Z",
     "iopub.status.busy": "2023-03-08T15:32:50.738006Z",
     "iopub.status.idle": "2023-03-08T15:33:00.963026Z",
     "shell.execute_reply": "2023-03-08T15:33:00.961731Z"
    },
    "papermill": {
     "duration": 10.24107,
     "end_time": "2023-03-08T15:33:00.966017",
     "exception": false,
     "start_time": "2023-03-08T15:32:50.724947",
     "status": "completed"
    },
    "tags": []
   },
   "outputs": [
    {
     "name": "stdout",
     "output_type": "stream",
     "text": [
      "<class 'pandas.core.series.Series'>\n",
      "<class 'pandas.core.series.Series'>\n",
      "<class 'pandas.core.series.Series'>\n",
      "<class 'pandas.core.series.Series'>\n",
      "<class 'pandas.core.series.Series'>\n",
      "<class 'pandas.core.series.Series'>\n",
      "<class 'pandas.core.series.Series'>\n",
      "<class 'pandas.core.series.Series'>\n"
     ]
    },
    {
     "data": {
      "text/html": [
       "<div>\n",
       "<style scoped>\n",
       "    .dataframe tbody tr th:only-of-type {\n",
       "        vertical-align: middle;\n",
       "    }\n",
       "\n",
       "    .dataframe tbody tr th {\n",
       "        vertical-align: top;\n",
       "    }\n",
       "\n",
       "    .dataframe thead th {\n",
       "        text-align: right;\n",
       "    }\n",
       "</style>\n",
       "<table border=\"1\" class=\"dataframe\">\n",
       "  <thead>\n",
       "    <tr style=\"text-align: right;\">\n",
       "      <th></th>\n",
       "      <th>region_name</th>\n",
       "      <th>city_name</th>\n",
       "      <th>cpe_manufacturer_name</th>\n",
       "      <th>cpe_model_name</th>\n",
       "      <th>url_host</th>\n",
       "      <th>cpe_type_cd</th>\n",
       "      <th>cpe_model_os_type</th>\n",
       "      <th>price</th>\n",
       "      <th>date</th>\n",
       "      <th>part_of_day</th>\n",
       "      <th>request_cnt</th>\n",
       "      <th>user_id</th>\n",
       "    </tr>\n",
       "  </thead>\n",
       "  <tbody>\n",
       "    <tr>\n",
       "      <th>0</th>\n",
       "      <td>21</td>\n",
       "      <td>409</td>\n",
       "      <td>1</td>\n",
       "      <td>589</td>\n",
       "      <td>5788</td>\n",
       "      <td>2</td>\n",
       "      <td>2</td>\n",
       "      <td>20368.0</td>\n",
       "      <td>2022-06-15</td>\n",
       "      <td>2</td>\n",
       "      <td>1</td>\n",
       "      <td>45098</td>\n",
       "    </tr>\n",
       "    <tr>\n",
       "      <th>1</th>\n",
       "      <td>21</td>\n",
       "      <td>409</td>\n",
       "      <td>1</td>\n",
       "      <td>589</td>\n",
       "      <td>12900</td>\n",
       "      <td>2</td>\n",
       "      <td>2</td>\n",
       "      <td>20368.0</td>\n",
       "      <td>2022-06-19</td>\n",
       "      <td>2</td>\n",
       "      <td>1</td>\n",
       "      <td>45098</td>\n",
       "    </tr>\n",
       "    <tr>\n",
       "      <th>2</th>\n",
       "      <td>21</td>\n",
       "      <td>409</td>\n",
       "      <td>1</td>\n",
       "      <td>589</td>\n",
       "      <td>17626</td>\n",
       "      <td>2</td>\n",
       "      <td>2</td>\n",
       "      <td>20368.0</td>\n",
       "      <td>2022-06-12</td>\n",
       "      <td>0</td>\n",
       "      <td>1</td>\n",
       "      <td>45098</td>\n",
       "    </tr>\n",
       "    <tr>\n",
       "      <th>3</th>\n",
       "      <td>21</td>\n",
       "      <td>409</td>\n",
       "      <td>1</td>\n",
       "      <td>589</td>\n",
       "      <td>59366</td>\n",
       "      <td>2</td>\n",
       "      <td>2</td>\n",
       "      <td>20368.0</td>\n",
       "      <td>2022-05-16</td>\n",
       "      <td>0</td>\n",
       "      <td>1</td>\n",
       "      <td>45098</td>\n",
       "    </tr>\n",
       "    <tr>\n",
       "      <th>4</th>\n",
       "      <td>21</td>\n",
       "      <td>409</td>\n",
       "      <td>1</td>\n",
       "      <td>589</td>\n",
       "      <td>59366</td>\n",
       "      <td>2</td>\n",
       "      <td>2</td>\n",
       "      <td>20368.0</td>\n",
       "      <td>2022-05-30</td>\n",
       "      <td>0</td>\n",
       "      <td>1</td>\n",
       "      <td>45098</td>\n",
       "    </tr>\n",
       "  </tbody>\n",
       "</table>\n",
       "</div>"
      ],
      "text/plain": [
       "   region_name  city_name  cpe_manufacturer_name  cpe_model_name  url_host  \\\n",
       "0           21        409                      1             589      5788   \n",
       "1           21        409                      1             589     12900   \n",
       "2           21        409                      1             589     17626   \n",
       "3           21        409                      1             589     59366   \n",
       "4           21        409                      1             589     59366   \n",
       "\n",
       "   cpe_type_cd  cpe_model_os_type    price       date  part_of_day  \\\n",
       "0            2                  2  20368.0 2022-06-15            2   \n",
       "1            2                  2  20368.0 2022-06-19            2   \n",
       "2            2                  2  20368.0 2022-06-12            0   \n",
       "3            2                  2  20368.0 2022-05-16            0   \n",
       "4            2                  2  20368.0 2022-05-30            0   \n",
       "\n",
       "   request_cnt  user_id  \n",
       "0            1    45098  \n",
       "1            1    45098  \n",
       "2            1    45098  \n",
       "3            1    45098  \n",
       "4            1    45098  "
      ]
     },
     "execution_count": 9,
     "metadata": {},
     "output_type": "execute_result"
    }
   ],
   "source": [
    "for column in data.columns:\n",
    "    if column != \"date\" and column !=\"price\" and column !=\"user_id\" and column !=\"request_cnt\":\n",
    "        print(type(data[column]))\n",
    "        data[column] = data[column].cat.codes\n",
    "    elif column == \"date\":\n",
    "        data[\"date\"] = pd.to_datetime(data[\"date\"])\n",
    "\n",
    "data.head()"
   ]
  },
  {
   "cell_type": "code",
   "execution_count": 10,
   "id": "562867a4",
   "metadata": {
    "execution": {
     "iopub.execute_input": "2023-03-08T15:33:00.992386Z",
     "iopub.status.busy": "2023-03-08T15:33:00.991553Z",
     "iopub.status.idle": "2023-03-08T15:33:04.025289Z",
     "shell.execute_reply": "2023-03-08T15:33:04.024020Z"
    },
    "papermill": {
     "duration": 3.049968,
     "end_time": "2023-03-08T15:33:04.028216",
     "exception": false,
     "start_time": "2023-03-08T15:33:00.978248",
     "status": "completed"
    },
    "tags": []
   },
   "outputs": [],
   "source": [
    "data = pl.from_pandas(data)"
   ]
  },
  {
   "cell_type": "code",
   "execution_count": 11,
   "id": "6ff60609",
   "metadata": {
    "execution": {
     "iopub.execute_input": "2023-03-08T15:33:04.053052Z",
     "iopub.status.busy": "2023-03-08T15:33:04.052601Z",
     "iopub.status.idle": "2023-03-08T15:33:06.837429Z",
     "shell.execute_reply": "2023-03-08T15:33:06.836057Z"
    },
    "papermill": {
     "duration": 2.800505,
     "end_time": "2023-03-08T15:33:06.840250",
     "exception": false,
     "start_time": "2023-03-08T15:33:04.039745",
     "status": "completed"
    },
    "tags": []
   },
   "outputs": [
    {
     "data": {
      "text/plain": [
       "2    322781599\n",
       "3        53768\n",
       "1        36116\n",
       "0        27952\n",
       "Name: cpe_type_cd, dtype: int64"
      ]
     },
     "execution_count": 11,
     "metadata": {},
     "output_type": "execute_result"
    }
   ],
   "source": [
    "data.select(['cpe_type_cd']).to_pandas()['cpe_type_cd'].value_counts()"
   ]
  },
  {
   "cell_type": "code",
   "execution_count": 12,
   "id": "c8272127",
   "metadata": {
    "execution": {
     "iopub.execute_input": "2023-03-08T15:33:06.872549Z",
     "iopub.status.busy": "2023-03-08T15:33:06.872138Z",
     "iopub.status.idle": "2023-03-08T15:33:14.283515Z",
     "shell.execute_reply": "2023-03-08T15:33:14.282658Z"
    },
    "papermill": {
     "duration": 7.43176,
     "end_time": "2023-03-08T15:33:14.285598",
     "exception": false,
     "start_time": "2023-03-08T15:33:06.853838",
     "status": "completed"
    },
    "tags": []
   },
   "outputs": [
    {
     "data": {
      "text/html": [
       "<div>\n",
       "<style>\n",
       ".pl-dataframe > thead > tr > th {\n",
       "  text-align: right;\n",
       "}\n",
       "</style>\n",
       "\n",
       "<table border=\"1\" class=\"dataframe pl-dataframe\">\n",
       "<small>shape: (4, 2)</small>\n",
       "<thead>\n",
       "<tr>\n",
       "<th>\n",
       "cpe_type_cd\n",
       "</th>\n",
       "<th>\n",
       "counts\n",
       "</th>\n",
       "</tr>\n",
       "<tr>\n",
       "<td>\n",
       "i8\n",
       "</td>\n",
       "<td>\n",
       "u32\n",
       "</td>\n",
       "</tr>\n",
       "</thead>\n",
       "<tbody>\n",
       "<tr>\n",
       "<td>\n",
       "0\n",
       "</td>\n",
       "<td>\n",
       "27952\n",
       "</td>\n",
       "</tr>\n",
       "<tr>\n",
       "<td>\n",
       "3\n",
       "</td>\n",
       "<td>\n",
       "53768\n",
       "</td>\n",
       "</tr>\n",
       "<tr>\n",
       "<td>\n",
       "2\n",
       "</td>\n",
       "<td>\n",
       "322781599\n",
       "</td>\n",
       "</tr>\n",
       "<tr>\n",
       "<td>\n",
       "1\n",
       "</td>\n",
       "<td>\n",
       "36116\n",
       "</td>\n",
       "</tr>\n",
       "</tbody>\n",
       "</table>\n",
       "</div>"
      ],
      "text/plain": [
       "shape: (4, 2)\n",
       "┌─────────────┬───────────┐\n",
       "│ cpe_type_cd ┆ counts    │\n",
       "│ ---         ┆ ---       │\n",
       "│ i8          ┆ u32       │\n",
       "╞═════════════╪═══════════╡\n",
       "│ 0           ┆ 27952     │\n",
       "│ 3           ┆ 53768     │\n",
       "│ 2           ┆ 322781599 │\n",
       "│ 1           ┆ 36116     │\n",
       "└─────────────┴───────────┘"
      ]
     },
     "execution_count": 12,
     "metadata": {},
     "output_type": "execute_result"
    }
   ],
   "source": [
    "data['cpe_type_cd'].value_counts()"
   ]
  },
  {
   "cell_type": "code",
   "execution_count": 13,
   "id": "cbcf9850",
   "metadata": {
    "execution": {
     "iopub.execute_input": "2023-03-08T15:33:14.310886Z",
     "iopub.status.busy": "2023-03-08T15:33:14.310458Z",
     "iopub.status.idle": "2023-03-08T15:33:14.393384Z",
     "shell.execute_reply": "2023-03-08T15:33:14.391856Z"
    },
    "papermill": {
     "duration": 0.099584,
     "end_time": "2023-03-08T15:33:14.397017",
     "exception": false,
     "start_time": "2023-03-08T15:33:14.297433",
     "status": "completed"
    },
    "tags": []
   },
   "outputs": [
    {
     "data": {
      "text/html": [
       "<div>\n",
       "<style scoped>\n",
       "    .dataframe tbody tr th:only-of-type {\n",
       "        vertical-align: middle;\n",
       "    }\n",
       "\n",
       "    .dataframe tbody tr th {\n",
       "        vertical-align: top;\n",
       "    }\n",
       "\n",
       "    .dataframe thead th {\n",
       "        text-align: right;\n",
       "    }\n",
       "</style>\n",
       "<table border=\"1\" class=\"dataframe\">\n",
       "  <thead>\n",
       "    <tr style=\"text-align: right;\">\n",
       "      <th></th>\n",
       "      <th>age</th>\n",
       "      <th>is_male</th>\n",
       "      <th>user_id</th>\n",
       "    </tr>\n",
       "  </thead>\n",
       "  <tbody>\n",
       "    <tr>\n",
       "      <th>0</th>\n",
       "      <td>31.0</td>\n",
       "      <td>1</td>\n",
       "      <td>350459</td>\n",
       "    </tr>\n",
       "    <tr>\n",
       "      <th>1</th>\n",
       "      <td>35.0</td>\n",
       "      <td>1</td>\n",
       "      <td>188276</td>\n",
       "    </tr>\n",
       "    <tr>\n",
       "      <th>2</th>\n",
       "      <td>41.0</td>\n",
       "      <td>0</td>\n",
       "      <td>99002</td>\n",
       "    </tr>\n",
       "    <tr>\n",
       "      <th>3</th>\n",
       "      <td>33.0</td>\n",
       "      <td>0</td>\n",
       "      <td>155506</td>\n",
       "    </tr>\n",
       "    <tr>\n",
       "      <th>4</th>\n",
       "      <td>54.0</td>\n",
       "      <td>0</td>\n",
       "      <td>213873</td>\n",
       "    </tr>\n",
       "  </tbody>\n",
       "</table>\n",
       "</div>"
      ],
      "text/plain": [
       "    age is_male  user_id\n",
       "0  31.0       1   350459\n",
       "1  35.0       1   188276\n",
       "2  41.0       0    99002\n",
       "3  33.0       0   155506\n",
       "4  54.0       0   213873"
      ]
     },
     "execution_count": 13,
     "metadata": {},
     "output_type": "execute_result"
    }
   ],
   "source": [
    "targets = pd.read_feather(f'{LOCAL_DATA_PATH}/{TARGET_FILE}')\n",
    "targets.head()"
   ]
  },
  {
   "cell_type": "code",
   "execution_count": 14,
   "id": "27e49831",
   "metadata": {
    "execution": {
     "iopub.execute_input": "2023-03-08T15:33:14.424860Z",
     "iopub.status.busy": "2023-03-08T15:33:14.424450Z",
     "iopub.status.idle": "2023-03-08T15:33:14.454889Z",
     "shell.execute_reply": "2023-03-08T15:33:14.453626Z"
    },
    "papermill": {
     "duration": 0.047401,
     "end_time": "2023-03-08T15:33:14.457477",
     "exception": false,
     "start_time": "2023-03-08T15:33:14.410076",
     "status": "completed"
    },
    "tags": []
   },
   "outputs": [
    {
     "data": {
      "text/html": [
       "<div>\n",
       "<style scoped>\n",
       "    .dataframe tbody tr th:only-of-type {\n",
       "        vertical-align: middle;\n",
       "    }\n",
       "\n",
       "    .dataframe tbody tr th {\n",
       "        vertical-align: top;\n",
       "    }\n",
       "\n",
       "    .dataframe thead tr th {\n",
       "        text-align: left;\n",
       "    }\n",
       "</style>\n",
       "<table border=\"1\" class=\"dataframe\">\n",
       "  <thead>\n",
       "    <tr>\n",
       "      <th></th>\n",
       "      <th>field</th>\n",
       "      <th>type</th>\n",
       "    </tr>\n",
       "  </thead>\n",
       "  <tbody>\n",
       "    <tr>\n",
       "      <th>0</th>\n",
       "      <td>age</td>\n",
       "      <td>double</td>\n",
       "    </tr>\n",
       "    <tr>\n",
       "      <th>1</th>\n",
       "      <td>is_male</td>\n",
       "      <td>string</td>\n",
       "    </tr>\n",
       "    <tr>\n",
       "      <th>2</th>\n",
       "      <td>user_id</td>\n",
       "      <td>int64</td>\n",
       "    </tr>\n",
       "  </tbody>\n",
       "</table>\n",
       "</div>"
      ],
      "text/plain": [
       "     field    type\n",
       "0      age  double\n",
       "1  is_male  string\n",
       "2  user_id   int64"
      ]
     },
     "execution_count": 14,
     "metadata": {},
     "output_type": "execute_result"
    }
   ],
   "source": [
    "targets = pa.Table.from_pandas(targets)\n",
    "pd.DataFrame([(z.name, z.type) for z in targets.schema], columns = [['field', 'type']])"
   ]
  },
  {
   "cell_type": "markdown",
   "id": "9b1657e0",
   "metadata": {
    "papermill": {
     "duration": 0.011803,
     "end_time": "2023-03-08T15:33:14.481991",
     "exception": false,
     "start_time": "2023-03-08T15:33:14.470188",
     "status": "completed"
    },
    "tags": []
   },
   "source": [
    "## Counting users <-> items embedding"
   ]
  },
  {
   "cell_type": "code",
   "execution_count": 15,
   "id": "d2f14501",
   "metadata": {
    "execution": {
     "iopub.execute_input": "2023-03-08T15:33:14.508606Z",
     "iopub.status.busy": "2023-03-08T15:33:14.507761Z",
     "iopub.status.idle": "2023-03-08T15:33:56.190590Z",
     "shell.execute_reply": "2023-03-08T15:33:56.189142Z"
    },
    "papermill": {
     "duration": 41.699479,
     "end_time": "2023-03-08T15:33:56.193731",
     "exception": false,
     "start_time": "2023-03-08T15:33:14.494252",
     "status": "completed"
    },
    "tags": []
   },
   "outputs": [
    {
     "name": "stdout",
     "output_type": "stream",
     "text": [
      "199683 urls\n",
      "415317 users\n",
      "CPU times: user 1min 15s, sys: 25.3 s, total: 1min 40s\n",
      "Wall time: 41.7 s\n"
     ]
    }
   ],
   "source": [
    "%%time\n",
    "if (IS_EMBEDDING_USED):\n",
    "    #data_agg = data.select(['user_id', 'url_host', 'request_cnt']).\\\n",
    "        #group_by(['user_id', 'url_host']).aggregate([('request_cnt', \"sum\")])\n",
    "    data_agg = data.groupby(['user_id', 'url_host'], maintain_order=True).agg(\n",
    "        pl.sum(\"request_cnt\")\n",
    "    )\n",
    "    url_set = set(data_agg.select(['url_host']).to_pandas()['url_host'])\n",
    "    print(f'{len(url_set)} urls')\n",
    "    url_dict = {url: idurl for url, idurl in zip(url_set, range(len(url_set)))}\n",
    "    usr_set = set(data_agg.select(['user_id']).to_pandas()['user_id'])\n",
    "    print(f'{len(usr_set)} users')\n",
    "    usr_dict = {usr: user_id for usr, user_id in zip(usr_set, range(len(usr_set)))}"
   ]
  },
  {
   "cell_type": "code",
   "execution_count": 16,
   "id": "168397a3",
   "metadata": {
    "execution": {
     "iopub.execute_input": "2023-03-08T15:33:56.231152Z",
     "iopub.status.busy": "2023-03-08T15:33:56.230522Z",
     "iopub.status.idle": "2023-03-08T15:33:58.767695Z",
     "shell.execute_reply": "2023-03-08T15:33:58.766334Z"
    },
    "papermill": {
     "duration": 2.556445,
     "end_time": "2023-03-08T15:33:58.770426",
     "exception": false,
     "start_time": "2023-03-08T15:33:56.213981",
     "status": "completed"
    },
    "tags": []
   },
   "outputs": [
    {
     "name": "stdout",
     "output_type": "stream",
     "text": [
      "CPU times: user 1.94 s, sys: 601 ms, total: 2.54 s\n",
      "Wall time: 2.53 s\n"
     ]
    }
   ],
   "source": [
    "%%time\n",
    "if (IS_EMBEDDING_USED):\n",
    "    values = np.array(data_agg['request_cnt'].to_pandas())\n",
    "    rows = np.array(data_agg['user_id'].to_pandas().map(usr_dict))\n",
    "    cols = np.array(data_agg['url_host'].to_pandas().map(url_dict))\n",
    "    mat = scipy.sparse.coo_matrix((values, (rows, cols)), shape=(rows.max() + 1, cols.max() + 1))\n",
    "    als = implicit.approximate_als.FaissAlternatingLeastSquares(\n",
    "        factors = 50, iterations = FAISS_ITERATIONS, use_gpu = False, calculate_training_loss = True, regularization = 0.1\n",
    "    )"
   ]
  },
  {
   "cell_type": "code",
   "execution_count": 17,
   "id": "dccda4d2",
   "metadata": {
    "execution": {
     "iopub.execute_input": "2023-03-08T15:33:58.798083Z",
     "iopub.status.busy": "2023-03-08T15:33:58.797632Z",
     "iopub.status.idle": "2023-03-08T15:46:53.126679Z",
     "shell.execute_reply": "2023-03-08T15:46:53.125560Z"
    },
    "papermill": {
     "duration": 774.347035,
     "end_time": "2023-03-08T15:46:53.129834",
     "exception": false,
     "start_time": "2023-03-08T15:33:58.782799",
     "status": "completed"
    },
    "tags": []
   },
   "outputs": [
    {
     "data": {
      "application/vnd.jupyter.widget-view+json": {
       "model_id": "aacc7fe452324aa19dee79474bee6b00",
       "version_major": 2,
       "version_minor": 0
      },
      "text/plain": [
       "  0%|          | 0/50 [00:00<?, ?it/s]"
      ]
     },
     "metadata": {},
     "output_type": "display_data"
    },
    {
     "name": "stdout",
     "output_type": "stream",
     "text": [
      "CPU times: user 47min 59s, sys: 22 s, total: 48min 21s\n",
      "Wall time: 12min 54s\n"
     ]
    }
   ],
   "source": [
    "%%time\n",
    "if (IS_EMBEDDING_USED):\n",
    "    als.fit(mat)"
   ]
  },
  {
   "cell_type": "code",
   "execution_count": 18,
   "id": "7886370b",
   "metadata": {
    "execution": {
     "iopub.execute_input": "2023-03-08T15:46:53.159787Z",
     "iopub.status.busy": "2023-03-08T15:46:53.158946Z",
     "iopub.status.idle": "2023-03-08T15:46:53.167137Z",
     "shell.execute_reply": "2023-03-08T15:46:53.166358Z"
    },
    "papermill": {
     "duration": 0.025745,
     "end_time": "2023-03-08T15:46:53.169428",
     "exception": false,
     "start_time": "2023-03-08T15:46:53.143683",
     "status": "completed"
    },
    "tags": []
   },
   "outputs": [
    {
     "name": "stdout",
     "output_type": "stream",
     "text": [
      "199683\n"
     ]
    }
   ],
   "source": [
    "if (IS_EMBEDDING_USED):\n",
    "    u_factors = als.user_factors \n",
    "    print(len(u_factors))"
   ]
  },
  {
   "cell_type": "code",
   "execution_count": 19,
   "id": "8443a206",
   "metadata": {
    "execution": {
     "iopub.execute_input": "2023-03-08T15:46:53.196662Z",
     "iopub.status.busy": "2023-03-08T15:46:53.196206Z",
     "iopub.status.idle": "2023-03-08T15:46:53.202247Z",
     "shell.execute_reply": "2023-03-08T15:46:53.201053Z"
    },
    "papermill": {
     "duration": 0.022891,
     "end_time": "2023-03-08T15:46:53.204765",
     "exception": false,
     "start_time": "2023-03-08T15:46:53.181874",
     "status": "completed"
    },
    "tags": []
   },
   "outputs": [
    {
     "name": "stdout",
     "output_type": "stream",
     "text": [
      "415317\n"
     ]
    }
   ],
   "source": [
    "if (IS_EMBEDDING_USED):\n",
    "    d_factors = als.item_factors\n",
    "    print(len(d_factors))"
   ]
  },
  {
   "cell_type": "markdown",
   "id": "5405a549",
   "metadata": {
    "papermill": {
     "duration": 0.012327,
     "end_time": "2023-03-08T15:46:53.230093",
     "exception": false,
     "start_time": "2023-03-08T15:46:53.217766",
     "status": "completed"
    },
    "tags": []
   },
   "source": [
    "## Sex prediction"
   ]
  },
  {
   "cell_type": "code",
   "execution_count": 20,
   "id": "0e31903c",
   "metadata": {
    "execution": {
     "iopub.execute_input": "2023-03-08T15:46:53.257707Z",
     "iopub.status.busy": "2023-03-08T15:46:53.256875Z",
     "iopub.status.idle": "2023-03-08T15:46:53.291428Z",
     "shell.execute_reply": "2023-03-08T15:46:53.290244Z"
    },
    "papermill": {
     "duration": 0.051632,
     "end_time": "2023-03-08T15:46:53.294403",
     "exception": false,
     "start_time": "2023-03-08T15:46:53.242771",
     "status": "completed"
    },
    "tags": []
   },
   "outputs": [],
   "source": [
    "id_to_submit = pd.read_feather(f'{LOCAL_DATA_PATH}/{SUBMISSION_FILE}')"
   ]
  },
  {
   "cell_type": "code",
   "execution_count": 21,
   "id": "9916538d",
   "metadata": {
    "execution": {
     "iopub.execute_input": "2023-03-08T15:46:53.322559Z",
     "iopub.status.busy": "2023-03-08T15:46:53.322149Z",
     "iopub.status.idle": "2023-03-08T15:46:54.814769Z",
     "shell.execute_reply": "2023-03-08T15:46:54.813529Z"
    },
    "papermill": {
     "duration": 1.509616,
     "end_time": "2023-03-08T15:46:54.817404",
     "exception": false,
     "start_time": "2023-03-08T15:46:53.307788",
     "status": "completed"
    },
    "scrolled": true,
    "tags": []
   },
   "outputs": [
    {
     "name": "stdout",
     "output_type": "stream",
     "text": [
      "1    135314\n",
      "0    128982\n",
      "Name: is_male, dtype: int64\n"
     ]
    }
   ],
   "source": [
    "if (IS_EMBEDDING_USED):\n",
    "    inv_usr_map = {v: k for k, v in usr_dict.items()}\n",
    "    usr_emb = pd.DataFrame(d_factors)\n",
    "    usr_emb['user_id'] = usr_emb.index.map(inv_usr_map)\n",
    "    usr_targets = targets.to_pandas()\n",
    "    df = usr_targets.merge(usr_emb, how = 'inner', on = ['user_id'])\n",
    "    df = df[df['is_male'] != 'NA']\n",
    "    df = df.dropna()\n",
    "    df['is_male'] = df['is_male'].map(int)\n",
    "    print(df['is_male'].value_counts())"
   ]
  },
  {
   "cell_type": "markdown",
   "id": "7e85e43c",
   "metadata": {
    "papermill": {
     "duration": 0.013158,
     "end_time": "2023-03-08T15:46:54.843633",
     "exception": false,
     "start_time": "2023-03-08T15:46:54.830475",
     "status": "completed"
    },
    "tags": []
   },
   "source": [
    "#### Model trainings"
   ]
  },
  {
   "cell_type": "code",
   "execution_count": 22,
   "id": "6466d053",
   "metadata": {
    "execution": {
     "iopub.execute_input": "2023-03-08T15:46:54.872001Z",
     "iopub.status.busy": "2023-03-08T15:46:54.871235Z",
     "iopub.status.idle": "2023-03-08T15:46:54.880686Z",
     "shell.execute_reply": "2023-03-08T15:46:54.879504Z"
    },
    "papermill": {
     "duration": 0.026725,
     "end_time": "2023-03-08T15:46:54.883419",
     "exception": false,
     "start_time": "2023-03-08T15:46:54.856694",
     "status": "completed"
    },
    "tags": []
   },
   "outputs": [],
   "source": [
    "max_gini = 0\n",
    "train_index = 0\n",
    "test_index = 0\n",
    "\n",
    "if (IS_MODEL_CATBOOST):\n",
    "    clf = CatBoostClassifier()"
   ]
  },
  {
   "cell_type": "code",
   "execution_count": 23,
   "id": "c15fee81",
   "metadata": {
    "execution": {
     "iopub.execute_input": "2023-03-08T15:46:54.911389Z",
     "iopub.status.busy": "2023-03-08T15:46:54.910577Z",
     "iopub.status.idle": "2023-03-08T15:51:51.338342Z",
     "shell.execute_reply": "2023-03-08T15:51:51.336934Z"
    },
    "papermill": {
     "duration": 296.456962,
     "end_time": "2023-03-08T15:51:51.353217",
     "exception": false,
     "start_time": "2023-03-08T15:46:54.896255",
     "status": "completed"
    },
    "tags": []
   },
   "outputs": [
    {
     "name": "stdout",
     "output_type": "stream",
     "text": [
      "Train indexes: [52860 52861 52862 52863 52864]; Test indexes: [0 1 2 3 4];\n",
      "Train length: 211436; Test length: 52860; Dataset length: 264296;\n",
      "Current GINI is 0.668, current max is 0.668\n",
      "\n",
      "Train indexes: [0 1 2 3 4]; Test indexes: [52860 52861 52862 52863 52864];\n",
      "Train length: 211437; Test length: 52859; Dataset length: 264296;\n",
      "Current GINI is 0.661, current max is 0.668\n",
      "\n",
      "Train indexes: [0 1 2 3 4]; Test indexes: [105719 105720 105721 105722 105723];\n",
      "Train length: 211437; Test length: 52859; Dataset length: 264296;\n",
      "Current GINI is 0.66, current max is 0.668\n",
      "\n",
      "Train indexes: [0 1 2 3 4]; Test indexes: [158578 158579 158580 158581 158582];\n",
      "Train length: 211437; Test length: 52859; Dataset length: 264296;\n",
      "Current GINI is 0.662, current max is 0.668\n",
      "\n",
      "Train indexes: [0 1 2 3 4]; Test indexes: [211437 211438 211439 211440 211441];\n",
      "Train length: 211437; Test length: 52859; Dataset length: 264296;\n",
      "Current GINI is 0.66, current max is 0.668\n",
      "\n",
      "CPU times: user 18min 27s, sys: 30.6 s, total: 18min 58s\n",
      "Wall time: 4min 56s\n"
     ]
    }
   ],
   "source": [
    "%%time\n",
    "if (IS_MODEL_CATBOOST):\n",
    "    x = df.drop(['user_id', 'age', 'is_male'], axis = 1)\n",
    "    y = df['is_male']\n",
    "\n",
    "    kf = KFold(n_splits=KFOLD_SPLITS)\n",
    "\n",
    "    for train_index, test_index in kf.split(x):\n",
    "        print(\"Train indexes: \", train_index[:5],\n",
    "              \"; Test indexes: \", test_index[:5], \";\\n\",\n",
    "              \"Train length: \", len(train_index), \n",
    "              \"; Test length: \", len(test_index), \n",
    "              \"; Dataset length: \", len(x), ';', sep='', end='\\n')\n",
    "        \n",
    "        x_train, x_test = x.iloc[train_index], x.iloc[test_index]\n",
    "        y_train, y_test = y.iloc[train_index], y.iloc[test_index]\n",
    "    \n",
    "        clf.fit(x_train, y_train, verbose = False)\n",
    "        \n",
    "        gini = float(f'{2 * m.roc_auc_score(y_test, clf.predict_proba(x_test)[:,1]) - 1:2.3f}')\n",
    "        if gini > max_gini:\n",
    "            max_gini = gini\n",
    "            max_train_index = train_index\n",
    "            max_test_index = test_index\n",
    "        \n",
    "        print(f'Current GINI is {gini}, current max is {max_gini}', end=\"\\n\\n\")"
   ]
  },
  {
   "cell_type": "code",
   "execution_count": 24,
   "id": "179076ee",
   "metadata": {
    "execution": {
     "iopub.execute_input": "2023-03-08T15:51:51.381073Z",
     "iopub.status.busy": "2023-03-08T15:51:51.380659Z",
     "iopub.status.idle": "2023-03-08T15:51:51.388902Z",
     "shell.execute_reply": "2023-03-08T15:51:51.387677Z"
    },
    "papermill": {
     "duration": 0.025143,
     "end_time": "2023-03-08T15:51:51.391230",
     "exception": false,
     "start_time": "2023-03-08T15:51:51.366087",
     "status": "completed"
    },
    "tags": []
   },
   "outputs": [
    {
     "data": {
      "text/plain": [
       "'\\nfrom sklearn.ensemble import RandomForestClassifier\\nfrom sklearn.datasets import make_classification\\nX, y = make_classification(n_samples=1000, n_features=4,\\n                            n_informative=2, n_redundant=0,\\n                           random_state=0, shuffle=False)\\nclf = RandomForestClassifier(max_depth=2, random_state=0)\\nclf.fit(X, y)\\nprint(clf.predict([[0, 0, 0, 0]]))\\n'"
      ]
     },
     "execution_count": 24,
     "metadata": {},
     "output_type": "execute_result"
    }
   ],
   "source": [
    "#may try other models later\n",
    "'''\n",
    "from sklearn.ensemble import RandomForestClassifier\n",
    "from sklearn.datasets import make_classification\n",
    "X, y = make_classification(n_samples=1000, n_features=4,\n",
    "                            n_informative=2, n_redundant=0,\n",
    "                           random_state=0, shuffle=False)\n",
    "clf = RandomForestClassifier(max_depth=2, random_state=0)\n",
    "clf.fit(X, y)\n",
    "print(clf.predict([[0, 0, 0, 0]]))\n",
    "'''"
   ]
  },
  {
   "cell_type": "code",
   "execution_count": 25,
   "id": "2230863d",
   "metadata": {
    "execution": {
     "iopub.execute_input": "2023-03-08T15:51:51.419984Z",
     "iopub.status.busy": "2023-03-08T15:51:51.419580Z",
     "iopub.status.idle": "2023-03-08T15:51:51.425574Z",
     "shell.execute_reply": "2023-03-08T15:51:51.424700Z"
    },
    "papermill": {
     "duration": 0.022662,
     "end_time": "2023-03-08T15:51:51.427737",
     "exception": false,
     "start_time": "2023-03-08T15:51:51.405075",
     "status": "completed"
    },
    "tags": []
   },
   "outputs": [
    {
     "name": "stdout",
     "output_type": "stream",
     "text": [
      "Max GINI is 0.668\n",
      "Max train index is [52860 52861 52862 52863 52864]\n",
      "Max test index is [0 1 2 3 4]\n"
     ]
    }
   ],
   "source": [
    "print(f'Max GINI is {max_gini}')\n",
    "print(f'Max train index is {max_train_index[:5]}')\n",
    "print(f'Max test index is {max_test_index[:5]}')"
   ]
  },
  {
   "cell_type": "code",
   "execution_count": 26,
   "id": "7defa59c",
   "metadata": {
    "execution": {
     "iopub.execute_input": "2023-03-08T15:51:51.455942Z",
     "iopub.status.busy": "2023-03-08T15:51:51.455333Z",
     "iopub.status.idle": "2023-03-08T15:52:54.394302Z",
     "shell.execute_reply": "2023-03-08T15:52:54.392629Z"
    },
    "papermill": {
     "duration": 62.95806,
     "end_time": "2023-03-08T15:52:54.398926",
     "exception": false,
     "start_time": "2023-03-08T15:51:51.440866",
     "status": "completed"
    },
    "tags": []
   },
   "outputs": [],
   "source": [
    "if (IS_MODEL_CATBOOST):\n",
    "    clf.fit(x.iloc[max_train_index], y.iloc[max_train_index], verbose = False)\n",
    "    id_to_submit['user_id'].unique\n",
    "    id_to_submit['is_male'] = clf.predict_proba(id_to_submit.merge(usr_emb, how = 'left', on = ['user_id']))[:,1]"
   ]
  },
  {
   "cell_type": "code",
   "execution_count": 27,
   "id": "01cfffeb",
   "metadata": {
    "execution": {
     "iopub.execute_input": "2023-03-08T15:52:54.431103Z",
     "iopub.status.busy": "2023-03-08T15:52:54.430640Z",
     "iopub.status.idle": "2023-03-08T15:52:54.530499Z",
     "shell.execute_reply": "2023-03-08T15:52:54.529355Z"
    },
    "papermill": {
     "duration": 0.118423,
     "end_time": "2023-03-08T15:52:54.533213",
     "exception": false,
     "start_time": "2023-03-08T15:52:54.414790",
     "status": "completed"
    },
    "tags": []
   },
   "outputs": [
    {
     "name": "stdout",
     "output_type": "stream",
     "text": [
      "Current GINI score:  0.668\n"
     ]
    }
   ],
   "source": [
    "print(\"Current GINI score: \", float(f'{2 * m.roc_auc_score(y.iloc[max_test_index], clf.predict_proba(x.iloc[max_test_index])[:,1]) - 1:2.3f}'))"
   ]
  },
  {
   "cell_type": "markdown",
   "id": "d1ab83fc",
   "metadata": {
    "papermill": {
     "duration": 0.026689,
     "end_time": "2023-03-08T15:52:54.573855",
     "exception": false,
     "start_time": "2023-03-08T15:52:54.547166",
     "status": "completed"
    },
    "tags": []
   },
   "source": [
    "## Age prediction"
   ]
  },
  {
   "cell_type": "code",
   "execution_count": 28,
   "id": "63c064f5",
   "metadata": {
    "execution": {
     "iopub.execute_input": "2023-03-08T15:52:54.606880Z",
     "iopub.status.busy": "2023-03-08T15:52:54.606467Z",
     "iopub.status.idle": "2023-03-08T15:52:54.612045Z",
     "shell.execute_reply": "2023-03-08T15:52:54.610734Z"
    },
    "papermill": {
     "duration": 0.023959,
     "end_time": "2023-03-08T15:52:54.614633",
     "exception": false,
     "start_time": "2023-03-08T15:52:54.590674",
     "status": "completed"
    },
    "tags": []
   },
   "outputs": [],
   "source": [
    "def age_bucket(x):\n",
    "    return bisect.bisect_left([18,25,35,45,55,65], x)"
   ]
  },
  {
   "cell_type": "code",
   "execution_count": 29,
   "id": "804c3911",
   "metadata": {
    "execution": {
     "iopub.execute_input": "2023-03-08T15:52:54.644896Z",
     "iopub.status.busy": "2023-03-08T15:52:54.644455Z",
     "iopub.status.idle": "2023-03-08T15:52:56.267657Z",
     "shell.execute_reply": "2023-03-08T15:52:56.266803Z"
    },
    "papermill": {
     "duration": 1.641336,
     "end_time": "2023-03-08T15:52:56.270117",
     "exception": false,
     "start_time": "2023-03-08T15:52:54.628781",
     "status": "completed"
    },
    "tags": []
   },
   "outputs": [
    {
     "data": {
      "text/plain": [
       "<AxesSubplot:xlabel='age', ylabel='Count'>"
      ]
     },
     "execution_count": 29,
     "metadata": {},
     "output_type": "execute_result"
    },
    {
     "data": {
      "image/png": "[encoded data removed]",
      "text/plain": [
       "<Figure size 432x288 with 1 Axes>"
      ]
     },
     "metadata": {},
     "output_type": "display_data"
    }
   ],
   "source": [
    "df = usr_targets.merge(usr_emb, how = 'inner', on = ['user_id'])\n",
    "df = df[df['age'] != 'NA']\n",
    "df = df.dropna()\n",
    "df['age'] = df['age'].map(age_bucket)\n",
    "sns.histplot(df['age'], bins = 7)"
   ]
  },
  {
   "cell_type": "code",
   "execution_count": 30,
   "id": "80e68430",
   "metadata": {
    "execution": {
     "iopub.execute_input": "2023-03-08T15:52:56.303847Z",
     "iopub.status.busy": "2023-03-08T15:52:56.303056Z",
     "iopub.status.idle": "2023-03-08T15:52:56.310057Z",
     "shell.execute_reply": "2023-03-08T15:52:56.308469Z"
    },
    "papermill": {
     "duration": 0.027752,
     "end_time": "2023-03-08T15:52:56.312939",
     "exception": false,
     "start_time": "2023-03-08T15:52:56.285187",
     "status": "completed"
    },
    "tags": []
   },
   "outputs": [],
   "source": [
    "max_f1 = 0\n",
    "train_index = 0\n",
    "test_index = 0\n",
    "\n",
    "if (IS_MODEL_CATBOOST):\n",
    "    clf = CatBoostClassifier()"
   ]
  },
  {
   "cell_type": "code",
   "execution_count": 31,
   "id": "d6b3f849",
   "metadata": {
    "execution": {
     "iopub.execute_input": "2023-03-08T15:52:56.344765Z",
     "iopub.status.busy": "2023-03-08T15:52:56.344340Z",
     "iopub.status.idle": "2023-03-08T16:17:54.858906Z",
     "shell.execute_reply": "2023-03-08T16:17:54.857210Z"
    },
    "papermill": {
     "duration": 1498.547602,
     "end_time": "2023-03-08T16:17:54.875023",
     "exception": false,
     "start_time": "2023-03-08T15:52:56.327421",
     "status": "completed"
    },
    "tags": []
   },
   "outputs": [
    {
     "name": "stdout",
     "output_type": "stream",
     "text": [
      "Train indexes: [52860 52861 52862 52863 52864]; Test indexes: [0 1 2 3 4];\n",
      "Train length: 211436; Test length: 52860; Dataset length: 264296;\n",
      "Current F1 is 0.40670429631507554, current max is 0.40670429631507554\n",
      "\n",
      "Train indexes: [0 1 2 3 4]; Test indexes: [52860 52861 52862 52863 52864];\n",
      "Train length: 211437; Test length: 52859; Dataset length: 264296;\n",
      "Current F1 is 0.41039328911882883, current max is 0.41039328911882883\n",
      "\n",
      "Train indexes: [0 1 2 3 4]; Test indexes: [105719 105720 105721 105722 105723];\n",
      "Train length: 211437; Test length: 52859; Dataset length: 264296;\n",
      "Current F1 is 0.4089036704943221, current max is 0.41039328911882883\n",
      "\n",
      "Train indexes: [0 1 2 3 4]; Test indexes: [158578 158579 158580 158581 158582];\n",
      "Train length: 211437; Test length: 52859; Dataset length: 264296;\n",
      "Current F1 is 0.40279053423784833, current max is 0.41039328911882883\n",
      "\n",
      "Train indexes: [0 1 2 3 4]; Test indexes: [211437 211438 211439 211440 211441];\n",
      "Train length: 211437; Test length: 52859; Dataset length: 264296;\n",
      "Current F1 is 0.4059324624606883, current max is 0.41039328911882883\n",
      "\n"
     ]
    }
   ],
   "source": [
    "if (IS_MODEL_CATBOOST):\n",
    "    x = df.drop(['user_id', 'age', 'is_male'], axis = 1)\n",
    "    y = df['age']\n",
    "\n",
    "    kf = KFold(n_splits=KFOLD_SPLITS)\n",
    "\n",
    "    for train_index, test_index in kf.split(x):\n",
    "        print(\"Train indexes: \", train_index[:5],\n",
    "              \"; Test indexes: \", test_index[:5], \";\\n\",\n",
    "              \"Train length: \", len(train_index), \n",
    "              \"; Test length: \", len(test_index), \n",
    "              \"; Dataset length: \", len(x), ';', sep='', end='\\n')\n",
    "        \n",
    "        x_train, x_test = x.iloc[train_index], x.iloc[test_index]\n",
    "        y_train, y_test = y.iloc[train_index], y.iloc[test_index]\n",
    "        clf.fit(x_train, y_train, verbose = False)\n",
    "        \n",
    "        f1 = m.f1_score(y_test, clf.predict(x_test), average='weighted')\n",
    "        if f1 > max_f1:\n",
    "            max_f1 = f1\n",
    "            max_train_index = train_index\n",
    "            max_test_index = test_index\n",
    "        \n",
    "        print(f'Current F1 is {f1}, current max is {max_f1}', end=\"\\n\\n\")"
   ]
  },
  {
   "cell_type": "code",
   "execution_count": 32,
   "id": "1ee41e5a",
   "metadata": {
    "execution": {
     "iopub.execute_input": "2023-03-08T16:17:54.905831Z",
     "iopub.status.busy": "2023-03-08T16:17:54.905375Z",
     "iopub.status.idle": "2023-03-08T16:17:54.912209Z",
     "shell.execute_reply": "2023-03-08T16:17:54.910897Z"
    },
    "papermill": {
     "duration": 0.025757,
     "end_time": "2023-03-08T16:17:54.914790",
     "exception": false,
     "start_time": "2023-03-08T16:17:54.889033",
     "status": "completed"
    },
    "tags": []
   },
   "outputs": [
    {
     "name": "stdout",
     "output_type": "stream",
     "text": [
      "Max F1 is 0.41039328911882883\n",
      "Max train index is [0 1 2 3 4]\n",
      "Max test index is [52860 52861 52862 52863 52864]\n"
     ]
    }
   ],
   "source": [
    "print(f'Max F1 is {max_f1}')\n",
    "print(f'Max train index is {max_train_index[:5]}')\n",
    "print(f'Max test index is {max_test_index[:5]}')"
   ]
  },
  {
   "cell_type": "code",
   "execution_count": 33,
   "id": "fc661ff7",
   "metadata": {
    "execution": {
     "iopub.execute_input": "2023-03-08T16:17:54.945032Z",
     "iopub.status.busy": "2023-03-08T16:17:54.944633Z",
     "iopub.status.idle": "2023-03-08T16:22:53.857915Z",
     "shell.execute_reply": "2023-03-08T16:22:53.856944Z"
    },
    "papermill": {
     "duration": 298.931465,
     "end_time": "2023-03-08T16:22:53.860462",
     "exception": false,
     "start_time": "2023-03-08T16:17:54.928997",
     "status": "completed"
    },
    "tags": []
   },
   "outputs": [],
   "source": [
    "if (IS_MODEL_CATBOOST):\n",
    "    clf.fit(x.iloc[max_train_index], y.iloc[max_train_index], verbose = False)\n",
    "    id_to_submit['age'] = clf.predict(id_to_submit[['user_id']].merge(usr_emb, how = 'left', on = ['user_id']))"
   ]
  },
  {
   "cell_type": "code",
   "execution_count": 34,
   "id": "d1ec51e6",
   "metadata": {
    "execution": {
     "iopub.execute_input": "2023-03-08T16:22:53.891611Z",
     "iopub.status.busy": "2023-03-08T16:22:53.890506Z",
     "iopub.status.idle": "2023-03-08T16:22:54.174737Z",
     "shell.execute_reply": "2023-03-08T16:22:54.173911Z"
    },
    "papermill": {
     "duration": 0.302458,
     "end_time": "2023-03-08T16:22:54.177333",
     "exception": false,
     "start_time": "2023-03-08T16:22:53.874875",
     "status": "completed"
    },
    "tags": []
   },
   "outputs": [
    {
     "name": "stdout",
     "output_type": "stream",
     "text": [
      "              precision    recall  f1-score   support\n",
      "\n",
      "         <18       0.00      0.00      0.00       154\n",
      "       18-25       0.51      0.29      0.37      6301\n",
      "       25-34       0.47      0.62      0.54     17210\n",
      "       35-44       0.39      0.53      0.45     15316\n",
      "       45-54       0.37      0.18      0.25      8206\n",
      "       55-65       0.40      0.20      0.27      4589\n",
      "         65+       0.43      0.02      0.04      1083\n",
      "\n",
      "    accuracy                           0.43     52859\n",
      "   macro avg       0.37      0.26      0.27     52859\n",
      "weighted avg       0.43      0.43      0.41     52859\n",
      "\n"
     ]
    }
   ],
   "source": [
    "if (IS_MODEL_CATBOOST):\n",
    "    print(m.classification_report(\n",
    "          y.iloc[max_test_index], \n",
    "          clf.predict(x.iloc[max_test_index]), \n",
    "          target_names = ['<18', '18-25','25-34', '35-44', '45-54', '55-65', '65+']\n",
    "    ))"
   ]
  },
  {
   "cell_type": "markdown",
   "id": "f925ef3d",
   "metadata": {
    "papermill": {
     "duration": 0.014139,
     "end_time": "2023-03-08T16:22:54.205767",
     "exception": false,
     "start_time": "2023-03-08T16:22:54.191628",
     "status": "completed"
    },
    "tags": []
   },
   "source": [
    "## Submission"
   ]
  },
  {
   "cell_type": "code",
   "execution_count": 35,
   "id": "5a52f3c1",
   "metadata": {
    "execution": {
     "iopub.execute_input": "2023-03-08T16:22:54.236610Z",
     "iopub.status.busy": "2023-03-08T16:22:54.235721Z",
     "iopub.status.idle": "2023-03-08T16:22:54.643898Z",
     "shell.execute_reply": "2023-03-08T16:22:54.642683Z"
    },
    "papermill": {
     "duration": 0.427028,
     "end_time": "2023-03-08T16:22:54.646982",
     "exception": false,
     "start_time": "2023-03-08T16:22:54.219954",
     "status": "completed"
    },
    "tags": []
   },
   "outputs": [
    {
     "data": {
      "text/html": [
       "<div>\n",
       "<style scoped>\n",
       "    .dataframe tbody tr th:only-of-type {\n",
       "        vertical-align: middle;\n",
       "    }\n",
       "\n",
       "    .dataframe tbody tr th {\n",
       "        vertical-align: top;\n",
       "    }\n",
       "\n",
       "    .dataframe thead th {\n",
       "        text-align: right;\n",
       "    }\n",
       "</style>\n",
       "<table border=\"1\" class=\"dataframe\">\n",
       "  <thead>\n",
       "    <tr style=\"text-align: right;\">\n",
       "      <th></th>\n",
       "      <th>user_id</th>\n",
       "      <th>is_male</th>\n",
       "      <th>age</th>\n",
       "    </tr>\n",
       "  </thead>\n",
       "  <tbody>\n",
       "    <tr>\n",
       "      <th>0</th>\n",
       "      <td>221301</td>\n",
       "      <td>0.974958</td>\n",
       "      <td>2</td>\n",
       "    </tr>\n",
       "    <tr>\n",
       "      <th>1</th>\n",
       "      <td>31271</td>\n",
       "      <td>0.545094</td>\n",
       "      <td>3</td>\n",
       "    </tr>\n",
       "    <tr>\n",
       "      <th>2</th>\n",
       "      <td>211594</td>\n",
       "      <td>0.453999</td>\n",
       "      <td>2</td>\n",
       "    </tr>\n",
       "    <tr>\n",
       "      <th>3</th>\n",
       "      <td>253119</td>\n",
       "      <td>0.504952</td>\n",
       "      <td>2</td>\n",
       "    </tr>\n",
       "    <tr>\n",
       "      <th>4</th>\n",
       "      <td>192578</td>\n",
       "      <td>0.824633</td>\n",
       "      <td>2</td>\n",
       "    </tr>\n",
       "  </tbody>\n",
       "</table>\n",
       "</div>"
      ],
      "text/plain": [
       "   user_id   is_male  age\n",
       "0   221301  0.974958    2\n",
       "1    31271  0.545094    3\n",
       "2   211594  0.453999    2\n",
       "3   253119  0.504952    2\n",
       "4   192578  0.824633    2"
      ]
     },
     "metadata": {},
     "output_type": "display_data"
    },
    {
     "data": {
      "text/plain": [
       "0.526767    107\n",
       "0.506080     87\n",
       "0.516928     82\n",
       "0.519369     80\n",
       "0.528278     73\n",
       "           ... \n",
       "0.744175      1\n",
       "0.270970      1\n",
       "0.987314      1\n",
       "0.393778      1\n",
       "0.566173      1\n",
       "Name: is_male, Length: 141504, dtype: int64"
      ]
     },
     "metadata": {},
     "output_type": "display_data"
    },
    {
     "data": {
      "text/plain": [
       "2    61344\n",
       "3    56270\n",
       "4    11228\n",
       "1     9699\n",
       "5     6053\n",
       "6      130\n",
       "Name: age, dtype: int64"
      ]
     },
     "metadata": {},
     "output_type": "display_data"
    }
   ],
   "source": [
    "display(id_to_submit.head())\n",
    "display(id_to_submit.is_male.value_counts())\n",
    "display(id_to_submit.age.value_counts())\n",
    "id_to_submit.to_csv('submission.csv', index = False)"
   ]
  },
  {
   "cell_type": "code",
   "execution_count": 36,
   "id": "0becad40",
   "metadata": {
    "execution": {
     "iopub.execute_input": "2023-03-08T16:22:54.678210Z",
     "iopub.status.busy": "2023-03-08T16:22:54.677773Z",
     "iopub.status.idle": "2023-03-08T16:22:54.686403Z",
     "shell.execute_reply": "2023-03-08T16:22:54.685161Z"
    },
    "papermill": {
     "duration": 0.027219,
     "end_time": "2023-03-08T16:22:54.689030",
     "exception": false,
     "start_time": "2023-03-08T16:22:54.661811",
     "status": "completed"
    },
    "tags": []
   },
   "outputs": [
    {
     "name": "stdout",
     "output_type": "stream",
     "text": [
      "Score: 1.4887865782376577\n"
     ]
    }
   ],
   "source": [
    "print(f'Score: {max_gini + 2*max_f1}')"
   ]
  }
 ],
 "metadata": {
  "kernelspec": {
   "display_name": "Python 3",
   "language": "python",
   "name": "python3"
  },
  "language_info": {
   "codemirror_mode": {
    "name": "ipython",
    "version": 3
   },
   "file_extension": ".py",
   "mimetype": "text/x-python",
   "name": "python",
   "nbconvert_exporter": "python",
   "pygments_lexer": "ipython3",
   "version": "3.7.12"
  },
  "papermill": {
   "default_parameters": {},
   "duration": 3144.354415,
   "end_time": "2023-03-08T16:22:58.390724",
   "environment_variables": {},
   "exception": null,
   "input_path": "__notebook__.ipynb",
   "output_path": "__notebook__.ipynb",
   "parameters": {},
   "start_time": "2023-03-08T15:30:34.036309",
   "version": "2.3.4"
  },
  "widgets": {
   "application/vnd.jupyter.widget-state+json": {
    "state": {
     "378383aeb20f4822820d0d4fcdf20037": {
      "model_module": "@jupyter-widgets/base",
      "model_module_version": "1.2.0",
      "model_name": "LayoutModel",
      "state": {
       "_model_module": "@jupyter-widgets/base",
       "_model_module_version": "1.2.0",
       "_model_name": "LayoutModel",
       "_view_count": null,
       "_view_module": "@jupyter-widgets/base",
       "_view_module_version": "1.2.0",
       "_view_name": "LayoutView",
       "align_content": null,
       "align_items": null,
       "align_self": null,
       "border": null,
       "bottom": null,
       "display": null,
       "flex": null,
       "flex_flow": null,
       "grid_area": null,
       "grid_auto_columns": null,
       "grid_auto_flow": null,
       "grid_auto_rows": null,
       "grid_column": null,
       "grid_gap": null,
       "grid_row": null,
       "grid_template_areas": null,
       "grid_template_columns": null,
       "grid_template_rows": null,
       "height": null,
       "justify_content": null,
       "justify_items": null,
       "left": null,
       "margin": null,
       "max_height": null,
       "max_width": null,
       "min_height": null,
       "min_width": null,
       "object_fit": null,
       "object_position": null,
       "order": null,
       "overflow": null,
       "overflow_x": null,
       "overflow_y": null,
       "padding": null,
       "right": null,
       "top": null,
       "visibility": null,
       "width": null
      }
     },
     "4abbf5bfdcb446b8834ffa5ceedb29dc": {
      "model_module": "@jupyter-widgets/controls",
      "model_module_version": "1.5.0",
      "model_name": "FloatProgressModel",
      "state": {
       "_dom_classes": [],
       "_model_module": "@jupyter-widgets/controls",
       "_model_module_version": "1.5.0",
       "_model_name": "FloatProgressModel",
       "_view_count": null,
       "_view_module": "@jupyter-widgets/controls",
       "_view_module_version": "1.5.0",
       "_view_name": "ProgressView",
       "bar_style": "success",
       "description": "",
       "description_tooltip": null,
       "layout": "IPY_MODEL_378383aeb20f4822820d0d4fcdf20037",
       "max": 50.0,
       "min": 0.0,
       "orientation": "horizontal",
       "style": "IPY_MODEL_5af21030c1604df9a35e9140af6000e2",
       "value": 50.0
      }
     },
     "514891a192da4c0395ce5773e31a8904": {
      "model_module": "@jupyter-widgets/base",
      "model_module_version": "1.2.0",
      "model_name": "LayoutModel",
      "state": {
       "_model_module": "@jupyter-widgets/base",
       "_model_module_version": "1.2.0",
       "_model_name": "LayoutModel",
       "_view_count": null,
       "_view_module": "@jupyter-widgets/base",
       "_view_module_version": "1.2.0",
       "_view_name": "LayoutView",
       "align_content": null,
       "align_items": null,
       "align_self": null,
       "border": null,
       "bottom": null,
       "display": null,
       "flex": null,
       "flex_flow": null,
       "grid_area": null,
       "grid_auto_columns": null,
       "grid_auto_flow": null,
       "grid_auto_rows": null,
       "grid_column": null,
       "grid_gap": null,
       "grid_row": null,
       "grid_template_areas": null,
       "grid_template_columns": null,
       "grid_template_rows": null,
       "height": null,
       "justify_content": null,
       "justify_items": null,
       "left": null,
       "margin": null,
       "max_height": null,
       "max_width": null,
       "min_height": null,
       "min_width": null,
       "object_fit": null,
       "object_position": null,
       "order": null,
       "overflow": null,
       "overflow_x": null,
       "overflow_y": null,
       "padding": null,
       "right": null,
       "top": null,
       "visibility": null,
       "width": null
      }
     },
     "5af21030c1604df9a35e9140af6000e2": {
      "model_module": "@jupyter-widgets/controls",
      "model_module_version": "1.5.0",
      "model_name": "ProgressStyleModel",
      "state": {
       "_model_module": "@jupyter-widgets/controls",
       "_model_module_version": "1.5.0",
       "_model_name": "ProgressStyleModel",
       "_view_count": null,
       "_view_module": "@jupyter-widgets/base",
       "_view_module_version": "1.2.0",
       "_view_name": "StyleView",
       "bar_color": null,
       "description_width": ""
      }
     },
     "5cbd3ad396994f2ca13e202a66ba1135": {
      "model_module": "@jupyter-widgets/controls",
      "model_module_version": "1.5.0",
      "model_name": "DescriptionStyleModel",
      "state": {
       "_model_module": "@jupyter-widgets/controls",
       "_model_module_version": "1.5.0",
       "_model_name": "DescriptionStyleModel",
       "_view_count": null,
       "_view_module": "@jupyter-widgets/base",
       "_view_module_version": "1.2.0",
       "_view_name": "StyleView",
       "description_width": ""
      }
     },
     "8971a2bbd82341b79cc73600a622b7bf": {
      "model_module": "@jupyter-widgets/controls",
      "model_module_version": "1.5.0",
      "model_name": "HTMLModel",
      "state": {
       "_dom_classes": [],
       "_model_module": "@jupyter-widgets/controls",
       "_model_module_version": "1.5.0",
       "_model_name": "HTMLModel",
       "_view_count": null,
       "_view_module": "@jupyter-widgets/controls",
       "_view_module_version": "1.5.0",
       "_view_name": "HTMLView",
       "description": "",
       "description_tooltip": null,
       "layout": "IPY_MODEL_514891a192da4c0395ce5773e31a8904",
       "placeholder": "​",
       "style": "IPY_MODEL_d9d980cb31874bcea4cbee9bd690f6a6",
       "value": "100%"
      }
     },
     "aacc7fe452324aa19dee79474bee6b00": {
      "model_module": "@jupyter-widgets/controls",
      "model_module_version": "1.5.0",
      "model_name": "HBoxModel",
      "state": {
       "_dom_classes": [],
       "_model_module": "@jupyter-widgets/controls",
       "_model_module_version": "1.5.0",
       "_model_name": "HBoxModel",
       "_view_count": null,
       "_view_module": "@jupyter-widgets/controls",
       "_view_module_version": "1.5.0",
       "_view_name": "HBoxView",
       "box_style": "",
       "children": [
        "IPY_MODEL_8971a2bbd82341b79cc73600a622b7bf",
        "IPY_MODEL_4abbf5bfdcb446b8834ffa5ceedb29dc",
        "IPY_MODEL_aae27a2b3feb41e88ea0ce3ee39edd82"
       ],
       "layout": "IPY_MODEL_e993fe70900f4c6a95ed09636b98fcb2"
      }
     },
     "aae27a2b3feb41e88ea0ce3ee39edd82": {
      "model_module": "@jupyter-widgets/controls",
      "model_module_version": "1.5.0",
      "model_name": "HTMLModel",
      "state": {
       "_dom_classes": [],
       "_model_module": "@jupyter-widgets/controls",
       "_model_module_version": "1.5.0",
       "_model_name": "HTMLModel",
       "_view_count": null,
       "_view_module": "@jupyter-widgets/controls",
       "_view_module_version": "1.5.0",
       "_view_name": "HTMLView",
       "description": "",
       "description_tooltip": null,
       "layout": "IPY_MODEL_f12c241e5b8d4f00811bb1cd5109eb6e",
       "placeholder": "​",
       "style": "IPY_MODEL_5cbd3ad396994f2ca13e202a66ba1135",
       "value": " 50/50 [12:47&lt;00:00, 15.02s/it, loss=0.000298]"
      }
     },
     "d9d980cb31874bcea4cbee9bd690f6a6": {
      "model_module": "@jupyter-widgets/controls",
      "model_module_version": "1.5.0",
      "model_name": "DescriptionStyleModel",
      "state": {
       "_model_module": "@jupyter-widgets/controls",
       "_model_module_version": "1.5.0",
       "_model_name": "DescriptionStyleModel",
       "_view_count": null,
       "_view_module": "@jupyter-widgets/base",
       "_view_module_version": "1.2.0",
       "_view_name": "StyleView",
       "description_width": ""
      }
     },
     "e993fe70900f4c6a95ed09636b98fcb2": {
      "model_module": "@jupyter-widgets/base",
      "model_module_version": "1.2.0",
      "model_name": "LayoutModel",
      "state": {
       "_model_module": "@jupyter-widgets/base",
       "_model_module_version": "1.2.0",
       "_model_name": "LayoutModel",
       "_view_count": null,
       "_view_module": "@jupyter-widgets/base",
       "_view_module_version": "1.2.0",
       "_view_name": "LayoutView",
       "align_content": null,
       "align_items": null,
       "align_self": null,
       "border": null,
       "bottom": null,
       "display": null,
       "flex": null,
       "flex_flow": null,
       "grid_area": null,
       "grid_auto_columns": null,
       "grid_auto_flow": null,
       "grid_auto_rows": null,
       "grid_column": null,
       "grid_gap": null,
       "grid_row": null,
       "grid_template_areas": null,
       "grid_template_columns": null,
       "grid_template_rows": null,
       "height": null,
       "justify_content": null,
       "justify_items": null,
       "left": null,
       "margin": null,
       "max_height": null,
       "max_width": null,
       "min_height": null,
       "min_width": null,
       "object_fit": null,
       "object_position": null,
       "order": null,
       "overflow": null,
       "overflow_x": null,
       "overflow_y": null,
       "padding": null,
       "right": null,
       "top": null,
       "visibility": null,
       "width": null
      }
     },
     "f12c241e5b8d4f00811bb1cd5109eb6e": {
      "model_module": "@jupyter-widgets/base",
      "model_module_version": "1.2.0",
      "model_name": "LayoutModel",
      "state": {
       "_model_module": "@jupyter-widgets/base",
       "_model_module_version": "1.2.0",
       "_model_name": "LayoutModel",
       "_view_count": null,
       "_view_module": "@jupyter-widgets/base",
       "_view_module_version": "1.2.0",
       "_view_name": "LayoutView",
       "align_content": null,
       "align_items": null,
       "align_self": null,
       "border": null,
       "bottom": null,
       "display": null,
       "flex": null,
       "flex_flow": null,
       "grid_area": null,
       "grid_auto_columns": null,
       "grid_auto_flow": null,
       "grid_auto_rows": null,
       "grid_column": null,
       "grid_gap": null,
       "grid_row": null,
       "grid_template_areas": null,
       "grid_template_columns": null,
       "grid_template_rows": null,
       "height": null,
       "justify_content": null,
       "justify_items": null,
       "left": null,
       "margin": null,
       "max_height": null,
       "max_width": null,
       "min_height": null,
       "min_width": null,
       "object_fit": null,
       "object_position": null,
       "order": null,
       "overflow": null,
       "overflow_x": null,
       "overflow_y": null,
       "padding": null,
       "right": null,
       "top": null,
       "visibility": null,
       "width": null
      }
     }
    },
    "version_major": 2,
    "version_minor": 0
   }
  }
 },
 "nbformat": 4,
 "nbformat_minor": 5
}
