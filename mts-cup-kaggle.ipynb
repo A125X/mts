{
 "cells": [
  {
   "cell_type": "markdown",
   "id": "838e4b6b",
   "metadata": {
    "papermill": {
     "duration": 0.014394,
     "end_time": "2023-03-07T16:19:47.953323",
     "exception": false,
     "start_time": "2023-03-07T16:19:47.938929",
     "status": "completed"
    },
    "tags": []
   },
   "source": [
    "## Imports and constants"
   ]
  },
  {
   "cell_type": "markdown",
   "id": "1743608e",
   "metadata": {
    "papermill": {
     "duration": 0.009734,
     "end_time": "2023-03-07T16:19:47.973311",
     "exception": false,
     "start_time": "2023-03-07T16:19:47.963577",
     "status": "completed"
    },
    "tags": []
   },
   "source": [
    "*ideas: k-fold, transformers, features generation, polars*"
   ]
  },
  {
   "cell_type": "code",
   "execution_count": 1,
   "id": "cee53d6b",
   "metadata": {
    "execution": {
     "iopub.execute_input": "2023-03-07T16:19:47.997519Z",
     "iopub.status.busy": "2023-03-07T16:19:47.996687Z",
     "iopub.status.idle": "2023-03-07T16:19:48.014241Z",
     "shell.execute_reply": "2023-03-07T16:19:48.013006Z"
    },
    "papermill": {
     "duration": 0.033056,
     "end_time": "2023-03-07T16:19:48.017565",
     "exception": false,
     "start_time": "2023-03-07T16:19:47.984509",
     "status": "completed"
    },
    "tags": []
   },
   "outputs": [],
   "source": [
    "import sys\n",
    "import os\n",
    "import warnings\n",
    "os.environ['OPENBLAS_NUM_THREADS'] = '1'\n",
    "warnings.filterwarnings('ignore')"
   ]
  },
  {
   "cell_type": "code",
   "execution_count": 2,
   "id": "67386a5f",
   "metadata": {
    "execution": {
     "iopub.execute_input": "2023-03-07T16:19:48.039359Z",
     "iopub.status.busy": "2023-03-07T16:19:48.038918Z",
     "iopub.status.idle": "2023-03-07T16:20:23.806892Z",
     "shell.execute_reply": "2023-03-07T16:20:23.805183Z"
    },
    "papermill": {
     "duration": 35.782103,
     "end_time": "2023-03-07T16:20:23.810026",
     "exception": false,
     "start_time": "2023-03-07T16:19:48.027923",
     "status": "completed"
    },
    "tags": []
   },
   "outputs": [
    {
     "name": "stdout",
     "output_type": "stream",
     "text": [
      "\u001b[33mWARNING: Running pip as the 'root' user can result in broken permissions and conflicting behaviour with the system package manager. It is recommended to use a virtual environment instead: https://pip.pypa.io/warnings/venv\u001b[0m\u001b[33m\r\n",
      "\u001b[0m\u001b[33mWARNING: Running pip as the 'root' user can result in broken permissions and conflicting behaviour with the system package manager. It is recommended to use a virtual environment instead: https://pip.pypa.io/warnings/venv\u001b[0m\u001b[33m\r\n",
      "\u001b[0m"
     ]
    }
   ],
   "source": [
    "import pandas as pd\n",
    "import numpy as np\n",
    "import time\n",
    "import pyarrow.parquet as pq\n",
    "import scipy\n",
    "import implicit\n",
    "import bisect\n",
    "import sklearn.metrics as m\n",
    "from catboost import CatBoostClassifier, CatBoostRegressor, Pool\n",
    "from sklearn.model_selection import train_test_split\n",
    "from sklearn.model_selection import KFold\n",
    "from sklearn.calibration import calibration_curve, CalibratedClassifierCV\n",
    "import tensorflow as tf\n",
    "import seaborn as sns\n",
    "import matplotlib.pyplot as plt\n",
    "import plotly.express as px\n",
    "import pyarrow as pa\n",
    "\n",
    "%matplotlib inline\n",
    "sns.set_style('darkgrid')\n",
    "\n",
    "!pip install feather-format >> none -q\n",
    "!pip install faiss-cpu --no-cache -q"
   ]
  },
  {
   "cell_type": "code",
   "execution_count": 3,
   "id": "6fd2e03d",
   "metadata": {
    "execution": {
     "iopub.execute_input": "2023-03-07T16:20:23.832337Z",
     "iopub.status.busy": "2023-03-07T16:20:23.831865Z",
     "iopub.status.idle": "2023-03-07T16:20:23.838599Z",
     "shell.execute_reply": "2023-03-07T16:20:23.837433Z"
    },
    "papermill": {
     "duration": 0.021001,
     "end_time": "2023-03-07T16:20:23.841022",
     "exception": false,
     "start_time": "2023-03-07T16:20:23.820021",
     "status": "completed"
    },
    "tags": []
   },
   "outputs": [],
   "source": [
    "SPLIT_SEED = 42\n",
    "FAISS_ITERATIONS = 5\n",
    "KFOLD_SPLITS = 3\n",
    "EMBEDDING = True\n",
    "\n",
    "if (EMBEDDING):\n",
    "    LOCAL_DATA_PATH = '/kaggle/input/mts-ml-cookies'\n",
    "    DATA_FILE = 'dataset_full.feather'\n",
    "    TARGET_FILE = 'target_train.feather'\n",
    "    SUBMISSION_FILE = 'submission.feather'"
   ]
  },
  {
   "cell_type": "markdown",
   "id": "7978f501",
   "metadata": {
    "papermill": {
     "duration": 0.009603,
     "end_time": "2023-03-07T16:20:23.860426",
     "exception": false,
     "start_time": "2023-03-07T16:20:23.850823",
     "status": "completed"
    },
    "tags": []
   },
   "source": [
    "## Showing data"
   ]
  },
  {
   "cell_type": "code",
   "execution_count": 4,
   "id": "4e5d09ee",
   "metadata": {
    "execution": {
     "iopub.execute_input": "2023-03-07T16:20:23.882640Z",
     "iopub.status.busy": "2023-03-07T16:20:23.882244Z",
     "iopub.status.idle": "2023-03-07T16:20:23.964238Z",
     "shell.execute_reply": "2023-03-07T16:20:23.963165Z"
    },
    "papermill": {
     "duration": 0.096381,
     "end_time": "2023-03-07T16:20:23.967089",
     "exception": false,
     "start_time": "2023-03-07T16:20:23.870708",
     "status": "completed"
    },
    "tags": []
   },
   "outputs": [],
   "source": [
    "id_to_submit = pd.read_feather(f'{LOCAL_DATA_PATH}/{SUBMISSION_FILE}')"
   ]
  },
  {
   "cell_type": "code",
   "execution_count": 5,
   "id": "f1662d46",
   "metadata": {
    "execution": {
     "iopub.execute_input": "2023-03-07T16:20:23.990870Z",
     "iopub.status.busy": "2023-03-07T16:20:23.989978Z",
     "iopub.status.idle": "2023-03-07T16:20:24.015471Z",
     "shell.execute_reply": "2023-03-07T16:20:24.014205Z"
    },
    "papermill": {
     "duration": 0.04053,
     "end_time": "2023-03-07T16:20:24.018196",
     "exception": false,
     "start_time": "2023-03-07T16:20:23.977666",
     "status": "completed"
    },
    "tags": []
   },
   "outputs": [
    {
     "data": {
      "text/html": [
       "<div>\n",
       "<style scoped>\n",
       "    .dataframe tbody tr th:only-of-type {\n",
       "        vertical-align: middle;\n",
       "    }\n",
       "\n",
       "    .dataframe tbody tr th {\n",
       "        vertical-align: top;\n",
       "    }\n",
       "\n",
       "    .dataframe thead th {\n",
       "        text-align: right;\n",
       "    }\n",
       "</style>\n",
       "<table border=\"1\" class=\"dataframe\">\n",
       "  <thead>\n",
       "    <tr style=\"text-align: right;\">\n",
       "      <th></th>\n",
       "      <th>user_id</th>\n",
       "    </tr>\n",
       "  </thead>\n",
       "  <tbody>\n",
       "    <tr>\n",
       "      <th>0</th>\n",
       "      <td>221301</td>\n",
       "    </tr>\n",
       "    <tr>\n",
       "      <th>1</th>\n",
       "      <td>31271</td>\n",
       "    </tr>\n",
       "    <tr>\n",
       "      <th>2</th>\n",
       "      <td>211594</td>\n",
       "    </tr>\n",
       "  </tbody>\n",
       "</table>\n",
       "</div>"
      ],
      "text/plain": [
       "   user_id\n",
       "0   221301\n",
       "1    31271\n",
       "2   211594"
      ]
     },
     "metadata": {},
     "output_type": "display_data"
    },
    {
     "data": {
      "text/plain": [
       "<bound method DataFrame.info of         user_id\n",
       "0        221301\n",
       "1         31271\n",
       "2        211594\n",
       "3        253119\n",
       "4        192578\n",
       "...         ...\n",
       "144719   415284\n",
       "144720   415285\n",
       "144721   415286\n",
       "144722   415306\n",
       "144723   415315\n",
       "\n",
       "[144724 rows x 1 columns]>"
      ]
     },
     "execution_count": 5,
     "metadata": {},
     "output_type": "execute_result"
    }
   ],
   "source": [
    "display(id_to_submit.head(3))\n",
    "id_to_submit.info"
   ]
  },
  {
   "cell_type": "code",
   "execution_count": 6,
   "id": "ae5f2c75",
   "metadata": {
    "execution": {
     "iopub.execute_input": "2023-03-07T16:20:24.041244Z",
     "iopub.status.busy": "2023-03-07T16:20:24.040816Z",
     "iopub.status.idle": "2023-03-07T16:21:07.853650Z",
     "shell.execute_reply": "2023-03-07T16:21:07.852309Z"
    },
    "papermill": {
     "duration": 43.828492,
     "end_time": "2023-03-07T16:21:07.856912",
     "exception": false,
     "start_time": "2023-03-07T16:20:24.028420",
     "status": "completed"
    },
    "tags": []
   },
   "outputs": [],
   "source": [
    "data = pd.read_feather(f'{LOCAL_DATA_PATH}/{DATA_FILE}')"
   ]
  },
  {
   "cell_type": "code",
   "execution_count": 7,
   "id": "924b36ca",
   "metadata": {
    "execution": {
     "iopub.execute_input": "2023-03-07T16:21:07.880277Z",
     "iopub.status.busy": "2023-03-07T16:21:07.879085Z",
     "iopub.status.idle": "2023-03-07T16:21:53.619742Z",
     "shell.execute_reply": "2023-03-07T16:21:53.617611Z"
    },
    "papermill": {
     "duration": 45.769756,
     "end_time": "2023-03-07T16:21:53.637244",
     "exception": false,
     "start_time": "2023-03-07T16:21:07.867488",
     "status": "completed"
    },
    "tags": []
   },
   "outputs": [
    {
     "data": {
      "text/html": [
       "<div>\n",
       "<style scoped>\n",
       "    .dataframe tbody tr th:only-of-type {\n",
       "        vertical-align: middle;\n",
       "    }\n",
       "\n",
       "    .dataframe tbody tr th {\n",
       "        vertical-align: top;\n",
       "    }\n",
       "\n",
       "    .dataframe thead th {\n",
       "        text-align: right;\n",
       "    }\n",
       "</style>\n",
       "<table border=\"1\" class=\"dataframe\">\n",
       "  <thead>\n",
       "    <tr style=\"text-align: right;\">\n",
       "      <th></th>\n",
       "      <th>region_name</th>\n",
       "      <th>city_name</th>\n",
       "      <th>cpe_manufacturer_name</th>\n",
       "      <th>cpe_model_name</th>\n",
       "      <th>url_host</th>\n",
       "      <th>cpe_type_cd</th>\n",
       "      <th>cpe_model_os_type</th>\n",
       "      <th>price</th>\n",
       "      <th>date</th>\n",
       "      <th>part_of_day</th>\n",
       "      <th>request_cnt</th>\n",
       "      <th>user_id</th>\n",
       "    </tr>\n",
       "  </thead>\n",
       "  <tbody>\n",
       "    <tr>\n",
       "      <th>0</th>\n",
       "      <td>Краснодарский край</td>\n",
       "      <td>Краснодар</td>\n",
       "      <td>Apple</td>\n",
       "      <td>iPhone 7</td>\n",
       "      <td>ad.adriver.ru</td>\n",
       "      <td>smartphone</td>\n",
       "      <td>iOS</td>\n",
       "      <td>20368.0</td>\n",
       "      <td>2022-06-15</td>\n",
       "      <td>morning</td>\n",
       "      <td>1</td>\n",
       "      <td>45098</td>\n",
       "    </tr>\n",
       "    <tr>\n",
       "      <th>1</th>\n",
       "      <td>Краснодарский край</td>\n",
       "      <td>Краснодар</td>\n",
       "      <td>Apple</td>\n",
       "      <td>iPhone 7</td>\n",
       "      <td>apple.com</td>\n",
       "      <td>smartphone</td>\n",
       "      <td>iOS</td>\n",
       "      <td>20368.0</td>\n",
       "      <td>2022-06-19</td>\n",
       "      <td>morning</td>\n",
       "      <td>1</td>\n",
       "      <td>45098</td>\n",
       "    </tr>\n",
       "    <tr>\n",
       "      <th>2</th>\n",
       "      <td>Краснодарский край</td>\n",
       "      <td>Краснодар</td>\n",
       "      <td>Apple</td>\n",
       "      <td>iPhone 7</td>\n",
       "      <td>avatars.mds.yandex.net</td>\n",
       "      <td>smartphone</td>\n",
       "      <td>iOS</td>\n",
       "      <td>20368.0</td>\n",
       "      <td>2022-06-12</td>\n",
       "      <td>day</td>\n",
       "      <td>1</td>\n",
       "      <td>45098</td>\n",
       "    </tr>\n",
       "    <tr>\n",
       "      <th>3</th>\n",
       "      <td>Краснодарский край</td>\n",
       "      <td>Краснодар</td>\n",
       "      <td>Apple</td>\n",
       "      <td>iPhone 7</td>\n",
       "      <td>googleads.g.doubleclick.net</td>\n",
       "      <td>smartphone</td>\n",
       "      <td>iOS</td>\n",
       "      <td>20368.0</td>\n",
       "      <td>2022-05-16</td>\n",
       "      <td>day</td>\n",
       "      <td>1</td>\n",
       "      <td>45098</td>\n",
       "    </tr>\n",
       "    <tr>\n",
       "      <th>4</th>\n",
       "      <td>Краснодарский край</td>\n",
       "      <td>Краснодар</td>\n",
       "      <td>Apple</td>\n",
       "      <td>iPhone 7</td>\n",
       "      <td>googleads.g.doubleclick.net</td>\n",
       "      <td>smartphone</td>\n",
       "      <td>iOS</td>\n",
       "      <td>20368.0</td>\n",
       "      <td>2022-05-30</td>\n",
       "      <td>day</td>\n",
       "      <td>1</td>\n",
       "      <td>45098</td>\n",
       "    </tr>\n",
       "  </tbody>\n",
       "</table>\n",
       "</div>"
      ],
      "text/plain": [
       "          region_name  city_name cpe_manufacturer_name cpe_model_name  \\\n",
       "0  Краснодарский край  Краснодар                 Apple       iPhone 7   \n",
       "1  Краснодарский край  Краснодар                 Apple       iPhone 7   \n",
       "2  Краснодарский край  Краснодар                 Apple       iPhone 7   \n",
       "3  Краснодарский край  Краснодар                 Apple       iPhone 7   \n",
       "4  Краснодарский край  Краснодар                 Apple       iPhone 7   \n",
       "\n",
       "                      url_host cpe_type_cd cpe_model_os_type    price  \\\n",
       "0                ad.adriver.ru  smartphone               iOS  20368.0   \n",
       "1                    apple.com  smartphone               iOS  20368.0   \n",
       "2       avatars.mds.yandex.net  smartphone               iOS  20368.0   \n",
       "3  googleads.g.doubleclick.net  smartphone               iOS  20368.0   \n",
       "4  googleads.g.doubleclick.net  smartphone               iOS  20368.0   \n",
       "\n",
       "        date part_of_day  request_cnt  user_id  \n",
       "0 2022-06-15     morning            1    45098  \n",
       "1 2022-06-19     morning            1    45098  \n",
       "2 2022-06-12         day            1    45098  \n",
       "3 2022-05-16         day            1    45098  \n",
       "4 2022-05-30         day            1    45098  "
      ]
     },
     "metadata": {},
     "output_type": "display_data"
    },
    {
     "data": {
      "text/html": [
       "<div>\n",
       "<style scoped>\n",
       "    .dataframe tbody tr th:only-of-type {\n",
       "        vertical-align: middle;\n",
       "    }\n",
       "\n",
       "    .dataframe tbody tr th {\n",
       "        vertical-align: top;\n",
       "    }\n",
       "\n",
       "    .dataframe thead th {\n",
       "        text-align: right;\n",
       "    }\n",
       "</style>\n",
       "<table border=\"1\" class=\"dataframe\">\n",
       "  <thead>\n",
       "    <tr style=\"text-align: right;\">\n",
       "      <th></th>\n",
       "      <th>price</th>\n",
       "      <th>request_cnt</th>\n",
       "      <th>user_id</th>\n",
       "    </tr>\n",
       "  </thead>\n",
       "  <tbody>\n",
       "    <tr>\n",
       "      <th>count</th>\n",
       "      <td>3.163100e+08</td>\n",
       "      <td>3.228994e+08</td>\n",
       "      <td>3.228994e+08</td>\n",
       "    </tr>\n",
       "    <tr>\n",
       "      <th>mean</th>\n",
       "      <td>3.308510e+04</td>\n",
       "      <td>1.724197e+00</td>\n",
       "      <td>2.070983e+05</td>\n",
       "    </tr>\n",
       "    <tr>\n",
       "      <th>std</th>\n",
       "      <td>2.583592e+04</td>\n",
       "      <td>1.213835e+00</td>\n",
       "      <td>1.200584e+05</td>\n",
       "    </tr>\n",
       "    <tr>\n",
       "      <th>min</th>\n",
       "      <td>9.000000e+01</td>\n",
       "      <td>1.000000e+00</td>\n",
       "      <td>0.000000e+00</td>\n",
       "    </tr>\n",
       "    <tr>\n",
       "      <th>25%</th>\n",
       "      <td>1.397400e+04</td>\n",
       "      <td>1.000000e+00</td>\n",
       "      <td>1.027880e+05</td>\n",
       "    </tr>\n",
       "    <tr>\n",
       "      <th>50%</th>\n",
       "      <td>2.199000e+04</td>\n",
       "      <td>1.000000e+00</td>\n",
       "      <td>2.068870e+05</td>\n",
       "    </tr>\n",
       "    <tr>\n",
       "      <th>75%</th>\n",
       "      <td>4.999000e+04</td>\n",
       "      <td>2.000000e+00</td>\n",
       "      <td>3.113950e+05</td>\n",
       "    </tr>\n",
       "    <tr>\n",
       "      <th>max</th>\n",
       "      <td>1.956570e+05</td>\n",
       "      <td>1.600000e+01</td>\n",
       "      <td>4.153160e+05</td>\n",
       "    </tr>\n",
       "  </tbody>\n",
       "</table>\n",
       "</div>"
      ],
      "text/plain": [
       "              price   request_cnt       user_id\n",
       "count  3.163100e+08  3.228994e+08  3.228994e+08\n",
       "mean   3.308510e+04  1.724197e+00  2.070983e+05\n",
       "std    2.583592e+04  1.213835e+00  1.200584e+05\n",
       "min    9.000000e+01  1.000000e+00  0.000000e+00\n",
       "25%    1.397400e+04  1.000000e+00  1.027880e+05\n",
       "50%    2.199000e+04  1.000000e+00  2.068870e+05\n",
       "75%    4.999000e+04  2.000000e+00  3.113950e+05\n",
       "max    1.956570e+05  1.600000e+01  4.153160e+05"
      ]
     },
     "execution_count": 7,
     "metadata": {},
     "output_type": "execute_result"
    }
   ],
   "source": [
    "display(data.head())\n",
    "data.describe()"
   ]
  },
  {
   "cell_type": "code",
   "execution_count": 8,
   "id": "59bde06a",
   "metadata": {
    "execution": {
     "iopub.execute_input": "2023-03-07T16:21:53.662404Z",
     "iopub.status.busy": "2023-03-07T16:21:53.661319Z",
     "iopub.status.idle": "2023-03-07T16:22:00.132752Z",
     "shell.execute_reply": "2023-03-07T16:22:00.131344Z"
    },
    "papermill": {
     "duration": 6.48723,
     "end_time": "2023-03-07T16:22:00.135258",
     "exception": false,
     "start_time": "2023-03-07T16:21:53.648028",
     "status": "completed"
    },
    "tags": []
   },
   "outputs": [
    {
     "data": {
      "text/html": [
       "<div>\n",
       "<style scoped>\n",
       "    .dataframe tbody tr th:only-of-type {\n",
       "        vertical-align: middle;\n",
       "    }\n",
       "\n",
       "    .dataframe tbody tr th {\n",
       "        vertical-align: top;\n",
       "    }\n",
       "\n",
       "    .dataframe thead tr th {\n",
       "        text-align: left;\n",
       "    }\n",
       "</style>\n",
       "<table border=\"1\" class=\"dataframe\">\n",
       "  <thead>\n",
       "    <tr>\n",
       "      <th></th>\n",
       "      <th>field</th>\n",
       "      <th>type</th>\n",
       "    </tr>\n",
       "  </thead>\n",
       "  <tbody>\n",
       "    <tr>\n",
       "      <th>0</th>\n",
       "      <td>region_name</td>\n",
       "      <td>dictionary&lt;values=string, indices=int8, ordere...</td>\n",
       "    </tr>\n",
       "    <tr>\n",
       "      <th>1</th>\n",
       "      <td>city_name</td>\n",
       "      <td>dictionary&lt;values=string, indices=int16, order...</td>\n",
       "    </tr>\n",
       "    <tr>\n",
       "      <th>2</th>\n",
       "      <td>cpe_manufacturer_name</td>\n",
       "      <td>dictionary&lt;values=string, indices=int8, ordere...</td>\n",
       "    </tr>\n",
       "    <tr>\n",
       "      <th>3</th>\n",
       "      <td>cpe_model_name</td>\n",
       "      <td>dictionary&lt;values=string, indices=int16, order...</td>\n",
       "    </tr>\n",
       "    <tr>\n",
       "      <th>4</th>\n",
       "      <td>url_host</td>\n",
       "      <td>dictionary&lt;values=string, indices=int32, order...</td>\n",
       "    </tr>\n",
       "    <tr>\n",
       "      <th>5</th>\n",
       "      <td>cpe_type_cd</td>\n",
       "      <td>dictionary&lt;values=string, indices=int8, ordere...</td>\n",
       "    </tr>\n",
       "    <tr>\n",
       "      <th>6</th>\n",
       "      <td>cpe_model_os_type</td>\n",
       "      <td>dictionary&lt;values=string, indices=int8, ordere...</td>\n",
       "    </tr>\n",
       "    <tr>\n",
       "      <th>7</th>\n",
       "      <td>price</td>\n",
       "      <td>float</td>\n",
       "    </tr>\n",
       "    <tr>\n",
       "      <th>8</th>\n",
       "      <td>date</td>\n",
       "      <td>timestamp[ns]</td>\n",
       "    </tr>\n",
       "    <tr>\n",
       "      <th>9</th>\n",
       "      <td>part_of_day</td>\n",
       "      <td>dictionary&lt;values=string, indices=int8, ordere...</td>\n",
       "    </tr>\n",
       "    <tr>\n",
       "      <th>10</th>\n",
       "      <td>request_cnt</td>\n",
       "      <td>int8</td>\n",
       "    </tr>\n",
       "    <tr>\n",
       "      <th>11</th>\n",
       "      <td>user_id</td>\n",
       "      <td>int32</td>\n",
       "    </tr>\n",
       "  </tbody>\n",
       "</table>\n",
       "</div>"
      ],
      "text/plain": [
       "                    field                                               type\n",
       "0             region_name  dictionary<values=string, indices=int8, ordere...\n",
       "1               city_name  dictionary<values=string, indices=int16, order...\n",
       "2   cpe_manufacturer_name  dictionary<values=string, indices=int8, ordere...\n",
       "3          cpe_model_name  dictionary<values=string, indices=int16, order...\n",
       "4                url_host  dictionary<values=string, indices=int32, order...\n",
       "5             cpe_type_cd  dictionary<values=string, indices=int8, ordere...\n",
       "6       cpe_model_os_type  dictionary<values=string, indices=int8, ordere...\n",
       "7                   price                                              float\n",
       "8                    date                                      timestamp[ns]\n",
       "9             part_of_day  dictionary<values=string, indices=int8, ordere...\n",
       "10            request_cnt                                               int8\n",
       "11                user_id                                              int32"
      ]
     },
     "execution_count": 8,
     "metadata": {},
     "output_type": "execute_result"
    }
   ],
   "source": [
    "data = pa.Table.from_pandas(data)\n",
    "pd.DataFrame([(z.name, z.type) for z in data.schema], columns = [['field', 'type']])"
   ]
  },
  {
   "cell_type": "code",
   "execution_count": 9,
   "id": "77d4f653",
   "metadata": {
    "execution": {
     "iopub.execute_input": "2023-03-07T16:22:00.159551Z",
     "iopub.status.busy": "2023-03-07T16:22:00.159128Z",
     "iopub.status.idle": "2023-03-07T16:22:03.431186Z",
     "shell.execute_reply": "2023-03-07T16:22:03.430329Z"
    },
    "papermill": {
     "duration": 3.287407,
     "end_time": "2023-03-07T16:22:03.433939",
     "exception": false,
     "start_time": "2023-03-07T16:22:00.146532",
     "status": "completed"
    },
    "tags": []
   },
   "outputs": [
    {
     "data": {
      "text/plain": [
       "smartphone    322781599\n",
       "tablet            53768\n",
       "plain             36116\n",
       "phablet           27952\n",
       "Name: cpe_type_cd, dtype: int64"
      ]
     },
     "execution_count": 9,
     "metadata": {},
     "output_type": "execute_result"
    }
   ],
   "source": [
    "data.select(['cpe_type_cd']).to_pandas()['cpe_type_cd'].value_counts()"
   ]
  },
  {
   "cell_type": "code",
   "execution_count": 10,
   "id": "ef3150b9",
   "metadata": {
    "execution": {
     "iopub.execute_input": "2023-03-07T16:22:03.458346Z",
     "iopub.status.busy": "2023-03-07T16:22:03.457934Z",
     "iopub.status.idle": "2023-03-07T16:22:03.552157Z",
     "shell.execute_reply": "2023-03-07T16:22:03.550791Z"
    },
    "papermill": {
     "duration": 0.110691,
     "end_time": "2023-03-07T16:22:03.555763",
     "exception": false,
     "start_time": "2023-03-07T16:22:03.445072",
     "status": "completed"
    },
    "tags": []
   },
   "outputs": [
    {
     "data": {
      "text/html": [
       "<div>\n",
       "<style scoped>\n",
       "    .dataframe tbody tr th:only-of-type {\n",
       "        vertical-align: middle;\n",
       "    }\n",
       "\n",
       "    .dataframe tbody tr th {\n",
       "        vertical-align: top;\n",
       "    }\n",
       "\n",
       "    .dataframe thead th {\n",
       "        text-align: right;\n",
       "    }\n",
       "</style>\n",
       "<table border=\"1\" class=\"dataframe\">\n",
       "  <thead>\n",
       "    <tr style=\"text-align: right;\">\n",
       "      <th></th>\n",
       "      <th>age</th>\n",
       "      <th>is_male</th>\n",
       "      <th>user_id</th>\n",
       "    </tr>\n",
       "  </thead>\n",
       "  <tbody>\n",
       "    <tr>\n",
       "      <th>0</th>\n",
       "      <td>31.0</td>\n",
       "      <td>1</td>\n",
       "      <td>350459</td>\n",
       "    </tr>\n",
       "    <tr>\n",
       "      <th>1</th>\n",
       "      <td>35.0</td>\n",
       "      <td>1</td>\n",
       "      <td>188276</td>\n",
       "    </tr>\n",
       "    <tr>\n",
       "      <th>2</th>\n",
       "      <td>41.0</td>\n",
       "      <td>0</td>\n",
       "      <td>99002</td>\n",
       "    </tr>\n",
       "    <tr>\n",
       "      <th>3</th>\n",
       "      <td>33.0</td>\n",
       "      <td>0</td>\n",
       "      <td>155506</td>\n",
       "    </tr>\n",
       "    <tr>\n",
       "      <th>4</th>\n",
       "      <td>54.0</td>\n",
       "      <td>0</td>\n",
       "      <td>213873</td>\n",
       "    </tr>\n",
       "  </tbody>\n",
       "</table>\n",
       "</div>"
      ],
      "text/plain": [
       "    age is_male  user_id\n",
       "0  31.0       1   350459\n",
       "1  35.0       1   188276\n",
       "2  41.0       0    99002\n",
       "3  33.0       0   155506\n",
       "4  54.0       0   213873"
      ]
     },
     "execution_count": 10,
     "metadata": {},
     "output_type": "execute_result"
    }
   ],
   "source": [
    "targets = pd.read_feather(f'{LOCAL_DATA_PATH}/{TARGET_FILE}')\n",
    "targets.head()"
   ]
  },
  {
   "cell_type": "code",
   "execution_count": 11,
   "id": "ba769a83",
   "metadata": {
    "execution": {
     "iopub.execute_input": "2023-03-07T16:22:03.580668Z",
     "iopub.status.busy": "2023-03-07T16:22:03.580248Z",
     "iopub.status.idle": "2023-03-07T16:22:03.610097Z",
     "shell.execute_reply": "2023-03-07T16:22:03.608825Z"
    },
    "papermill": {
     "duration": 0.045467,
     "end_time": "2023-03-07T16:22:03.612646",
     "exception": false,
     "start_time": "2023-03-07T16:22:03.567179",
     "status": "completed"
    },
    "tags": []
   },
   "outputs": [
    {
     "data": {
      "text/html": [
       "<div>\n",
       "<style scoped>\n",
       "    .dataframe tbody tr th:only-of-type {\n",
       "        vertical-align: middle;\n",
       "    }\n",
       "\n",
       "    .dataframe tbody tr th {\n",
       "        vertical-align: top;\n",
       "    }\n",
       "\n",
       "    .dataframe thead tr th {\n",
       "        text-align: left;\n",
       "    }\n",
       "</style>\n",
       "<table border=\"1\" class=\"dataframe\">\n",
       "  <thead>\n",
       "    <tr>\n",
       "      <th></th>\n",
       "      <th>field</th>\n",
       "      <th>type</th>\n",
       "    </tr>\n",
       "  </thead>\n",
       "  <tbody>\n",
       "    <tr>\n",
       "      <th>0</th>\n",
       "      <td>age</td>\n",
       "      <td>double</td>\n",
       "    </tr>\n",
       "    <tr>\n",
       "      <th>1</th>\n",
       "      <td>is_male</td>\n",
       "      <td>string</td>\n",
       "    </tr>\n",
       "    <tr>\n",
       "      <th>2</th>\n",
       "      <td>user_id</td>\n",
       "      <td>int64</td>\n",
       "    </tr>\n",
       "  </tbody>\n",
       "</table>\n",
       "</div>"
      ],
      "text/plain": [
       "     field    type\n",
       "0      age  double\n",
       "1  is_male  string\n",
       "2  user_id   int64"
      ]
     },
     "execution_count": 11,
     "metadata": {},
     "output_type": "execute_result"
    }
   ],
   "source": [
    "targets = pa.Table.from_pandas(targets)\n",
    "pd.DataFrame([(z.name, z.type) for z in targets.schema], columns = [['field', 'type']])"
   ]
  },
  {
   "cell_type": "markdown",
   "id": "737ea452",
   "metadata": {
    "papermill": {
     "duration": 0.011353,
     "end_time": "2023-03-07T16:22:03.635767",
     "exception": false,
     "start_time": "2023-03-07T16:22:03.624414",
     "status": "completed"
    },
    "tags": []
   },
   "source": [
    "## Counting users <-> items embedding"
   ]
  },
  {
   "cell_type": "code",
   "execution_count": 12,
   "id": "a7c691db",
   "metadata": {
    "execution": {
     "iopub.execute_input": "2023-03-07T16:22:03.661296Z",
     "iopub.status.busy": "2023-03-07T16:22:03.660697Z",
     "iopub.status.idle": "2023-03-07T16:22:44.033774Z",
     "shell.execute_reply": "2023-03-07T16:22:44.032416Z"
    },
    "papermill": {
     "duration": 40.388771,
     "end_time": "2023-03-07T16:22:44.036290",
     "exception": false,
     "start_time": "2023-03-07T16:22:03.647519",
     "status": "completed"
    },
    "tags": []
   },
   "outputs": [
    {
     "name": "stdout",
     "output_type": "stream",
     "text": [
      "199683 urls\n",
      "415317 users\n",
      "CPU times: user 34.5 s, sys: 6.11 s, total: 40.6 s\n",
      "Wall time: 40.4 s\n"
     ]
    }
   ],
   "source": [
    "%%time\n",
    "if (EMBEDDING):\n",
    "    data_agg = data.select(['user_id', 'url_host', 'request_cnt']).\\\n",
    "        group_by(['user_id', 'url_host']).aggregate([('request_cnt', \"sum\")])\n",
    "\n",
    "    url_set = set(data_agg.select(['url_host']).to_pandas()['url_host'])\n",
    "    print(f'{len(url_set)} urls')\n",
    "    url_dict = {url: idurl for url, idurl in zip(url_set, range(len(url_set)))}\n",
    "    usr_set = set(data_agg.select(['user_id']).to_pandas()['user_id'])\n",
    "    print(f'{len(usr_set)} users')\n",
    "    usr_dict = {usr: user_id for usr, user_id in zip(usr_set, range(len(usr_set)))}"
   ]
  },
  {
   "cell_type": "code",
   "execution_count": 13,
   "id": "d9dbc2d2",
   "metadata": {
    "execution": {
     "iopub.execute_input": "2023-03-07T16:22:44.068109Z",
     "iopub.status.busy": "2023-03-07T16:22:44.066092Z",
     "iopub.status.idle": "2023-03-07T16:22:47.016558Z",
     "shell.execute_reply": "2023-03-07T16:22:47.015063Z"
    },
    "papermill": {
     "duration": 2.965937,
     "end_time": "2023-03-07T16:22:47.019253",
     "exception": false,
     "start_time": "2023-03-07T16:22:44.053316",
     "status": "completed"
    },
    "tags": []
   },
   "outputs": [
    {
     "name": "stdout",
     "output_type": "stream",
     "text": [
      "CPU times: user 2.13 s, sys: 876 ms, total: 3.01 s\n",
      "Wall time: 2.94 s\n"
     ]
    }
   ],
   "source": [
    "%%time\n",
    "if (EMBEDDING):\n",
    "    values = np.array(data_agg.select(['request_cnt_sum']).to_pandas()['request_cnt_sum'])\n",
    "    rows = np.array(data_agg.select(['user_id']).to_pandas()['user_id'].map(usr_dict))\n",
    "    cols = np.array(data_agg.select(['url_host']).to_pandas()['url_host'].map(url_dict))\n",
    "    mat = scipy.sparse.coo_matrix((values, (rows, cols)), shape=(rows.max() + 1, cols.max() + 1))\n",
    "    als = implicit.approximate_als.FaissAlternatingLeastSquares(factors = 50, iterations = FAISS_ITERATIONS, use_gpu = False, \\\n",
    "           calculate_training_loss = True, regularization = 0.1)"
   ]
  },
  {
   "cell_type": "code",
   "execution_count": 14,
   "id": "e7590d37",
   "metadata": {
    "execution": {
     "iopub.execute_input": "2023-03-07T16:22:47.043927Z",
     "iopub.status.busy": "2023-03-07T16:22:47.043482Z",
     "iopub.status.idle": "2023-03-07T16:24:04.261996Z",
     "shell.execute_reply": "2023-03-07T16:24:04.260830Z"
    },
    "papermill": {
     "duration": 77.234365,
     "end_time": "2023-03-07T16:24:04.265071",
     "exception": false,
     "start_time": "2023-03-07T16:22:47.030706",
     "status": "completed"
    },
    "tags": []
   },
   "outputs": [
    {
     "data": {
      "application/vnd.jupyter.widget-view+json": {
       "model_id": "98d77f4d97c34daea2126cb7c176312e",
       "version_major": 2,
       "version_minor": 0
      },
      "text/plain": [
       "  0%|          | 0/5 [00:00<?, ?it/s]"
      ]
     },
     "metadata": {},
     "output_type": "display_data"
    },
    {
     "name": "stdout",
     "output_type": "stream",
     "text": [
      "CPU times: user 4min 34s, sys: 2.4 s, total: 4min 37s\n",
      "Wall time: 1min 17s\n"
     ]
    }
   ],
   "source": [
    "%%time\n",
    "if (EMBEDDING):\n",
    "    als.fit(mat)"
   ]
  },
  {
   "cell_type": "code",
   "execution_count": 15,
   "id": "5dfcd6dc",
   "metadata": {
    "execution": {
     "iopub.execute_input": "2023-03-07T16:24:04.294281Z",
     "iopub.status.busy": "2023-03-07T16:24:04.293869Z",
     "iopub.status.idle": "2023-03-07T16:24:04.299831Z",
     "shell.execute_reply": "2023-03-07T16:24:04.298798Z"
    },
    "papermill": {
     "duration": 0.024339,
     "end_time": "2023-03-07T16:24:04.303029",
     "exception": false,
     "start_time": "2023-03-07T16:24:04.278690",
     "status": "completed"
    },
    "tags": []
   },
   "outputs": [
    {
     "name": "stdout",
     "output_type": "stream",
     "text": [
      "199683\n"
     ]
    }
   ],
   "source": [
    "if (EMBEDDING):\n",
    "    u_factors = als.user_factors \n",
    "    print(len(u_factors))"
   ]
  },
  {
   "cell_type": "code",
   "execution_count": 16,
   "id": "ad9132e4",
   "metadata": {
    "execution": {
     "iopub.execute_input": "2023-03-07T16:24:04.330111Z",
     "iopub.status.busy": "2023-03-07T16:24:04.329055Z",
     "iopub.status.idle": "2023-03-07T16:24:04.335662Z",
     "shell.execute_reply": "2023-03-07T16:24:04.333759Z"
    },
    "papermill": {
     "duration": 0.022792,
     "end_time": "2023-03-07T16:24:04.338789",
     "exception": false,
     "start_time": "2023-03-07T16:24:04.315997",
     "status": "completed"
    },
    "tags": []
   },
   "outputs": [
    {
     "name": "stdout",
     "output_type": "stream",
     "text": [
      "415317\n"
     ]
    }
   ],
   "source": [
    "\n",
    "if (EMBEDDING):\n",
    "    d_factors = als.item_factors\n",
    "    print(len(d_factors))"
   ]
  },
  {
   "cell_type": "markdown",
   "id": "581954fc",
   "metadata": {
    "papermill": {
     "duration": 0.011431,
     "end_time": "2023-03-07T16:24:04.362397",
     "exception": false,
     "start_time": "2023-03-07T16:24:04.350966",
     "status": "completed"
    },
    "tags": []
   },
   "source": [
    "## Sex prediction"
   ]
  },
  {
   "cell_type": "code",
   "execution_count": 17,
   "id": "1fc7b164",
   "metadata": {
    "execution": {
     "iopub.execute_input": "2023-03-07T16:24:04.388667Z",
     "iopub.status.busy": "2023-03-07T16:24:04.387993Z",
     "iopub.status.idle": "2023-03-07T16:24:04.400783Z",
     "shell.execute_reply": "2023-03-07T16:24:04.399563Z"
    },
    "papermill": {
     "duration": 0.029184,
     "end_time": "2023-03-07T16:24:04.403383",
     "exception": false,
     "start_time": "2023-03-07T16:24:04.374199",
     "status": "completed"
    },
    "tags": []
   },
   "outputs": [],
   "source": [
    "id_to_submit = pd.read_feather(f'{LOCAL_DATA_PATH}/{SUBMISSION_FILE}')"
   ]
  },
  {
   "cell_type": "code",
   "execution_count": 18,
   "id": "b6645a1b",
   "metadata": {
    "execution": {
     "iopub.execute_input": "2023-03-07T16:24:04.429617Z",
     "iopub.status.busy": "2023-03-07T16:24:04.428511Z",
     "iopub.status.idle": "2023-03-07T16:24:05.737001Z",
     "shell.execute_reply": "2023-03-07T16:24:05.735696Z"
    },
    "papermill": {
     "duration": 1.324272,
     "end_time": "2023-03-07T16:24:05.739627",
     "exception": false,
     "start_time": "2023-03-07T16:24:04.415355",
     "status": "completed"
    },
    "scrolled": true,
    "tags": []
   },
   "outputs": [
    {
     "name": "stdout",
     "output_type": "stream",
     "text": [
      "1    135314\n",
      "0    128982\n",
      "Name: is_male, dtype: int64\n"
     ]
    }
   ],
   "source": [
    "if (EMBEDDING):\n",
    "    inv_usr_map = {v: k for k, v in usr_dict.items()}\n",
    "    usr_emb = pd.DataFrame(d_factors)\n",
    "    usr_emb['user_id'] = usr_emb.index.map(inv_usr_map)\n",
    "    usr_targets = targets.to_pandas()\n",
    "    df = usr_targets.merge(usr_emb, how = 'inner', on = ['user_id'])\n",
    "    df = df[df['is_male'] != 'NA']\n",
    "    df = df.dropna()\n",
    "    df['is_male'] = df['is_male'].map(int)\n",
    "    print(df['is_male'].value_counts())"
   ]
  },
  {
   "cell_type": "markdown",
   "id": "cb9cfd8f",
   "metadata": {
    "papermill": {
     "duration": 0.011487,
     "end_time": "2023-03-07T16:24:05.763503",
     "exception": false,
     "start_time": "2023-03-07T16:24:05.752016",
     "status": "completed"
    },
    "tags": []
   },
   "source": [
    "Model variants"
   ]
  },
  {
   "cell_type": "code",
   "execution_count": 19,
   "id": "5bd17992",
   "metadata": {
    "execution": {
     "iopub.execute_input": "2023-03-07T16:24:05.790094Z",
     "iopub.status.busy": "2023-03-07T16:24:05.789616Z",
     "iopub.status.idle": "2023-03-07T16:24:05.795646Z",
     "shell.execute_reply": "2023-03-07T16:24:05.794194Z"
    },
    "papermill": {
     "duration": 0.022231,
     "end_time": "2023-03-07T16:24:05.798416",
     "exception": false,
     "start_time": "2023-03-07T16:24:05.776185",
     "status": "completed"
    },
    "tags": []
   },
   "outputs": [],
   "source": [
    "max_gini = 0\n",
    "train_index = 0\n",
    "test_index = 0"
   ]
  },
  {
   "cell_type": "code",
   "execution_count": 20,
   "id": "8624ee21",
   "metadata": {
    "execution": {
     "iopub.execute_input": "2023-03-07T16:24:05.824537Z",
     "iopub.status.busy": "2023-03-07T16:24:05.823683Z",
     "iopub.status.idle": "2023-03-07T16:26:42.010713Z",
     "shell.execute_reply": "2023-03-07T16:26:42.009524Z"
    },
    "papermill": {
     "duration": 156.215423,
     "end_time": "2023-03-07T16:26:42.025681",
     "exception": false,
     "start_time": "2023-03-07T16:24:05.810258",
     "status": "completed"
    },
    "tags": []
   },
   "outputs": [
    {
     "name": "stdout",
     "output_type": "stream",
     "text": [
      "Train length: 176197 Test length: 88099 dataset length: 264296\n",
      "GINI по полу 0.652, current max is 0.652\n",
      "\n",
      "Train length: 176197 Test length: 88099 dataset length: 264296\n",
      "GINI по полу 0.65, current max is 0.652\n",
      "\n",
      "Train length: 176198 Test length: 88098 dataset length: 264296\n",
      "GINI по полу 0.652, current max is 0.652\n",
      "\n",
      "CPU times: user 9min 37s, sys: 18.2 s, total: 9min 55s\n",
      "Wall time: 2min 36s\n"
     ]
    }
   ],
   "source": [
    "%%time\n",
    "clf = CatBoostClassifier()\n",
    "\n",
    "x = np.array(df.drop(['user_id', 'age', 'is_male'], axis = 1))\n",
    "y = np.array(df['is_male'])\n",
    "\n",
    "kf = KFold(n_splits=KFOLD_SPLITS)\n",
    "\n",
    "for train_index, test_index in kf.split(x):\n",
    "    print(\"Train length:\", len(train_index), \"Test length:\", len(test_index), \"dataset length:\", len(x))\n",
    "    x_train, x_test = x[train_index], x[test_index]\n",
    "    y_train, y_test = y[train_index], y[test_index]\n",
    "    clf.fit(x_train, y_train, verbose = False)\n",
    "    gini = float(f'{2 * m.roc_auc_score(y_test, clf.predict_proba(x_test)[:,1]) - 1:2.3f}')\n",
    "    if gini > max_gini:\n",
    "        max_gini = gini\n",
    "        max_train_index = train_index\n",
    "        max_test_index = test_index\n",
    "        \n",
    "    print(f'GINI по полу {gini}, current max is {max_gini}')\n",
    "    print()"
   ]
  },
  {
   "cell_type": "code",
   "execution_count": 21,
   "id": "d11287fa",
   "metadata": {
    "execution": {
     "iopub.execute_input": "2023-03-07T16:26:42.054145Z",
     "iopub.status.busy": "2023-03-07T16:26:42.052774Z",
     "iopub.status.idle": "2023-03-07T16:26:42.061320Z",
     "shell.execute_reply": "2023-03-07T16:26:42.060157Z"
    },
    "papermill": {
     "duration": 0.025804,
     "end_time": "2023-03-07T16:26:42.063793",
     "exception": false,
     "start_time": "2023-03-07T16:26:42.037989",
     "status": "completed"
    },
    "tags": []
   },
   "outputs": [
    {
     "data": {
      "text/plain": [
       "'\\nfrom sklearn.ensemble import RandomForestClassifier\\nfrom sklearn.datasets import make_classification\\nX, y = make_classification(n_samples=1000, n_features=4,\\n                            n_informative=2, n_redundant=0,\\n                           random_state=0, shuffle=False)\\nclf = RandomForestClassifier(max_depth=2, random_state=0)\\nclf.fit(X, y)\\nprint(clf.predict([[0, 0, 0, 0]]))\\n'"
      ]
     },
     "execution_count": 21,
     "metadata": {},
     "output_type": "execute_result"
    }
   ],
   "source": [
    "#may try other models later\n",
    "'''\n",
    "from sklearn.ensemble import RandomForestClassifier\n",
    "from sklearn.datasets import make_classification\n",
    "X, y = make_classification(n_samples=1000, n_features=4,\n",
    "                            n_informative=2, n_redundant=0,\n",
    "                           random_state=0, shuffle=False)\n",
    "clf = RandomForestClassifier(max_depth=2, random_state=0)\n",
    "clf.fit(X, y)\n",
    "print(clf.predict([[0, 0, 0, 0]]))\n",
    "'''"
   ]
  },
  {
   "cell_type": "code",
   "execution_count": 22,
   "id": "b9d2976f",
   "metadata": {
    "execution": {
     "iopub.execute_input": "2023-03-07T16:26:42.091732Z",
     "iopub.status.busy": "2023-03-07T16:26:42.090560Z",
     "iopub.status.idle": "2023-03-07T16:26:42.097504Z",
     "shell.execute_reply": "2023-03-07T16:26:42.096142Z"
    },
    "papermill": {
     "duration": 0.023811,
     "end_time": "2023-03-07T16:26:42.099876",
     "exception": false,
     "start_time": "2023-03-07T16:26:42.076065",
     "status": "completed"
    },
    "tags": []
   },
   "outputs": [
    {
     "name": "stdout",
     "output_type": "stream",
     "text": [
      "0.652\n",
      "[ 88099  88100  88101 ... 264293 264294 264295]\n",
      "[    0     1     2 ... 88096 88097 88098]\n"
     ]
    }
   ],
   "source": [
    "print(max_gini)\n",
    "print(max_train_index)\n",
    "print(max_test_index)"
   ]
  },
  {
   "cell_type": "code",
   "execution_count": 23,
   "id": "b67c0e13",
   "metadata": {
    "execution": {
     "iopub.execute_input": "2023-03-07T16:26:42.125813Z",
     "iopub.status.busy": "2023-03-07T16:26:42.125373Z",
     "iopub.status.idle": "2023-03-07T16:27:33.677215Z",
     "shell.execute_reply": "2023-03-07T16:27:33.675820Z"
    },
    "papermill": {
     "duration": 51.58079,
     "end_time": "2023-03-07T16:27:33.692866",
     "exception": false,
     "start_time": "2023-03-07T16:26:42.112076",
     "status": "completed"
    },
    "tags": []
   },
   "outputs": [
    {
     "data": {
      "text/plain": [
       "<bound method Series.unique of 0         221301\n",
       "1          31271\n",
       "2         211594\n",
       "3         253119\n",
       "4         192578\n",
       "           ...  \n",
       "144719    415284\n",
       "144720    415285\n",
       "144721    415286\n",
       "144722    415306\n",
       "144723    415315\n",
       "Name: user_id, Length: 144724, dtype: int32>"
      ]
     },
     "execution_count": 23,
     "metadata": {},
     "output_type": "execute_result"
    }
   ],
   "source": [
    "clf.fit(x[max_train_index], y[max_train_index], verbose = False)\n",
    "id_to_submit['user_id'].unique"
   ]
  },
  {
   "cell_type": "code",
   "execution_count": 24,
   "id": "b2d9f5ed",
   "metadata": {
    "execution": {
     "iopub.execute_input": "2023-03-07T16:27:33.720790Z",
     "iopub.status.busy": "2023-03-07T16:27:33.719945Z",
     "iopub.status.idle": "2023-03-07T16:27:34.266612Z",
     "shell.execute_reply": "2023-03-07T16:27:34.265023Z"
    },
    "papermill": {
     "duration": 0.564305,
     "end_time": "2023-03-07T16:27:34.269607",
     "exception": false,
     "start_time": "2023-03-07T16:27:33.705302",
     "status": "completed"
    },
    "tags": []
   },
   "outputs": [
    {
     "name": "stdout",
     "output_type": "stream",
     "text": [
      "144724\n"
     ]
    }
   ],
   "source": [
    "sex_prediction = clf.predict_proba(\n",
    "    id_to_submit.merge(usr_emb, how = 'left', on = ['user_id'])\n",
    ")[:,1]\n",
    "\n",
    "print(len(sex_prediction))\n",
    "id_to_submit['is_male'] = sex_prediction"
   ]
  },
  {
   "cell_type": "code",
   "execution_count": 25,
   "id": "8f4daa60",
   "metadata": {
    "execution": {
     "iopub.execute_input": "2023-03-07T16:27:34.296811Z",
     "iopub.status.busy": "2023-03-07T16:27:34.296361Z",
     "iopub.status.idle": "2023-03-07T16:27:34.301556Z",
     "shell.execute_reply": "2023-03-07T16:27:34.300320Z"
    },
    "papermill": {
     "duration": 0.021393,
     "end_time": "2023-03-07T16:27:34.303868",
     "exception": false,
     "start_time": "2023-03-07T16:27:34.282475",
     "status": "completed"
    },
    "tags": []
   },
   "outputs": [],
   "source": [
    "#id_to_submit['is_male'] = float[4 for n in range(144724)]"
   ]
  },
  {
   "cell_type": "code",
   "execution_count": 26,
   "id": "02e65469",
   "metadata": {
    "execution": {
     "iopub.execute_input": "2023-03-07T16:27:34.330710Z",
     "iopub.status.busy": "2023-03-07T16:27:34.329921Z",
     "iopub.status.idle": "2023-03-07T16:27:34.598563Z",
     "shell.execute_reply": "2023-03-07T16:27:34.597336Z"
    },
    "papermill": {
     "duration": 0.284804,
     "end_time": "2023-03-07T16:27:34.601121",
     "exception": false,
     "start_time": "2023-03-07T16:27:34.316317",
     "status": "completed"
    },
    "tags": []
   },
   "outputs": [
    {
     "data": {
      "text/plain": [
       "0.652"
      ]
     },
     "execution_count": 26,
     "metadata": {},
     "output_type": "execute_result"
    }
   ],
   "source": [
    "float(f'{2 * m.roc_auc_score(y[max_test_index], clf.predict_proba(x[max_test_index])[:,1]) - 1:2.3f}')"
   ]
  },
  {
   "cell_type": "markdown",
   "id": "e1139880",
   "metadata": {
    "papermill": {
     "duration": 0.012235,
     "end_time": "2023-03-07T16:27:34.626141",
     "exception": false,
     "start_time": "2023-03-07T16:27:34.613906",
     "status": "completed"
    },
    "tags": []
   },
   "source": [
    "## Age prediction"
   ]
  },
  {
   "cell_type": "code",
   "execution_count": 27,
   "id": "f3a4f737",
   "metadata": {
    "execution": {
     "iopub.execute_input": "2023-03-07T16:27:34.653190Z",
     "iopub.status.busy": "2023-03-07T16:27:34.652763Z",
     "iopub.status.idle": "2023-03-07T16:27:34.658464Z",
     "shell.execute_reply": "2023-03-07T16:27:34.657319Z"
    },
    "papermill": {
     "duration": 0.022304,
     "end_time": "2023-03-07T16:27:34.660963",
     "exception": false,
     "start_time": "2023-03-07T16:27:34.638659",
     "status": "completed"
    },
    "tags": []
   },
   "outputs": [],
   "source": [
    "def age_bucket(x):\n",
    "    return bisect.bisect_left([18,25,35,45,55,65], x)"
   ]
  },
  {
   "cell_type": "code",
   "execution_count": 28,
   "id": "ced14f90",
   "metadata": {
    "execution": {
     "iopub.execute_input": "2023-03-07T16:27:34.689545Z",
     "iopub.status.busy": "2023-03-07T16:27:34.689105Z",
     "iopub.status.idle": "2023-03-07T16:27:36.087030Z",
     "shell.execute_reply": "2023-03-07T16:27:36.086040Z"
    },
    "papermill": {
     "duration": 1.415266,
     "end_time": "2023-03-07T16:27:36.089510",
     "exception": false,
     "start_time": "2023-03-07T16:27:34.674244",
     "status": "completed"
    },
    "tags": []
   },
   "outputs": [
    {
     "data": {
      "text/plain": [
       "<AxesSubplot:xlabel='age', ylabel='Count'>"
      ]
     },
     "execution_count": 28,
     "metadata": {},
     "output_type": "execute_result"
    },
    {
     "data": {
      "image/png": "[encoded data removed]",
      "text/plain": [
       "<Figure size 432x288 with 1 Axes>"
      ]
     },
     "metadata": {},
     "output_type": "display_data"
    }
   ],
   "source": [
    "df = usr_targets.merge(usr_emb, how = 'inner', on = ['user_id'])\n",
    "df = df[df['age'] != 'NA']\n",
    "df = df.dropna()\n",
    "df['age'] = df['age'].map(age_bucket)\n",
    "sns.histplot(df['age'], bins = 7)"
   ]
  },
  {
   "cell_type": "code",
   "execution_count": 29,
   "id": "a88993cc",
   "metadata": {
    "execution": {
     "iopub.execute_input": "2023-03-07T16:27:36.118205Z",
     "iopub.status.busy": "2023-03-07T16:27:36.116981Z",
     "iopub.status.idle": "2023-03-07T16:27:36.122128Z",
     "shell.execute_reply": "2023-03-07T16:27:36.121132Z"
    },
    "papermill": {
     "duration": 0.021933,
     "end_time": "2023-03-07T16:27:36.124549",
     "exception": false,
     "start_time": "2023-03-07T16:27:36.102616",
     "status": "completed"
    },
    "tags": []
   },
   "outputs": [],
   "source": [
    "max_f1 = 0\n",
    "train_index = 0\n",
    "test_index = 0"
   ]
  },
  {
   "cell_type": "code",
   "execution_count": 30,
   "id": "356df617",
   "metadata": {
    "execution": {
     "iopub.execute_input": "2023-03-07T16:27:36.153418Z",
     "iopub.status.busy": "2023-03-07T16:27:36.152960Z",
     "iopub.status.idle": "2023-03-07T16:40:54.060104Z",
     "shell.execute_reply": "2023-03-07T16:40:54.058224Z"
    },
    "papermill": {
     "duration": 797.937545,
     "end_time": "2023-03-07T16:40:54.075149",
     "exception": false,
     "start_time": "2023-03-07T16:27:36.137604",
     "status": "completed"
    },
    "tags": []
   },
   "outputs": [
    {
     "name": "stdout",
     "output_type": "stream",
     "text": [
      "TRAIN: [ 88099  88100  88101 ... 264293 264294 264295] TEST: [    0     1     2 ... 88096 88097 88098]\n",
      "              precision    recall  f1-score   support\n",
      "\n",
      "         <18       0.00      0.00      0.00       262\n",
      "       18-25       0.48      0.26      0.34     10590\n",
      "       25-34       0.46      0.62      0.52     28502\n",
      "       35-44       0.39      0.51      0.44     25545\n",
      "       45-54       0.36      0.17      0.23     13708\n",
      "       55-65       0.39      0.18      0.25      7695\n",
      "         65+       0.40      0.01      0.02      1797\n",
      "\n",
      "    accuracy                           0.42     88099\n",
      "   macro avg       0.35      0.25      0.26     88099\n",
      "weighted avg       0.42      0.42      0.40     88099\n",
      "\n",
      "\n",
      "TRAIN: [     0      1      2 ... 264293 264294 264295] TEST: [ 88099  88100  88101 ... 176195 176196 176197]\n",
      "              precision    recall  f1-score   support\n",
      "\n",
      "         <18       1.00      0.00      0.01       262\n",
      "       18-25       0.49      0.27      0.35     10524\n",
      "       25-34       0.46      0.62      0.53     28602\n",
      "       35-44       0.38      0.51      0.44     25368\n",
      "       45-54       0.36      0.17      0.23     13717\n",
      "       55-65       0.41      0.18      0.25      7766\n",
      "         65+       0.26      0.01      0.02      1860\n",
      "\n",
      "    accuracy                           0.42     88099\n",
      "   macro avg       0.48      0.25      0.26     88099\n",
      "weighted avg       0.42      0.42      0.40     88099\n",
      "\n",
      "\n",
      "TRAIN: [     0      1      2 ... 176195 176196 176197] TEST: [176198 176199 176200 ... 264293 264294 264295]\n",
      "              precision    recall  f1-score   support\n",
      "\n",
      "         <18       0.00      0.00      0.00       264\n",
      "       18-25       0.48      0.26      0.34     10501\n",
      "       25-34       0.46      0.61      0.52     28588\n",
      "       35-44       0.38      0.51      0.44     25381\n",
      "       45-54       0.35      0.17      0.22     13829\n",
      "       55-65       0.40      0.18      0.25      7771\n",
      "         65+       0.41      0.02      0.03      1764\n",
      "\n",
      "    accuracy                           0.42     88098\n",
      "   macro avg       0.35      0.25      0.26     88098\n",
      "weighted avg       0.41      0.42      0.39     88098\n",
      "\n",
      "\n"
     ]
    }
   ],
   "source": [
    "clf = CatBoostClassifier()\n",
    "\n",
    "x = np.array(df.drop(['user_id', 'age', 'is_male'], axis = 1))\n",
    "y = np.array(df['age'])\n",
    "\n",
    "kf = KFold(n_splits=KFOLD_SPLITS)\n",
    "\n",
    "for train_index, test_index in kf.split(x):\n",
    "    print(\"TRAIN:\", train_index, \"TEST:\", test_index)\n",
    "    x_train, x_test = x[train_index], x[test_index]\n",
    "    y_train, y_test = y[train_index], y[test_index]\n",
    "    clf.fit(x_train, y_train, verbose = False)\n",
    "    f1 = m.f1_score(y_test, clf.predict(x_test), average='weighted')\n",
    "    \n",
    "    if f1 > max_f1:\n",
    "        max_f1 = f1\n",
    "        max_train_index = train_index\n",
    "        max_test_index = test_index\n",
    "        \n",
    "    print(m.classification_report(\n",
    "        y_test, \n",
    "        clf.predict(x_test), \n",
    "        target_names = ['<18', '18-25','25-34', '35-44', '45-54', '55-65', '65+']\n",
    "    )\n",
    "         )\n",
    "    print()"
   ]
  },
  {
   "cell_type": "code",
   "execution_count": 31,
   "id": "57a071d5",
   "metadata": {
    "execution": {
     "iopub.execute_input": "2023-03-07T16:40:54.105762Z",
     "iopub.status.busy": "2023-03-07T16:40:54.105288Z",
     "iopub.status.idle": "2023-03-07T16:40:54.112781Z",
     "shell.execute_reply": "2023-03-07T16:40:54.111541Z"
    },
    "papermill": {
     "duration": 0.025285,
     "end_time": "2023-03-07T16:40:54.115129",
     "exception": false,
     "start_time": "2023-03-07T16:40:54.089844",
     "status": "completed"
    },
    "tags": []
   },
   "outputs": [
    {
     "name": "stdout",
     "output_type": "stream",
     "text": [
      "0.3970410277884012\n",
      "[     0      1      2 ... 264293 264294 264295]\n",
      "[ 88099  88100  88101 ... 176195 176196 176197]\n"
     ]
    }
   ],
   "source": [
    "print(max_f1)\n",
    "print(max_train_index)\n",
    "print(max_test_index)"
   ]
  },
  {
   "cell_type": "code",
   "execution_count": 32,
   "id": "e542c980",
   "metadata": {
    "execution": {
     "iopub.execute_input": "2023-03-07T16:40:54.144206Z",
     "iopub.status.busy": "2023-03-07T16:40:54.143706Z",
     "iopub.status.idle": "2023-03-07T16:45:12.570335Z",
     "shell.execute_reply": "2023-03-07T16:45:12.569112Z"
    },
    "papermill": {
     "duration": 258.444589,
     "end_time": "2023-03-07T16:45:12.573637",
     "exception": false,
     "start_time": "2023-03-07T16:40:54.129048",
     "status": "completed"
    },
    "tags": []
   },
   "outputs": [],
   "source": [
    "clf.fit(x[max_train_index], y[max_train_index], verbose = False)\n",
    "id_to_submit['age'] = clf.predict(id_to_submit[['user_id']].merge(usr_emb, how = 'left', on = ['user_id']))"
   ]
  },
  {
   "cell_type": "code",
   "execution_count": 33,
   "id": "431a679f",
   "metadata": {
    "execution": {
     "iopub.execute_input": "2023-03-07T16:45:12.604159Z",
     "iopub.status.busy": "2023-03-07T16:45:12.603691Z",
     "iopub.status.idle": "2023-03-07T16:45:12.608976Z",
     "shell.execute_reply": "2023-03-07T16:45:12.607704Z"
    },
    "papermill": {
     "duration": 0.023533,
     "end_time": "2023-03-07T16:45:12.611384",
     "exception": false,
     "start_time": "2023-03-07T16:45:12.587851",
     "status": "completed"
    },
    "tags": []
   },
   "outputs": [],
   "source": [
    "#id_to_submit['age'] = [0 for n in range(144724)]"
   ]
  },
  {
   "cell_type": "code",
   "execution_count": 34,
   "id": "da0393cd",
   "metadata": {
    "execution": {
     "iopub.execute_input": "2023-03-07T16:45:12.642128Z",
     "iopub.status.busy": "2023-03-07T16:45:12.641629Z",
     "iopub.status.idle": "2023-03-07T16:45:13.235054Z",
     "shell.execute_reply": "2023-03-07T16:45:13.233481Z"
    },
    "papermill": {
     "duration": 0.61276,
     "end_time": "2023-03-07T16:45:13.238266",
     "exception": false,
     "start_time": "2023-03-07T16:45:12.625506",
     "status": "completed"
    },
    "tags": []
   },
   "outputs": [
    {
     "name": "stdout",
     "output_type": "stream",
     "text": [
      "              precision    recall  f1-score   support\n",
      "\n",
      "         <18       1.00      0.00      0.01       262\n",
      "       18-25       0.49      0.27      0.35     10524\n",
      "       25-34       0.46      0.62      0.53     28602\n",
      "       35-44       0.38      0.51      0.44     25368\n",
      "       45-54       0.36      0.17      0.23     13717\n",
      "       55-65       0.41      0.18      0.25      7766\n",
      "         65+       0.26      0.01      0.02      1860\n",
      "\n",
      "    accuracy                           0.42     88099\n",
      "   macro avg       0.48      0.25      0.26     88099\n",
      "weighted avg       0.42      0.42      0.40     88099\n",
      "\n"
     ]
    }
   ],
   "source": [
    "print(m.classification_report(\n",
    "      y[max_test_index], \n",
    "      clf.predict(x[max_test_index]), \n",
    "      target_names = ['<18', '18-25','25-34', '35-44', '45-54', '55-65', '65+']\n",
    "))"
   ]
  },
  {
   "cell_type": "markdown",
   "id": "e2425a0f",
   "metadata": {
    "papermill": {
     "duration": 0.014178,
     "end_time": "2023-03-07T16:45:13.266796",
     "exception": false,
     "start_time": "2023-03-07T16:45:13.252618",
     "status": "completed"
    },
    "tags": []
   },
   "source": [
    "## Submission"
   ]
  },
  {
   "cell_type": "code",
   "execution_count": 35,
   "id": "7224eda9",
   "metadata": {
    "execution": {
     "iopub.execute_input": "2023-03-07T16:45:13.296554Z",
     "iopub.status.busy": "2023-03-07T16:45:13.296123Z",
     "iopub.status.idle": "2023-03-07T16:45:13.696037Z",
     "shell.execute_reply": "2023-03-07T16:45:13.694797Z"
    },
    "papermill": {
     "duration": 0.417855,
     "end_time": "2023-03-07T16:45:13.698822",
     "exception": false,
     "start_time": "2023-03-07T16:45:13.280967",
     "status": "completed"
    },
    "tags": []
   },
   "outputs": [
    {
     "data": {
      "text/html": [
       "<div>\n",
       "<style scoped>\n",
       "    .dataframe tbody tr th:only-of-type {\n",
       "        vertical-align: middle;\n",
       "    }\n",
       "\n",
       "    .dataframe tbody tr th {\n",
       "        vertical-align: top;\n",
       "    }\n",
       "\n",
       "    .dataframe thead th {\n",
       "        text-align: right;\n",
       "    }\n",
       "</style>\n",
       "<table border=\"1\" class=\"dataframe\">\n",
       "  <thead>\n",
       "    <tr style=\"text-align: right;\">\n",
       "      <th></th>\n",
       "      <th>user_id</th>\n",
       "      <th>is_male</th>\n",
       "      <th>age</th>\n",
       "    </tr>\n",
       "  </thead>\n",
       "  <tbody>\n",
       "    <tr>\n",
       "      <th>0</th>\n",
       "      <td>221301</td>\n",
       "      <td>0.987745</td>\n",
       "      <td>2</td>\n",
       "    </tr>\n",
       "    <tr>\n",
       "      <th>1</th>\n",
       "      <td>31271</td>\n",
       "      <td>0.943454</td>\n",
       "      <td>3</td>\n",
       "    </tr>\n",
       "    <tr>\n",
       "      <th>2</th>\n",
       "      <td>211594</td>\n",
       "      <td>0.877272</td>\n",
       "      <td>2</td>\n",
       "    </tr>\n",
       "    <tr>\n",
       "      <th>3</th>\n",
       "      <td>253119</td>\n",
       "      <td>0.900651</td>\n",
       "      <td>3</td>\n",
       "    </tr>\n",
       "    <tr>\n",
       "      <th>4</th>\n",
       "      <td>192578</td>\n",
       "      <td>0.970527</td>\n",
       "      <td>2</td>\n",
       "    </tr>\n",
       "  </tbody>\n",
       "</table>\n",
       "</div>"
      ],
      "text/plain": [
       "   user_id   is_male  age\n",
       "0   221301  0.987745    2\n",
       "1    31271  0.943454    3\n",
       "2   211594  0.877272    2\n",
       "3   253119  0.900651    3\n",
       "4   192578  0.970527    2"
      ]
     },
     "metadata": {},
     "output_type": "display_data"
    },
    {
     "name": "stdout",
     "output_type": "stream",
     "text": [
      "0.868570    325\n",
      "0.868643    293\n",
      "0.858626    101\n",
      "0.863917    100\n",
      "0.868050     75\n",
      "           ... \n",
      "0.914466      1\n",
      "0.994014      1\n",
      "0.991881      1\n",
      "0.920418      1\n",
      "0.758255      1\n",
      "Name: is_male, Length: 141821, dtype: int64\n",
      "2    80647\n",
      "3    61484\n",
      "4     1780\n",
      "1      752\n",
      "5       61\n",
      "Name: age, dtype: int64\n"
     ]
    }
   ],
   "source": [
    "display(id_to_submit.head())\n",
    "print(id_to_submit.is_male.value_counts())\n",
    "print(id_to_submit.age.value_counts())\n",
    "id_to_submit.to_csv('submission.csv', index = False)"
   ]
  },
  {
   "cell_type": "code",
   "execution_count": 36,
   "id": "b1df0595",
   "metadata": {
    "execution": {
     "iopub.execute_input": "2023-03-07T16:45:13.728572Z",
     "iopub.status.busy": "2023-03-07T16:45:13.728171Z",
     "iopub.status.idle": "2023-03-07T16:45:13.734516Z",
     "shell.execute_reply": "2023-03-07T16:45:13.733202Z"
    },
    "papermill": {
     "duration": 0.024332,
     "end_time": "2023-03-07T16:45:13.737235",
     "exception": false,
     "start_time": "2023-03-07T16:45:13.712903",
     "status": "completed"
    },
    "tags": []
   },
   "outputs": [
    {
     "name": "stdout",
     "output_type": "stream",
     "text": [
      "Score: 1.4460820555768024\n"
     ]
    }
   ],
   "source": [
    "print(f'Score: {max_gini + 2*max_f1}')"
   ]
  }
 ],
 "metadata": {
  "kernelspec": {
   "display_name": "Python 3",
   "language": "python",
   "name": "python3"
  },
  "language_info": {
   "codemirror_mode": {
    "name": "ipython",
    "version": 3
   },
   "file_extension": ".py",
   "mimetype": "text/x-python",
   "name": "python",
   "nbconvert_exporter": "python",
   "pygments_lexer": "ipython3",
   "version": "3.7.12"
  },
  "papermill": {
   "default_parameters": {},
   "duration": 1540.650394,
   "end_time": "2023-03-07T16:45:17.270451",
   "environment_variables": {},
   "exception": null,
   "input_path": "__notebook__.ipynb",
   "output_path": "__notebook__.ipynb",
   "parameters": {},
   "start_time": "2023-03-07T16:19:36.620057",
   "version": "2.3.4"
  },
  "widgets": {
   "application/vnd.jupyter.widget-state+json": {
    "state": {
     "0b6e49ff8bd6474a8e718941fba6ba9f": {
      "model_module": "@jupyter-widgets/base",
      "model_module_version": "1.2.0",
      "model_name": "LayoutModel",
      "state": {
       "_model_module": "@jupyter-widgets/base",
       "_model_module_version": "1.2.0",
       "_model_name": "LayoutModel",
       "_view_count": null,
       "_view_module": "@jupyter-widgets/base",
       "_view_module_version": "1.2.0",
       "_view_name": "LayoutView",
       "align_content": null,
       "align_items": null,
       "align_self": null,
       "border": null,
       "bottom": null,
       "display": null,
       "flex": null,
       "flex_flow": null,
       "grid_area": null,
       "grid_auto_columns": null,
       "grid_auto_flow": null,
       "grid_auto_rows": null,
       "grid_column": null,
       "grid_gap": null,
       "grid_row": null,
       "grid_template_areas": null,
       "grid_template_columns": null,
       "grid_template_rows": null,
       "height": null,
       "justify_content": null,
       "justify_items": null,
       "left": null,
       "margin": null,
       "max_height": null,
       "max_width": null,
       "min_height": null,
       "min_width": null,
       "object_fit": null,
       "object_position": null,
       "order": null,
       "overflow": null,
       "overflow_x": null,
       "overflow_y": null,
       "padding": null,
       "right": null,
       "top": null,
       "visibility": null,
       "width": null
      }
     },
     "1a34f47b162b4ac7b09259b58abb3bc4": {
      "model_module": "@jupyter-widgets/base",
      "model_module_version": "1.2.0",
      "model_name": "LayoutModel",
      "state": {
       "_model_module": "@jupyter-widgets/base",
       "_model_module_version": "1.2.0",
       "_model_name": "LayoutModel",
       "_view_count": null,
       "_view_module": "@jupyter-widgets/base",
       "_view_module_version": "1.2.0",
       "_view_name": "LayoutView",
       "align_content": null,
       "align_items": null,
       "align_self": null,
       "border": null,
       "bottom": null,
       "display": null,
       "flex": null,
       "flex_flow": null,
       "grid_area": null,
       "grid_auto_columns": null,
       "grid_auto_flow": null,
       "grid_auto_rows": null,
       "grid_column": null,
       "grid_gap": null,
       "grid_row": null,
       "grid_template_areas": null,
       "grid_template_columns": null,
       "grid_template_rows": null,
       "height": null,
       "justify_content": null,
       "justify_items": null,
       "left": null,
       "margin": null,
       "max_height": null,
       "max_width": null,
       "min_height": null,
       "min_width": null,
       "object_fit": null,
       "object_position": null,
       "order": null,
       "overflow": null,
       "overflow_x": null,
       "overflow_y": null,
       "padding": null,
       "right": null,
       "top": null,
       "visibility": null,
       "width": null
      }
     },
     "41662bd9e6544c7ca1e376ccdf5f2267": {
      "model_module": "@jupyter-widgets/controls",
      "model_module_version": "1.5.0",
      "model_name": "HTMLModel",
      "state": {
       "_dom_classes": [],
       "_model_module": "@jupyter-widgets/controls",
       "_model_module_version": "1.5.0",
       "_model_name": "HTMLModel",
       "_view_count": null,
       "_view_module": "@jupyter-widgets/controls",
       "_view_module_version": "1.5.0",
       "_view_name": "HTMLView",
       "description": "",
       "description_tooltip": null,
       "layout": "IPY_MODEL_1a34f47b162b4ac7b09259b58abb3bc4",
       "placeholder": "​",
       "style": "IPY_MODEL_c25918c1a6864a28bc5ccab4894a2689",
       "value": "100%"
      }
     },
     "5066934df7e7460cb5cdaa6e9c9b1e97": {
      "model_module": "@jupyter-widgets/base",
      "model_module_version": "1.2.0",
      "model_name": "LayoutModel",
      "state": {
       "_model_module": "@jupyter-widgets/base",
       "_model_module_version": "1.2.0",
       "_model_name": "LayoutModel",
       "_view_count": null,
       "_view_module": "@jupyter-widgets/base",
       "_view_module_version": "1.2.0",
       "_view_name": "LayoutView",
       "align_content": null,
       "align_items": null,
       "align_self": null,
       "border": null,
       "bottom": null,
       "display": null,
       "flex": null,
       "flex_flow": null,
       "grid_area": null,
       "grid_auto_columns": null,
       "grid_auto_flow": null,
       "grid_auto_rows": null,
       "grid_column": null,
       "grid_gap": null,
       "grid_row": null,
       "grid_template_areas": null,
       "grid_template_columns": null,
       "grid_template_rows": null,
       "height": null,
       "justify_content": null,
       "justify_items": null,
       "left": null,
       "margin": null,
       "max_height": null,
       "max_width": null,
       "min_height": null,
       "min_width": null,
       "object_fit": null,
       "object_position": null,
       "order": null,
       "overflow": null,
       "overflow_x": null,
       "overflow_y": null,
       "padding": null,
       "right": null,
       "top": null,
       "visibility": null,
       "width": null
      }
     },
     "6d2e9e25743f46e3b548986ba58e8cab": {
      "model_module": "@jupyter-widgets/base",
      "model_module_version": "1.2.0",
      "model_name": "LayoutModel",
      "state": {
       "_model_module": "@jupyter-widgets/base",
       "_model_module_version": "1.2.0",
       "_model_name": "LayoutModel",
       "_view_count": null,
       "_view_module": "@jupyter-widgets/base",
       "_view_module_version": "1.2.0",
       "_view_name": "LayoutView",
       "align_content": null,
       "align_items": null,
       "align_self": null,
       "border": null,
       "bottom": null,
       "display": null,
       "flex": null,
       "flex_flow": null,
       "grid_area": null,
       "grid_auto_columns": null,
       "grid_auto_flow": null,
       "grid_auto_rows": null,
       "grid_column": null,
       "grid_gap": null,
       "grid_row": null,
       "grid_template_areas": null,
       "grid_template_columns": null,
       "grid_template_rows": null,
       "height": null,
       "justify_content": null,
       "justify_items": null,
       "left": null,
       "margin": null,
       "max_height": null,
       "max_width": null,
       "min_height": null,
       "min_width": null,
       "object_fit": null,
       "object_position": null,
       "order": null,
       "overflow": null,
       "overflow_x": null,
       "overflow_y": null,
       "padding": null,
       "right": null,
       "top": null,
       "visibility": null,
       "width": null
      }
     },
     "98d77f4d97c34daea2126cb7c176312e": {
      "model_module": "@jupyter-widgets/controls",
      "model_module_version": "1.5.0",
      "model_name": "HBoxModel",
      "state": {
       "_dom_classes": [],
       "_model_module": "@jupyter-widgets/controls",
       "_model_module_version": "1.5.0",
       "_model_name": "HBoxModel",
       "_view_count": null,
       "_view_module": "@jupyter-widgets/controls",
       "_view_module_version": "1.5.0",
       "_view_name": "HBoxView",
       "box_style": "",
       "children": [
        "IPY_MODEL_41662bd9e6544c7ca1e376ccdf5f2267",
        "IPY_MODEL_e63af1aa04de47b790f4cae6ce2c256d",
        "IPY_MODEL_a94612d320fe47dca2b8e0429d6f4d38"
       ],
       "layout": "IPY_MODEL_5066934df7e7460cb5cdaa6e9c9b1e97"
      }
     },
     "a7231acd8dc54b7da077a36b558c74b6": {
      "model_module": "@jupyter-widgets/controls",
      "model_module_version": "1.5.0",
      "model_name": "DescriptionStyleModel",
      "state": {
       "_model_module": "@jupyter-widgets/controls",
       "_model_module_version": "1.5.0",
       "_model_name": "DescriptionStyleModel",
       "_view_count": null,
       "_view_module": "@jupyter-widgets/base",
       "_view_module_version": "1.2.0",
       "_view_name": "StyleView",
       "description_width": ""
      }
     },
     "a94612d320fe47dca2b8e0429d6f4d38": {
      "model_module": "@jupyter-widgets/controls",
      "model_module_version": "1.5.0",
      "model_name": "HTMLModel",
      "state": {
       "_dom_classes": [],
       "_model_module": "@jupyter-widgets/controls",
       "_model_module_version": "1.5.0",
       "_model_name": "HTMLModel",
       "_view_count": null,
       "_view_module": "@jupyter-widgets/controls",
       "_view_module_version": "1.5.0",
       "_view_name": "HTMLView",
       "description": "",
       "description_tooltip": null,
       "layout": "IPY_MODEL_6d2e9e25743f46e3b548986ba58e8cab",
       "placeholder": "​",
       "style": "IPY_MODEL_a7231acd8dc54b7da077a36b558c74b6",
       "value": " 5/5 [01:10&lt;00:00, 13.92s/it, loss=0.000314]"
      }
     },
     "c25918c1a6864a28bc5ccab4894a2689": {
      "model_module": "@jupyter-widgets/controls",
      "model_module_version": "1.5.0",
      "model_name": "DescriptionStyleModel",
      "state": {
       "_model_module": "@jupyter-widgets/controls",
       "_model_module_version": "1.5.0",
       "_model_name": "DescriptionStyleModel",
       "_view_count": null,
       "_view_module": "@jupyter-widgets/base",
       "_view_module_version": "1.2.0",
       "_view_name": "StyleView",
       "description_width": ""
      }
     },
     "d7400936f8ca4d13b96fc0925972ac74": {
      "model_module": "@jupyter-widgets/controls",
      "model_module_version": "1.5.0",
      "model_name": "ProgressStyleModel",
      "state": {
       "_model_module": "@jupyter-widgets/controls",
       "_model_module_version": "1.5.0",
       "_model_name": "ProgressStyleModel",
       "_view_count": null,
       "_view_module": "@jupyter-widgets/base",
       "_view_module_version": "1.2.0",
       "_view_name": "StyleView",
       "bar_color": null,
       "description_width": ""
      }
     },
     "e63af1aa04de47b790f4cae6ce2c256d": {
      "model_module": "@jupyter-widgets/controls",
      "model_module_version": "1.5.0",
      "model_name": "FloatProgressModel",
      "state": {
       "_dom_classes": [],
       "_model_module": "@jupyter-widgets/controls",
       "_model_module_version": "1.5.0",
       "_model_name": "FloatProgressModel",
       "_view_count": null,
       "_view_module": "@jupyter-widgets/controls",
       "_view_module_version": "1.5.0",
       "_view_name": "ProgressView",
       "bar_style": "success",
       "description": "",
       "description_tooltip": null,
       "layout": "IPY_MODEL_0b6e49ff8bd6474a8e718941fba6ba9f",
       "max": 5.0,
       "min": 0.0,
       "orientation": "horizontal",
       "style": "IPY_MODEL_d7400936f8ca4d13b96fc0925972ac74",
       "value": 5.0
      }
     }
    },
    "version_major": 2,
    "version_minor": 0
   }
  }
 },
 "nbformat": 4,
 "nbformat_minor": 5
}
