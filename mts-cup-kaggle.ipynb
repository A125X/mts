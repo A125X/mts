{
 "cells": [
  {
   "cell_type": "markdown",
   "id": "2ef95ca5",
   "metadata": {
    "papermill": {
     "duration": 0.009172,
     "end_time": "2023-03-08T18:06:29.234767",
     "exception": false,
     "start_time": "2023-03-08T18:06:29.225595",
     "status": "completed"
    },
    "tags": []
   },
   "source": [
    "## Imports and constants"
   ]
  },
  {
   "cell_type": "markdown",
   "id": "7957960a",
   "metadata": {
    "papermill": {
     "duration": 0.008118,
     "end_time": "2023-03-08T18:06:29.251356",
     "exception": false,
     "start_time": "2023-03-08T18:06:29.243238",
     "status": "completed"
    },
    "tags": []
   },
   "source": [
    "to do: \n",
    "\n",
    "transformers, features generation,\n",
    "fix left bisect as described in the changed rules"
   ]
  },
  {
   "cell_type": "code",
   "execution_count": 1,
   "id": "cd24926d",
   "metadata": {
    "execution": {
     "iopub.execute_input": "2023-03-08T18:06:29.269547Z",
     "iopub.status.busy": "2023-03-08T18:06:29.268944Z",
     "iopub.status.idle": "2023-03-08T18:06:29.282282Z",
     "shell.execute_reply": "2023-03-08T18:06:29.281179Z"
    },
    "papermill": {
     "duration": 0.025369,
     "end_time": "2023-03-08T18:06:29.284643",
     "exception": false,
     "start_time": "2023-03-08T18:06:29.259274",
     "status": "completed"
    },
    "tags": []
   },
   "outputs": [],
   "source": [
    "SPLIT_SEED = 42\n",
    "KFOLD_SPLITS = 3\n",
    "\n",
    "IS_EMBEDDING_USED = True\n",
    "if (IS_EMBEDDING_USED):\n",
    "    FAISS_ITERATIONS = 5\n",
    "    \n",
    "IS_NOTEBOOK_ON_KAGGLE = True\n",
    "if (IS_NOTEBOOK_ON_KAGGLE):\n",
    "    LOCAL_DATA_PATH = '/kaggle/input/mts-ml-cookies'\n",
    "    DATA_FILE = 'dataset_full.feather'\n",
    "    TARGET_FILE = 'target_train.feather'\n",
    "    SUBMISSION_FILE = 'submission.feather'\n",
    "    \n",
    "IS_MODEL_CATBOOST = True\n",
    "IS_MODEL_RANDFOREST = False\n",
    "if (IS_MODEL_RANDFOREST):\n",
    "    MAX_DEPTH = 10"
   ]
  },
  {
   "cell_type": "code",
   "execution_count": 2,
   "id": "50d3476e",
   "metadata": {
    "execution": {
     "iopub.execute_input": "2023-03-08T18:06:29.303606Z",
     "iopub.status.busy": "2023-03-08T18:06:29.303060Z",
     "iopub.status.idle": "2023-03-08T18:06:29.307585Z",
     "shell.execute_reply": "2023-03-08T18:06:29.306806Z"
    },
    "papermill": {
     "duration": 0.017096,
     "end_time": "2023-03-08T18:06:29.310010",
     "exception": false,
     "start_time": "2023-03-08T18:06:29.292914",
     "status": "completed"
    },
    "tags": []
   },
   "outputs": [],
   "source": [
    "import sys\n",
    "import os\n",
    "import warnings\n",
    "os.environ['OPENBLAS_NUM_THREADS'] = '1'\n",
    "warnings.filterwarnings('ignore')"
   ]
  },
  {
   "cell_type": "code",
   "execution_count": 3,
   "id": "8687f1ec",
   "metadata": {
    "execution": {
     "iopub.execute_input": "2023-03-08T18:06:29.329014Z",
     "iopub.status.busy": "2023-03-08T18:06:29.328604Z",
     "iopub.status.idle": "2023-03-08T18:07:11.479312Z",
     "shell.execute_reply": "2023-03-08T18:07:11.477718Z"
    },
    "papermill": {
     "duration": 42.163411,
     "end_time": "2023-03-08T18:07:11.482350",
     "exception": false,
     "start_time": "2023-03-08T18:06:29.318939",
     "status": "completed"
    },
    "tags": []
   },
   "outputs": [
    {
     "name": "stdout",
     "output_type": "stream",
     "text": [
      "\u001b[33mWARNING: Running pip as the 'root' user can result in broken permissions and conflicting behaviour with the system package manager. It is recommended to use a virtual environment instead: https://pip.pypa.io/warnings/venv\u001b[0m\u001b[33m\r\n",
      "\u001b[0m\u001b[33mWARNING: Running pip as the 'root' user can result in broken permissions and conflicting behaviour with the system package manager. It is recommended to use a virtual environment instead: https://pip.pypa.io/warnings/venv\u001b[0m\u001b[33m\r\n",
      "\u001b[0m\u001b[33mWARNING: Running pip as the 'root' user can result in broken permissions and conflicting behaviour with the system package manager. It is recommended to use a virtual environment instead: https://pip.pypa.io/warnings/venv\u001b[0m\u001b[33m\r\n",
      "\u001b[0m"
     ]
    }
   ],
   "source": [
    "!pip install feather-format >> none -q\n",
    "!pip install faiss-cpu --no-cache -q\n",
    "!pip install polars -q\n",
    "\n",
    "import pandas as pd\n",
    "import numpy as np\n",
    "import time\n",
    "import pyarrow.parquet as pq\n",
    "import scipy\n",
    "import implicit\n",
    "import bisect\n",
    "import sklearn.metrics as m\n",
    "from catboost import CatBoostClassifier, CatBoostRegressor, Pool\n",
    "from sklearn.model_selection import train_test_split\n",
    "from sklearn.model_selection import KFold\n",
    "from sklearn.calibration import calibration_curve, CalibratedClassifierCV\n",
    "from sklearn.ensemble import RandomForestClassifier\n",
    "from sklearn.datasets import make_classification\n",
    "import tensorflow as tf\n",
    "import seaborn as sns\n",
    "import matplotlib.pyplot as plt\n",
    "import plotly.express as px\n",
    "import pyarrow as pa\n",
    "import polars as pl\n",
    "\n",
    "%matplotlib inline\n",
    "sns.set_style('darkgrid')"
   ]
  },
  {
   "cell_type": "markdown",
   "id": "b6802efd",
   "metadata": {
    "papermill": {
     "duration": 0.008275,
     "end_time": "2023-03-08T18:07:11.499453",
     "exception": false,
     "start_time": "2023-03-08T18:07:11.491178",
     "status": "completed"
    },
    "tags": []
   },
   "source": [
    "## Showing data"
   ]
  },
  {
   "cell_type": "code",
   "execution_count": 4,
   "id": "bb7ab03b",
   "metadata": {
    "execution": {
     "iopub.execute_input": "2023-03-08T18:07:11.519365Z",
     "iopub.status.busy": "2023-03-08T18:07:11.518882Z",
     "iopub.status.idle": "2023-03-08T18:07:11.600744Z",
     "shell.execute_reply": "2023-03-08T18:07:11.598877Z"
    },
    "papermill": {
     "duration": 0.094424,
     "end_time": "2023-03-08T18:07:11.603248",
     "exception": false,
     "start_time": "2023-03-08T18:07:11.508824",
     "status": "completed"
    },
    "tags": []
   },
   "outputs": [],
   "source": [
    "id_to_submit = pd.read_feather(f'{LOCAL_DATA_PATH}/{SUBMISSION_FILE}')"
   ]
  },
  {
   "cell_type": "code",
   "execution_count": 5,
   "id": "5aabfb8c",
   "metadata": {
    "execution": {
     "iopub.execute_input": "2023-03-08T18:07:11.621923Z",
     "iopub.status.busy": "2023-03-08T18:07:11.621467Z",
     "iopub.status.idle": "2023-03-08T18:07:11.643296Z",
     "shell.execute_reply": "2023-03-08T18:07:11.642102Z"
    },
    "papermill": {
     "duration": 0.034164,
     "end_time": "2023-03-08T18:07:11.645914",
     "exception": false,
     "start_time": "2023-03-08T18:07:11.611750",
     "status": "completed"
    },
    "tags": []
   },
   "outputs": [
    {
     "data": {
      "text/html": [
       "<div>\n",
       "<style scoped>\n",
       "    .dataframe tbody tr th:only-of-type {\n",
       "        vertical-align: middle;\n",
       "    }\n",
       "\n",
       "    .dataframe tbody tr th {\n",
       "        vertical-align: top;\n",
       "    }\n",
       "\n",
       "    .dataframe thead th {\n",
       "        text-align: right;\n",
       "    }\n",
       "</style>\n",
       "<table border=\"1\" class=\"dataframe\">\n",
       "  <thead>\n",
       "    <tr style=\"text-align: right;\">\n",
       "      <th></th>\n",
       "      <th>user_id</th>\n",
       "    </tr>\n",
       "  </thead>\n",
       "  <tbody>\n",
       "    <tr>\n",
       "      <th>0</th>\n",
       "      <td>221301</td>\n",
       "    </tr>\n",
       "    <tr>\n",
       "      <th>1</th>\n",
       "      <td>31271</td>\n",
       "    </tr>\n",
       "    <tr>\n",
       "      <th>2</th>\n",
       "      <td>211594</td>\n",
       "    </tr>\n",
       "  </tbody>\n",
       "</table>\n",
       "</div>"
      ],
      "text/plain": [
       "   user_id\n",
       "0   221301\n",
       "1    31271\n",
       "2   211594"
      ]
     },
     "metadata": {},
     "output_type": "display_data"
    },
    {
     "data": {
      "text/plain": [
       "<bound method DataFrame.info of         user_id\n",
       "0        221301\n",
       "1         31271\n",
       "2        211594\n",
       "3        253119\n",
       "4        192578\n",
       "...         ...\n",
       "144719   415284\n",
       "144720   415285\n",
       "144721   415286\n",
       "144722   415306\n",
       "144723   415315\n",
       "\n",
       "[144724 rows x 1 columns]>"
      ]
     },
     "execution_count": 5,
     "metadata": {},
     "output_type": "execute_result"
    }
   ],
   "source": [
    "display(id_to_submit.head(3))\n",
    "id_to_submit.info"
   ]
  },
  {
   "cell_type": "code",
   "execution_count": 6,
   "id": "69307c6a",
   "metadata": {
    "execution": {
     "iopub.execute_input": "2023-03-08T18:07:11.666346Z",
     "iopub.status.busy": "2023-03-08T18:07:11.665243Z",
     "iopub.status.idle": "2023-03-08T18:07:51.061724Z",
     "shell.execute_reply": "2023-03-08T18:07:51.059983Z"
    },
    "papermill": {
     "duration": 39.409426,
     "end_time": "2023-03-08T18:07:51.064457",
     "exception": false,
     "start_time": "2023-03-08T18:07:11.655031",
     "status": "completed"
    },
    "tags": []
   },
   "outputs": [],
   "source": [
    "data = pd.read_feather(f'{LOCAL_DATA_PATH}/{DATA_FILE}')"
   ]
  },
  {
   "cell_type": "code",
   "execution_count": 7,
   "id": "a8c020c4",
   "metadata": {
    "execution": {
     "iopub.execute_input": "2023-03-08T18:07:51.084614Z",
     "iopub.status.busy": "2023-03-08T18:07:51.084194Z",
     "iopub.status.idle": "2023-03-08T18:08:16.731892Z",
     "shell.execute_reply": "2023-03-08T18:08:16.730185Z"
    },
    "papermill": {
     "duration": 25.661251,
     "end_time": "2023-03-08T18:08:16.734848",
     "exception": false,
     "start_time": "2023-03-08T18:07:51.073597",
     "status": "completed"
    },
    "tags": []
   },
   "outputs": [
    {
     "data": {
      "text/html": [
       "<div>\n",
       "<style scoped>\n",
       "    .dataframe tbody tr th:only-of-type {\n",
       "        vertical-align: middle;\n",
       "    }\n",
       "\n",
       "    .dataframe tbody tr th {\n",
       "        vertical-align: top;\n",
       "    }\n",
       "\n",
       "    .dataframe thead th {\n",
       "        text-align: right;\n",
       "    }\n",
       "</style>\n",
       "<table border=\"1\" class=\"dataframe\">\n",
       "  <thead>\n",
       "    <tr style=\"text-align: right;\">\n",
       "      <th></th>\n",
       "      <th>region_name</th>\n",
       "      <th>city_name</th>\n",
       "      <th>cpe_manufacturer_name</th>\n",
       "      <th>cpe_model_name</th>\n",
       "      <th>url_host</th>\n",
       "      <th>cpe_type_cd</th>\n",
       "      <th>cpe_model_os_type</th>\n",
       "      <th>price</th>\n",
       "      <th>date</th>\n",
       "      <th>part_of_day</th>\n",
       "      <th>request_cnt</th>\n",
       "      <th>user_id</th>\n",
       "    </tr>\n",
       "  </thead>\n",
       "  <tbody>\n",
       "    <tr>\n",
       "      <th>0</th>\n",
       "      <td>Краснодарский край</td>\n",
       "      <td>Краснодар</td>\n",
       "      <td>Apple</td>\n",
       "      <td>iPhone 7</td>\n",
       "      <td>ad.adriver.ru</td>\n",
       "      <td>smartphone</td>\n",
       "      <td>iOS</td>\n",
       "      <td>20368.0</td>\n",
       "      <td>2022-06-15</td>\n",
       "      <td>morning</td>\n",
       "      <td>1</td>\n",
       "      <td>45098</td>\n",
       "    </tr>\n",
       "    <tr>\n",
       "      <th>1</th>\n",
       "      <td>Краснодарский край</td>\n",
       "      <td>Краснодар</td>\n",
       "      <td>Apple</td>\n",
       "      <td>iPhone 7</td>\n",
       "      <td>apple.com</td>\n",
       "      <td>smartphone</td>\n",
       "      <td>iOS</td>\n",
       "      <td>20368.0</td>\n",
       "      <td>2022-06-19</td>\n",
       "      <td>morning</td>\n",
       "      <td>1</td>\n",
       "      <td>45098</td>\n",
       "    </tr>\n",
       "    <tr>\n",
       "      <th>2</th>\n",
       "      <td>Краснодарский край</td>\n",
       "      <td>Краснодар</td>\n",
       "      <td>Apple</td>\n",
       "      <td>iPhone 7</td>\n",
       "      <td>avatars.mds.yandex.net</td>\n",
       "      <td>smartphone</td>\n",
       "      <td>iOS</td>\n",
       "      <td>20368.0</td>\n",
       "      <td>2022-06-12</td>\n",
       "      <td>day</td>\n",
       "      <td>1</td>\n",
       "      <td>45098</td>\n",
       "    </tr>\n",
       "    <tr>\n",
       "      <th>3</th>\n",
       "      <td>Краснодарский край</td>\n",
       "      <td>Краснодар</td>\n",
       "      <td>Apple</td>\n",
       "      <td>iPhone 7</td>\n",
       "      <td>googleads.g.doubleclick.net</td>\n",
       "      <td>smartphone</td>\n",
       "      <td>iOS</td>\n",
       "      <td>20368.0</td>\n",
       "      <td>2022-05-16</td>\n",
       "      <td>day</td>\n",
       "      <td>1</td>\n",
       "      <td>45098</td>\n",
       "    </tr>\n",
       "    <tr>\n",
       "      <th>4</th>\n",
       "      <td>Краснодарский край</td>\n",
       "      <td>Краснодар</td>\n",
       "      <td>Apple</td>\n",
       "      <td>iPhone 7</td>\n",
       "      <td>googleads.g.doubleclick.net</td>\n",
       "      <td>smartphone</td>\n",
       "      <td>iOS</td>\n",
       "      <td>20368.0</td>\n",
       "      <td>2022-05-30</td>\n",
       "      <td>day</td>\n",
       "      <td>1</td>\n",
       "      <td>45098</td>\n",
       "    </tr>\n",
       "  </tbody>\n",
       "</table>\n",
       "</div>"
      ],
      "text/plain": [
       "          region_name  city_name cpe_manufacturer_name cpe_model_name  \\\n",
       "0  Краснодарский край  Краснодар                 Apple       iPhone 7   \n",
       "1  Краснодарский край  Краснодар                 Apple       iPhone 7   \n",
       "2  Краснодарский край  Краснодар                 Apple       iPhone 7   \n",
       "3  Краснодарский край  Краснодар                 Apple       iPhone 7   \n",
       "4  Краснодарский край  Краснодар                 Apple       iPhone 7   \n",
       "\n",
       "                      url_host cpe_type_cd cpe_model_os_type    price  \\\n",
       "0                ad.adriver.ru  smartphone               iOS  20368.0   \n",
       "1                    apple.com  smartphone               iOS  20368.0   \n",
       "2       avatars.mds.yandex.net  smartphone               iOS  20368.0   \n",
       "3  googleads.g.doubleclick.net  smartphone               iOS  20368.0   \n",
       "4  googleads.g.doubleclick.net  smartphone               iOS  20368.0   \n",
       "\n",
       "        date part_of_day  request_cnt  user_id  \n",
       "0 2022-06-15     morning            1    45098  \n",
       "1 2022-06-19     morning            1    45098  \n",
       "2 2022-06-12         day            1    45098  \n",
       "3 2022-05-16         day            1    45098  \n",
       "4 2022-05-30         day            1    45098  "
      ]
     },
     "metadata": {},
     "output_type": "display_data"
    },
    {
     "data": {
      "text/html": [
       "<div>\n",
       "<style scoped>\n",
       "    .dataframe tbody tr th:only-of-type {\n",
       "        vertical-align: middle;\n",
       "    }\n",
       "\n",
       "    .dataframe tbody tr th {\n",
       "        vertical-align: top;\n",
       "    }\n",
       "\n",
       "    .dataframe thead th {\n",
       "        text-align: right;\n",
       "    }\n",
       "</style>\n",
       "<table border=\"1\" class=\"dataframe\">\n",
       "  <thead>\n",
       "    <tr style=\"text-align: right;\">\n",
       "      <th></th>\n",
       "      <th>price</th>\n",
       "      <th>request_cnt</th>\n",
       "      <th>user_id</th>\n",
       "    </tr>\n",
       "  </thead>\n",
       "  <tbody>\n",
       "    <tr>\n",
       "      <th>count</th>\n",
       "      <td>3.163100e+08</td>\n",
       "      <td>3.228994e+08</td>\n",
       "      <td>3.228994e+08</td>\n",
       "    </tr>\n",
       "    <tr>\n",
       "      <th>mean</th>\n",
       "      <td>3.308510e+04</td>\n",
       "      <td>1.724197e+00</td>\n",
       "      <td>2.070983e+05</td>\n",
       "    </tr>\n",
       "    <tr>\n",
       "      <th>std</th>\n",
       "      <td>2.583592e+04</td>\n",
       "      <td>1.213835e+00</td>\n",
       "      <td>1.200584e+05</td>\n",
       "    </tr>\n",
       "    <tr>\n",
       "      <th>min</th>\n",
       "      <td>9.000000e+01</td>\n",
       "      <td>1.000000e+00</td>\n",
       "      <td>0.000000e+00</td>\n",
       "    </tr>\n",
       "    <tr>\n",
       "      <th>25%</th>\n",
       "      <td>1.397400e+04</td>\n",
       "      <td>1.000000e+00</td>\n",
       "      <td>1.027880e+05</td>\n",
       "    </tr>\n",
       "    <tr>\n",
       "      <th>50%</th>\n",
       "      <td>2.199000e+04</td>\n",
       "      <td>1.000000e+00</td>\n",
       "      <td>2.068870e+05</td>\n",
       "    </tr>\n",
       "    <tr>\n",
       "      <th>75%</th>\n",
       "      <td>4.999000e+04</td>\n",
       "      <td>2.000000e+00</td>\n",
       "      <td>3.113950e+05</td>\n",
       "    </tr>\n",
       "    <tr>\n",
       "      <th>max</th>\n",
       "      <td>1.956570e+05</td>\n",
       "      <td>1.600000e+01</td>\n",
       "      <td>4.153160e+05</td>\n",
       "    </tr>\n",
       "  </tbody>\n",
       "</table>\n",
       "</div>"
      ],
      "text/plain": [
       "              price   request_cnt       user_id\n",
       "count  3.163100e+08  3.228994e+08  3.228994e+08\n",
       "mean   3.308510e+04  1.724197e+00  2.070983e+05\n",
       "std    2.583592e+04  1.213835e+00  1.200584e+05\n",
       "min    9.000000e+01  1.000000e+00  0.000000e+00\n",
       "25%    1.397400e+04  1.000000e+00  1.027880e+05\n",
       "50%    2.199000e+04  1.000000e+00  2.068870e+05\n",
       "75%    4.999000e+04  2.000000e+00  3.113950e+05\n",
       "max    1.956570e+05  1.600000e+01  4.153160e+05"
      ]
     },
     "execution_count": 7,
     "metadata": {},
     "output_type": "execute_result"
    }
   ],
   "source": [
    "display(data.head())\n",
    "data.describe()"
   ]
  },
  {
   "cell_type": "code",
   "execution_count": 8,
   "id": "dc53f062",
   "metadata": {
    "execution": {
     "iopub.execute_input": "2023-03-08T18:08:16.757342Z",
     "iopub.status.busy": "2023-03-08T18:08:16.756956Z",
     "iopub.status.idle": "2023-03-08T18:08:22.678741Z",
     "shell.execute_reply": "2023-03-08T18:08:22.677477Z"
    },
    "papermill": {
     "duration": 5.937528,
     "end_time": "2023-03-08T18:08:22.683196",
     "exception": false,
     "start_time": "2023-03-08T18:08:16.745668",
     "status": "completed"
    },
    "tags": []
   },
   "outputs": [
    {
     "name": "stdout",
     "output_type": "stream",
     "text": [
      "<class 'pandas.core.series.Series'>\n",
      "<class 'pandas.core.series.Series'>\n",
      "<class 'pandas.core.series.Series'>\n",
      "<class 'pandas.core.series.Series'>\n",
      "<class 'pandas.core.series.Series'>\n",
      "<class 'pandas.core.series.Series'>\n",
      "<class 'pandas.core.series.Series'>\n",
      "<class 'pandas.core.series.Series'>\n"
     ]
    },
    {
     "data": {
      "text/html": [
       "<div>\n",
       "<style scoped>\n",
       "    .dataframe tbody tr th:only-of-type {\n",
       "        vertical-align: middle;\n",
       "    }\n",
       "\n",
       "    .dataframe tbody tr th {\n",
       "        vertical-align: top;\n",
       "    }\n",
       "\n",
       "    .dataframe thead th {\n",
       "        text-align: right;\n",
       "    }\n",
       "</style>\n",
       "<table border=\"1\" class=\"dataframe\">\n",
       "  <thead>\n",
       "    <tr style=\"text-align: right;\">\n",
       "      <th></th>\n",
       "      <th>region_name</th>\n",
       "      <th>city_name</th>\n",
       "      <th>cpe_manufacturer_name</th>\n",
       "      <th>cpe_model_name</th>\n",
       "      <th>url_host</th>\n",
       "      <th>cpe_type_cd</th>\n",
       "      <th>cpe_model_os_type</th>\n",
       "      <th>price</th>\n",
       "      <th>date</th>\n",
       "      <th>part_of_day</th>\n",
       "      <th>request_cnt</th>\n",
       "      <th>user_id</th>\n",
       "    </tr>\n",
       "  </thead>\n",
       "  <tbody>\n",
       "    <tr>\n",
       "      <th>0</th>\n",
       "      <td>21</td>\n",
       "      <td>409</td>\n",
       "      <td>1</td>\n",
       "      <td>589</td>\n",
       "      <td>5788</td>\n",
       "      <td>2</td>\n",
       "      <td>2</td>\n",
       "      <td>20368.0</td>\n",
       "      <td>2022-06-15</td>\n",
       "      <td>2</td>\n",
       "      <td>1</td>\n",
       "      <td>45098</td>\n",
       "    </tr>\n",
       "    <tr>\n",
       "      <th>1</th>\n",
       "      <td>21</td>\n",
       "      <td>409</td>\n",
       "      <td>1</td>\n",
       "      <td>589</td>\n",
       "      <td>12900</td>\n",
       "      <td>2</td>\n",
       "      <td>2</td>\n",
       "      <td>20368.0</td>\n",
       "      <td>2022-06-19</td>\n",
       "      <td>2</td>\n",
       "      <td>1</td>\n",
       "      <td>45098</td>\n",
       "    </tr>\n",
       "    <tr>\n",
       "      <th>2</th>\n",
       "      <td>21</td>\n",
       "      <td>409</td>\n",
       "      <td>1</td>\n",
       "      <td>589</td>\n",
       "      <td>17626</td>\n",
       "      <td>2</td>\n",
       "      <td>2</td>\n",
       "      <td>20368.0</td>\n",
       "      <td>2022-06-12</td>\n",
       "      <td>0</td>\n",
       "      <td>1</td>\n",
       "      <td>45098</td>\n",
       "    </tr>\n",
       "    <tr>\n",
       "      <th>3</th>\n",
       "      <td>21</td>\n",
       "      <td>409</td>\n",
       "      <td>1</td>\n",
       "      <td>589</td>\n",
       "      <td>59366</td>\n",
       "      <td>2</td>\n",
       "      <td>2</td>\n",
       "      <td>20368.0</td>\n",
       "      <td>2022-05-16</td>\n",
       "      <td>0</td>\n",
       "      <td>1</td>\n",
       "      <td>45098</td>\n",
       "    </tr>\n",
       "    <tr>\n",
       "      <th>4</th>\n",
       "      <td>21</td>\n",
       "      <td>409</td>\n",
       "      <td>1</td>\n",
       "      <td>589</td>\n",
       "      <td>59366</td>\n",
       "      <td>2</td>\n",
       "      <td>2</td>\n",
       "      <td>20368.0</td>\n",
       "      <td>2022-05-30</td>\n",
       "      <td>0</td>\n",
       "      <td>1</td>\n",
       "      <td>45098</td>\n",
       "    </tr>\n",
       "  </tbody>\n",
       "</table>\n",
       "</div>"
      ],
      "text/plain": [
       "   region_name  city_name  cpe_manufacturer_name  cpe_model_name  url_host  \\\n",
       "0           21        409                      1             589      5788   \n",
       "1           21        409                      1             589     12900   \n",
       "2           21        409                      1             589     17626   \n",
       "3           21        409                      1             589     59366   \n",
       "4           21        409                      1             589     59366   \n",
       "\n",
       "   cpe_type_cd  cpe_model_os_type    price       date  part_of_day  \\\n",
       "0            2                  2  20368.0 2022-06-15            2   \n",
       "1            2                  2  20368.0 2022-06-19            2   \n",
       "2            2                  2  20368.0 2022-06-12            0   \n",
       "3            2                  2  20368.0 2022-05-16            0   \n",
       "4            2                  2  20368.0 2022-05-30            0   \n",
       "\n",
       "   request_cnt  user_id  \n",
       "0            1    45098  \n",
       "1            1    45098  \n",
       "2            1    45098  \n",
       "3            1    45098  \n",
       "4            1    45098  "
      ]
     },
     "execution_count": 8,
     "metadata": {},
     "output_type": "execute_result"
    }
   ],
   "source": [
    "for column in data.columns:\n",
    "    if column != \"date\" and column !=\"price\" and column !=\"user_id\" and column !=\"request_cnt\":\n",
    "        print(type(data[column]))\n",
    "        data[column] = data[column].cat.codes\n",
    "    elif column == \"date\":\n",
    "        data[\"date\"] = pd.to_datetime(data[\"date\"])\n",
    "\n",
    "data.head()"
   ]
  },
  {
   "cell_type": "code",
   "execution_count": 9,
   "id": "00ad9fc8",
   "metadata": {
    "execution": {
     "iopub.execute_input": "2023-03-08T18:08:22.705282Z",
     "iopub.status.busy": "2023-03-08T18:08:22.704637Z",
     "iopub.status.idle": "2023-03-08T18:08:25.163136Z",
     "shell.execute_reply": "2023-03-08T18:08:25.161176Z"
    },
    "papermill": {
     "duration": 2.472777,
     "end_time": "2023-03-08T18:08:25.166061",
     "exception": false,
     "start_time": "2023-03-08T18:08:22.693284",
     "status": "completed"
    },
    "tags": []
   },
   "outputs": [],
   "source": [
    "data = pl.from_pandas(data)"
   ]
  },
  {
   "cell_type": "code",
   "execution_count": 10,
   "id": "14a34d61",
   "metadata": {
    "execution": {
     "iopub.execute_input": "2023-03-08T18:08:25.188037Z",
     "iopub.status.busy": "2023-03-08T18:08:25.187682Z",
     "iopub.status.idle": "2023-03-08T18:08:27.313874Z",
     "shell.execute_reply": "2023-03-08T18:08:27.312252Z"
    },
    "papermill": {
     "duration": 2.140403,
     "end_time": "2023-03-08T18:08:27.316972",
     "exception": false,
     "start_time": "2023-03-08T18:08:25.176569",
     "status": "completed"
    },
    "tags": []
   },
   "outputs": [
    {
     "data": {
      "text/plain": [
       "2    322781599\n",
       "3        53768\n",
       "1        36116\n",
       "0        27952\n",
       "Name: cpe_type_cd, dtype: int64"
      ]
     },
     "execution_count": 10,
     "metadata": {},
     "output_type": "execute_result"
    }
   ],
   "source": [
    "data.select(['cpe_type_cd']).to_pandas()['cpe_type_cd'].value_counts()"
   ]
  },
  {
   "cell_type": "code",
   "execution_count": 11,
   "id": "137667b2",
   "metadata": {
    "execution": {
     "iopub.execute_input": "2023-03-08T18:08:27.338716Z",
     "iopub.status.busy": "2023-03-08T18:08:27.338345Z",
     "iopub.status.idle": "2023-03-08T18:08:34.022120Z",
     "shell.execute_reply": "2023-03-08T18:08:34.020043Z"
    },
    "papermill": {
     "duration": 6.697788,
     "end_time": "2023-03-08T18:08:34.024914",
     "exception": false,
     "start_time": "2023-03-08T18:08:27.327126",
     "status": "completed"
    },
    "tags": []
   },
   "outputs": [
    {
     "data": {
      "text/html": [
       "<div>\n",
       "<style>\n",
       ".pl-dataframe > thead > tr > th {\n",
       "  text-align: right;\n",
       "}\n",
       "</style>\n",
       "\n",
       "<table border=\"1\" class=\"dataframe pl-dataframe\">\n",
       "<small>shape: (4, 2)</small>\n",
       "<thead>\n",
       "<tr>\n",
       "<th>\n",
       "cpe_type_cd\n",
       "</th>\n",
       "<th>\n",
       "counts\n",
       "</th>\n",
       "</tr>\n",
       "<tr>\n",
       "<td>\n",
       "i8\n",
       "</td>\n",
       "<td>\n",
       "u32\n",
       "</td>\n",
       "</tr>\n",
       "</thead>\n",
       "<tbody>\n",
       "<tr>\n",
       "<td>\n",
       "0\n",
       "</td>\n",
       "<td>\n",
       "27952\n",
       "</td>\n",
       "</tr>\n",
       "<tr>\n",
       "<td>\n",
       "3\n",
       "</td>\n",
       "<td>\n",
       "53768\n",
       "</td>\n",
       "</tr>\n",
       "<tr>\n",
       "<td>\n",
       "2\n",
       "</td>\n",
       "<td>\n",
       "322781599\n",
       "</td>\n",
       "</tr>\n",
       "<tr>\n",
       "<td>\n",
       "1\n",
       "</td>\n",
       "<td>\n",
       "36116\n",
       "</td>\n",
       "</tr>\n",
       "</tbody>\n",
       "</table>\n",
       "</div>"
      ],
      "text/plain": [
       "shape: (4, 2)\n",
       "┌─────────────┬───────────┐\n",
       "│ cpe_type_cd ┆ counts    │\n",
       "│ ---         ┆ ---       │\n",
       "│ i8          ┆ u32       │\n",
       "╞═════════════╪═══════════╡\n",
       "│ 0           ┆ 27952     │\n",
       "│ 3           ┆ 53768     │\n",
       "│ 2           ┆ 322781599 │\n",
       "│ 1           ┆ 36116     │\n",
       "└─────────────┴───────────┘"
      ]
     },
     "execution_count": 11,
     "metadata": {},
     "output_type": "execute_result"
    }
   ],
   "source": [
    "data['cpe_type_cd'].value_counts()"
   ]
  },
  {
   "cell_type": "code",
   "execution_count": 12,
   "id": "bdfcb808",
   "metadata": {
    "execution": {
     "iopub.execute_input": "2023-03-08T18:08:34.048172Z",
     "iopub.status.busy": "2023-03-08T18:08:34.047823Z",
     "iopub.status.idle": "2023-03-08T18:08:34.199045Z",
     "shell.execute_reply": "2023-03-08T18:08:34.197133Z"
    },
    "papermill": {
     "duration": 0.166091,
     "end_time": "2023-03-08T18:08:34.201832",
     "exception": false,
     "start_time": "2023-03-08T18:08:34.035741",
     "status": "completed"
    },
    "tags": []
   },
   "outputs": [
    {
     "data": {
      "text/html": [
       "<div>\n",
       "<style scoped>\n",
       "    .dataframe tbody tr th:only-of-type {\n",
       "        vertical-align: middle;\n",
       "    }\n",
       "\n",
       "    .dataframe tbody tr th {\n",
       "        vertical-align: top;\n",
       "    }\n",
       "\n",
       "    .dataframe thead th {\n",
       "        text-align: right;\n",
       "    }\n",
       "</style>\n",
       "<table border=\"1\" class=\"dataframe\">\n",
       "  <thead>\n",
       "    <tr style=\"text-align: right;\">\n",
       "      <th></th>\n",
       "      <th>age</th>\n",
       "      <th>is_male</th>\n",
       "      <th>user_id</th>\n",
       "    </tr>\n",
       "  </thead>\n",
       "  <tbody>\n",
       "    <tr>\n",
       "      <th>0</th>\n",
       "      <td>31.0</td>\n",
       "      <td>1</td>\n",
       "      <td>350459</td>\n",
       "    </tr>\n",
       "    <tr>\n",
       "      <th>1</th>\n",
       "      <td>35.0</td>\n",
       "      <td>1</td>\n",
       "      <td>188276</td>\n",
       "    </tr>\n",
       "    <tr>\n",
       "      <th>2</th>\n",
       "      <td>41.0</td>\n",
       "      <td>0</td>\n",
       "      <td>99002</td>\n",
       "    </tr>\n",
       "    <tr>\n",
       "      <th>3</th>\n",
       "      <td>33.0</td>\n",
       "      <td>0</td>\n",
       "      <td>155506</td>\n",
       "    </tr>\n",
       "    <tr>\n",
       "      <th>4</th>\n",
       "      <td>54.0</td>\n",
       "      <td>0</td>\n",
       "      <td>213873</td>\n",
       "    </tr>\n",
       "  </tbody>\n",
       "</table>\n",
       "</div>"
      ],
      "text/plain": [
       "    age is_male  user_id\n",
       "0  31.0       1   350459\n",
       "1  35.0       1   188276\n",
       "2  41.0       0    99002\n",
       "3  33.0       0   155506\n",
       "4  54.0       0   213873"
      ]
     },
     "execution_count": 12,
     "metadata": {},
     "output_type": "execute_result"
    }
   ],
   "source": [
    "targets = pd.read_feather(f'{LOCAL_DATA_PATH}/{TARGET_FILE}')\n",
    "targets.head()"
   ]
  },
  {
   "cell_type": "code",
   "execution_count": 13,
   "id": "af8e180a",
   "metadata": {
    "execution": {
     "iopub.execute_input": "2023-03-08T18:08:34.225247Z",
     "iopub.status.busy": "2023-03-08T18:08:34.224879Z",
     "iopub.status.idle": "2023-03-08T18:08:34.247129Z",
     "shell.execute_reply": "2023-03-08T18:08:34.246506Z"
    },
    "papermill": {
     "duration": 0.036289,
     "end_time": "2023-03-08T18:08:34.249127",
     "exception": false,
     "start_time": "2023-03-08T18:08:34.212838",
     "status": "completed"
    },
    "tags": []
   },
   "outputs": [
    {
     "data": {
      "text/html": [
       "<div>\n",
       "<style scoped>\n",
       "    .dataframe tbody tr th:only-of-type {\n",
       "        vertical-align: middle;\n",
       "    }\n",
       "\n",
       "    .dataframe tbody tr th {\n",
       "        vertical-align: top;\n",
       "    }\n",
       "\n",
       "    .dataframe thead tr th {\n",
       "        text-align: left;\n",
       "    }\n",
       "</style>\n",
       "<table border=\"1\" class=\"dataframe\">\n",
       "  <thead>\n",
       "    <tr>\n",
       "      <th></th>\n",
       "      <th>field</th>\n",
       "      <th>type</th>\n",
       "    </tr>\n",
       "  </thead>\n",
       "  <tbody>\n",
       "    <tr>\n",
       "      <th>0</th>\n",
       "      <td>age</td>\n",
       "      <td>double</td>\n",
       "    </tr>\n",
       "    <tr>\n",
       "      <th>1</th>\n",
       "      <td>is_male</td>\n",
       "      <td>string</td>\n",
       "    </tr>\n",
       "    <tr>\n",
       "      <th>2</th>\n",
       "      <td>user_id</td>\n",
       "      <td>int64</td>\n",
       "    </tr>\n",
       "  </tbody>\n",
       "</table>\n",
       "</div>"
      ],
      "text/plain": [
       "     field    type\n",
       "0      age  double\n",
       "1  is_male  string\n",
       "2  user_id   int64"
      ]
     },
     "execution_count": 13,
     "metadata": {},
     "output_type": "execute_result"
    }
   ],
   "source": [
    "targets = pa.Table.from_pandas(targets)\n",
    "pd.DataFrame([(z.name, z.type) for z in targets.schema], columns = [['field', 'type']])"
   ]
  },
  {
   "cell_type": "markdown",
   "id": "32d023da",
   "metadata": {
    "papermill": {
     "duration": 0.010005,
     "end_time": "2023-03-08T18:08:34.269326",
     "exception": false,
     "start_time": "2023-03-08T18:08:34.259321",
     "status": "completed"
    },
    "tags": []
   },
   "source": [
    "## Counting users <-> items embedding"
   ]
  },
  {
   "cell_type": "code",
   "execution_count": 14,
   "id": "cabb1fb5",
   "metadata": {
    "execution": {
     "iopub.execute_input": "2023-03-08T18:08:34.291968Z",
     "iopub.status.busy": "2023-03-08T18:08:34.290973Z",
     "iopub.status.idle": "2023-03-08T18:09:05.548032Z",
     "shell.execute_reply": "2023-03-08T18:09:05.546399Z"
    },
    "papermill": {
     "duration": 31.27144,
     "end_time": "2023-03-08T18:09:05.550905",
     "exception": false,
     "start_time": "2023-03-08T18:08:34.279465",
     "status": "completed"
    },
    "tags": []
   },
   "outputs": [
    {
     "name": "stdout",
     "output_type": "stream",
     "text": [
      "199683 urls\n",
      "415317 users\n",
      "CPU times: user 58.6 s, sys: 18.6 s, total: 1min 17s\n",
      "Wall time: 31.2 s\n"
     ]
    }
   ],
   "source": [
    "%%time\n",
    "if (IS_EMBEDDING_USED):\n",
    "    data_agg = data.groupby(['user_id', 'url_host'], maintain_order=True).agg(\n",
    "        pl.sum(\"request_cnt\")\n",
    "    )\n",
    "    url_set = set(data_agg.select(['url_host']).to_pandas()['url_host'])\n",
    "    print(f'{len(url_set)} urls')\n",
    "    url_dict = {url: idurl for url, idurl in zip(url_set, range(len(url_set)))}\n",
    "    usr_set = set(data_agg.select(['user_id']).to_pandas()['user_id'])\n",
    "    print(f'{len(usr_set)} users')\n",
    "    usr_dict = {usr: user_id for usr, user_id in zip(usr_set, range(len(usr_set)))}"
   ]
  },
  {
   "cell_type": "code",
   "execution_count": 15,
   "id": "c341b44c",
   "metadata": {
    "execution": {
     "iopub.execute_input": "2023-03-08T18:09:05.573552Z",
     "iopub.status.busy": "2023-03-08T18:09:05.573213Z",
     "iopub.status.idle": "2023-03-08T18:09:07.391998Z",
     "shell.execute_reply": "2023-03-08T18:09:07.390421Z"
    },
    "papermill": {
     "duration": 1.833434,
     "end_time": "2023-03-08T18:09:07.394966",
     "exception": false,
     "start_time": "2023-03-08T18:09:05.561532",
     "status": "completed"
    },
    "tags": []
   },
   "outputs": [
    {
     "name": "stdout",
     "output_type": "stream",
     "text": [
      "CPU times: user 1.57 s, sys: 239 ms, total: 1.81 s\n",
      "Wall time: 1.81 s\n"
     ]
    }
   ],
   "source": [
    "%%time\n",
    "if (IS_EMBEDDING_USED):\n",
    "    values = np.array(data_agg['request_cnt'].to_pandas())\n",
    "    rows = np.array(data_agg['user_id'].to_pandas().map(usr_dict))\n",
    "    cols = np.array(data_agg['url_host'].to_pandas().map(url_dict))\n",
    "    mat = scipy.sparse.coo_matrix((values, (rows, cols)), shape=(rows.max() + 1, cols.max() + 1))\n",
    "    als = implicit.approximate_als.FaissAlternatingLeastSquares(\n",
    "        factors = 50, iterations = FAISS_ITERATIONS, use_gpu = False, calculate_training_loss = True, regularization = 0.1\n",
    "    )"
   ]
  },
  {
   "cell_type": "code",
   "execution_count": 16,
   "id": "9bba3fa2",
   "metadata": {
    "execution": {
     "iopub.execute_input": "2023-03-08T18:09:07.418632Z",
     "iopub.status.busy": "2023-03-08T18:09:07.418256Z",
     "iopub.status.idle": "2023-03-08T18:10:03.224896Z",
     "shell.execute_reply": "2023-03-08T18:10:03.224046Z"
    },
    "papermill": {
     "duration": 55.821513,
     "end_time": "2023-03-08T18:10:03.227386",
     "exception": false,
     "start_time": "2023-03-08T18:09:07.405873",
     "status": "completed"
    },
    "tags": []
   },
   "outputs": [
    {
     "data": {
      "application/vnd.jupyter.widget-view+json": {
       "model_id": "b7f4ae7c83af40dd8f1cc36069575c3e",
       "version_major": 2,
       "version_minor": 0
      },
      "text/plain": [
       "  0%|          | 0/5 [00:00<?, ?it/s]"
      ]
     },
     "metadata": {},
     "output_type": "display_data"
    },
    {
     "name": "stdout",
     "output_type": "stream",
     "text": [
      "CPU times: user 3min 20s, sys: 2.47 s, total: 3min 22s\n",
      "Wall time: 55.8 s\n"
     ]
    }
   ],
   "source": [
    "%%time\n",
    "if (IS_EMBEDDING_USED):\n",
    "    als.fit(mat)"
   ]
  },
  {
   "cell_type": "code",
   "execution_count": 17,
   "id": "c81234af",
   "metadata": {
    "execution": {
     "iopub.execute_input": "2023-03-08T18:10:03.251044Z",
     "iopub.status.busy": "2023-03-08T18:10:03.250692Z",
     "iopub.status.idle": "2023-03-08T18:10:03.255207Z",
     "shell.execute_reply": "2023-03-08T18:10:03.254566Z"
    },
    "papermill": {
     "duration": 0.019034,
     "end_time": "2023-03-08T18:10:03.257731",
     "exception": false,
     "start_time": "2023-03-08T18:10:03.238697",
     "status": "completed"
    },
    "tags": []
   },
   "outputs": [
    {
     "name": "stdout",
     "output_type": "stream",
     "text": [
      "199683\n"
     ]
    }
   ],
   "source": [
    "if (IS_EMBEDDING_USED):\n",
    "    u_factors = als.user_factors \n",
    "    print(len(u_factors))"
   ]
  },
  {
   "cell_type": "code",
   "execution_count": 18,
   "id": "cb946ab3",
   "metadata": {
    "execution": {
     "iopub.execute_input": "2023-03-08T18:10:03.281039Z",
     "iopub.status.busy": "2023-03-08T18:10:03.280400Z",
     "iopub.status.idle": "2023-03-08T18:10:03.286292Z",
     "shell.execute_reply": "2023-03-08T18:10:03.284768Z"
    },
    "papermill": {
     "duration": 0.020263,
     "end_time": "2023-03-08T18:10:03.288642",
     "exception": false,
     "start_time": "2023-03-08T18:10:03.268379",
     "status": "completed"
    },
    "tags": []
   },
   "outputs": [
    {
     "name": "stdout",
     "output_type": "stream",
     "text": [
      "415317\n"
     ]
    }
   ],
   "source": [
    "if (IS_EMBEDDING_USED):\n",
    "    d_factors = als.item_factors\n",
    "    print(len(d_factors))"
   ]
  },
  {
   "cell_type": "markdown",
   "id": "229db519",
   "metadata": {
    "papermill": {
     "duration": 0.011163,
     "end_time": "2023-03-08T18:10:03.310230",
     "exception": false,
     "start_time": "2023-03-08T18:10:03.299067",
     "status": "completed"
    },
    "tags": []
   },
   "source": [
    "## Sex prediction"
   ]
  },
  {
   "cell_type": "code",
   "execution_count": 19,
   "id": "891857e8",
   "metadata": {
    "execution": {
     "iopub.execute_input": "2023-03-08T18:10:03.335472Z",
     "iopub.status.busy": "2023-03-08T18:10:03.334345Z",
     "iopub.status.idle": "2023-03-08T18:10:03.348987Z",
     "shell.execute_reply": "2023-03-08T18:10:03.347027Z"
    },
    "papermill": {
     "duration": 0.029609,
     "end_time": "2023-03-08T18:10:03.351380",
     "exception": false,
     "start_time": "2023-03-08T18:10:03.321771",
     "status": "completed"
    },
    "tags": []
   },
   "outputs": [],
   "source": [
    "id_to_submit = pd.read_feather(f'{LOCAL_DATA_PATH}/{SUBMISSION_FILE}')"
   ]
  },
  {
   "cell_type": "code",
   "execution_count": 20,
   "id": "defda549",
   "metadata": {
    "execution": {
     "iopub.execute_input": "2023-03-08T18:10:03.375267Z",
     "iopub.status.busy": "2023-03-08T18:10:03.374886Z",
     "iopub.status.idle": "2023-03-08T18:10:04.445364Z",
     "shell.execute_reply": "2023-03-08T18:10:04.443581Z"
    },
    "papermill": {
     "duration": 1.086453,
     "end_time": "2023-03-08T18:10:04.448200",
     "exception": false,
     "start_time": "2023-03-08T18:10:03.361747",
     "status": "completed"
    },
    "scrolled": true,
    "tags": []
   },
   "outputs": [
    {
     "name": "stdout",
     "output_type": "stream",
     "text": [
      "1    135314\n",
      "0    128982\n",
      "Name: is_male, dtype: int64\n"
     ]
    }
   ],
   "source": [
    "if (IS_EMBEDDING_USED):\n",
    "    inv_usr_map = {v: k for k, v in usr_dict.items()}\n",
    "    usr_emb = pd.DataFrame(d_factors)\n",
    "    usr_emb['user_id'] = usr_emb.index.map(inv_usr_map)\n",
    "    usr_targets = targets.to_pandas()\n",
    "    df = usr_targets.merge(usr_emb, how = 'inner', on = ['user_id'])\n",
    "    df = df[df['is_male'] != 'NA']\n",
    "    df = df.dropna()\n",
    "    df['is_male'] = df['is_male'].map(int)\n",
    "    print(df['is_male'].value_counts())"
   ]
  },
  {
   "cell_type": "markdown",
   "id": "e93b9c22",
   "metadata": {
    "papermill": {
     "duration": 0.011283,
     "end_time": "2023-03-08T18:10:04.471408",
     "exception": false,
     "start_time": "2023-03-08T18:10:04.460125",
     "status": "completed"
    },
    "tags": []
   },
   "source": [
    "#### Model trainings"
   ]
  },
  {
   "cell_type": "code",
   "execution_count": 21,
   "id": "30cfb1a6",
   "metadata": {
    "execution": {
     "iopub.execute_input": "2023-03-08T18:10:04.497460Z",
     "iopub.status.busy": "2023-03-08T18:10:04.497099Z",
     "iopub.status.idle": "2023-03-08T18:10:04.507807Z",
     "shell.execute_reply": "2023-03-08T18:10:04.505842Z"
    },
    "papermill": {
     "duration": 0.027918,
     "end_time": "2023-03-08T18:10:04.510630",
     "exception": false,
     "start_time": "2023-03-08T18:10:04.482712",
     "status": "completed"
    },
    "tags": []
   },
   "outputs": [],
   "source": [
    "max_gini = 0\n",
    "train_index = 0\n",
    "test_index = 0\n",
    "\n",
    "if (IS_MODEL_CATBOOST):\n",
    "    clf = CatBoostClassifier()\n",
    "elif (IS_MODEL_RANDFOREST):\n",
    "    clf = RandomForestClassifier(max_depth=MAX_DEPTH, random_state=SPLIT_SEED)"
   ]
  },
  {
   "cell_type": "code",
   "execution_count": 22,
   "id": "8b1f07aa",
   "metadata": {
    "execution": {
     "iopub.execute_input": "2023-03-08T18:10:04.535571Z",
     "iopub.status.busy": "2023-03-08T18:10:04.534683Z",
     "iopub.status.idle": "2023-03-08T18:12:28.752463Z",
     "shell.execute_reply": "2023-03-08T18:12:28.750947Z"
    },
    "papermill": {
     "duration": 144.242735,
     "end_time": "2023-03-08T18:12:28.764726",
     "exception": false,
     "start_time": "2023-03-08T18:10:04.521991",
     "status": "completed"
    },
    "tags": []
   },
   "outputs": [
    {
     "name": "stdout",
     "output_type": "stream",
     "text": [
      "Train indexes: [88099 88100 88101 88102 88103]; Test indexes: [0 1 2 3 4];\n",
      "Train length: 176197; Test length: 88099; Dataset length: 264296;\n",
      "Current GINI is 0.651, current max is 0.651\n",
      "\n",
      "Train indexes: [0 1 2 3 4]; Test indexes: [88099 88100 88101 88102 88103];\n",
      "Train length: 176197; Test length: 88099; Dataset length: 264296;\n",
      "Current GINI is 0.647, current max is 0.651\n",
      "\n",
      "Train indexes: [0 1 2 3 4]; Test indexes: [176198 176199 176200 176201 176202];\n",
      "Train length: 176198; Test length: 88098; Dataset length: 264296;\n",
      "Current GINI is 0.646, current max is 0.651\n",
      "\n",
      "CPU times: user 8min 41s, sys: 16.2 s, total: 8min 57s\n",
      "Wall time: 2min 24s\n"
     ]
    }
   ],
   "source": [
    "%%time\n",
    "if (IS_MODEL_CATBOOST or IS_MODEL_RANDFOREST):\n",
    "    x = df.drop(['user_id', 'age', 'is_male'], axis = 1)\n",
    "    y = df['is_male']\n",
    "\n",
    "    kf = KFold(n_splits=KFOLD_SPLITS)\n",
    "\n",
    "    for train_index, test_index in kf.split(x):\n",
    "        print(\"Train indexes: \", train_index[:5],\n",
    "              \"; Test indexes: \", test_index[:5], \";\\n\",\n",
    "              \"Train length: \", len(train_index), \n",
    "              \"; Test length: \", len(test_index), \n",
    "              \"; Dataset length: \", len(x), ';', sep='', end='\\n')\n",
    "        \n",
    "        x_train, x_test = x.iloc[train_index], x.iloc[test_index]\n",
    "        y_train, y_test = y.iloc[train_index], y.iloc[test_index]\n",
    "        \n",
    "        if (IS_MODEL_CATBOOST):\n",
    "            clf.fit(x_train, y_train, verbose = False)\n",
    "        elif (IS_MODEL_RANDFOREST):\n",
    "            clf.fit(x_train, y_train)\n",
    "        \n",
    "        gini = float(f'{2 * m.roc_auc_score(y_test, clf.predict_proba(x_test)[:,1]) - 1:2.3f}')\n",
    "        if gini > max_gini:\n",
    "            max_gini = gini\n",
    "            max_train_index = train_index\n",
    "            max_test_index = test_index\n",
    "        \n",
    "        print(f'Current GINI is {gini}, current max is {max_gini}', end=\"\\n\\n\")"
   ]
  },
  {
   "cell_type": "code",
   "execution_count": 23,
   "id": "dcf25594",
   "metadata": {
    "execution": {
     "iopub.execute_input": "2023-03-08T18:12:28.788639Z",
     "iopub.status.busy": "2023-03-08T18:12:28.788238Z",
     "iopub.status.idle": "2023-03-08T18:12:28.794646Z",
     "shell.execute_reply": "2023-03-08T18:12:28.793343Z"
    },
    "papermill": {
     "duration": 0.02099,
     "end_time": "2023-03-08T18:12:28.796851",
     "exception": false,
     "start_time": "2023-03-08T18:12:28.775861",
     "status": "completed"
    },
    "tags": []
   },
   "outputs": [
    {
     "name": "stdout",
     "output_type": "stream",
     "text": [
      "Max GINI is 0.651\n",
      "Max train index is [88099 88100 88101 88102 88103]\n",
      "Max test index is [0 1 2 3 4]\n"
     ]
    }
   ],
   "source": [
    "print(f'Max GINI is {max_gini}')\n",
    "print(f'Max train index is {max_train_index[:5]}')\n",
    "print(f'Max test index is {max_test_index[:5]}')"
   ]
  },
  {
   "cell_type": "code",
   "execution_count": 24,
   "id": "07fb630d",
   "metadata": {
    "execution": {
     "iopub.execute_input": "2023-03-08T18:12:28.821593Z",
     "iopub.status.busy": "2023-03-08T18:12:28.821023Z",
     "iopub.status.idle": "2023-03-08T18:12:29.142033Z",
     "shell.execute_reply": "2023-03-08T18:12:29.139793Z"
    },
    "papermill": {
     "duration": 0.336993,
     "end_time": "2023-03-08T18:12:29.145131",
     "exception": false,
     "start_time": "2023-03-08T18:12:28.808138",
     "status": "completed"
    },
    "tags": []
   },
   "outputs": [
    {
     "data": {
      "text/html": [
       "<div>\n",
       "<style scoped>\n",
       "    .dataframe tbody tr th:only-of-type {\n",
       "        vertical-align: middle;\n",
       "    }\n",
       "\n",
       "    .dataframe tbody tr th {\n",
       "        vertical-align: top;\n",
       "    }\n",
       "\n",
       "    .dataframe thead th {\n",
       "        text-align: right;\n",
       "    }\n",
       "</style>\n",
       "<table border=\"1\" class=\"dataframe\">\n",
       "  <thead>\n",
       "    <tr style=\"text-align: right;\">\n",
       "      <th></th>\n",
       "      <th>user_id</th>\n",
       "      <th>0</th>\n",
       "      <th>1</th>\n",
       "      <th>2</th>\n",
       "      <th>3</th>\n",
       "      <th>4</th>\n",
       "      <th>5</th>\n",
       "      <th>6</th>\n",
       "      <th>7</th>\n",
       "      <th>8</th>\n",
       "      <th>...</th>\n",
       "      <th>40</th>\n",
       "      <th>41</th>\n",
       "      <th>42</th>\n",
       "      <th>43</th>\n",
       "      <th>44</th>\n",
       "      <th>45</th>\n",
       "      <th>46</th>\n",
       "      <th>47</th>\n",
       "      <th>48</th>\n",
       "      <th>49</th>\n",
       "    </tr>\n",
       "  </thead>\n",
       "  <tbody>\n",
       "    <tr>\n",
       "      <th>0</th>\n",
       "      <td>221301</td>\n",
       "      <td>0.029245</td>\n",
       "      <td>0.035005</td>\n",
       "      <td>-0.006490</td>\n",
       "      <td>0.026633</td>\n",
       "      <td>-0.014702</td>\n",
       "      <td>0.020151</td>\n",
       "      <td>-0.000573</td>\n",
       "      <td>0.020823</td>\n",
       "      <td>0.026260</td>\n",
       "      <td>...</td>\n",
       "      <td>-0.025529</td>\n",
       "      <td>0.019367</td>\n",
       "      <td>-0.008969</td>\n",
       "      <td>0.027808</td>\n",
       "      <td>0.016783</td>\n",
       "      <td>-0.001517</td>\n",
       "      <td>-0.010127</td>\n",
       "      <td>-0.004781</td>\n",
       "      <td>-0.005754</td>\n",
       "      <td>0.001662</td>\n",
       "    </tr>\n",
       "    <tr>\n",
       "      <th>1</th>\n",
       "      <td>31271</td>\n",
       "      <td>0.006095</td>\n",
       "      <td>0.019409</td>\n",
       "      <td>0.010669</td>\n",
       "      <td>-0.005106</td>\n",
       "      <td>0.008963</td>\n",
       "      <td>-0.004752</td>\n",
       "      <td>-0.003487</td>\n",
       "      <td>0.022913</td>\n",
       "      <td>-0.001091</td>\n",
       "      <td>...</td>\n",
       "      <td>0.001498</td>\n",
       "      <td>-0.019843</td>\n",
       "      <td>-0.007616</td>\n",
       "      <td>0.004185</td>\n",
       "      <td>0.018323</td>\n",
       "      <td>-0.004472</td>\n",
       "      <td>-0.020129</td>\n",
       "      <td>0.018903</td>\n",
       "      <td>-0.003352</td>\n",
       "      <td>-0.003521</td>\n",
       "    </tr>\n",
       "    <tr>\n",
       "      <th>2</th>\n",
       "      <td>211594</td>\n",
       "      <td>0.003681</td>\n",
       "      <td>-0.003291</td>\n",
       "      <td>0.004470</td>\n",
       "      <td>0.002782</td>\n",
       "      <td>0.006455</td>\n",
       "      <td>-0.002227</td>\n",
       "      <td>-0.001372</td>\n",
       "      <td>-0.004351</td>\n",
       "      <td>-0.000942</td>\n",
       "      <td>...</td>\n",
       "      <td>0.003315</td>\n",
       "      <td>-0.012787</td>\n",
       "      <td>0.003676</td>\n",
       "      <td>0.001498</td>\n",
       "      <td>0.010279</td>\n",
       "      <td>0.007279</td>\n",
       "      <td>-0.011304</td>\n",
       "      <td>0.002038</td>\n",
       "      <td>-0.003773</td>\n",
       "      <td>-0.007728</td>\n",
       "    </tr>\n",
       "    <tr>\n",
       "      <th>3</th>\n",
       "      <td>253119</td>\n",
       "      <td>0.001906</td>\n",
       "      <td>0.007806</td>\n",
       "      <td>0.016303</td>\n",
       "      <td>-0.007532</td>\n",
       "      <td>0.011521</td>\n",
       "      <td>-0.005431</td>\n",
       "      <td>0.002999</td>\n",
       "      <td>0.027841</td>\n",
       "      <td>-0.010114</td>\n",
       "      <td>...</td>\n",
       "      <td>0.008362</td>\n",
       "      <td>-0.021413</td>\n",
       "      <td>-0.010908</td>\n",
       "      <td>0.001185</td>\n",
       "      <td>0.022150</td>\n",
       "      <td>-0.012494</td>\n",
       "      <td>-0.029974</td>\n",
       "      <td>0.027783</td>\n",
       "      <td>-0.006921</td>\n",
       "      <td>-0.001592</td>\n",
       "    </tr>\n",
       "    <tr>\n",
       "      <th>4</th>\n",
       "      <td>192578</td>\n",
       "      <td>0.041704</td>\n",
       "      <td>0.030610</td>\n",
       "      <td>0.017016</td>\n",
       "      <td>0.012115</td>\n",
       "      <td>-0.004594</td>\n",
       "      <td>0.003035</td>\n",
       "      <td>0.008717</td>\n",
       "      <td>0.044576</td>\n",
       "      <td>-0.007410</td>\n",
       "      <td>...</td>\n",
       "      <td>-0.019392</td>\n",
       "      <td>-0.004878</td>\n",
       "      <td>0.023981</td>\n",
       "      <td>0.017782</td>\n",
       "      <td>0.034749</td>\n",
       "      <td>-0.042412</td>\n",
       "      <td>-0.046539</td>\n",
       "      <td>0.033663</td>\n",
       "      <td>-0.003493</td>\n",
       "      <td>0.009650</td>\n",
       "    </tr>\n",
       "    <tr>\n",
       "      <th>...</th>\n",
       "      <td>...</td>\n",
       "      <td>...</td>\n",
       "      <td>...</td>\n",
       "      <td>...</td>\n",
       "      <td>...</td>\n",
       "      <td>...</td>\n",
       "      <td>...</td>\n",
       "      <td>...</td>\n",
       "      <td>...</td>\n",
       "      <td>...</td>\n",
       "      <td>...</td>\n",
       "      <td>...</td>\n",
       "      <td>...</td>\n",
       "      <td>...</td>\n",
       "      <td>...</td>\n",
       "      <td>...</td>\n",
       "      <td>...</td>\n",
       "      <td>...</td>\n",
       "      <td>...</td>\n",
       "      <td>...</td>\n",
       "      <td>...</td>\n",
       "    </tr>\n",
       "    <tr>\n",
       "      <th>144719</th>\n",
       "      <td>415284</td>\n",
       "      <td>-0.000045</td>\n",
       "      <td>-0.002972</td>\n",
       "      <td>0.006562</td>\n",
       "      <td>-0.002032</td>\n",
       "      <td>0.003942</td>\n",
       "      <td>-0.001617</td>\n",
       "      <td>0.003576</td>\n",
       "      <td>0.009293</td>\n",
       "      <td>-0.006881</td>\n",
       "      <td>...</td>\n",
       "      <td>0.002659</td>\n",
       "      <td>-0.008118</td>\n",
       "      <td>-0.001038</td>\n",
       "      <td>0.000211</td>\n",
       "      <td>0.007218</td>\n",
       "      <td>-0.009937</td>\n",
       "      <td>-0.012779</td>\n",
       "      <td>0.011944</td>\n",
       "      <td>-0.002591</td>\n",
       "      <td>-0.000292</td>\n",
       "    </tr>\n",
       "    <tr>\n",
       "      <th>144720</th>\n",
       "      <td>415285</td>\n",
       "      <td>0.002499</td>\n",
       "      <td>0.008064</td>\n",
       "      <td>0.004380</td>\n",
       "      <td>-0.002109</td>\n",
       "      <td>0.003805</td>\n",
       "      <td>-0.001945</td>\n",
       "      <td>-0.001447</td>\n",
       "      <td>0.009596</td>\n",
       "      <td>-0.000403</td>\n",
       "      <td>...</td>\n",
       "      <td>0.000591</td>\n",
       "      <td>-0.008290</td>\n",
       "      <td>-0.003248</td>\n",
       "      <td>0.001791</td>\n",
       "      <td>0.007624</td>\n",
       "      <td>-0.001804</td>\n",
       "      <td>-0.008335</td>\n",
       "      <td>0.007806</td>\n",
       "      <td>-0.001397</td>\n",
       "      <td>-0.001477</td>\n",
       "    </tr>\n",
       "    <tr>\n",
       "      <th>144721</th>\n",
       "      <td>415286</td>\n",
       "      <td>0.000899</td>\n",
       "      <td>0.002772</td>\n",
       "      <td>0.001484</td>\n",
       "      <td>-0.000720</td>\n",
       "      <td>0.001312</td>\n",
       "      <td>-0.000694</td>\n",
       "      <td>-0.000508</td>\n",
       "      <td>0.003299</td>\n",
       "      <td>-0.000140</td>\n",
       "      <td>...</td>\n",
       "      <td>0.000185</td>\n",
       "      <td>-0.002884</td>\n",
       "      <td>-0.001048</td>\n",
       "      <td>0.000653</td>\n",
       "      <td>0.002624</td>\n",
       "      <td>-0.000648</td>\n",
       "      <td>-0.002890</td>\n",
       "      <td>0.002690</td>\n",
       "      <td>-0.000450</td>\n",
       "      <td>-0.000532</td>\n",
       "    </tr>\n",
       "    <tr>\n",
       "      <th>144722</th>\n",
       "      <td>415306</td>\n",
       "      <td>0.001691</td>\n",
       "      <td>0.005210</td>\n",
       "      <td>0.002784</td>\n",
       "      <td>-0.001352</td>\n",
       "      <td>0.002454</td>\n",
       "      <td>-0.001253</td>\n",
       "      <td>-0.000931</td>\n",
       "      <td>0.006194</td>\n",
       "      <td>-0.000279</td>\n",
       "      <td>...</td>\n",
       "      <td>0.000318</td>\n",
       "      <td>-0.005416</td>\n",
       "      <td>-0.001995</td>\n",
       "      <td>0.001212</td>\n",
       "      <td>0.004917</td>\n",
       "      <td>-0.001235</td>\n",
       "      <td>-0.005389</td>\n",
       "      <td>0.005074</td>\n",
       "      <td>-0.000855</td>\n",
       "      <td>-0.000997</td>\n",
       "    </tr>\n",
       "    <tr>\n",
       "      <th>144723</th>\n",
       "      <td>415315</td>\n",
       "      <td>0.000899</td>\n",
       "      <td>0.002787</td>\n",
       "      <td>0.001501</td>\n",
       "      <td>-0.000725</td>\n",
       "      <td>0.001311</td>\n",
       "      <td>-0.000675</td>\n",
       "      <td>-0.000489</td>\n",
       "      <td>0.003308</td>\n",
       "      <td>-0.000153</td>\n",
       "      <td>...</td>\n",
       "      <td>0.000167</td>\n",
       "      <td>-0.002879</td>\n",
       "      <td>-0.001061</td>\n",
       "      <td>0.000648</td>\n",
       "      <td>0.002617</td>\n",
       "      <td>-0.000664</td>\n",
       "      <td>-0.002874</td>\n",
       "      <td>0.002694</td>\n",
       "      <td>-0.000454</td>\n",
       "      <td>-0.000529</td>\n",
       "    </tr>\n",
       "  </tbody>\n",
       "</table>\n",
       "<p>144724 rows × 51 columns</p>\n",
       "</div>"
      ],
      "text/plain": [
       "        user_id         0         1         2         3         4         5  \\\n",
       "0        221301  0.029245  0.035005 -0.006490  0.026633 -0.014702  0.020151   \n",
       "1         31271  0.006095  0.019409  0.010669 -0.005106  0.008963 -0.004752   \n",
       "2        211594  0.003681 -0.003291  0.004470  0.002782  0.006455 -0.002227   \n",
       "3        253119  0.001906  0.007806  0.016303 -0.007532  0.011521 -0.005431   \n",
       "4        192578  0.041704  0.030610  0.017016  0.012115 -0.004594  0.003035   \n",
       "...         ...       ...       ...       ...       ...       ...       ...   \n",
       "144719   415284 -0.000045 -0.002972  0.006562 -0.002032  0.003942 -0.001617   \n",
       "144720   415285  0.002499  0.008064  0.004380 -0.002109  0.003805 -0.001945   \n",
       "144721   415286  0.000899  0.002772  0.001484 -0.000720  0.001312 -0.000694   \n",
       "144722   415306  0.001691  0.005210  0.002784 -0.001352  0.002454 -0.001253   \n",
       "144723   415315  0.000899  0.002787  0.001501 -0.000725  0.001311 -0.000675   \n",
       "\n",
       "               6         7         8  ...        40        41        42  \\\n",
       "0      -0.000573  0.020823  0.026260  ... -0.025529  0.019367 -0.008969   \n",
       "1      -0.003487  0.022913 -0.001091  ...  0.001498 -0.019843 -0.007616   \n",
       "2      -0.001372 -0.004351 -0.000942  ...  0.003315 -0.012787  0.003676   \n",
       "3       0.002999  0.027841 -0.010114  ...  0.008362 -0.021413 -0.010908   \n",
       "4       0.008717  0.044576 -0.007410  ... -0.019392 -0.004878  0.023981   \n",
       "...          ...       ...       ...  ...       ...       ...       ...   \n",
       "144719  0.003576  0.009293 -0.006881  ...  0.002659 -0.008118 -0.001038   \n",
       "144720 -0.001447  0.009596 -0.000403  ...  0.000591 -0.008290 -0.003248   \n",
       "144721 -0.000508  0.003299 -0.000140  ...  0.000185 -0.002884 -0.001048   \n",
       "144722 -0.000931  0.006194 -0.000279  ...  0.000318 -0.005416 -0.001995   \n",
       "144723 -0.000489  0.003308 -0.000153  ...  0.000167 -0.002879 -0.001061   \n",
       "\n",
       "              43        44        45        46        47        48        49  \n",
       "0       0.027808  0.016783 -0.001517 -0.010127 -0.004781 -0.005754  0.001662  \n",
       "1       0.004185  0.018323 -0.004472 -0.020129  0.018903 -0.003352 -0.003521  \n",
       "2       0.001498  0.010279  0.007279 -0.011304  0.002038 -0.003773 -0.007728  \n",
       "3       0.001185  0.022150 -0.012494 -0.029974  0.027783 -0.006921 -0.001592  \n",
       "4       0.017782  0.034749 -0.042412 -0.046539  0.033663 -0.003493  0.009650  \n",
       "...          ...       ...       ...       ...       ...       ...       ...  \n",
       "144719  0.000211  0.007218 -0.009937 -0.012779  0.011944 -0.002591 -0.000292  \n",
       "144720  0.001791  0.007624 -0.001804 -0.008335  0.007806 -0.001397 -0.001477  \n",
       "144721  0.000653  0.002624 -0.000648 -0.002890  0.002690 -0.000450 -0.000532  \n",
       "144722  0.001212  0.004917 -0.001235 -0.005389  0.005074 -0.000855 -0.000997  \n",
       "144723  0.000648  0.002617 -0.000664 -0.002874  0.002694 -0.000454 -0.000529  \n",
       "\n",
       "[144724 rows x 51 columns]"
      ]
     },
     "execution_count": 24,
     "metadata": {},
     "output_type": "execute_result"
    }
   ],
   "source": [
    "id_to_submit.merge(usr_emb, how = 'left', on = ['user_id'])"
   ]
  },
  {
   "cell_type": "code",
   "execution_count": 25,
   "id": "d2c2e8e7",
   "metadata": {
    "execution": {
     "iopub.execute_input": "2023-03-08T18:12:29.170733Z",
     "iopub.status.busy": "2023-03-08T18:12:29.170352Z",
     "iopub.status.idle": "2023-03-08T18:13:17.001102Z",
     "shell.execute_reply": "2023-03-08T18:13:16.999986Z"
    },
    "papermill": {
     "duration": 47.84744,
     "end_time": "2023-03-08T18:13:17.004416",
     "exception": false,
     "start_time": "2023-03-08T18:12:29.156976",
     "status": "completed"
    },
    "tags": []
   },
   "outputs": [],
   "source": [
    "if (IS_MODEL_CATBOOST or IS_MODEL_RANDFOREST):\n",
    "    if (IS_MODEL_CATBOOST):\n",
    "        clf.fit(x.iloc[max_train_index], y.iloc[max_train_index], verbose = False)\n",
    "    elif (IS_MODEL_RANDFOREST):\n",
    "        clf.fit(x.iloc[max_train_index], y.iloc[max_train_index])\n",
    "    id_to_submit['user_id'].unique\n",
    "    #id_to_submit['is_male'] = clf.predict_proba(id_to_submit.merge(usr_emb, how = 'left', on = ['user_id']))[:,1]"
   ]
  },
  {
   "cell_type": "markdown",
   "id": "45203b68",
   "metadata": {
    "papermill": {
     "duration": 0.011574,
     "end_time": "2023-03-08T18:13:17.027981",
     "exception": false,
     "start_time": "2023-03-08T18:13:17.016407",
     "status": "completed"
    },
    "tags": []
   },
   "source": [
    "idk absolutely how does it work, have to check later"
   ]
  },
  {
   "cell_type": "code",
   "execution_count": 26,
   "id": "30db245e",
   "metadata": {
    "execution": {
     "iopub.execute_input": "2023-03-08T18:13:17.054551Z",
     "iopub.status.busy": "2023-03-08T18:13:17.053301Z",
     "iopub.status.idle": "2023-03-08T18:13:17.471335Z",
     "shell.execute_reply": "2023-03-08T18:13:17.470084Z"
    },
    "papermill": {
     "duration": 0.434117,
     "end_time": "2023-03-08T18:13:17.473800",
     "exception": false,
     "start_time": "2023-03-08T18:13:17.039683",
     "status": "completed"
    },
    "tags": []
   },
   "outputs": [],
   "source": [
    "#id_to_submit['is_male'] = clf.predict_proba(id_to_submit.merge(usr_emb, how = 'left', on = ['user_id']))[:,1]\n",
    "#id_to_submit['is_male'] = clf.predict(id_to_submit.merge(usr_emb, how = 'left', on = ['user_id']))\n",
    "id_to_submit['is_male'] = clf.predict(id_to_submit[['user_id']].merge(usr_emb, how = 'left', on = ['user_id']))"
   ]
  },
  {
   "cell_type": "code",
   "execution_count": 27,
   "id": "3cf7d878",
   "metadata": {
    "execution": {
     "iopub.execute_input": "2023-03-08T18:13:17.499722Z",
     "iopub.status.busy": "2023-03-08T18:13:17.499310Z",
     "iopub.status.idle": "2023-03-08T18:13:17.634028Z",
     "shell.execute_reply": "2023-03-08T18:13:17.632891Z"
    },
    "papermill": {
     "duration": 0.150319,
     "end_time": "2023-03-08T18:13:17.636549",
     "exception": false,
     "start_time": "2023-03-08T18:13:17.486230",
     "status": "completed"
    },
    "tags": []
   },
   "outputs": [
    {
     "name": "stdout",
     "output_type": "stream",
     "text": [
      "Current GINI score:  0.651\n"
     ]
    }
   ],
   "source": [
    "print(\"Current GINI score: \", float(f'{2 * m.roc_auc_score(y.iloc[max_test_index], clf.predict_proba(x.iloc[max_test_index])[:,1]) - 1:2.3f}'))"
   ]
  },
  {
   "cell_type": "markdown",
   "id": "c2b0c282",
   "metadata": {
    "papermill": {
     "duration": 0.014582,
     "end_time": "2023-03-08T18:13:17.668280",
     "exception": false,
     "start_time": "2023-03-08T18:13:17.653698",
     "status": "completed"
    },
    "tags": []
   },
   "source": [
    "## Age prediction"
   ]
  },
  {
   "cell_type": "code",
   "execution_count": 28,
   "id": "677ccd06",
   "metadata": {
    "execution": {
     "iopub.execute_input": "2023-03-08T18:13:17.697667Z",
     "iopub.status.busy": "2023-03-08T18:13:17.695820Z",
     "iopub.status.idle": "2023-03-08T18:13:17.702525Z",
     "shell.execute_reply": "2023-03-08T18:13:17.701483Z"
    },
    "papermill": {
     "duration": 0.023094,
     "end_time": "2023-03-08T18:13:17.704749",
     "exception": false,
     "start_time": "2023-03-08T18:13:17.681655",
     "status": "completed"
    },
    "tags": []
   },
   "outputs": [],
   "source": [
    "def age_bucket(x):\n",
    "    return bisect.bisect_left([18,25,35,45,55,65], x)"
   ]
  },
  {
   "cell_type": "code",
   "execution_count": 29,
   "id": "7fde50fc",
   "metadata": {
    "execution": {
     "iopub.execute_input": "2023-03-08T18:13:17.730251Z",
     "iopub.status.busy": "2023-03-08T18:13:17.729917Z",
     "iopub.status.idle": "2023-03-08T18:13:18.754665Z",
     "shell.execute_reply": "2023-03-08T18:13:18.753551Z"
    },
    "papermill": {
     "duration": 1.040575,
     "end_time": "2023-03-08T18:13:18.757228",
     "exception": false,
     "start_time": "2023-03-08T18:13:17.716653",
     "status": "completed"
    },
    "tags": []
   },
   "outputs": [
    {
     "data": {
      "text/plain": [
       "<AxesSubplot:xlabel='age', ylabel='Count'>"
      ]
     },
     "execution_count": 29,
     "metadata": {},
     "output_type": "execute_result"
    },
    {
     "data": {
      "image/png": "[encoded data removed]",
      "text/plain": [
       "<Figure size 432x288 with 1 Axes>"
      ]
     },
     "metadata": {},
     "output_type": "display_data"
    }
   ],
   "source": [
    "df = usr_targets.merge(usr_emb, how = 'inner', on = ['user_id'])\n",
    "df = df[df['age'] != 'NA']\n",
    "df = df.dropna()\n",
    "df['age'] = df['age'].map(age_bucket)\n",
    "sns.histplot(df['age'], bins = 7)"
   ]
  },
  {
   "cell_type": "code",
   "execution_count": 30,
   "id": "49af9c24",
   "metadata": {
    "execution": {
     "iopub.execute_input": "2023-03-08T18:13:18.783578Z",
     "iopub.status.busy": "2023-03-08T18:13:18.783092Z",
     "iopub.status.idle": "2023-03-08T18:13:18.789900Z",
     "shell.execute_reply": "2023-03-08T18:13:18.788560Z"
    },
    "papermill": {
     "duration": 0.022443,
     "end_time": "2023-03-08T18:13:18.791783",
     "exception": false,
     "start_time": "2023-03-08T18:13:18.769340",
     "status": "completed"
    },
    "tags": []
   },
   "outputs": [],
   "source": [
    "max_f1 = 0\n",
    "train_index = 0\n",
    "test_index = 0\n",
    "\n",
    "if (IS_MODEL_CATBOOST):\n",
    "    clf = CatBoostClassifier()\n",
    "elif (IS_MODEL_RANDFOREST):\n",
    "    clf = RandomForestClassifier(max_depth=MAX_DEPTH, random_state=SPLIT_SEED)"
   ]
  },
  {
   "cell_type": "code",
   "execution_count": 31,
   "id": "55cabbba",
   "metadata": {
    "execution": {
     "iopub.execute_input": "2023-03-08T18:13:18.817995Z",
     "iopub.status.busy": "2023-03-08T18:13:18.817660Z",
     "iopub.status.idle": "2023-03-08T18:25:01.911225Z",
     "shell.execute_reply": "2023-03-08T18:25:01.910053Z"
    },
    "papermill": {
     "duration": 703.121961,
     "end_time": "2023-03-08T18:25:01.926131",
     "exception": false,
     "start_time": "2023-03-08T18:13:18.804170",
     "status": "completed"
    },
    "tags": []
   },
   "outputs": [
    {
     "name": "stdout",
     "output_type": "stream",
     "text": [
      "Train indexes: [88099 88100 88101 88102 88103]; Test indexes: [0 1 2 3 4];\n",
      "Train length: 176197; Test length: 88099; Dataset length: 264296;\n",
      "Current F1 is 0.39858313396285416, current max is 0.39858313396285416\n",
      "\n",
      "Train indexes: [0 1 2 3 4]; Test indexes: [88099 88100 88101 88102 88103];\n",
      "Train length: 176197; Test length: 88099; Dataset length: 264296;\n",
      "Current F1 is 0.39672571817010677, current max is 0.39858313396285416\n",
      "\n",
      "Train indexes: [0 1 2 3 4]; Test indexes: [176198 176199 176200 176201 176202];\n",
      "Train length: 176198; Test length: 88098; Dataset length: 264296;\n",
      "Current F1 is 0.3962085213839013, current max is 0.39858313396285416\n",
      "\n"
     ]
    }
   ],
   "source": [
    "if (IS_MODEL_CATBOOST or IS_MODEL_RANDFOREST):\n",
    "    x = df.drop(['user_id', 'age', 'is_male'], axis = 1)\n",
    "    y = df['age']\n",
    "\n",
    "    kf = KFold(n_splits=KFOLD_SPLITS)\n",
    "\n",
    "    for train_index, test_index in kf.split(x):\n",
    "        print(\"Train indexes: \", train_index[:5],\n",
    "              \"; Test indexes: \", test_index[:5], \";\\n\",\n",
    "              \"Train length: \", len(train_index), \n",
    "              \"; Test length: \", len(test_index), \n",
    "              \"; Dataset length: \", len(x), ';', sep='', end='\\n')\n",
    "        \n",
    "        x_train, x_test = x.iloc[train_index], x.iloc[test_index]\n",
    "        y_train, y_test = y.iloc[train_index], y.iloc[test_index]\n",
    "        if (IS_MODEL_CATBOOST):\n",
    "            clf.fit(x_train, y_train, verbose = False)\n",
    "        elif (IS_MODEL_RANDFOREST):\n",
    "            clf.fit(x_train, y_train)\n",
    "        \n",
    "        f1 = m.f1_score(y_test, clf.predict(x_test), average='weighted')\n",
    "        if f1 > max_f1:\n",
    "            max_f1 = f1\n",
    "            max_train_index = train_index\n",
    "            max_test_index = test_index\n",
    "        \n",
    "        print(f'Current F1 is {f1}, current max is {max_f1}', end=\"\\n\\n\")"
   ]
  },
  {
   "cell_type": "code",
   "execution_count": 32,
   "id": "402a9095",
   "metadata": {
    "execution": {
     "iopub.execute_input": "2023-03-08T18:25:01.953118Z",
     "iopub.status.busy": "2023-03-08T18:25:01.952465Z",
     "iopub.status.idle": "2023-03-08T18:25:01.962114Z",
     "shell.execute_reply": "2023-03-08T18:25:01.959245Z"
    },
    "papermill": {
     "duration": 0.026857,
     "end_time": "2023-03-08T18:25:01.965138",
     "exception": false,
     "start_time": "2023-03-08T18:25:01.938281",
     "status": "completed"
    },
    "tags": []
   },
   "outputs": [
    {
     "name": "stdout",
     "output_type": "stream",
     "text": [
      "Max F1 is 0.39858313396285416\n",
      "Max train index is [88099 88100 88101 88102 88103]\n",
      "Max test index is [0 1 2 3 4]\n"
     ]
    }
   ],
   "source": [
    "print(f'Max F1 is {max_f1}')\n",
    "print(f'Max train index is {max_train_index[:5]}')\n",
    "print(f'Max test index is {max_test_index[:5]}')"
   ]
  },
  {
   "cell_type": "code",
   "execution_count": 33,
   "id": "f379bbaf",
   "metadata": {
    "execution": {
     "iopub.execute_input": "2023-03-08T18:25:01.992999Z",
     "iopub.status.busy": "2023-03-08T18:25:01.992628Z",
     "iopub.status.idle": "2023-03-08T18:28:52.217412Z",
     "shell.execute_reply": "2023-03-08T18:28:52.215783Z"
    },
    "papermill": {
     "duration": 230.242489,
     "end_time": "2023-03-08T18:28:52.220148",
     "exception": false,
     "start_time": "2023-03-08T18:25:01.977659",
     "status": "completed"
    },
    "tags": []
   },
   "outputs": [],
   "source": [
    "if (IS_MODEL_CATBOOST or IS_MODEL_RANDFOREST):\n",
    "    if (IS_MODEL_CATBOOST):\n",
    "        clf.fit(x.iloc[max_train_index], y.iloc[max_train_index], verbose = False)\n",
    "    elif (IS_MODEL_RANDFOREST):\n",
    "        clf.fit(x.iloc[max_train_index], y.iloc[max_train_index])\n",
    "    id_to_submit['age'] = clf.predict(id_to_submit[['user_id']].merge(usr_emb, how = 'left', on = ['user_id']))"
   ]
  },
  {
   "cell_type": "code",
   "execution_count": 34,
   "id": "af9e8cac",
   "metadata": {
    "execution": {
     "iopub.execute_input": "2023-03-08T18:28:52.248856Z",
     "iopub.status.busy": "2023-03-08T18:28:52.248250Z",
     "iopub.status.idle": "2023-03-08T18:28:52.628309Z",
     "shell.execute_reply": "2023-03-08T18:28:52.626266Z"
    },
    "papermill": {
     "duration": 0.397642,
     "end_time": "2023-03-08T18:28:52.631383",
     "exception": false,
     "start_time": "2023-03-08T18:28:52.233741",
     "status": "completed"
    },
    "tags": []
   },
   "outputs": [
    {
     "name": "stdout",
     "output_type": "stream",
     "text": [
      "              precision    recall  f1-score   support\n",
      "\n",
      "         <18       0.00      0.00      0.00       262\n",
      "       18-25       0.48      0.26      0.34     10590\n",
      "       25-34       0.46      0.62      0.53     28502\n",
      "       35-44       0.39      0.51      0.44     25545\n",
      "       45-54       0.36      0.18      0.24     13708\n",
      "       55-65       0.40      0.18      0.25      7695\n",
      "         65+       0.37      0.01      0.02      1797\n",
      "\n",
      "    accuracy                           0.42     88099\n",
      "   macro avg       0.35      0.25      0.26     88099\n",
      "weighted avg       0.42      0.42      0.40     88099\n",
      "\n"
     ]
    }
   ],
   "source": [
    "if (IS_MODEL_CATBOOST or IS_MODEL_RANDFOREST):\n",
    "    print(m.classification_report(\n",
    "          y.iloc[max_test_index], \n",
    "          clf.predict(x.iloc[max_test_index]), \n",
    "          target_names = ['<18', '18-25','25-34', '35-44', '45-54', '55-65', '65+']\n",
    "    ))"
   ]
  },
  {
   "cell_type": "markdown",
   "id": "194b65ce",
   "metadata": {
    "papermill": {
     "duration": 0.011766,
     "end_time": "2023-03-08T18:28:52.655840",
     "exception": false,
     "start_time": "2023-03-08T18:28:52.644074",
     "status": "completed"
    },
    "tags": []
   },
   "source": [
    "## Submission"
   ]
  },
  {
   "cell_type": "code",
   "execution_count": 35,
   "id": "dcad8f2c",
   "metadata": {
    "execution": {
     "iopub.execute_input": "2023-03-08T18:28:52.681348Z",
     "iopub.status.busy": "2023-03-08T18:28:52.681024Z",
     "iopub.status.idle": "2023-03-08T18:28:52.861326Z",
     "shell.execute_reply": "2023-03-08T18:28:52.860196Z"
    },
    "papermill": {
     "duration": 0.195811,
     "end_time": "2023-03-08T18:28:52.863741",
     "exception": false,
     "start_time": "2023-03-08T18:28:52.667930",
     "status": "completed"
    },
    "tags": []
   },
   "outputs": [
    {
     "data": {
      "text/html": [
       "<div>\n",
       "<style scoped>\n",
       "    .dataframe tbody tr th:only-of-type {\n",
       "        vertical-align: middle;\n",
       "    }\n",
       "\n",
       "    .dataframe tbody tr th {\n",
       "        vertical-align: top;\n",
       "    }\n",
       "\n",
       "    .dataframe thead th {\n",
       "        text-align: right;\n",
       "    }\n",
       "</style>\n",
       "<table border=\"1\" class=\"dataframe\">\n",
       "  <thead>\n",
       "    <tr style=\"text-align: right;\">\n",
       "      <th></th>\n",
       "      <th>user_id</th>\n",
       "      <th>is_male</th>\n",
       "      <th>age</th>\n",
       "    </tr>\n",
       "  </thead>\n",
       "  <tbody>\n",
       "    <tr>\n",
       "      <th>0</th>\n",
       "      <td>221301</td>\n",
       "      <td>1</td>\n",
       "      <td>2</td>\n",
       "    </tr>\n",
       "    <tr>\n",
       "      <th>1</th>\n",
       "      <td>31271</td>\n",
       "      <td>1</td>\n",
       "      <td>3</td>\n",
       "    </tr>\n",
       "    <tr>\n",
       "      <th>2</th>\n",
       "      <td>211594</td>\n",
       "      <td>1</td>\n",
       "      <td>2</td>\n",
       "    </tr>\n",
       "    <tr>\n",
       "      <th>3</th>\n",
       "      <td>253119</td>\n",
       "      <td>0</td>\n",
       "      <td>2</td>\n",
       "    </tr>\n",
       "    <tr>\n",
       "      <th>4</th>\n",
       "      <td>192578</td>\n",
       "      <td>1</td>\n",
       "      <td>2</td>\n",
       "    </tr>\n",
       "  </tbody>\n",
       "</table>\n",
       "</div>"
      ],
      "text/plain": [
       "   user_id  is_male  age\n",
       "0   221301        1    2\n",
       "1    31271        1    3\n",
       "2   211594        1    2\n",
       "3   253119        0    2\n",
       "4   192578        1    2"
      ]
     },
     "metadata": {},
     "output_type": "display_data"
    },
    {
     "data": {
      "text/plain": [
       "1    73975\n",
       "0    70749\n",
       "Name: is_male, dtype: int64"
      ]
     },
     "metadata": {},
     "output_type": "display_data"
    },
    {
     "data": {
      "text/plain": [
       "2    62999\n",
       "3    55784\n",
       "4    10757\n",
       "1     9332\n",
       "5     5754\n",
       "6       98\n",
       "Name: age, dtype: int64"
      ]
     },
     "metadata": {},
     "output_type": "display_data"
    }
   ],
   "source": [
    "display(id_to_submit.head())\n",
    "display(id_to_submit.is_male.value_counts())\n",
    "display(id_to_submit.age.value_counts())\n",
    "id_to_submit.to_csv('submission.csv', index = False)"
   ]
  },
  {
   "cell_type": "code",
   "execution_count": 36,
   "id": "4b033f8b",
   "metadata": {
    "execution": {
     "iopub.execute_input": "2023-03-08T18:28:52.890807Z",
     "iopub.status.busy": "2023-03-08T18:28:52.890340Z",
     "iopub.status.idle": "2023-03-08T18:28:52.896246Z",
     "shell.execute_reply": "2023-03-08T18:28:52.894412Z"
    },
    "papermill": {
     "duration": 0.022317,
     "end_time": "2023-03-08T18:28:52.898804",
     "exception": false,
     "start_time": "2023-03-08T18:28:52.876487",
     "status": "completed"
    },
    "tags": []
   },
   "outputs": [
    {
     "name": "stdout",
     "output_type": "stream",
     "text": [
      "Score: 1.4481662679257084\n"
     ]
    }
   ],
   "source": [
    "print(f'Score: {max_gini + 2*max_f1}')"
   ]
  }
 ],
 "metadata": {
  "kernelspec": {
   "display_name": "Python 3",
   "language": "python",
   "name": "python3"
  },
  "language_info": {
   "codemirror_mode": {
    "name": "ipython",
    "version": 3
   },
   "file_extension": ".py",
   "mimetype": "text/x-python",
   "name": "python",
   "nbconvert_exporter": "python",
   "pygments_lexer": "ipython3",
   "version": "3.7.12"
  },
  "papermill": {
   "default_parameters": {},
   "duration": 1356.611289,
   "end_time": "2023-03-08T18:28:55.791122",
   "environment_variables": {},
   "exception": null,
   "input_path": "__notebook__.ipynb",
   "output_path": "__notebook__.ipynb",
   "parameters": {},
   "start_time": "2023-03-08T18:06:19.179833",
   "version": "2.3.4"
  },
  "widgets": {
   "application/vnd.jupyter.widget-state+json": {
    "state": {
     "257b5287850b4263a069853eec2c1ed2": {
      "model_module": "@jupyter-widgets/base",
      "model_module_version": "1.2.0",
      "model_name": "LayoutModel",
      "state": {
       "_model_module": "@jupyter-widgets/base",
       "_model_module_version": "1.2.0",
       "_model_name": "LayoutModel",
       "_view_count": null,
       "_view_module": "@jupyter-widgets/base",
       "_view_module_version": "1.2.0",
       "_view_name": "LayoutView",
       "align_content": null,
       "align_items": null,
       "align_self": null,
       "border": null,
       "bottom": null,
       "display": null,
       "flex": null,
       "flex_flow": null,
       "grid_area": null,
       "grid_auto_columns": null,
       "grid_auto_flow": null,
       "grid_auto_rows": null,
       "grid_column": null,
       "grid_gap": null,
       "grid_row": null,
       "grid_template_areas": null,
       "grid_template_columns": null,
       "grid_template_rows": null,
       "height": null,
       "justify_content": null,
       "justify_items": null,
       "left": null,
       "margin": null,
       "max_height": null,
       "max_width": null,
       "min_height": null,
       "min_width": null,
       "object_fit": null,
       "object_position": null,
       "order": null,
       "overflow": null,
       "overflow_x": null,
       "overflow_y": null,
       "padding": null,
       "right": null,
       "top": null,
       "visibility": null,
       "width": null
      }
     },
     "3b720ff1458546808f2ac84b7af7c954": {
      "model_module": "@jupyter-widgets/controls",
      "model_module_version": "1.5.0",
      "model_name": "DescriptionStyleModel",
      "state": {
       "_model_module": "@jupyter-widgets/controls",
       "_model_module_version": "1.5.0",
       "_model_name": "DescriptionStyleModel",
       "_view_count": null,
       "_view_module": "@jupyter-widgets/base",
       "_view_module_version": "1.2.0",
       "_view_name": "StyleView",
       "description_width": ""
      }
     },
     "3d84e959b5ea453a91cf3b61356ca43e": {
      "model_module": "@jupyter-widgets/controls",
      "model_module_version": "1.5.0",
      "model_name": "HTMLModel",
      "state": {
       "_dom_classes": [],
       "_model_module": "@jupyter-widgets/controls",
       "_model_module_version": "1.5.0",
       "_model_name": "HTMLModel",
       "_view_count": null,
       "_view_module": "@jupyter-widgets/controls",
       "_view_module_version": "1.5.0",
       "_view_name": "HTMLView",
       "description": "",
       "description_tooltip": null,
       "layout": "IPY_MODEL_d48bbb017c0c4862b7b1fc7cccc3eaee",
       "placeholder": "​",
       "style": "IPY_MODEL_3b720ff1458546808f2ac84b7af7c954",
       "value": " 5/5 [00:50&lt;00:00,  9.89s/it, loss=0.000315]"
      }
     },
     "501f7d2d2aed460c9601dd14209a8480": {
      "model_module": "@jupyter-widgets/controls",
      "model_module_version": "1.5.0",
      "model_name": "HTMLModel",
      "state": {
       "_dom_classes": [],
       "_model_module": "@jupyter-widgets/controls",
       "_model_module_version": "1.5.0",
       "_model_name": "HTMLModel",
       "_view_count": null,
       "_view_module": "@jupyter-widgets/controls",
       "_view_module_version": "1.5.0",
       "_view_name": "HTMLView",
       "description": "",
       "description_tooltip": null,
       "layout": "IPY_MODEL_df9a0c314d204a6ba4d10d4f3b193111",
       "placeholder": "​",
       "style": "IPY_MODEL_b4efed38852d407b9d96f273bc09dd40",
       "value": "100%"
      }
     },
     "96c33379ccc84165bfb93389e6a785ed": {
      "model_module": "@jupyter-widgets/controls",
      "model_module_version": "1.5.0",
      "model_name": "FloatProgressModel",
      "state": {
       "_dom_classes": [],
       "_model_module": "@jupyter-widgets/controls",
       "_model_module_version": "1.5.0",
       "_model_name": "FloatProgressModel",
       "_view_count": null,
       "_view_module": "@jupyter-widgets/controls",
       "_view_module_version": "1.5.0",
       "_view_name": "ProgressView",
       "bar_style": "success",
       "description": "",
       "description_tooltip": null,
       "layout": "IPY_MODEL_cfecb792290045d2b54949d82d8608d3",
       "max": 5.0,
       "min": 0.0,
       "orientation": "horizontal",
       "style": "IPY_MODEL_c4977d89c05945e691e015d6559d7635",
       "value": 5.0
      }
     },
     "b4efed38852d407b9d96f273bc09dd40": {
      "model_module": "@jupyter-widgets/controls",
      "model_module_version": "1.5.0",
      "model_name": "DescriptionStyleModel",
      "state": {
       "_model_module": "@jupyter-widgets/controls",
       "_model_module_version": "1.5.0",
       "_model_name": "DescriptionStyleModel",
       "_view_count": null,
       "_view_module": "@jupyter-widgets/base",
       "_view_module_version": "1.2.0",
       "_view_name": "StyleView",
       "description_width": ""
      }
     },
     "b7f4ae7c83af40dd8f1cc36069575c3e": {
      "model_module": "@jupyter-widgets/controls",
      "model_module_version": "1.5.0",
      "model_name": "HBoxModel",
      "state": {
       "_dom_classes": [],
       "_model_module": "@jupyter-widgets/controls",
       "_model_module_version": "1.5.0",
       "_model_name": "HBoxModel",
       "_view_count": null,
       "_view_module": "@jupyter-widgets/controls",
       "_view_module_version": "1.5.0",
       "_view_name": "HBoxView",
       "box_style": "",
       "children": [
        "IPY_MODEL_501f7d2d2aed460c9601dd14209a8480",
        "IPY_MODEL_96c33379ccc84165bfb93389e6a785ed",
        "IPY_MODEL_3d84e959b5ea453a91cf3b61356ca43e"
       ],
       "layout": "IPY_MODEL_257b5287850b4263a069853eec2c1ed2"
      }
     },
     "c4977d89c05945e691e015d6559d7635": {
      "model_module": "@jupyter-widgets/controls",
      "model_module_version": "1.5.0",
      "model_name": "ProgressStyleModel",
      "state": {
       "_model_module": "@jupyter-widgets/controls",
       "_model_module_version": "1.5.0",
       "_model_name": "ProgressStyleModel",
       "_view_count": null,
       "_view_module": "@jupyter-widgets/base",
       "_view_module_version": "1.2.0",
       "_view_name": "StyleView",
       "bar_color": null,
       "description_width": ""
      }
     },
     "cfecb792290045d2b54949d82d8608d3": {
      "model_module": "@jupyter-widgets/base",
      "model_module_version": "1.2.0",
      "model_name": "LayoutModel",
      "state": {
       "_model_module": "@jupyter-widgets/base",
       "_model_module_version": "1.2.0",
       "_model_name": "LayoutModel",
       "_view_count": null,
       "_view_module": "@jupyter-widgets/base",
       "_view_module_version": "1.2.0",
       "_view_name": "LayoutView",
       "align_content": null,
       "align_items": null,
       "align_self": null,
       "border": null,
       "bottom": null,
       "display": null,
       "flex": null,
       "flex_flow": null,
       "grid_area": null,
       "grid_auto_columns": null,
       "grid_auto_flow": null,
       "grid_auto_rows": null,
       "grid_column": null,
       "grid_gap": null,
       "grid_row": null,
       "grid_template_areas": null,
       "grid_template_columns": null,
       "grid_template_rows": null,
       "height": null,
       "justify_content": null,
       "justify_items": null,
       "left": null,
       "margin": null,
       "max_height": null,
       "max_width": null,
       "min_height": null,
       "min_width": null,
       "object_fit": null,
       "object_position": null,
       "order": null,
       "overflow": null,
       "overflow_x": null,
       "overflow_y": null,
       "padding": null,
       "right": null,
       "top": null,
       "visibility": null,
       "width": null
      }
     },
     "d48bbb017c0c4862b7b1fc7cccc3eaee": {
      "model_module": "@jupyter-widgets/base",
      "model_module_version": "1.2.0",
      "model_name": "LayoutModel",
      "state": {
       "_model_module": "@jupyter-widgets/base",
       "_model_module_version": "1.2.0",
       "_model_name": "LayoutModel",
       "_view_count": null,
       "_view_module": "@jupyter-widgets/base",
       "_view_module_version": "1.2.0",
       "_view_name": "LayoutView",
       "align_content": null,
       "align_items": null,
       "align_self": null,
       "border": null,
       "bottom": null,
       "display": null,
       "flex": null,
       "flex_flow": null,
       "grid_area": null,
       "grid_auto_columns": null,
       "grid_auto_flow": null,
       "grid_auto_rows": null,
       "grid_column": null,
       "grid_gap": null,
       "grid_row": null,
       "grid_template_areas": null,
       "grid_template_columns": null,
       "grid_template_rows": null,
       "height": null,
       "justify_content": null,
       "justify_items": null,
       "left": null,
       "margin": null,
       "max_height": null,
       "max_width": null,
       "min_height": null,
       "min_width": null,
       "object_fit": null,
       "object_position": null,
       "order": null,
       "overflow": null,
       "overflow_x": null,
       "overflow_y": null,
       "padding": null,
       "right": null,
       "top": null,
       "visibility": null,
       "width": null
      }
     },
     "df9a0c314d204a6ba4d10d4f3b193111": {
      "model_module": "@jupyter-widgets/base",
      "model_module_version": "1.2.0",
      "model_name": "LayoutModel",
      "state": {
       "_model_module": "@jupyter-widgets/base",
       "_model_module_version": "1.2.0",
       "_model_name": "LayoutModel",
       "_view_count": null,
       "_view_module": "@jupyter-widgets/base",
       "_view_module_version": "1.2.0",
       "_view_name": "LayoutView",
       "align_content": null,
       "align_items": null,
       "align_self": null,
       "border": null,
       "bottom": null,
       "display": null,
       "flex": null,
       "flex_flow": null,
       "grid_area": null,
       "grid_auto_columns": null,
       "grid_auto_flow": null,
       "grid_auto_rows": null,
       "grid_column": null,
       "grid_gap": null,
       "grid_row": null,
       "grid_template_areas": null,
       "grid_template_columns": null,
       "grid_template_rows": null,
       "height": null,
       "justify_content": null,
       "justify_items": null,
       "left": null,
       "margin": null,
       "max_height": null,
       "max_width": null,
       "min_height": null,
       "min_width": null,
       "object_fit": null,
       "object_position": null,
       "order": null,
       "overflow": null,
       "overflow_x": null,
       "overflow_y": null,
       "padding": null,
       "right": null,
       "top": null,
       "visibility": null,
       "width": null
      }
     }
    },
    "version_major": 2,
    "version_minor": 0
   }
  }
 },
 "nbformat": 4,
 "nbformat_minor": 5
}
