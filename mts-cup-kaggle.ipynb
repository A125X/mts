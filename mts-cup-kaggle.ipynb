{
 "cells": [
  {
   "cell_type": "markdown",
   "id": "814306b0",
   "metadata": {
    "papermill": {
     "duration": 0.011839,
     "end_time": "2023-03-07T19:55:55.229664",
     "exception": false,
     "start_time": "2023-03-07T19:55:55.217825",
     "status": "completed"
    },
    "tags": []
   },
   "source": [
    "## Imports and constants"
   ]
  },
  {
   "cell_type": "markdown",
   "id": "faeadeb8",
   "metadata": {
    "papermill": {
     "duration": 0.009675,
     "end_time": "2023-03-07T19:55:55.249969",
     "exception": false,
     "start_time": "2023-03-07T19:55:55.240294",
     "status": "completed"
    },
    "tags": []
   },
   "source": [
    "ideas: k-fold, transformers, features generation, polars\n",
    "\n",
    "m.classification_report for sex or eliminate it in age prediction and only leave f1 score"
   ]
  },
  {
   "cell_type": "code",
   "execution_count": 1,
   "id": "a517ed00",
   "metadata": {
    "execution": {
     "iopub.execute_input": "2023-03-07T19:55:55.272023Z",
     "iopub.status.busy": "2023-03-07T19:55:55.271245Z",
     "iopub.status.idle": "2023-03-07T19:55:55.290145Z",
     "shell.execute_reply": "2023-03-07T19:55:55.289035Z"
    },
    "papermill": {
     "duration": 0.033208,
     "end_time": "2023-03-07T19:55:55.292971",
     "exception": false,
     "start_time": "2023-03-07T19:55:55.259763",
     "status": "completed"
    },
    "tags": []
   },
   "outputs": [],
   "source": [
    "SPLIT_SEED = 42\n",
    "FAISS_ITERATIONS = 5\n",
    "KFOLD_SPLITS = 3\n",
    "IS_EMBEDDING_USED = True\n",
    "IS_MODEL_CATBOOST = True\n",
    "IS_NOTEBOOK_ON_KAGGLE = True\n",
    "\n",
    "if (IS_NOTEBOOK_ON_KAGGLE):\n",
    "    LOCAL_DATA_PATH = '/kaggle/input/mts-ml-cookies'\n",
    "    DATA_FILE = 'dataset_full.feather'\n",
    "    TARGET_FILE = 'target_train.feather'\n",
    "    SUBMISSION_FILE = 'submission.feather'"
   ]
  },
  {
   "cell_type": "code",
   "execution_count": 2,
   "id": "db647234",
   "metadata": {
    "execution": {
     "iopub.execute_input": "2023-03-07T19:55:55.314974Z",
     "iopub.status.busy": "2023-03-07T19:55:55.314170Z",
     "iopub.status.idle": "2023-03-07T19:55:55.319190Z",
     "shell.execute_reply": "2023-03-07T19:55:55.318267Z"
    },
    "papermill": {
     "duration": 0.018859,
     "end_time": "2023-03-07T19:55:55.321678",
     "exception": false,
     "start_time": "2023-03-07T19:55:55.302819",
     "status": "completed"
    },
    "tags": []
   },
   "outputs": [],
   "source": [
    "import sys\n",
    "import os\n",
    "import warnings\n",
    "os.environ['OPENBLAS_NUM_THREADS'] = '1'\n",
    "warnings.filterwarnings('ignore')"
   ]
  },
  {
   "cell_type": "code",
   "execution_count": 3,
   "id": "51f0d9f8",
   "metadata": {
    "execution": {
     "iopub.execute_input": "2023-03-07T19:55:55.345277Z",
     "iopub.status.busy": "2023-03-07T19:55:55.344826Z",
     "iopub.status.idle": "2023-03-07T19:56:44.394905Z",
     "shell.execute_reply": "2023-03-07T19:56:44.393825Z"
    },
    "papermill": {
     "duration": 49.064855,
     "end_time": "2023-03-07T19:56:44.397784",
     "exception": false,
     "start_time": "2023-03-07T19:55:55.332929",
     "status": "completed"
    },
    "tags": []
   },
   "outputs": [
    {
     "name": "stdout",
     "output_type": "stream",
     "text": [
      "\u001b[33mWARNING: Running pip as the 'root' user can result in broken permissions and conflicting behaviour with the system package manager. It is recommended to use a virtual environment instead: https://pip.pypa.io/warnings/venv\u001b[0m\u001b[33m\r\n",
      "\u001b[0m\u001b[33mWARNING: Running pip as the 'root' user can result in broken permissions and conflicting behaviour with the system package manager. It is recommended to use a virtual environment instead: https://pip.pypa.io/warnings/venv\u001b[0m\u001b[33m\r\n",
      "\u001b[0m\u001b[33mWARNING: Running pip as the 'root' user can result in broken permissions and conflicting behaviour with the system package manager. It is recommended to use a virtual environment instead: https://pip.pypa.io/warnings/venv\u001b[0m\u001b[33m\r\n",
      "\u001b[0m"
     ]
    }
   ],
   "source": [
    "!pip install feather-format >> none -q\n",
    "!pip install faiss-cpu --no-cache -q\n",
    "!pip install polars -q\n",
    "\n",
    "import pandas as pd\n",
    "import numpy as np\n",
    "import time\n",
    "import pyarrow.parquet as pq\n",
    "import scipy\n",
    "import implicit\n",
    "import bisect\n",
    "import sklearn.metrics as m\n",
    "from catboost import CatBoostClassifier, CatBoostRegressor, Pool\n",
    "from sklearn.model_selection import train_test_split\n",
    "from sklearn.model_selection import KFold\n",
    "from sklearn.calibration import calibration_curve, CalibratedClassifierCV\n",
    "import tensorflow as tf\n",
    "import seaborn as sns\n",
    "import matplotlib.pyplot as plt\n",
    "import plotly.express as px\n",
    "import pyarrow as pa\n",
    "import polars as pl\n",
    "\n",
    "%matplotlib inline\n",
    "sns.set_style('darkgrid')"
   ]
  },
  {
   "cell_type": "markdown",
   "id": "c86a02b7",
   "metadata": {
    "papermill": {
     "duration": 0.009735,
     "end_time": "2023-03-07T19:56:44.417751",
     "exception": false,
     "start_time": "2023-03-07T19:56:44.408016",
     "status": "completed"
    },
    "tags": []
   },
   "source": [
    "## Showing data"
   ]
  },
  {
   "cell_type": "code",
   "execution_count": 4,
   "id": "7c23c85e",
   "metadata": {
    "execution": {
     "iopub.execute_input": "2023-03-07T19:56:44.440724Z",
     "iopub.status.busy": "2023-03-07T19:56:44.440317Z",
     "iopub.status.idle": "2023-03-07T19:56:44.549419Z",
     "shell.execute_reply": "2023-03-07T19:56:44.548020Z"
    },
    "papermill": {
     "duration": 0.124512,
     "end_time": "2023-03-07T19:56:44.552428",
     "exception": false,
     "start_time": "2023-03-07T19:56:44.427916",
     "status": "completed"
    },
    "tags": []
   },
   "outputs": [],
   "source": [
    "id_to_submit = pd.read_feather(f'{LOCAL_DATA_PATH}/{SUBMISSION_FILE}')"
   ]
  },
  {
   "cell_type": "code",
   "execution_count": 5,
   "id": "d33d94e7",
   "metadata": {
    "execution": {
     "iopub.execute_input": "2023-03-07T19:56:44.574911Z",
     "iopub.status.busy": "2023-03-07T19:56:44.574461Z",
     "iopub.status.idle": "2023-03-07T19:56:44.595573Z",
     "shell.execute_reply": "2023-03-07T19:56:44.594615Z"
    },
    "papermill": {
     "duration": 0.036242,
     "end_time": "2023-03-07T19:56:44.598867",
     "exception": false,
     "start_time": "2023-03-07T19:56:44.562625",
     "status": "completed"
    },
    "tags": []
   },
   "outputs": [
    {
     "data": {
      "text/html": [
       "<div>\n",
       "<style scoped>\n",
       "    .dataframe tbody tr th:only-of-type {\n",
       "        vertical-align: middle;\n",
       "    }\n",
       "\n",
       "    .dataframe tbody tr th {\n",
       "        vertical-align: top;\n",
       "    }\n",
       "\n",
       "    .dataframe thead th {\n",
       "        text-align: right;\n",
       "    }\n",
       "</style>\n",
       "<table border=\"1\" class=\"dataframe\">\n",
       "  <thead>\n",
       "    <tr style=\"text-align: right;\">\n",
       "      <th></th>\n",
       "      <th>user_id</th>\n",
       "    </tr>\n",
       "  </thead>\n",
       "  <tbody>\n",
       "    <tr>\n",
       "      <th>0</th>\n",
       "      <td>221301</td>\n",
       "    </tr>\n",
       "    <tr>\n",
       "      <th>1</th>\n",
       "      <td>31271</td>\n",
       "    </tr>\n",
       "    <tr>\n",
       "      <th>2</th>\n",
       "      <td>211594</td>\n",
       "    </tr>\n",
       "  </tbody>\n",
       "</table>\n",
       "</div>"
      ],
      "text/plain": [
       "   user_id\n",
       "0   221301\n",
       "1    31271\n",
       "2   211594"
      ]
     },
     "metadata": {},
     "output_type": "display_data"
    },
    {
     "data": {
      "text/plain": [
       "<bound method DataFrame.info of         user_id\n",
       "0        221301\n",
       "1         31271\n",
       "2        211594\n",
       "3        253119\n",
       "4        192578\n",
       "...         ...\n",
       "144719   415284\n",
       "144720   415285\n",
       "144721   415286\n",
       "144722   415306\n",
       "144723   415315\n",
       "\n",
       "[144724 rows x 1 columns]>"
      ]
     },
     "execution_count": 5,
     "metadata": {},
     "output_type": "execute_result"
    }
   ],
   "source": [
    "display(id_to_submit.head(3))\n",
    "id_to_submit.info"
   ]
  },
  {
   "cell_type": "code",
   "execution_count": 6,
   "id": "18ba9f86",
   "metadata": {
    "execution": {
     "iopub.execute_input": "2023-03-07T19:56:44.622019Z",
     "iopub.status.busy": "2023-03-07T19:56:44.621565Z",
     "iopub.status.idle": "2023-03-07T19:57:27.162779Z",
     "shell.execute_reply": "2023-03-07T19:57:27.161478Z"
    },
    "papermill": {
     "duration": 42.556823,
     "end_time": "2023-03-07T19:57:27.166623",
     "exception": false,
     "start_time": "2023-03-07T19:56:44.609800",
     "status": "completed"
    },
    "tags": []
   },
   "outputs": [],
   "source": [
    "data = pd.read_feather(f'{LOCAL_DATA_PATH}/{DATA_FILE}')"
   ]
  },
  {
   "cell_type": "code",
   "execution_count": 7,
   "id": "f02d49ef",
   "metadata": {
    "execution": {
     "iopub.execute_input": "2023-03-07T19:57:27.201502Z",
     "iopub.status.busy": "2023-03-07T19:57:27.200882Z",
     "iopub.status.idle": "2023-03-07T19:58:10.446699Z",
     "shell.execute_reply": "2023-03-07T19:58:10.444722Z"
    },
    "papermill": {
     "duration": 43.282314,
     "end_time": "2023-03-07T19:58:10.466012",
     "exception": false,
     "start_time": "2023-03-07T19:57:27.183698",
     "status": "completed"
    },
    "tags": []
   },
   "outputs": [
    {
     "data": {
      "text/html": [
       "<div>\n",
       "<style scoped>\n",
       "    .dataframe tbody tr th:only-of-type {\n",
       "        vertical-align: middle;\n",
       "    }\n",
       "\n",
       "    .dataframe tbody tr th {\n",
       "        vertical-align: top;\n",
       "    }\n",
       "\n",
       "    .dataframe thead th {\n",
       "        text-align: right;\n",
       "    }\n",
       "</style>\n",
       "<table border=\"1\" class=\"dataframe\">\n",
       "  <thead>\n",
       "    <tr style=\"text-align: right;\">\n",
       "      <th></th>\n",
       "      <th>region_name</th>\n",
       "      <th>city_name</th>\n",
       "      <th>cpe_manufacturer_name</th>\n",
       "      <th>cpe_model_name</th>\n",
       "      <th>url_host</th>\n",
       "      <th>cpe_type_cd</th>\n",
       "      <th>cpe_model_os_type</th>\n",
       "      <th>price</th>\n",
       "      <th>date</th>\n",
       "      <th>part_of_day</th>\n",
       "      <th>request_cnt</th>\n",
       "      <th>user_id</th>\n",
       "    </tr>\n",
       "  </thead>\n",
       "  <tbody>\n",
       "    <tr>\n",
       "      <th>0</th>\n",
       "      <td>Краснодарский край</td>\n",
       "      <td>Краснодар</td>\n",
       "      <td>Apple</td>\n",
       "      <td>iPhone 7</td>\n",
       "      <td>ad.adriver.ru</td>\n",
       "      <td>smartphone</td>\n",
       "      <td>iOS</td>\n",
       "      <td>20368.0</td>\n",
       "      <td>2022-06-15</td>\n",
       "      <td>morning</td>\n",
       "      <td>1</td>\n",
       "      <td>45098</td>\n",
       "    </tr>\n",
       "    <tr>\n",
       "      <th>1</th>\n",
       "      <td>Краснодарский край</td>\n",
       "      <td>Краснодар</td>\n",
       "      <td>Apple</td>\n",
       "      <td>iPhone 7</td>\n",
       "      <td>apple.com</td>\n",
       "      <td>smartphone</td>\n",
       "      <td>iOS</td>\n",
       "      <td>20368.0</td>\n",
       "      <td>2022-06-19</td>\n",
       "      <td>morning</td>\n",
       "      <td>1</td>\n",
       "      <td>45098</td>\n",
       "    </tr>\n",
       "    <tr>\n",
       "      <th>2</th>\n",
       "      <td>Краснодарский край</td>\n",
       "      <td>Краснодар</td>\n",
       "      <td>Apple</td>\n",
       "      <td>iPhone 7</td>\n",
       "      <td>avatars.mds.yandex.net</td>\n",
       "      <td>smartphone</td>\n",
       "      <td>iOS</td>\n",
       "      <td>20368.0</td>\n",
       "      <td>2022-06-12</td>\n",
       "      <td>day</td>\n",
       "      <td>1</td>\n",
       "      <td>45098</td>\n",
       "    </tr>\n",
       "    <tr>\n",
       "      <th>3</th>\n",
       "      <td>Краснодарский край</td>\n",
       "      <td>Краснодар</td>\n",
       "      <td>Apple</td>\n",
       "      <td>iPhone 7</td>\n",
       "      <td>googleads.g.doubleclick.net</td>\n",
       "      <td>smartphone</td>\n",
       "      <td>iOS</td>\n",
       "      <td>20368.0</td>\n",
       "      <td>2022-05-16</td>\n",
       "      <td>day</td>\n",
       "      <td>1</td>\n",
       "      <td>45098</td>\n",
       "    </tr>\n",
       "    <tr>\n",
       "      <th>4</th>\n",
       "      <td>Краснодарский край</td>\n",
       "      <td>Краснодар</td>\n",
       "      <td>Apple</td>\n",
       "      <td>iPhone 7</td>\n",
       "      <td>googleads.g.doubleclick.net</td>\n",
       "      <td>smartphone</td>\n",
       "      <td>iOS</td>\n",
       "      <td>20368.0</td>\n",
       "      <td>2022-05-30</td>\n",
       "      <td>day</td>\n",
       "      <td>1</td>\n",
       "      <td>45098</td>\n",
       "    </tr>\n",
       "  </tbody>\n",
       "</table>\n",
       "</div>"
      ],
      "text/plain": [
       "          region_name  city_name cpe_manufacturer_name cpe_model_name  \\\n",
       "0  Краснодарский край  Краснодар                 Apple       iPhone 7   \n",
       "1  Краснодарский край  Краснодар                 Apple       iPhone 7   \n",
       "2  Краснодарский край  Краснодар                 Apple       iPhone 7   \n",
       "3  Краснодарский край  Краснодар                 Apple       iPhone 7   \n",
       "4  Краснодарский край  Краснодар                 Apple       iPhone 7   \n",
       "\n",
       "                      url_host cpe_type_cd cpe_model_os_type    price  \\\n",
       "0                ad.adriver.ru  smartphone               iOS  20368.0   \n",
       "1                    apple.com  smartphone               iOS  20368.0   \n",
       "2       avatars.mds.yandex.net  smartphone               iOS  20368.0   \n",
       "3  googleads.g.doubleclick.net  smartphone               iOS  20368.0   \n",
       "4  googleads.g.doubleclick.net  smartphone               iOS  20368.0   \n",
       "\n",
       "        date part_of_day  request_cnt  user_id  \n",
       "0 2022-06-15     morning            1    45098  \n",
       "1 2022-06-19     morning            1    45098  \n",
       "2 2022-06-12         day            1    45098  \n",
       "3 2022-05-16         day            1    45098  \n",
       "4 2022-05-30         day            1    45098  "
      ]
     },
     "metadata": {},
     "output_type": "display_data"
    },
    {
     "data": {
      "text/html": [
       "<div>\n",
       "<style scoped>\n",
       "    .dataframe tbody tr th:only-of-type {\n",
       "        vertical-align: middle;\n",
       "    }\n",
       "\n",
       "    .dataframe tbody tr th {\n",
       "        vertical-align: top;\n",
       "    }\n",
       "\n",
       "    .dataframe thead th {\n",
       "        text-align: right;\n",
       "    }\n",
       "</style>\n",
       "<table border=\"1\" class=\"dataframe\">\n",
       "  <thead>\n",
       "    <tr style=\"text-align: right;\">\n",
       "      <th></th>\n",
       "      <th>price</th>\n",
       "      <th>request_cnt</th>\n",
       "      <th>user_id</th>\n",
       "    </tr>\n",
       "  </thead>\n",
       "  <tbody>\n",
       "    <tr>\n",
       "      <th>count</th>\n",
       "      <td>3.163100e+08</td>\n",
       "      <td>3.228994e+08</td>\n",
       "      <td>3.228994e+08</td>\n",
       "    </tr>\n",
       "    <tr>\n",
       "      <th>mean</th>\n",
       "      <td>3.308510e+04</td>\n",
       "      <td>1.724197e+00</td>\n",
       "      <td>2.070983e+05</td>\n",
       "    </tr>\n",
       "    <tr>\n",
       "      <th>std</th>\n",
       "      <td>2.583592e+04</td>\n",
       "      <td>1.213835e+00</td>\n",
       "      <td>1.200584e+05</td>\n",
       "    </tr>\n",
       "    <tr>\n",
       "      <th>min</th>\n",
       "      <td>9.000000e+01</td>\n",
       "      <td>1.000000e+00</td>\n",
       "      <td>0.000000e+00</td>\n",
       "    </tr>\n",
       "    <tr>\n",
       "      <th>25%</th>\n",
       "      <td>1.397400e+04</td>\n",
       "      <td>1.000000e+00</td>\n",
       "      <td>1.027880e+05</td>\n",
       "    </tr>\n",
       "    <tr>\n",
       "      <th>50%</th>\n",
       "      <td>2.199000e+04</td>\n",
       "      <td>1.000000e+00</td>\n",
       "      <td>2.068870e+05</td>\n",
       "    </tr>\n",
       "    <tr>\n",
       "      <th>75%</th>\n",
       "      <td>4.999000e+04</td>\n",
       "      <td>2.000000e+00</td>\n",
       "      <td>3.113950e+05</td>\n",
       "    </tr>\n",
       "    <tr>\n",
       "      <th>max</th>\n",
       "      <td>1.956570e+05</td>\n",
       "      <td>1.600000e+01</td>\n",
       "      <td>4.153160e+05</td>\n",
       "    </tr>\n",
       "  </tbody>\n",
       "</table>\n",
       "</div>"
      ],
      "text/plain": [
       "              price   request_cnt       user_id\n",
       "count  3.163100e+08  3.228994e+08  3.228994e+08\n",
       "mean   3.308510e+04  1.724197e+00  2.070983e+05\n",
       "std    2.583592e+04  1.213835e+00  1.200584e+05\n",
       "min    9.000000e+01  1.000000e+00  0.000000e+00\n",
       "25%    1.397400e+04  1.000000e+00  1.027880e+05\n",
       "50%    2.199000e+04  1.000000e+00  2.068870e+05\n",
       "75%    4.999000e+04  2.000000e+00  3.113950e+05\n",
       "max    1.956570e+05  1.600000e+01  4.153160e+05"
      ]
     },
     "execution_count": 7,
     "metadata": {},
     "output_type": "execute_result"
    }
   ],
   "source": [
    "display(data.head())\n",
    "data.describe()"
   ]
  },
  {
   "cell_type": "code",
   "execution_count": 8,
   "id": "276af6e2",
   "metadata": {
    "execution": {
     "iopub.execute_input": "2023-03-07T19:58:10.491777Z",
     "iopub.status.busy": "2023-03-07T19:58:10.491244Z",
     "iopub.status.idle": "2023-03-07T19:58:16.834763Z",
     "shell.execute_reply": "2023-03-07T19:58:16.833502Z"
    },
    "papermill": {
     "duration": 6.360772,
     "end_time": "2023-03-07T19:58:16.837629",
     "exception": false,
     "start_time": "2023-03-07T19:58:10.476857",
     "status": "completed"
    },
    "tags": []
   },
   "outputs": [
    {
     "data": {
      "text/html": [
       "<div>\n",
       "<style scoped>\n",
       "    .dataframe tbody tr th:only-of-type {\n",
       "        vertical-align: middle;\n",
       "    }\n",
       "\n",
       "    .dataframe tbody tr th {\n",
       "        vertical-align: top;\n",
       "    }\n",
       "\n",
       "    .dataframe thead tr th {\n",
       "        text-align: left;\n",
       "    }\n",
       "</style>\n",
       "<table border=\"1\" class=\"dataframe\">\n",
       "  <thead>\n",
       "    <tr>\n",
       "      <th></th>\n",
       "      <th>field</th>\n",
       "      <th>type</th>\n",
       "    </tr>\n",
       "  </thead>\n",
       "  <tbody>\n",
       "    <tr>\n",
       "      <th>0</th>\n",
       "      <td>region_name</td>\n",
       "      <td>dictionary&lt;values=string, indices=int8, ordere...</td>\n",
       "    </tr>\n",
       "    <tr>\n",
       "      <th>1</th>\n",
       "      <td>city_name</td>\n",
       "      <td>dictionary&lt;values=string, indices=int16, order...</td>\n",
       "    </tr>\n",
       "    <tr>\n",
       "      <th>2</th>\n",
       "      <td>cpe_manufacturer_name</td>\n",
       "      <td>dictionary&lt;values=string, indices=int8, ordere...</td>\n",
       "    </tr>\n",
       "    <tr>\n",
       "      <th>3</th>\n",
       "      <td>cpe_model_name</td>\n",
       "      <td>dictionary&lt;values=string, indices=int16, order...</td>\n",
       "    </tr>\n",
       "    <tr>\n",
       "      <th>4</th>\n",
       "      <td>url_host</td>\n",
       "      <td>dictionary&lt;values=string, indices=int32, order...</td>\n",
       "    </tr>\n",
       "    <tr>\n",
       "      <th>5</th>\n",
       "      <td>cpe_type_cd</td>\n",
       "      <td>dictionary&lt;values=string, indices=int8, ordere...</td>\n",
       "    </tr>\n",
       "    <tr>\n",
       "      <th>6</th>\n",
       "      <td>cpe_model_os_type</td>\n",
       "      <td>dictionary&lt;values=string, indices=int8, ordere...</td>\n",
       "    </tr>\n",
       "    <tr>\n",
       "      <th>7</th>\n",
       "      <td>price</td>\n",
       "      <td>float</td>\n",
       "    </tr>\n",
       "    <tr>\n",
       "      <th>8</th>\n",
       "      <td>date</td>\n",
       "      <td>timestamp[ns]</td>\n",
       "    </tr>\n",
       "    <tr>\n",
       "      <th>9</th>\n",
       "      <td>part_of_day</td>\n",
       "      <td>dictionary&lt;values=string, indices=int8, ordere...</td>\n",
       "    </tr>\n",
       "    <tr>\n",
       "      <th>10</th>\n",
       "      <td>request_cnt</td>\n",
       "      <td>int8</td>\n",
       "    </tr>\n",
       "    <tr>\n",
       "      <th>11</th>\n",
       "      <td>user_id</td>\n",
       "      <td>int32</td>\n",
       "    </tr>\n",
       "  </tbody>\n",
       "</table>\n",
       "</div>"
      ],
      "text/plain": [
       "                    field                                               type\n",
       "0             region_name  dictionary<values=string, indices=int8, ordere...\n",
       "1               city_name  dictionary<values=string, indices=int16, order...\n",
       "2   cpe_manufacturer_name  dictionary<values=string, indices=int8, ordere...\n",
       "3          cpe_model_name  dictionary<values=string, indices=int16, order...\n",
       "4                url_host  dictionary<values=string, indices=int32, order...\n",
       "5             cpe_type_cd  dictionary<values=string, indices=int8, ordere...\n",
       "6       cpe_model_os_type  dictionary<values=string, indices=int8, ordere...\n",
       "7                   price                                              float\n",
       "8                    date                                      timestamp[ns]\n",
       "9             part_of_day  dictionary<values=string, indices=int8, ordere...\n",
       "10            request_cnt                                               int8\n",
       "11                user_id                                              int32"
      ]
     },
     "execution_count": 8,
     "metadata": {},
     "output_type": "execute_result"
    }
   ],
   "source": [
    "data = pa.Table.from_pandas(data)\n",
    "pd.DataFrame([(z.name, z.type) for z in data.schema], columns = [['field', 'type']])"
   ]
  },
  {
   "cell_type": "code",
   "execution_count": 9,
   "id": "04b923fc",
   "metadata": {
    "execution": {
     "iopub.execute_input": "2023-03-07T19:58:16.862591Z",
     "iopub.status.busy": "2023-03-07T19:58:16.862142Z",
     "iopub.status.idle": "2023-03-07T19:58:20.047441Z",
     "shell.execute_reply": "2023-03-07T19:58:20.046041Z"
    },
    "papermill": {
     "duration": 3.20092,
     "end_time": "2023-03-07T19:58:20.050197",
     "exception": false,
     "start_time": "2023-03-07T19:58:16.849277",
     "status": "completed"
    },
    "tags": []
   },
   "outputs": [
    {
     "data": {
      "text/plain": [
       "smartphone    322781599\n",
       "tablet            53768\n",
       "plain             36116\n",
       "phablet           27952\n",
       "Name: cpe_type_cd, dtype: int64"
      ]
     },
     "execution_count": 9,
     "metadata": {},
     "output_type": "execute_result"
    }
   ],
   "source": [
    "data.select(['cpe_type_cd']).to_pandas()['cpe_type_cd'].value_counts()"
   ]
  },
  {
   "cell_type": "code",
   "execution_count": 10,
   "id": "0704a597",
   "metadata": {
    "execution": {
     "iopub.execute_input": "2023-03-07T19:58:20.075564Z",
     "iopub.status.busy": "2023-03-07T19:58:20.075113Z",
     "iopub.status.idle": "2023-03-07T19:58:20.204050Z",
     "shell.execute_reply": "2023-03-07T19:58:20.202880Z"
    },
    "papermill": {
     "duration": 0.144969,
     "end_time": "2023-03-07T19:58:20.206536",
     "exception": false,
     "start_time": "2023-03-07T19:58:20.061567",
     "status": "completed"
    },
    "tags": []
   },
   "outputs": [
    {
     "data": {
      "text/html": [
       "<div>\n",
       "<style scoped>\n",
       "    .dataframe tbody tr th:only-of-type {\n",
       "        vertical-align: middle;\n",
       "    }\n",
       "\n",
       "    .dataframe tbody tr th {\n",
       "        vertical-align: top;\n",
       "    }\n",
       "\n",
       "    .dataframe thead th {\n",
       "        text-align: right;\n",
       "    }\n",
       "</style>\n",
       "<table border=\"1\" class=\"dataframe\">\n",
       "  <thead>\n",
       "    <tr style=\"text-align: right;\">\n",
       "      <th></th>\n",
       "      <th>age</th>\n",
       "      <th>is_male</th>\n",
       "      <th>user_id</th>\n",
       "    </tr>\n",
       "  </thead>\n",
       "  <tbody>\n",
       "    <tr>\n",
       "      <th>0</th>\n",
       "      <td>31.0</td>\n",
       "      <td>1</td>\n",
       "      <td>350459</td>\n",
       "    </tr>\n",
       "    <tr>\n",
       "      <th>1</th>\n",
       "      <td>35.0</td>\n",
       "      <td>1</td>\n",
       "      <td>188276</td>\n",
       "    </tr>\n",
       "    <tr>\n",
       "      <th>2</th>\n",
       "      <td>41.0</td>\n",
       "      <td>0</td>\n",
       "      <td>99002</td>\n",
       "    </tr>\n",
       "    <tr>\n",
       "      <th>3</th>\n",
       "      <td>33.0</td>\n",
       "      <td>0</td>\n",
       "      <td>155506</td>\n",
       "    </tr>\n",
       "    <tr>\n",
       "      <th>4</th>\n",
       "      <td>54.0</td>\n",
       "      <td>0</td>\n",
       "      <td>213873</td>\n",
       "    </tr>\n",
       "  </tbody>\n",
       "</table>\n",
       "</div>"
      ],
      "text/plain": [
       "    age is_male  user_id\n",
       "0  31.0       1   350459\n",
       "1  35.0       1   188276\n",
       "2  41.0       0    99002\n",
       "3  33.0       0   155506\n",
       "4  54.0       0   213873"
      ]
     },
     "execution_count": 10,
     "metadata": {},
     "output_type": "execute_result"
    }
   ],
   "source": [
    "targets = pd.read_feather(f'{LOCAL_DATA_PATH}/{TARGET_FILE}')\n",
    "targets.head()"
   ]
  },
  {
   "cell_type": "code",
   "execution_count": 11,
   "id": "05a68c21",
   "metadata": {
    "execution": {
     "iopub.execute_input": "2023-03-07T19:58:20.231717Z",
     "iopub.status.busy": "2023-03-07T19:58:20.231315Z",
     "iopub.status.idle": "2023-03-07T19:58:20.257645Z",
     "shell.execute_reply": "2023-03-07T19:58:20.256584Z"
    },
    "papermill": {
     "duration": 0.041923,
     "end_time": "2023-03-07T19:58:20.260196",
     "exception": false,
     "start_time": "2023-03-07T19:58:20.218273",
     "status": "completed"
    },
    "tags": []
   },
   "outputs": [
    {
     "data": {
      "text/html": [
       "<div>\n",
       "<style scoped>\n",
       "    .dataframe tbody tr th:only-of-type {\n",
       "        vertical-align: middle;\n",
       "    }\n",
       "\n",
       "    .dataframe tbody tr th {\n",
       "        vertical-align: top;\n",
       "    }\n",
       "\n",
       "    .dataframe thead tr th {\n",
       "        text-align: left;\n",
       "    }\n",
       "</style>\n",
       "<table border=\"1\" class=\"dataframe\">\n",
       "  <thead>\n",
       "    <tr>\n",
       "      <th></th>\n",
       "      <th>field</th>\n",
       "      <th>type</th>\n",
       "    </tr>\n",
       "  </thead>\n",
       "  <tbody>\n",
       "    <tr>\n",
       "      <th>0</th>\n",
       "      <td>age</td>\n",
       "      <td>double</td>\n",
       "    </tr>\n",
       "    <tr>\n",
       "      <th>1</th>\n",
       "      <td>is_male</td>\n",
       "      <td>string</td>\n",
       "    </tr>\n",
       "    <tr>\n",
       "      <th>2</th>\n",
       "      <td>user_id</td>\n",
       "      <td>int64</td>\n",
       "    </tr>\n",
       "  </tbody>\n",
       "</table>\n",
       "</div>"
      ],
      "text/plain": [
       "     field    type\n",
       "0      age  double\n",
       "1  is_male  string\n",
       "2  user_id   int64"
      ]
     },
     "execution_count": 11,
     "metadata": {},
     "output_type": "execute_result"
    }
   ],
   "source": [
    "targets = pa.Table.from_pandas(targets)\n",
    "pd.DataFrame([(z.name, z.type) for z in targets.schema], columns = [['field', 'type']])"
   ]
  },
  {
   "cell_type": "markdown",
   "id": "472b0a84",
   "metadata": {
    "papermill": {
     "duration": 0.01288,
     "end_time": "2023-03-07T19:58:20.286584",
     "exception": false,
     "start_time": "2023-03-07T19:58:20.273704",
     "status": "completed"
    },
    "tags": []
   },
   "source": [
    "## Counting users <-> items embedding"
   ]
  },
  {
   "cell_type": "code",
   "execution_count": 12,
   "id": "3b554da7",
   "metadata": {
    "execution": {
     "iopub.execute_input": "2023-03-07T19:58:20.313045Z",
     "iopub.status.busy": "2023-03-07T19:58:20.312241Z",
     "iopub.status.idle": "2023-03-07T19:59:00.081963Z",
     "shell.execute_reply": "2023-03-07T19:59:00.080873Z"
    },
    "papermill": {
     "duration": 39.785719,
     "end_time": "2023-03-07T19:59:00.084639",
     "exception": false,
     "start_time": "2023-03-07T19:58:20.298920",
     "status": "completed"
    },
    "tags": []
   },
   "outputs": [
    {
     "name": "stdout",
     "output_type": "stream",
     "text": [
      "199683 urls\n",
      "415317 users\n",
      "CPU times: user 34.3 s, sys: 5.75 s, total: 40 s\n",
      "Wall time: 39.8 s\n"
     ]
    }
   ],
   "source": [
    "%%time\n",
    "if (IS_EMBEDDING_USED):\n",
    "    data_agg = data.select(['user_id', 'url_host', 'request_cnt']).\\\n",
    "        group_by(['user_id', 'url_host']).aggregate([('request_cnt', \"sum\")])\n",
    "\n",
    "    url_set = set(data_agg.select(['url_host']).to_pandas()['url_host'])\n",
    "    print(f'{len(url_set)} urls')\n",
    "    url_dict = {url: idurl for url, idurl in zip(url_set, range(len(url_set)))}\n",
    "    usr_set = set(data_agg.select(['user_id']).to_pandas()['user_id'])\n",
    "    print(f'{len(usr_set)} users')\n",
    "    usr_dict = {usr: user_id for usr, user_id in zip(usr_set, range(len(usr_set)))}"
   ]
  },
  {
   "cell_type": "code",
   "execution_count": 13,
   "id": "0eee4da1",
   "metadata": {
    "execution": {
     "iopub.execute_input": "2023-03-07T19:59:00.119086Z",
     "iopub.status.busy": "2023-03-07T19:59:00.118656Z",
     "iopub.status.idle": "2023-03-07T19:59:02.967705Z",
     "shell.execute_reply": "2023-03-07T19:59:02.966233Z"
    },
    "papermill": {
     "duration": 2.868431,
     "end_time": "2023-03-07T19:59:02.970819",
     "exception": false,
     "start_time": "2023-03-07T19:59:00.102388",
     "status": "completed"
    },
    "tags": []
   },
   "outputs": [
    {
     "name": "stdout",
     "output_type": "stream",
     "text": [
      "CPU times: user 2.08 s, sys: 822 ms, total: 2.91 s\n",
      "Wall time: 2.84 s\n"
     ]
    }
   ],
   "source": [
    "%%time\n",
    "if (IS_EMBEDDING_USED):\n",
    "    values = np.array(data_agg.select(['request_cnt_sum']).to_pandas()['request_cnt_sum'])\n",
    "    rows = np.array(data_agg.select(['user_id']).to_pandas()['user_id'].map(usr_dict))\n",
    "    cols = np.array(data_agg.select(['url_host']).to_pandas()['url_host'].map(url_dict))\n",
    "    mat = scipy.sparse.coo_matrix((values, (rows, cols)), shape=(rows.max() + 1, cols.max() + 1))\n",
    "    als = implicit.approximate_als.FaissAlternatingLeastSquares(factors = 50, iterations = FAISS_ITERATIONS, use_gpu = False, \\\n",
    "           calculate_training_loss = True, regularization = 0.1)"
   ]
  },
  {
   "cell_type": "code",
   "execution_count": 14,
   "id": "90d64486",
   "metadata": {
    "execution": {
     "iopub.execute_input": "2023-03-07T19:59:02.996599Z",
     "iopub.status.busy": "2023-03-07T19:59:02.996195Z",
     "iopub.status.idle": "2023-03-07T20:00:21.640342Z",
     "shell.execute_reply": "2023-03-07T20:00:21.639172Z"
    },
    "papermill": {
     "duration": 78.660862,
     "end_time": "2023-03-07T20:00:21.643470",
     "exception": false,
     "start_time": "2023-03-07T19:59:02.982608",
     "status": "completed"
    },
    "tags": []
   },
   "outputs": [
    {
     "data": {
      "application/vnd.jupyter.widget-view+json": {
       "model_id": "4d6d740d0e3542668db0b1824b538c35",
       "version_major": 2,
       "version_minor": 0
      },
      "text/plain": [
       "  0%|          | 0/5 [00:00<?, ?it/s]"
      ]
     },
     "metadata": {},
     "output_type": "display_data"
    },
    {
     "name": "stdout",
     "output_type": "stream",
     "text": [
      "CPU times: user 4min 41s, sys: 2.41 s, total: 4min 43s\n",
      "Wall time: 1min 18s\n"
     ]
    }
   ],
   "source": [
    "%%time\n",
    "if (IS_EMBEDDING_USED):\n",
    "    als.fit(mat)"
   ]
  },
  {
   "cell_type": "code",
   "execution_count": 15,
   "id": "0823321d",
   "metadata": {
    "execution": {
     "iopub.execute_input": "2023-03-07T20:00:21.671227Z",
     "iopub.status.busy": "2023-03-07T20:00:21.670771Z",
     "iopub.status.idle": "2023-03-07T20:00:21.676819Z",
     "shell.execute_reply": "2023-03-07T20:00:21.675319Z"
    },
    "papermill": {
     "duration": 0.023347,
     "end_time": "2023-03-07T20:00:21.680513",
     "exception": false,
     "start_time": "2023-03-07T20:00:21.657166",
     "status": "completed"
    },
    "tags": []
   },
   "outputs": [
    {
     "name": "stdout",
     "output_type": "stream",
     "text": [
      "199683\n"
     ]
    }
   ],
   "source": [
    "if (IS_EMBEDDING_USED):\n",
    "    u_factors = als.user_factors \n",
    "    print(len(u_factors))"
   ]
  },
  {
   "cell_type": "code",
   "execution_count": 16,
   "id": "e2eea48d",
   "metadata": {
    "execution": {
     "iopub.execute_input": "2023-03-07T20:00:21.706345Z",
     "iopub.status.busy": "2023-03-07T20:00:21.705894Z",
     "iopub.status.idle": "2023-03-07T20:00:21.712233Z",
     "shell.execute_reply": "2023-03-07T20:00:21.711011Z"
    },
    "papermill": {
     "duration": 0.022486,
     "end_time": "2023-03-07T20:00:21.714887",
     "exception": false,
     "start_time": "2023-03-07T20:00:21.692401",
     "status": "completed"
    },
    "tags": []
   },
   "outputs": [
    {
     "name": "stdout",
     "output_type": "stream",
     "text": [
      "415317\n"
     ]
    }
   ],
   "source": [
    "if (IS_EMBEDDING_USED):\n",
    "    d_factors = als.item_factors\n",
    "    print(len(d_factors))"
   ]
  },
  {
   "cell_type": "markdown",
   "id": "b6387fd8",
   "metadata": {
    "papermill": {
     "duration": 0.011564,
     "end_time": "2023-03-07T20:00:21.738296",
     "exception": false,
     "start_time": "2023-03-07T20:00:21.726732",
     "status": "completed"
    },
    "tags": []
   },
   "source": [
    "## Sex prediction"
   ]
  },
  {
   "cell_type": "code",
   "execution_count": 17,
   "id": "9a3b6c93",
   "metadata": {
    "execution": {
     "iopub.execute_input": "2023-03-07T20:00:21.764212Z",
     "iopub.status.busy": "2023-03-07T20:00:21.763775Z",
     "iopub.status.idle": "2023-03-07T20:00:21.782858Z",
     "shell.execute_reply": "2023-03-07T20:00:21.781459Z"
    },
    "papermill": {
     "duration": 0.03629,
     "end_time": "2023-03-07T20:00:21.786516",
     "exception": false,
     "start_time": "2023-03-07T20:00:21.750226",
     "status": "completed"
    },
    "tags": []
   },
   "outputs": [],
   "source": [
    "id_to_submit = pd.read_feather(f'{LOCAL_DATA_PATH}/{SUBMISSION_FILE}')"
   ]
  },
  {
   "cell_type": "code",
   "execution_count": 18,
   "id": "3500a101",
   "metadata": {
    "execution": {
     "iopub.execute_input": "2023-03-07T20:00:21.813748Z",
     "iopub.status.busy": "2023-03-07T20:00:21.813326Z",
     "iopub.status.idle": "2023-03-07T20:00:23.184649Z",
     "shell.execute_reply": "2023-03-07T20:00:23.183157Z"
    },
    "papermill": {
     "duration": 1.387638,
     "end_time": "2023-03-07T20:00:23.187531",
     "exception": false,
     "start_time": "2023-03-07T20:00:21.799893",
     "status": "completed"
    },
    "scrolled": true,
    "tags": []
   },
   "outputs": [
    {
     "name": "stdout",
     "output_type": "stream",
     "text": [
      "1    135314\n",
      "0    128982\n",
      "Name: is_male, dtype: int64\n"
     ]
    }
   ],
   "source": [
    "if (IS_EMBEDDING_USED):\n",
    "    inv_usr_map = {v: k for k, v in usr_dict.items()}\n",
    "    usr_emb = pd.DataFrame(d_factors)\n",
    "    usr_emb['user_id'] = usr_emb.index.map(inv_usr_map)\n",
    "    usr_targets = targets.to_pandas()\n",
    "    df = usr_targets.merge(usr_emb, how = 'inner', on = ['user_id'])\n",
    "    df = df[df['is_male'] != 'NA']\n",
    "    df = df.dropna()\n",
    "    df['is_male'] = df['is_male'].map(int)\n",
    "    print(df['is_male'].value_counts())"
   ]
  },
  {
   "cell_type": "markdown",
   "id": "04893559",
   "metadata": {
    "papermill": {
     "duration": 0.011757,
     "end_time": "2023-03-07T20:00:23.211774",
     "exception": false,
     "start_time": "2023-03-07T20:00:23.200017",
     "status": "completed"
    },
    "tags": []
   },
   "source": [
    "#### Model trainings"
   ]
  },
  {
   "cell_type": "code",
   "execution_count": 19,
   "id": "1720cf05",
   "metadata": {
    "execution": {
     "iopub.execute_input": "2023-03-07T20:00:23.237880Z",
     "iopub.status.busy": "2023-03-07T20:00:23.237395Z",
     "iopub.status.idle": "2023-03-07T20:00:23.242710Z",
     "shell.execute_reply": "2023-03-07T20:00:23.241493Z"
    },
    "papermill": {
     "duration": 0.021267,
     "end_time": "2023-03-07T20:00:23.245038",
     "exception": false,
     "start_time": "2023-03-07T20:00:23.223771",
     "status": "completed"
    },
    "tags": []
   },
   "outputs": [],
   "source": [
    "max_gini = 0\n",
    "train_index = 0\n",
    "test_index = 0"
   ]
  },
  {
   "cell_type": "code",
   "execution_count": 20,
   "id": "fd040c11",
   "metadata": {
    "execution": {
     "iopub.execute_input": "2023-03-07T20:00:23.271450Z",
     "iopub.status.busy": "2023-03-07T20:00:23.270725Z",
     "iopub.status.idle": "2023-03-07T20:03:06.087496Z",
     "shell.execute_reply": "2023-03-07T20:03:06.085555Z"
    },
    "papermill": {
     "duration": 162.845585,
     "end_time": "2023-03-07T20:03:06.102713",
     "exception": false,
     "start_time": "2023-03-07T20:00:23.257128",
     "status": "completed"
    },
    "tags": []
   },
   "outputs": [
    {
     "name": "stdout",
     "output_type": "stream",
     "text": [
      "Train indexes: [88099 88100 88101 88102 88103] Test length: [0 1 2 3 4] \n",
      " Train length: 176197 Test length: 88099 Dataset length: 264296\n",
      "GINI по полу 0.654, current max is 0.654\n",
      "\n",
      "Train indexes: [0 1 2 3 4] Test length: [88099 88100 88101 88102 88103] \n",
      " Train length: 176197 Test length: 88099 Dataset length: 264296\n",
      "GINI по полу 0.65, current max is 0.654\n",
      "\n",
      "Train indexes: [0 1 2 3 4] Test length: [176198 176199 176200 176201 176202] \n",
      " Train length: 176198 Test length: 88098 Dataset length: 264296\n",
      "GINI по полу 0.65, current max is 0.654\n",
      "\n",
      "CPU times: user 9min 57s, sys: 20.1 s, total: 10min 17s\n",
      "Wall time: 2min 42s\n"
     ]
    }
   ],
   "source": [
    "%%time\n",
    "if (IS_MODEL_CATBOOST):\n",
    "    clf = CatBoostClassifier()\n",
    "\n",
    "    x = np.array(df.drop(['user_id', 'age', 'is_male'], axis = 1))\n",
    "    y = np.array(df['is_male'])\n",
    "\n",
    "    kf = KFold(n_splits=KFOLD_SPLITS)\n",
    "\n",
    "    for train_index, test_index in kf.split(x):\n",
    "        print(\"Train indexes:\", train_index[:5],\n",
    "              \"Test length:\", test_index[:5], '\\n',\n",
    "              \"Train length:\", len(train_index), \n",
    "              \"Test length:\", len(test_index), \n",
    "              \"Dataset length:\", len(x))\n",
    "        x_train, x_test = x[train_index], x[test_index]\n",
    "        y_train, y_test = y[train_index], y[test_index]\n",
    "        clf.fit(x_train, y_train, verbose = False)\n",
    "        gini = float(f'{2 * m.roc_auc_score(y_test, clf.predict_proba(x_test)[:,1]) - 1:2.3f}')\n",
    "        if gini > max_gini:\n",
    "            max_gini = gini\n",
    "            max_train_index = train_index\n",
    "            max_test_index = test_index\n",
    "        \n",
    "        print(f'GINI по полу {gini}, current max is {max_gini}')\n",
    "        print()"
   ]
  },
  {
   "cell_type": "code",
   "execution_count": 21,
   "id": "0678879a",
   "metadata": {
    "execution": {
     "iopub.execute_input": "2023-03-07T20:03:06.131330Z",
     "iopub.status.busy": "2023-03-07T20:03:06.130888Z",
     "iopub.status.idle": "2023-03-07T20:03:06.139720Z",
     "shell.execute_reply": "2023-03-07T20:03:06.138169Z"
    },
    "papermill": {
     "duration": 0.02698,
     "end_time": "2023-03-07T20:03:06.142487",
     "exception": false,
     "start_time": "2023-03-07T20:03:06.115507",
     "status": "completed"
    },
    "tags": []
   },
   "outputs": [
    {
     "data": {
      "text/plain": [
       "'\\nfrom sklearn.ensemble import RandomForestClassifier\\nfrom sklearn.datasets import make_classification\\nX, y = make_classification(n_samples=1000, n_features=4,\\n                            n_informative=2, n_redundant=0,\\n                           random_state=0, shuffle=False)\\nclf = RandomForestClassifier(max_depth=2, random_state=0)\\nclf.fit(X, y)\\nprint(clf.predict([[0, 0, 0, 0]]))\\n'"
      ]
     },
     "execution_count": 21,
     "metadata": {},
     "output_type": "execute_result"
    }
   ],
   "source": [
    "#may try other models later\n",
    "'''\n",
    "from sklearn.ensemble import RandomForestClassifier\n",
    "from sklearn.datasets import make_classification\n",
    "X, y = make_classification(n_samples=1000, n_features=4,\n",
    "                            n_informative=2, n_redundant=0,\n",
    "                           random_state=0, shuffle=False)\n",
    "clf = RandomForestClassifier(max_depth=2, random_state=0)\n",
    "clf.fit(X, y)\n",
    "print(clf.predict([[0, 0, 0, 0]]))\n",
    "'''"
   ]
  },
  {
   "cell_type": "code",
   "execution_count": 22,
   "id": "4a29a5e7",
   "metadata": {
    "execution": {
     "iopub.execute_input": "2023-03-07T20:03:06.169890Z",
     "iopub.status.busy": "2023-03-07T20:03:06.169467Z",
     "iopub.status.idle": "2023-03-07T20:03:06.176538Z",
     "shell.execute_reply": "2023-03-07T20:03:06.175115Z"
    },
    "papermill": {
     "duration": 0.02349,
     "end_time": "2023-03-07T20:03:06.178810",
     "exception": false,
     "start_time": "2023-03-07T20:03:06.155320",
     "status": "completed"
    },
    "tags": []
   },
   "outputs": [
    {
     "name": "stdout",
     "output_type": "stream",
     "text": [
      "0.654\n",
      "[ 88099  88100  88101 ... 264293 264294 264295]\n",
      "[    0     1     2 ... 88096 88097 88098]\n"
     ]
    }
   ],
   "source": [
    "print(max_gini)\n",
    "print(max_train_index)\n",
    "print(max_test_index)"
   ]
  },
  {
   "cell_type": "code",
   "execution_count": 23,
   "id": "11c3a685",
   "metadata": {
    "execution": {
     "iopub.execute_input": "2023-03-07T20:03:06.205679Z",
     "iopub.status.busy": "2023-03-07T20:03:06.205225Z",
     "iopub.status.idle": "2023-03-07T20:03:59.517725Z",
     "shell.execute_reply": "2023-03-07T20:03:59.515891Z"
    },
    "papermill": {
     "duration": 53.330513,
     "end_time": "2023-03-07T20:03:59.521745",
     "exception": false,
     "start_time": "2023-03-07T20:03:06.191232",
     "status": "completed"
    },
    "tags": []
   },
   "outputs": [],
   "source": [
    "if (IS_MODEL_CATBOOST):\n",
    "    clf.fit(x[max_train_index], y[max_train_index], verbose = False)\n",
    "    id_to_submit['user_id'].unique"
   ]
  },
  {
   "cell_type": "code",
   "execution_count": 24,
   "id": "8940f65b",
   "metadata": {
    "execution": {
     "iopub.execute_input": "2023-03-07T20:03:59.549955Z",
     "iopub.status.busy": "2023-03-07T20:03:59.549523Z",
     "iopub.status.idle": "2023-03-07T20:04:00.162329Z",
     "shell.execute_reply": "2023-03-07T20:04:00.161027Z"
    },
    "papermill": {
     "duration": 0.630101,
     "end_time": "2023-03-07T20:04:00.165084",
     "exception": false,
     "start_time": "2023-03-07T20:03:59.534983",
     "status": "completed"
    },
    "tags": []
   },
   "outputs": [
    {
     "name": "stdout",
     "output_type": "stream",
     "text": [
      "144724\n"
     ]
    }
   ],
   "source": [
    "sex_prediction = clf.predict_proba(\n",
    "    id_to_submit.merge(usr_emb, how = 'left', on = ['user_id'])\n",
    ")[:,1]\n",
    "\n",
    "print(len(sex_prediction))\n",
    "id_to_submit['is_male'] = sex_prediction"
   ]
  },
  {
   "cell_type": "code",
   "execution_count": 25,
   "id": "01fed851",
   "metadata": {
    "execution": {
     "iopub.execute_input": "2023-03-07T20:04:00.192538Z",
     "iopub.status.busy": "2023-03-07T20:04:00.192097Z",
     "iopub.status.idle": "2023-03-07T20:04:00.454941Z",
     "shell.execute_reply": "2023-03-07T20:04:00.453427Z"
    },
    "papermill": {
     "duration": 0.27979,
     "end_time": "2023-03-07T20:04:00.457628",
     "exception": false,
     "start_time": "2023-03-07T20:04:00.177838",
     "status": "completed"
    },
    "tags": []
   },
   "outputs": [
    {
     "name": "stdout",
     "output_type": "stream",
     "text": [
      "Current GINI score:  0.654\n"
     ]
    }
   ],
   "source": [
    "print(\"Current GINI score: \", float(f'{2 * m.roc_auc_score(y[max_test_index], clf.predict_proba(x[max_test_index])[:,1]) - 1:2.3f}'))"
   ]
  },
  {
   "cell_type": "markdown",
   "id": "f2caa87b",
   "metadata": {
    "papermill": {
     "duration": 0.01266,
     "end_time": "2023-03-07T20:04:00.483000",
     "exception": false,
     "start_time": "2023-03-07T20:04:00.470340",
     "status": "completed"
    },
    "tags": []
   },
   "source": [
    "## Age prediction"
   ]
  },
  {
   "cell_type": "code",
   "execution_count": 26,
   "id": "3c9f9503",
   "metadata": {
    "execution": {
     "iopub.execute_input": "2023-03-07T20:04:00.512224Z",
     "iopub.status.busy": "2023-03-07T20:04:00.511505Z",
     "iopub.status.idle": "2023-03-07T20:04:00.517570Z",
     "shell.execute_reply": "2023-03-07T20:04:00.516296Z"
    },
    "papermill": {
     "duration": 0.023055,
     "end_time": "2023-03-07T20:04:00.520196",
     "exception": false,
     "start_time": "2023-03-07T20:04:00.497141",
     "status": "completed"
    },
    "tags": []
   },
   "outputs": [],
   "source": [
    "def age_bucket(x):\n",
    "    return bisect.bisect_left([18,25,35,45,55,65], x)"
   ]
  },
  {
   "cell_type": "code",
   "execution_count": 27,
   "id": "22991fa9",
   "metadata": {
    "execution": {
     "iopub.execute_input": "2023-03-07T20:04:00.549297Z",
     "iopub.status.busy": "2023-03-07T20:04:00.548576Z",
     "iopub.status.idle": "2023-03-07T20:04:02.023542Z",
     "shell.execute_reply": "2023-03-07T20:04:02.022113Z"
    },
    "papermill": {
     "duration": 1.493582,
     "end_time": "2023-03-07T20:04:02.027001",
     "exception": false,
     "start_time": "2023-03-07T20:04:00.533419",
     "status": "completed"
    },
    "tags": []
   },
   "outputs": [
    {
     "data": {
      "text/plain": [
       "<AxesSubplot:xlabel='age', ylabel='Count'>"
      ]
     },
     "execution_count": 27,
     "metadata": {},
     "output_type": "execute_result"
    },
    {
     "data": {
      "image/png": "[encoded data removed]",
      "text/plain": [
       "<Figure size 432x288 with 1 Axes>"
      ]
     },
     "metadata": {},
     "output_type": "display_data"
    }
   ],
   "source": [
    "df = usr_targets.merge(usr_emb, how = 'inner', on = ['user_id'])\n",
    "df = df[df['age'] != 'NA']\n",
    "df = df.dropna()\n",
    "df['age'] = df['age'].map(age_bucket)\n",
    "sns.histplot(df['age'], bins = 7)"
   ]
  },
  {
   "cell_type": "code",
   "execution_count": 28,
   "id": "cd2d6296",
   "metadata": {
    "execution": {
     "iopub.execute_input": "2023-03-07T20:04:02.057337Z",
     "iopub.status.busy": "2023-03-07T20:04:02.056819Z",
     "iopub.status.idle": "2023-03-07T20:04:02.064492Z",
     "shell.execute_reply": "2023-03-07T20:04:02.063286Z"
    },
    "papermill": {
     "duration": 0.026479,
     "end_time": "2023-03-07T20:04:02.067020",
     "exception": false,
     "start_time": "2023-03-07T20:04:02.040541",
     "status": "completed"
    },
    "tags": []
   },
   "outputs": [],
   "source": [
    "max_f1 = 0\n",
    "train_index = 0\n",
    "test_index = 0"
   ]
  },
  {
   "cell_type": "code",
   "execution_count": 29,
   "id": "c53a361d",
   "metadata": {
    "execution": {
     "iopub.execute_input": "2023-03-07T20:04:02.096350Z",
     "iopub.status.busy": "2023-03-07T20:04:02.095868Z",
     "iopub.status.idle": "2023-03-07T20:17:09.726953Z",
     "shell.execute_reply": "2023-03-07T20:17:09.725158Z"
    },
    "papermill": {
     "duration": 787.662828,
     "end_time": "2023-03-07T20:17:09.743352",
     "exception": false,
     "start_time": "2023-03-07T20:04:02.080524",
     "status": "completed"
    },
    "tags": []
   },
   "outputs": [
    {
     "name": "stdout",
     "output_type": "stream",
     "text": [
      "Train indexes: [88099 88100 88101 88102 88103] Test length: [0 1 2 3 4] \n",
      " Train length: 176197 Test length: 88099 Dataset length: 264296\n",
      "              precision    recall  f1-score   support\n",
      "\n",
      "         <18       0.00      0.00      0.00       262\n",
      "       18-25       0.48      0.26      0.34     10590\n",
      "       25-34       0.46      0.62      0.53     28502\n",
      "       35-44       0.38      0.51      0.44     25545\n",
      "       45-54       0.36      0.17      0.23     13708\n",
      "       55-65       0.40      0.17      0.24      7695\n",
      "         65+       0.40      0.01      0.02      1797\n",
      "\n",
      "    accuracy                           0.42     88099\n",
      "   macro avg       0.36      0.25      0.26     88099\n",
      "weighted avg       0.42      0.42      0.40     88099\n",
      " \n",
      "\n",
      "Train indexes: [0 1 2 3 4] Test length: [88099 88100 88101 88102 88103] \n",
      " Train length: 176197 Test length: 88099 Dataset length: 264296\n",
      "              precision    recall  f1-score   support\n",
      "\n",
      "         <18       0.00      0.00      0.00       262\n",
      "       18-25       0.49      0.27      0.35     10524\n",
      "       25-34       0.46      0.61      0.53     28602\n",
      "       35-44       0.38      0.52      0.44     25368\n",
      "       45-54       0.35      0.16      0.22     13717\n",
      "       55-65       0.41      0.17      0.24      7766\n",
      "         65+       0.37      0.02      0.03      1860\n",
      "\n",
      "    accuracy                           0.42     88099\n",
      "   macro avg       0.35      0.25      0.26     88099\n",
      "weighted avg       0.42      0.42      0.39     88099\n",
      " \n",
      "\n",
      "Train indexes: [0 1 2 3 4] Test length: [176198 176199 176200 176201 176202] \n",
      " Train length: 176198 Test length: 88098 Dataset length: 264296\n",
      "              precision    recall  f1-score   support\n",
      "\n",
      "         <18       0.00      0.00      0.00       264\n",
      "       18-25       0.49      0.26      0.34     10501\n",
      "       25-34       0.46      0.61      0.52     28588\n",
      "       35-44       0.38      0.52      0.44     25381\n",
      "       45-54       0.36      0.16      0.23     13829\n",
      "       55-65       0.41      0.17      0.24      7771\n",
      "         65+       0.31      0.01      0.02      1764\n",
      "\n",
      "    accuracy                           0.42     88098\n",
      "   macro avg       0.34      0.25      0.26     88098\n",
      "weighted avg       0.42      0.42      0.39     88098\n",
      " \n",
      "\n"
     ]
    }
   ],
   "source": [
    "if (IS_MODEL_CATBOOST):\n",
    "    clf = CatBoostClassifier()\n",
    "\n",
    "    x = np.array(df.drop(['user_id', 'age', 'is_male'], axis = 1))\n",
    "    y = np.array(df['age'])\n",
    "\n",
    "    kf = KFold(n_splits=KFOLD_SPLITS)\n",
    "\n",
    "    for train_index, test_index in kf.split(x):\n",
    "        print(\"Train indexes:\", train_index[:5],\n",
    "              \"Test length:\", test_index[:5], '\\n',\n",
    "              \"Train length:\", len(train_index), \n",
    "              \"Test length:\", len(test_index), \n",
    "              \"Dataset length:\", len(x))\n",
    "        x_train, x_test = x[train_index], x[test_index]\n",
    "        y_train, y_test = y[train_index], y[test_index]\n",
    "        clf.fit(x_train, y_train, verbose = False)\n",
    "        f1 = m.f1_score(y_test, clf.predict(x_test), average='weighted')\n",
    "    \n",
    "        if f1 > max_f1:\n",
    "            max_f1 = f1\n",
    "            max_train_index = train_index\n",
    "            max_test_index = test_index\n",
    "        \n",
    "        print(m.classification_report(\n",
    "            y_test, \n",
    "            clf.predict(x_test), \n",
    "            target_names = ['<18', '18-25','25-34', '35-44', '45-54', '55-65', '65+']\n",
    "        ), '\\n')"
   ]
  },
  {
   "cell_type": "code",
   "execution_count": 30,
   "id": "267bd9c9",
   "metadata": {
    "execution": {
     "iopub.execute_input": "2023-03-07T20:17:09.773325Z",
     "iopub.status.busy": "2023-03-07T20:17:09.772842Z",
     "iopub.status.idle": "2023-03-07T20:17:09.780081Z",
     "shell.execute_reply": "2023-03-07T20:17:09.778715Z"
    },
    "papermill": {
     "duration": 0.026525,
     "end_time": "2023-03-07T20:17:09.783678",
     "exception": false,
     "start_time": "2023-03-07T20:17:09.757153",
     "status": "completed"
    },
    "tags": []
   },
   "outputs": [
    {
     "name": "stdout",
     "output_type": "stream",
     "text": [
      "0.3956013442082641\n",
      "[88099 88100 88101 88102 88103]\n",
      "[0 1 2 3 4]\n"
     ]
    }
   ],
   "source": [
    "print(max_f1)\n",
    "print(max_train_index[:5])\n",
    "print(max_test_index[:5])"
   ]
  },
  {
   "cell_type": "code",
   "execution_count": 31,
   "id": "1682d76f",
   "metadata": {
    "execution": {
     "iopub.execute_input": "2023-03-07T20:17:09.814809Z",
     "iopub.status.busy": "2023-03-07T20:17:09.813830Z",
     "iopub.status.idle": "2023-03-07T20:21:33.945543Z",
     "shell.execute_reply": "2023-03-07T20:21:33.943684Z"
    },
    "papermill": {
     "duration": 264.15111,
     "end_time": "2023-03-07T20:21:33.949636",
     "exception": false,
     "start_time": "2023-03-07T20:17:09.798526",
     "status": "completed"
    },
    "tags": []
   },
   "outputs": [],
   "source": [
    "if (IS_MODEL_CATBOOST):\n",
    "    clf.fit(x[max_train_index], y[max_train_index], verbose = False)\n",
    "    id_to_submit['age'] = clf.predict(id_to_submit[['user_id']].merge(usr_emb, how = 'left', on = ['user_id']))"
   ]
  },
  {
   "cell_type": "code",
   "execution_count": 32,
   "id": "033e73ea",
   "metadata": {
    "execution": {
     "iopub.execute_input": "2023-03-07T20:21:33.979966Z",
     "iopub.status.busy": "2023-03-07T20:21:33.979526Z",
     "iopub.status.idle": "2023-03-07T20:21:33.985009Z",
     "shell.execute_reply": "2023-03-07T20:21:33.983836Z"
    },
    "papermill": {
     "duration": 0.023852,
     "end_time": "2023-03-07T20:21:33.987828",
     "exception": false,
     "start_time": "2023-03-07T20:21:33.963976",
     "status": "completed"
    },
    "tags": []
   },
   "outputs": [],
   "source": [
    "#id_to_submit['age'] = [0 for n in range(144724)]\n",
    "#so f1 is around 0.5 while gini is nothing"
   ]
  },
  {
   "cell_type": "code",
   "execution_count": 33,
   "id": "617e657c",
   "metadata": {
    "execution": {
     "iopub.execute_input": "2023-03-07T20:21:34.017444Z",
     "iopub.status.busy": "2023-03-07T20:21:34.016807Z",
     "iopub.status.idle": "2023-03-07T20:21:34.641671Z",
     "shell.execute_reply": "2023-03-07T20:21:34.640124Z"
    },
    "papermill": {
     "duration": 0.643143,
     "end_time": "2023-03-07T20:21:34.644409",
     "exception": false,
     "start_time": "2023-03-07T20:21:34.001266",
     "status": "completed"
    },
    "tags": []
   },
   "outputs": [
    {
     "name": "stdout",
     "output_type": "stream",
     "text": [
      "              precision    recall  f1-score   support\n",
      "\n",
      "         <18       0.00      0.00      0.00       262\n",
      "       18-25       0.48      0.26      0.34     10590\n",
      "       25-34       0.46      0.62      0.53     28502\n",
      "       35-44       0.38      0.51      0.44     25545\n",
      "       45-54       0.36      0.17      0.23     13708\n",
      "       55-65       0.40      0.17      0.24      7695\n",
      "         65+       0.40      0.01      0.02      1797\n",
      "\n",
      "    accuracy                           0.42     88099\n",
      "   macro avg       0.36      0.25      0.26     88099\n",
      "weighted avg       0.42      0.42      0.40     88099\n",
      "\n"
     ]
    }
   ],
   "source": [
    "if (IS_MODEL_CATBOOST):\n",
    "    print(m.classification_report(\n",
    "          y[max_test_index], \n",
    "          clf.predict(x[max_test_index]), \n",
    "          target_names = ['<18', '18-25','25-34', '35-44', '45-54', '55-65', '65+']\n",
    "    ))"
   ]
  },
  {
   "cell_type": "markdown",
   "id": "0fe68b69",
   "metadata": {
    "papermill": {
     "duration": 0.013175,
     "end_time": "2023-03-07T20:21:34.671348",
     "exception": false,
     "start_time": "2023-03-07T20:21:34.658173",
     "status": "completed"
    },
    "tags": []
   },
   "source": [
    "## Submission"
   ]
  },
  {
   "cell_type": "code",
   "execution_count": 34,
   "id": "37efe669",
   "metadata": {
    "execution": {
     "iopub.execute_input": "2023-03-07T20:21:34.700257Z",
     "iopub.status.busy": "2023-03-07T20:21:34.699795Z",
     "iopub.status.idle": "2023-03-07T20:21:35.101408Z",
     "shell.execute_reply": "2023-03-07T20:21:35.100146Z"
    },
    "papermill": {
     "duration": 0.419431,
     "end_time": "2023-03-07T20:21:35.104323",
     "exception": false,
     "start_time": "2023-03-07T20:21:34.684892",
     "status": "completed"
    },
    "tags": []
   },
   "outputs": [
    {
     "data": {
      "text/html": [
       "<div>\n",
       "<style scoped>\n",
       "    .dataframe tbody tr th:only-of-type {\n",
       "        vertical-align: middle;\n",
       "    }\n",
       "\n",
       "    .dataframe tbody tr th {\n",
       "        vertical-align: top;\n",
       "    }\n",
       "\n",
       "    .dataframe thead th {\n",
       "        text-align: right;\n",
       "    }\n",
       "</style>\n",
       "<table border=\"1\" class=\"dataframe\">\n",
       "  <thead>\n",
       "    <tr style=\"text-align: right;\">\n",
       "      <th></th>\n",
       "      <th>user_id</th>\n",
       "      <th>is_male</th>\n",
       "      <th>age</th>\n",
       "    </tr>\n",
       "  </thead>\n",
       "  <tbody>\n",
       "    <tr>\n",
       "      <th>0</th>\n",
       "      <td>221301</td>\n",
       "      <td>0.491065</td>\n",
       "      <td>3</td>\n",
       "    </tr>\n",
       "    <tr>\n",
       "      <th>1</th>\n",
       "      <td>31271</td>\n",
       "      <td>0.668735</td>\n",
       "      <td>3</td>\n",
       "    </tr>\n",
       "    <tr>\n",
       "      <th>2</th>\n",
       "      <td>211594</td>\n",
       "      <td>0.616308</td>\n",
       "      <td>3</td>\n",
       "    </tr>\n",
       "    <tr>\n",
       "      <th>3</th>\n",
       "      <td>253119</td>\n",
       "      <td>0.612069</td>\n",
       "      <td>3</td>\n",
       "    </tr>\n",
       "    <tr>\n",
       "      <th>4</th>\n",
       "      <td>192578</td>\n",
       "      <td>0.801855</td>\n",
       "      <td>3</td>\n",
       "    </tr>\n",
       "  </tbody>\n",
       "</table>\n",
       "</div>"
      ],
      "text/plain": [
       "   user_id   is_male  age\n",
       "0   221301  0.491065    3\n",
       "1    31271  0.668735    3\n",
       "2   211594  0.616308    3\n",
       "3   253119  0.612069    3\n",
       "4   192578  0.801855    3"
      ]
     },
     "metadata": {},
     "output_type": "display_data"
    },
    {
     "name": "stdout",
     "output_type": "stream",
     "text": [
      "0.524187    227\n",
      "0.551096    169\n",
      "0.522411    121\n",
      "0.543597     93\n",
      "0.529032     89\n",
      "           ... \n",
      "0.732838      1\n",
      "0.975465      1\n",
      "0.545221      1\n",
      "0.502991      1\n",
      "0.589028      1\n",
      "Name: is_male, Length: 141745, dtype: int64\n",
      "3    98895\n",
      "2    38704\n",
      "4     4940\n",
      "1     1345\n",
      "5      840\n",
      "Name: age, dtype: int64\n"
     ]
    }
   ],
   "source": [
    "display(id_to_submit.head())\n",
    "print(id_to_submit.is_male.value_counts())\n",
    "print(id_to_submit.age.value_counts())\n",
    "id_to_submit.to_csv('submission.csv', index = False)"
   ]
  },
  {
   "cell_type": "code",
   "execution_count": 35,
   "id": "e84d72a8",
   "metadata": {
    "execution": {
     "iopub.execute_input": "2023-03-07T20:21:35.134619Z",
     "iopub.status.busy": "2023-03-07T20:21:35.134169Z",
     "iopub.status.idle": "2023-03-07T20:21:35.140472Z",
     "shell.execute_reply": "2023-03-07T20:21:35.139143Z"
    },
    "papermill": {
     "duration": 0.024455,
     "end_time": "2023-03-07T20:21:35.143180",
     "exception": false,
     "start_time": "2023-03-07T20:21:35.118725",
     "status": "completed"
    },
    "tags": []
   },
   "outputs": [
    {
     "name": "stdout",
     "output_type": "stream",
     "text": [
      "Score: 1.4452026884165283\n"
     ]
    }
   ],
   "source": [
    "print(f'Score: {max_gini + 2*max_f1}')"
   ]
  }
 ],
 "metadata": {
  "kernelspec": {
   "display_name": "Python 3",
   "language": "python",
   "name": "python3"
  },
  "language_info": {
   "codemirror_mode": {
    "name": "ipython",
    "version": 3
   },
   "file_extension": ".py",
   "mimetype": "text/x-python",
   "name": "python",
   "nbconvert_exporter": "python",
   "pygments_lexer": "ipython3",
   "version": "3.7.12"
  },
  "papermill": {
   "default_parameters": {},
   "duration": 1554.696619,
   "end_time": "2023-03-07T20:21:38.981267",
   "environment_variables": {},
   "exception": null,
   "input_path": "__notebook__.ipynb",
   "output_path": "__notebook__.ipynb",
   "parameters": {},
   "start_time": "2023-03-07T19:55:44.284648",
   "version": "2.3.4"
  },
  "widgets": {
   "application/vnd.jupyter.widget-state+json": {
    "state": {
     "4d6d740d0e3542668db0b1824b538c35": {
      "model_module": "@jupyter-widgets/controls",
      "model_module_version": "1.5.0",
      "model_name": "HBoxModel",
      "state": {
       "_dom_classes": [],
       "_model_module": "@jupyter-widgets/controls",
       "_model_module_version": "1.5.0",
       "_model_name": "HBoxModel",
       "_view_count": null,
       "_view_module": "@jupyter-widgets/controls",
       "_view_module_version": "1.5.0",
       "_view_name": "HBoxView",
       "box_style": "",
       "children": [
        "IPY_MODEL_82d8b0627203453db4187b9b748236de",
        "IPY_MODEL_5d68b056978f4c059ba025eb7f9e6170",
        "IPY_MODEL_a249961e6fb644c888da4243b2751f79"
       ],
       "layout": "IPY_MODEL_508805ed1df44763aebcd56a5fabf9d3"
      }
     },
     "508805ed1df44763aebcd56a5fabf9d3": {
      "model_module": "@jupyter-widgets/base",
      "model_module_version": "1.2.0",
      "model_name": "LayoutModel",
      "state": {
       "_model_module": "@jupyter-widgets/base",
       "_model_module_version": "1.2.0",
       "_model_name": "LayoutModel",
       "_view_count": null,
       "_view_module": "@jupyter-widgets/base",
       "_view_module_version": "1.2.0",
       "_view_name": "LayoutView",
       "align_content": null,
       "align_items": null,
       "align_self": null,
       "border": null,
       "bottom": null,
       "display": null,
       "flex": null,
       "flex_flow": null,
       "grid_area": null,
       "grid_auto_columns": null,
       "grid_auto_flow": null,
       "grid_auto_rows": null,
       "grid_column": null,
       "grid_gap": null,
       "grid_row": null,
       "grid_template_areas": null,
       "grid_template_columns": null,
       "grid_template_rows": null,
       "height": null,
       "justify_content": null,
       "justify_items": null,
       "left": null,
       "margin": null,
       "max_height": null,
       "max_width": null,
       "min_height": null,
       "min_width": null,
       "object_fit": null,
       "object_position": null,
       "order": null,
       "overflow": null,
       "overflow_x": null,
       "overflow_y": null,
       "padding": null,
       "right": null,
       "top": null,
       "visibility": null,
       "width": null
      }
     },
     "5d06425bc8bb431e8cee3d0d3745a261": {
      "model_module": "@jupyter-widgets/controls",
      "model_module_version": "1.5.0",
      "model_name": "ProgressStyleModel",
      "state": {
       "_model_module": "@jupyter-widgets/controls",
       "_model_module_version": "1.5.0",
       "_model_name": "ProgressStyleModel",
       "_view_count": null,
       "_view_module": "@jupyter-widgets/base",
       "_view_module_version": "1.2.0",
       "_view_name": "StyleView",
       "bar_color": null,
       "description_width": ""
      }
     },
     "5d68b056978f4c059ba025eb7f9e6170": {
      "model_module": "@jupyter-widgets/controls",
      "model_module_version": "1.5.0",
      "model_name": "FloatProgressModel",
      "state": {
       "_dom_classes": [],
       "_model_module": "@jupyter-widgets/controls",
       "_model_module_version": "1.5.0",
       "_model_name": "FloatProgressModel",
       "_view_count": null,
       "_view_module": "@jupyter-widgets/controls",
       "_view_module_version": "1.5.0",
       "_view_name": "ProgressView",
       "bar_style": "success",
       "description": "",
       "description_tooltip": null,
       "layout": "IPY_MODEL_7681437f3cac4e6ca3ffcd779bb81601",
       "max": 5.0,
       "min": 0.0,
       "orientation": "horizontal",
       "style": "IPY_MODEL_5d06425bc8bb431e8cee3d0d3745a261",
       "value": 5.0
      }
     },
     "7681437f3cac4e6ca3ffcd779bb81601": {
      "model_module": "@jupyter-widgets/base",
      "model_module_version": "1.2.0",
      "model_name": "LayoutModel",
      "state": {
       "_model_module": "@jupyter-widgets/base",
       "_model_module_version": "1.2.0",
       "_model_name": "LayoutModel",
       "_view_count": null,
       "_view_module": "@jupyter-widgets/base",
       "_view_module_version": "1.2.0",
       "_view_name": "LayoutView",
       "align_content": null,
       "align_items": null,
       "align_self": null,
       "border": null,
       "bottom": null,
       "display": null,
       "flex": null,
       "flex_flow": null,
       "grid_area": null,
       "grid_auto_columns": null,
       "grid_auto_flow": null,
       "grid_auto_rows": null,
       "grid_column": null,
       "grid_gap": null,
       "grid_row": null,
       "grid_template_areas": null,
       "grid_template_columns": null,
       "grid_template_rows": null,
       "height": null,
       "justify_content": null,
       "justify_items": null,
       "left": null,
       "margin": null,
       "max_height": null,
       "max_width": null,
       "min_height": null,
       "min_width": null,
       "object_fit": null,
       "object_position": null,
       "order": null,
       "overflow": null,
       "overflow_x": null,
       "overflow_y": null,
       "padding": null,
       "right": null,
       "top": null,
       "visibility": null,
       "width": null
      }
     },
     "82d8b0627203453db4187b9b748236de": {
      "model_module": "@jupyter-widgets/controls",
      "model_module_version": "1.5.0",
      "model_name": "HTMLModel",
      "state": {
       "_dom_classes": [],
       "_model_module": "@jupyter-widgets/controls",
       "_model_module_version": "1.5.0",
       "_model_name": "HTMLModel",
       "_view_count": null,
       "_view_module": "@jupyter-widgets/controls",
       "_view_module_version": "1.5.0",
       "_view_name": "HTMLView",
       "description": "",
       "description_tooltip": null,
       "layout": "IPY_MODEL_aeef7ef6eefc455991e8a11a9e8896b0",
       "placeholder": "​",
       "style": "IPY_MODEL_9fb844f5736b419ca286cd0ccd9fa511",
       "value": "100%"
      }
     },
     "9fb844f5736b419ca286cd0ccd9fa511": {
      "model_module": "@jupyter-widgets/controls",
      "model_module_version": "1.5.0",
      "model_name": "DescriptionStyleModel",
      "state": {
       "_model_module": "@jupyter-widgets/controls",
       "_model_module_version": "1.5.0",
       "_model_name": "DescriptionStyleModel",
       "_view_count": null,
       "_view_module": "@jupyter-widgets/base",
       "_view_module_version": "1.2.0",
       "_view_name": "StyleView",
       "description_width": ""
      }
     },
     "a249961e6fb644c888da4243b2751f79": {
      "model_module": "@jupyter-widgets/controls",
      "model_module_version": "1.5.0",
      "model_name": "HTMLModel",
      "state": {
       "_dom_classes": [],
       "_model_module": "@jupyter-widgets/controls",
       "_model_module_version": "1.5.0",
       "_model_name": "HTMLModel",
       "_view_count": null,
       "_view_module": "@jupyter-widgets/controls",
       "_view_module_version": "1.5.0",
       "_view_name": "HTMLView",
       "description": "",
       "description_tooltip": null,
       "layout": "IPY_MODEL_f14b7907ca4340819f719d208f517f98",
       "placeholder": "​",
       "style": "IPY_MODEL_f720479027e74d098252e83cc0c0e7fd",
       "value": " 5/5 [01:11&lt;00:00, 14.24s/it, loss=0.000314]"
      }
     },
     "aeef7ef6eefc455991e8a11a9e8896b0": {
      "model_module": "@jupyter-widgets/base",
      "model_module_version": "1.2.0",
      "model_name": "LayoutModel",
      "state": {
       "_model_module": "@jupyter-widgets/base",
       "_model_module_version": "1.2.0",
       "_model_name": "LayoutModel",
       "_view_count": null,
       "_view_module": "@jupyter-widgets/base",
       "_view_module_version": "1.2.0",
       "_view_name": "LayoutView",
       "align_content": null,
       "align_items": null,
       "align_self": null,
       "border": null,
       "bottom": null,
       "display": null,
       "flex": null,
       "flex_flow": null,
       "grid_area": null,
       "grid_auto_columns": null,
       "grid_auto_flow": null,
       "grid_auto_rows": null,
       "grid_column": null,
       "grid_gap": null,
       "grid_row": null,
       "grid_template_areas": null,
       "grid_template_columns": null,
       "grid_template_rows": null,
       "height": null,
       "justify_content": null,
       "justify_items": null,
       "left": null,
       "margin": null,
       "max_height": null,
       "max_width": null,
       "min_height": null,
       "min_width": null,
       "object_fit": null,
       "object_position": null,
       "order": null,
       "overflow": null,
       "overflow_x": null,
       "overflow_y": null,
       "padding": null,
       "right": null,
       "top": null,
       "visibility": null,
       "width": null
      }
     },
     "f14b7907ca4340819f719d208f517f98": {
      "model_module": "@jupyter-widgets/base",
      "model_module_version": "1.2.0",
      "model_name": "LayoutModel",
      "state": {
       "_model_module": "@jupyter-widgets/base",
       "_model_module_version": "1.2.0",
       "_model_name": "LayoutModel",
       "_view_count": null,
       "_view_module": "@jupyter-widgets/base",
       "_view_module_version": "1.2.0",
       "_view_name": "LayoutView",
       "align_content": null,
       "align_items": null,
       "align_self": null,
       "border": null,
       "bottom": null,
       "display": null,
       "flex": null,
       "flex_flow": null,
       "grid_area": null,
       "grid_auto_columns": null,
       "grid_auto_flow": null,
       "grid_auto_rows": null,
       "grid_column": null,
       "grid_gap": null,
       "grid_row": null,
       "grid_template_areas": null,
       "grid_template_columns": null,
       "grid_template_rows": null,
       "height": null,
       "justify_content": null,
       "justify_items": null,
       "left": null,
       "margin": null,
       "max_height": null,
       "max_width": null,
       "min_height": null,
       "min_width": null,
       "object_fit": null,
       "object_position": null,
       "order": null,
       "overflow": null,
       "overflow_x": null,
       "overflow_y": null,
       "padding": null,
       "right": null,
       "top": null,
       "visibility": null,
       "width": null
      }
     },
     "f720479027e74d098252e83cc0c0e7fd": {
      "model_module": "@jupyter-widgets/controls",
      "model_module_version": "1.5.0",
      "model_name": "DescriptionStyleModel",
      "state": {
       "_model_module": "@jupyter-widgets/controls",
       "_model_module_version": "1.5.0",
       "_model_name": "DescriptionStyleModel",
       "_view_count": null,
       "_view_module": "@jupyter-widgets/base",
       "_view_module_version": "1.2.0",
       "_view_name": "StyleView",
       "description_width": ""
      }
     }
    },
    "version_major": 2,
    "version_minor": 0
   }
  }
 },
 "nbformat": 4,
 "nbformat_minor": 5
}
