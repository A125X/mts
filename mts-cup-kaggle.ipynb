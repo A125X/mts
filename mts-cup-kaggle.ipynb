{
 "cells": [
  {
   "cell_type": "markdown",
   "id": "fe4df30f",
   "metadata": {
    "papermill": {
     "duration": 0.011788,
     "end_time": "2023-03-12T17:18:54.321203",
     "exception": false,
     "start_time": "2023-03-12T17:18:54.309415",
     "status": "completed"
    },
    "tags": []
   },
   "source": [
    "## Imports and constants"
   ]
  },
  {
   "cell_type": "markdown",
   "id": "60a4ccd4",
   "metadata": {
    "papermill": {
     "duration": 0.009858,
     "end_time": "2023-03-12T17:18:54.341098",
     "exception": false,
     "start_time": "2023-03-12T17:18:54.331240",
     "status": "completed"
    },
    "tags": []
   },
   "source": [
    "to do: \n",
    "\n",
    "transformers, features generation,\n",
    "fix left bisect as described in the changed rules"
   ]
  },
  {
   "cell_type": "code",
   "execution_count": 1,
   "id": "5ba9c091",
   "metadata": {
    "execution": {
     "iopub.execute_input": "2023-03-12T17:18:54.362469Z",
     "iopub.status.busy": "2023-03-12T17:18:54.361863Z",
     "iopub.status.idle": "2023-03-12T17:18:54.381437Z",
     "shell.execute_reply": "2023-03-12T17:18:54.380274Z"
    },
    "papermill": {
     "duration": 0.033758,
     "end_time": "2023-03-12T17:18:54.384365",
     "exception": false,
     "start_time": "2023-03-12T17:18:54.350607",
     "status": "completed"
    },
    "tags": []
   },
   "outputs": [],
   "source": [
    "SPLIT_SEED = 42\n",
    "KFOLD_SPLITS = 5\n",
    "\n",
    "IS_EMBEDDING_USED = True\n",
    "if (IS_EMBEDDING_USED):\n",
    "    IS_GPU_USED = False\n",
    "    FAISS_ITERATIONS = 1500\n",
    "    FACTORS = 100\n",
    "    \n",
    "IS_NOTEBOOK_ON_KAGGLE = True\n",
    "if (IS_NOTEBOOK_ON_KAGGLE):\n",
    "    LOCAL_DATA_PATH = '/kaggle/input/mts-ml-cookies'\n",
    "    DATA_FILE = 'dataset_full.feather'\n",
    "    TARGET_FILE = 'target_train.feather'\n",
    "    SUBMISSION_FILE = 'submission.feather'\n",
    "    \n",
    "IS_MODEL_CATBOOST = True\n",
    "IS_MODEL_RANDFOREST = False\n",
    "if (IS_MODEL_RANDFOREST):\n",
    "    MAX_DEPTH = 10"
   ]
  },
  {
   "cell_type": "code",
   "execution_count": 2,
   "id": "ac4d2cf2",
   "metadata": {
    "execution": {
     "iopub.execute_input": "2023-03-12T17:18:54.406408Z",
     "iopub.status.busy": "2023-03-12T17:18:54.405662Z",
     "iopub.status.idle": "2023-03-12T17:18:54.411081Z",
     "shell.execute_reply": "2023-03-12T17:18:54.409966Z"
    },
    "papermill": {
     "duration": 0.019369,
     "end_time": "2023-03-12T17:18:54.413471",
     "exception": false,
     "start_time": "2023-03-12T17:18:54.394102",
     "status": "completed"
    },
    "tags": []
   },
   "outputs": [],
   "source": [
    "import sys\n",
    "import os\n",
    "import warnings\n",
    "os.environ['OPENBLAS_NUM_THREADS'] = '1'\n",
    "warnings.filterwarnings('ignore')"
   ]
  },
  {
   "cell_type": "code",
   "execution_count": 3,
   "id": "d93f5256",
   "metadata": {
    "execution": {
     "iopub.execute_input": "2023-03-12T17:18:54.435815Z",
     "iopub.status.busy": "2023-03-12T17:18:54.435390Z",
     "iopub.status.idle": "2023-03-12T17:19:40.375604Z",
     "shell.execute_reply": "2023-03-12T17:19:40.374215Z"
    },
    "papermill": {
     "duration": 45.954143,
     "end_time": "2023-03-12T17:19:40.378352",
     "exception": false,
     "start_time": "2023-03-12T17:18:54.424209",
     "status": "completed"
    },
    "tags": []
   },
   "outputs": [
    {
     "name": "stdout",
     "output_type": "stream",
     "text": [
      "\u001b[33mWARNING: Running pip as the 'root' user can result in broken permissions and conflicting behaviour with the system package manager. It is recommended to use a virtual environment instead: https://pip.pypa.io/warnings/venv\u001b[0m\u001b[33m\r\n",
      "\u001b[0m\u001b[33mWARNING: Running pip as the 'root' user can result in broken permissions and conflicting behaviour with the system package manager. It is recommended to use a virtual environment instead: https://pip.pypa.io/warnings/venv\u001b[0m\u001b[33m\r\n",
      "\u001b[0m\u001b[33mWARNING: Running pip as the 'root' user can result in broken permissions and conflicting behaviour with the system package manager. It is recommended to use a virtual environment instead: https://pip.pypa.io/warnings/venv\u001b[0m\u001b[33m\r\n",
      "\u001b[0m"
     ]
    }
   ],
   "source": [
    "!pip install feather-format >> none -q\n",
    "!pip install faiss-cpu --no-cache -q\n",
    "!pip install polars -q\n",
    "\n",
    "import pandas as pd\n",
    "import numpy as np\n",
    "import time\n",
    "import pyarrow.parquet as pq\n",
    "import scipy\n",
    "import implicit\n",
    "import bisect\n",
    "import sklearn.metrics as m\n",
    "from catboost import CatBoostClassifier, CatBoostRegressor, Pool\n",
    "from sklearn.model_selection import train_test_split\n",
    "from sklearn.model_selection import KFold\n",
    "from sklearn.calibration import calibration_curve, CalibratedClassifierCV\n",
    "from sklearn.ensemble import RandomForestClassifier\n",
    "from sklearn.datasets import make_classification\n",
    "import tensorflow as tf\n",
    "import seaborn as sns\n",
    "import matplotlib.pyplot as plt\n",
    "import plotly.express as px\n",
    "import pyarrow as pa\n",
    "import polars as pl\n",
    "\n",
    "%matplotlib inline\n",
    "sns.set_style('darkgrid')"
   ]
  },
  {
   "cell_type": "markdown",
   "id": "c659ad68",
   "metadata": {
    "papermill": {
     "duration": 0.009801,
     "end_time": "2023-03-12T17:19:40.398295",
     "exception": false,
     "start_time": "2023-03-12T17:19:40.388494",
     "status": "completed"
    },
    "tags": []
   },
   "source": [
    "## Showing data"
   ]
  },
  {
   "cell_type": "code",
   "execution_count": 4,
   "id": "30630721",
   "metadata": {
    "execution": {
     "iopub.execute_input": "2023-03-12T17:19:40.420032Z",
     "iopub.status.busy": "2023-03-12T17:19:40.419348Z",
     "iopub.status.idle": "2023-03-12T17:19:40.509856Z",
     "shell.execute_reply": "2023-03-12T17:19:40.508959Z"
    },
    "papermill": {
     "duration": 0.104229,
     "end_time": "2023-03-12T17:19:40.512369",
     "exception": false,
     "start_time": "2023-03-12T17:19:40.408140",
     "status": "completed"
    },
    "tags": []
   },
   "outputs": [],
   "source": [
    "id_to_submit = pd.read_feather(f'{LOCAL_DATA_PATH}/{SUBMISSION_FILE}')"
   ]
  },
  {
   "cell_type": "code",
   "execution_count": 5,
   "id": "1ad1d60e",
   "metadata": {
    "execution": {
     "iopub.execute_input": "2023-03-12T17:19:40.535283Z",
     "iopub.status.busy": "2023-03-12T17:19:40.534263Z",
     "iopub.status.idle": "2023-03-12T17:19:40.555100Z",
     "shell.execute_reply": "2023-03-12T17:19:40.553880Z"
    },
    "papermill": {
     "duration": 0.034956,
     "end_time": "2023-03-12T17:19:40.557757",
     "exception": false,
     "start_time": "2023-03-12T17:19:40.522801",
     "status": "completed"
    },
    "tags": []
   },
   "outputs": [
    {
     "data": {
      "text/html": [
       "<div>\n",
       "<style scoped>\n",
       "    .dataframe tbody tr th:only-of-type {\n",
       "        vertical-align: middle;\n",
       "    }\n",
       "\n",
       "    .dataframe tbody tr th {\n",
       "        vertical-align: top;\n",
       "    }\n",
       "\n",
       "    .dataframe thead th {\n",
       "        text-align: right;\n",
       "    }\n",
       "</style>\n",
       "<table border=\"1\" class=\"dataframe\">\n",
       "  <thead>\n",
       "    <tr style=\"text-align: right;\">\n",
       "      <th></th>\n",
       "      <th>user_id</th>\n",
       "    </tr>\n",
       "  </thead>\n",
       "  <tbody>\n",
       "    <tr>\n",
       "      <th>0</th>\n",
       "      <td>221301</td>\n",
       "    </tr>\n",
       "    <tr>\n",
       "      <th>1</th>\n",
       "      <td>31271</td>\n",
       "    </tr>\n",
       "    <tr>\n",
       "      <th>2</th>\n",
       "      <td>211594</td>\n",
       "    </tr>\n",
       "  </tbody>\n",
       "</table>\n",
       "</div>"
      ],
      "text/plain": [
       "   user_id\n",
       "0   221301\n",
       "1    31271\n",
       "2   211594"
      ]
     },
     "metadata": {},
     "output_type": "display_data"
    },
    {
     "data": {
      "text/plain": [
       "<bound method DataFrame.info of         user_id\n",
       "0        221301\n",
       "1         31271\n",
       "2        211594\n",
       "3        253119\n",
       "4        192578\n",
       "...         ...\n",
       "144719   415284\n",
       "144720   415285\n",
       "144721   415286\n",
       "144722   415306\n",
       "144723   415315\n",
       "\n",
       "[144724 rows x 1 columns]>"
      ]
     },
     "execution_count": 5,
     "metadata": {},
     "output_type": "execute_result"
    }
   ],
   "source": [
    "display(id_to_submit.head(3))\n",
    "id_to_submit.info"
   ]
  },
  {
   "cell_type": "code",
   "execution_count": 6,
   "id": "d02aee6d",
   "metadata": {
    "execution": {
     "iopub.execute_input": "2023-03-12T17:19:40.580159Z",
     "iopub.status.busy": "2023-03-12T17:19:40.579752Z",
     "iopub.status.idle": "2023-03-12T17:20:20.338441Z",
     "shell.execute_reply": "2023-03-12T17:20:20.337070Z"
    },
    "papermill": {
     "duration": 39.773472,
     "end_time": "2023-03-12T17:20:20.341396",
     "exception": false,
     "start_time": "2023-03-12T17:19:40.567924",
     "status": "completed"
    },
    "tags": []
   },
   "outputs": [],
   "source": [
    "data = pd.read_feather(f'{LOCAL_DATA_PATH}/{DATA_FILE}')"
   ]
  },
  {
   "cell_type": "code",
   "execution_count": 7,
   "id": "01dfed8b",
   "metadata": {
    "execution": {
     "iopub.execute_input": "2023-03-12T17:20:20.363624Z",
     "iopub.status.busy": "2023-03-12T17:20:20.362900Z",
     "iopub.status.idle": "2023-03-12T17:20:52.541215Z",
     "shell.execute_reply": "2023-03-12T17:20:52.540139Z"
    },
    "papermill": {
     "duration": 32.20351,
     "end_time": "2023-03-12T17:20:52.555106",
     "exception": false,
     "start_time": "2023-03-12T17:20:20.351596",
     "status": "completed"
    },
    "tags": []
   },
   "outputs": [
    {
     "data": {
      "text/html": [
       "<div>\n",
       "<style scoped>\n",
       "    .dataframe tbody tr th:only-of-type {\n",
       "        vertical-align: middle;\n",
       "    }\n",
       "\n",
       "    .dataframe tbody tr th {\n",
       "        vertical-align: top;\n",
       "    }\n",
       "\n",
       "    .dataframe thead th {\n",
       "        text-align: right;\n",
       "    }\n",
       "</style>\n",
       "<table border=\"1\" class=\"dataframe\">\n",
       "  <thead>\n",
       "    <tr style=\"text-align: right;\">\n",
       "      <th></th>\n",
       "      <th>region_name</th>\n",
       "      <th>city_name</th>\n",
       "      <th>cpe_manufacturer_name</th>\n",
       "      <th>cpe_model_name</th>\n",
       "      <th>url_host</th>\n",
       "      <th>cpe_type_cd</th>\n",
       "      <th>cpe_model_os_type</th>\n",
       "      <th>price</th>\n",
       "      <th>date</th>\n",
       "      <th>part_of_day</th>\n",
       "      <th>request_cnt</th>\n",
       "      <th>user_id</th>\n",
       "    </tr>\n",
       "  </thead>\n",
       "  <tbody>\n",
       "    <tr>\n",
       "      <th>0</th>\n",
       "      <td>Краснодарский край</td>\n",
       "      <td>Краснодар</td>\n",
       "      <td>Apple</td>\n",
       "      <td>iPhone 7</td>\n",
       "      <td>ad.adriver.ru</td>\n",
       "      <td>smartphone</td>\n",
       "      <td>iOS</td>\n",
       "      <td>20368.0</td>\n",
       "      <td>2022-06-15</td>\n",
       "      <td>morning</td>\n",
       "      <td>1</td>\n",
       "      <td>45098</td>\n",
       "    </tr>\n",
       "    <tr>\n",
       "      <th>1</th>\n",
       "      <td>Краснодарский край</td>\n",
       "      <td>Краснодар</td>\n",
       "      <td>Apple</td>\n",
       "      <td>iPhone 7</td>\n",
       "      <td>apple.com</td>\n",
       "      <td>smartphone</td>\n",
       "      <td>iOS</td>\n",
       "      <td>20368.0</td>\n",
       "      <td>2022-06-19</td>\n",
       "      <td>morning</td>\n",
       "      <td>1</td>\n",
       "      <td>45098</td>\n",
       "    </tr>\n",
       "    <tr>\n",
       "      <th>2</th>\n",
       "      <td>Краснодарский край</td>\n",
       "      <td>Краснодар</td>\n",
       "      <td>Apple</td>\n",
       "      <td>iPhone 7</td>\n",
       "      <td>avatars.mds.yandex.net</td>\n",
       "      <td>smartphone</td>\n",
       "      <td>iOS</td>\n",
       "      <td>20368.0</td>\n",
       "      <td>2022-06-12</td>\n",
       "      <td>day</td>\n",
       "      <td>1</td>\n",
       "      <td>45098</td>\n",
       "    </tr>\n",
       "    <tr>\n",
       "      <th>3</th>\n",
       "      <td>Краснодарский край</td>\n",
       "      <td>Краснодар</td>\n",
       "      <td>Apple</td>\n",
       "      <td>iPhone 7</td>\n",
       "      <td>googleads.g.doubleclick.net</td>\n",
       "      <td>smartphone</td>\n",
       "      <td>iOS</td>\n",
       "      <td>20368.0</td>\n",
       "      <td>2022-05-16</td>\n",
       "      <td>day</td>\n",
       "      <td>1</td>\n",
       "      <td>45098</td>\n",
       "    </tr>\n",
       "    <tr>\n",
       "      <th>4</th>\n",
       "      <td>Краснодарский край</td>\n",
       "      <td>Краснодар</td>\n",
       "      <td>Apple</td>\n",
       "      <td>iPhone 7</td>\n",
       "      <td>googleads.g.doubleclick.net</td>\n",
       "      <td>smartphone</td>\n",
       "      <td>iOS</td>\n",
       "      <td>20368.0</td>\n",
       "      <td>2022-05-30</td>\n",
       "      <td>day</td>\n",
       "      <td>1</td>\n",
       "      <td>45098</td>\n",
       "    </tr>\n",
       "  </tbody>\n",
       "</table>\n",
       "</div>"
      ],
      "text/plain": [
       "          region_name  city_name cpe_manufacturer_name cpe_model_name  \\\n",
       "0  Краснодарский край  Краснодар                 Apple       iPhone 7   \n",
       "1  Краснодарский край  Краснодар                 Apple       iPhone 7   \n",
       "2  Краснодарский край  Краснодар                 Apple       iPhone 7   \n",
       "3  Краснодарский край  Краснодар                 Apple       iPhone 7   \n",
       "4  Краснодарский край  Краснодар                 Apple       iPhone 7   \n",
       "\n",
       "                      url_host cpe_type_cd cpe_model_os_type    price  \\\n",
       "0                ad.adriver.ru  smartphone               iOS  20368.0   \n",
       "1                    apple.com  smartphone               iOS  20368.0   \n",
       "2       avatars.mds.yandex.net  smartphone               iOS  20368.0   \n",
       "3  googleads.g.doubleclick.net  smartphone               iOS  20368.0   \n",
       "4  googleads.g.doubleclick.net  smartphone               iOS  20368.0   \n",
       "\n",
       "        date part_of_day  request_cnt  user_id  \n",
       "0 2022-06-15     morning            1    45098  \n",
       "1 2022-06-19     morning            1    45098  \n",
       "2 2022-06-12         day            1    45098  \n",
       "3 2022-05-16         day            1    45098  \n",
       "4 2022-05-30         day            1    45098  "
      ]
     },
     "metadata": {},
     "output_type": "display_data"
    },
    {
     "data": {
      "text/html": [
       "<div>\n",
       "<style scoped>\n",
       "    .dataframe tbody tr th:only-of-type {\n",
       "        vertical-align: middle;\n",
       "    }\n",
       "\n",
       "    .dataframe tbody tr th {\n",
       "        vertical-align: top;\n",
       "    }\n",
       "\n",
       "    .dataframe thead th {\n",
       "        text-align: right;\n",
       "    }\n",
       "</style>\n",
       "<table border=\"1\" class=\"dataframe\">\n",
       "  <thead>\n",
       "    <tr style=\"text-align: right;\">\n",
       "      <th></th>\n",
       "      <th>price</th>\n",
       "      <th>request_cnt</th>\n",
       "      <th>user_id</th>\n",
       "    </tr>\n",
       "  </thead>\n",
       "  <tbody>\n",
       "    <tr>\n",
       "      <th>count</th>\n",
       "      <td>3.163100e+08</td>\n",
       "      <td>3.228994e+08</td>\n",
       "      <td>3.228994e+08</td>\n",
       "    </tr>\n",
       "    <tr>\n",
       "      <th>mean</th>\n",
       "      <td>3.308510e+04</td>\n",
       "      <td>1.724197e+00</td>\n",
       "      <td>2.070983e+05</td>\n",
       "    </tr>\n",
       "    <tr>\n",
       "      <th>std</th>\n",
       "      <td>2.583592e+04</td>\n",
       "      <td>1.213835e+00</td>\n",
       "      <td>1.200584e+05</td>\n",
       "    </tr>\n",
       "    <tr>\n",
       "      <th>min</th>\n",
       "      <td>9.000000e+01</td>\n",
       "      <td>1.000000e+00</td>\n",
       "      <td>0.000000e+00</td>\n",
       "    </tr>\n",
       "    <tr>\n",
       "      <th>25%</th>\n",
       "      <td>1.397400e+04</td>\n",
       "      <td>1.000000e+00</td>\n",
       "      <td>1.027880e+05</td>\n",
       "    </tr>\n",
       "    <tr>\n",
       "      <th>50%</th>\n",
       "      <td>2.199000e+04</td>\n",
       "      <td>1.000000e+00</td>\n",
       "      <td>2.068870e+05</td>\n",
       "    </tr>\n",
       "    <tr>\n",
       "      <th>75%</th>\n",
       "      <td>4.999000e+04</td>\n",
       "      <td>2.000000e+00</td>\n",
       "      <td>3.113950e+05</td>\n",
       "    </tr>\n",
       "    <tr>\n",
       "      <th>max</th>\n",
       "      <td>1.956570e+05</td>\n",
       "      <td>1.600000e+01</td>\n",
       "      <td>4.153160e+05</td>\n",
       "    </tr>\n",
       "  </tbody>\n",
       "</table>\n",
       "</div>"
      ],
      "text/plain": [
       "              price   request_cnt       user_id\n",
       "count  3.163100e+08  3.228994e+08  3.228994e+08\n",
       "mean   3.308510e+04  1.724197e+00  2.070983e+05\n",
       "std    2.583592e+04  1.213835e+00  1.200584e+05\n",
       "min    9.000000e+01  1.000000e+00  0.000000e+00\n",
       "25%    1.397400e+04  1.000000e+00  1.027880e+05\n",
       "50%    2.199000e+04  1.000000e+00  2.068870e+05\n",
       "75%    4.999000e+04  2.000000e+00  3.113950e+05\n",
       "max    1.956570e+05  1.600000e+01  4.153160e+05"
      ]
     },
     "execution_count": 7,
     "metadata": {},
     "output_type": "execute_result"
    }
   ],
   "source": [
    "display(data.head())\n",
    "data.describe()"
   ]
  },
  {
   "cell_type": "code",
   "execution_count": 8,
   "id": "4de72ffc",
   "metadata": {
    "execution": {
     "iopub.execute_input": "2023-03-12T17:20:52.577808Z",
     "iopub.status.busy": "2023-03-12T17:20:52.577415Z",
     "iopub.status.idle": "2023-03-12T17:21:01.532475Z",
     "shell.execute_reply": "2023-03-12T17:21:01.531290Z"
    },
    "papermill": {
     "duration": 8.969482,
     "end_time": "2023-03-12T17:21:01.535047",
     "exception": false,
     "start_time": "2023-03-12T17:20:52.565565",
     "status": "completed"
    },
    "tags": []
   },
   "outputs": [
    {
     "name": "stdout",
     "output_type": "stream",
     "text": [
      "<class 'pandas.core.series.Series'>\n",
      "<class 'pandas.core.series.Series'>\n",
      "<class 'pandas.core.series.Series'>\n",
      "<class 'pandas.core.series.Series'>\n",
      "<class 'pandas.core.series.Series'>\n",
      "<class 'pandas.core.series.Series'>\n",
      "<class 'pandas.core.series.Series'>\n",
      "<class 'pandas.core.series.Series'>\n"
     ]
    },
    {
     "data": {
      "text/html": [
       "<div>\n",
       "<style scoped>\n",
       "    .dataframe tbody tr th:only-of-type {\n",
       "        vertical-align: middle;\n",
       "    }\n",
       "\n",
       "    .dataframe tbody tr th {\n",
       "        vertical-align: top;\n",
       "    }\n",
       "\n",
       "    .dataframe thead th {\n",
       "        text-align: right;\n",
       "    }\n",
       "</style>\n",
       "<table border=\"1\" class=\"dataframe\">\n",
       "  <thead>\n",
       "    <tr style=\"text-align: right;\">\n",
       "      <th></th>\n",
       "      <th>region_name</th>\n",
       "      <th>city_name</th>\n",
       "      <th>cpe_manufacturer_name</th>\n",
       "      <th>cpe_model_name</th>\n",
       "      <th>url_host</th>\n",
       "      <th>cpe_type_cd</th>\n",
       "      <th>cpe_model_os_type</th>\n",
       "      <th>price</th>\n",
       "      <th>date</th>\n",
       "      <th>part_of_day</th>\n",
       "      <th>request_cnt</th>\n",
       "      <th>user_id</th>\n",
       "    </tr>\n",
       "  </thead>\n",
       "  <tbody>\n",
       "    <tr>\n",
       "      <th>0</th>\n",
       "      <td>21</td>\n",
       "      <td>409</td>\n",
       "      <td>1</td>\n",
       "      <td>589</td>\n",
       "      <td>5788</td>\n",
       "      <td>2</td>\n",
       "      <td>2</td>\n",
       "      <td>20368.0</td>\n",
       "      <td>2022-06-15</td>\n",
       "      <td>2</td>\n",
       "      <td>1</td>\n",
       "      <td>45098</td>\n",
       "    </tr>\n",
       "    <tr>\n",
       "      <th>1</th>\n",
       "      <td>21</td>\n",
       "      <td>409</td>\n",
       "      <td>1</td>\n",
       "      <td>589</td>\n",
       "      <td>12900</td>\n",
       "      <td>2</td>\n",
       "      <td>2</td>\n",
       "      <td>20368.0</td>\n",
       "      <td>2022-06-19</td>\n",
       "      <td>2</td>\n",
       "      <td>1</td>\n",
       "      <td>45098</td>\n",
       "    </tr>\n",
       "    <tr>\n",
       "      <th>2</th>\n",
       "      <td>21</td>\n",
       "      <td>409</td>\n",
       "      <td>1</td>\n",
       "      <td>589</td>\n",
       "      <td>17626</td>\n",
       "      <td>2</td>\n",
       "      <td>2</td>\n",
       "      <td>20368.0</td>\n",
       "      <td>2022-06-12</td>\n",
       "      <td>0</td>\n",
       "      <td>1</td>\n",
       "      <td>45098</td>\n",
       "    </tr>\n",
       "    <tr>\n",
       "      <th>3</th>\n",
       "      <td>21</td>\n",
       "      <td>409</td>\n",
       "      <td>1</td>\n",
       "      <td>589</td>\n",
       "      <td>59366</td>\n",
       "      <td>2</td>\n",
       "      <td>2</td>\n",
       "      <td>20368.0</td>\n",
       "      <td>2022-05-16</td>\n",
       "      <td>0</td>\n",
       "      <td>1</td>\n",
       "      <td>45098</td>\n",
       "    </tr>\n",
       "    <tr>\n",
       "      <th>4</th>\n",
       "      <td>21</td>\n",
       "      <td>409</td>\n",
       "      <td>1</td>\n",
       "      <td>589</td>\n",
       "      <td>59366</td>\n",
       "      <td>2</td>\n",
       "      <td>2</td>\n",
       "      <td>20368.0</td>\n",
       "      <td>2022-05-30</td>\n",
       "      <td>0</td>\n",
       "      <td>1</td>\n",
       "      <td>45098</td>\n",
       "    </tr>\n",
       "  </tbody>\n",
       "</table>\n",
       "</div>"
      ],
      "text/plain": [
       "   region_name  city_name  cpe_manufacturer_name  cpe_model_name  url_host  \\\n",
       "0           21        409                      1             589      5788   \n",
       "1           21        409                      1             589     12900   \n",
       "2           21        409                      1             589     17626   \n",
       "3           21        409                      1             589     59366   \n",
       "4           21        409                      1             589     59366   \n",
       "\n",
       "   cpe_type_cd  cpe_model_os_type    price       date  part_of_day  \\\n",
       "0            2                  2  20368.0 2022-06-15            2   \n",
       "1            2                  2  20368.0 2022-06-19            2   \n",
       "2            2                  2  20368.0 2022-06-12            0   \n",
       "3            2                  2  20368.0 2022-05-16            0   \n",
       "4            2                  2  20368.0 2022-05-30            0   \n",
       "\n",
       "   request_cnt  user_id  \n",
       "0            1    45098  \n",
       "1            1    45098  \n",
       "2            1    45098  \n",
       "3            1    45098  \n",
       "4            1    45098  "
      ]
     },
     "execution_count": 8,
     "metadata": {},
     "output_type": "execute_result"
    }
   ],
   "source": [
    "for column in data.columns:\n",
    "    if column != \"date\" and column !=\"price\" and column !=\"user_id\" and column !=\"request_cnt\":\n",
    "        print(type(data[column]))\n",
    "        data[column] = data[column].cat.codes\n",
    "    elif column == \"date\":\n",
    "        data[\"date\"] = pd.to_datetime(data[\"date\"])\n",
    "\n",
    "data.head()"
   ]
  },
  {
   "cell_type": "code",
   "execution_count": 9,
   "id": "5a9925e8",
   "metadata": {
    "execution": {
     "iopub.execute_input": "2023-03-12T17:21:01.559118Z",
     "iopub.status.busy": "2023-03-12T17:21:01.558668Z",
     "iopub.status.idle": "2023-03-12T17:21:04.449275Z",
     "shell.execute_reply": "2023-03-12T17:21:04.448070Z"
    },
    "papermill": {
     "duration": 2.905579,
     "end_time": "2023-03-12T17:21:04.451863",
     "exception": false,
     "start_time": "2023-03-12T17:21:01.546284",
     "status": "completed"
    },
    "tags": []
   },
   "outputs": [],
   "source": [
    "data = pl.from_pandas(data)"
   ]
  },
  {
   "cell_type": "code",
   "execution_count": 10,
   "id": "3d517236",
   "metadata": {
    "execution": {
     "iopub.execute_input": "2023-03-12T17:21:04.475761Z",
     "iopub.status.busy": "2023-03-12T17:21:04.475337Z",
     "iopub.status.idle": "2023-03-12T17:21:06.976467Z",
     "shell.execute_reply": "2023-03-12T17:21:06.975418Z"
    },
    "papermill": {
     "duration": 2.515631,
     "end_time": "2023-03-12T17:21:06.978805",
     "exception": false,
     "start_time": "2023-03-12T17:21:04.463174",
     "status": "completed"
    },
    "tags": []
   },
   "outputs": [
    {
     "data": {
      "text/plain": [
       "2    322781599\n",
       "3        53768\n",
       "1        36116\n",
       "0        27952\n",
       "Name: cpe_type_cd, dtype: int64"
      ]
     },
     "execution_count": 10,
     "metadata": {},
     "output_type": "execute_result"
    }
   ],
   "source": [
    "data.select(['cpe_type_cd']).to_pandas()['cpe_type_cd'].value_counts()"
   ]
  },
  {
   "cell_type": "code",
   "execution_count": 11,
   "id": "0a8924e4",
   "metadata": {
    "execution": {
     "iopub.execute_input": "2023-03-12T17:21:07.002704Z",
     "iopub.status.busy": "2023-03-12T17:21:07.002329Z",
     "iopub.status.idle": "2023-03-12T17:21:13.882054Z",
     "shell.execute_reply": "2023-03-12T17:21:13.880774Z"
    },
    "papermill": {
     "duration": 6.894595,
     "end_time": "2023-03-12T17:21:13.884495",
     "exception": false,
     "start_time": "2023-03-12T17:21:06.989900",
     "status": "completed"
    },
    "tags": []
   },
   "outputs": [
    {
     "data": {
      "text/html": [
       "<div><style>\n",
       ".dataframe > thead > tr > th,\n",
       ".dataframe > tbody > tr > td {\n",
       "  text-align: right;\n",
       "}\n",
       "</style>\n",
       "<small>shape: (4, 2)</small><table border=\"1\" class=\"dataframe\"><thead><tr><th>cpe_type_cd</th><th>counts</th></tr><tr><td>i8</td><td>u32</td></tr></thead><tbody><tr><td>0</td><td>27952</td></tr><tr><td>3</td><td>53768</td></tr><tr><td>2</td><td>322781599</td></tr><tr><td>1</td><td>36116</td></tr></tbody></table></div>"
      ],
      "text/plain": [
       "shape: (4, 2)\n",
       "┌─────────────┬───────────┐\n",
       "│ cpe_type_cd ┆ counts    │\n",
       "│ ---         ┆ ---       │\n",
       "│ i8          ┆ u32       │\n",
       "╞═════════════╪═══════════╡\n",
       "│ 0           ┆ 27952     │\n",
       "│ 3           ┆ 53768     │\n",
       "│ 2           ┆ 322781599 │\n",
       "│ 1           ┆ 36116     │\n",
       "└─────────────┴───────────┘"
      ]
     },
     "execution_count": 11,
     "metadata": {},
     "output_type": "execute_result"
    }
   ],
   "source": [
    "data['cpe_type_cd'].value_counts()"
   ]
  },
  {
   "cell_type": "code",
   "execution_count": 12,
   "id": "c93985a7",
   "metadata": {
    "execution": {
     "iopub.execute_input": "2023-03-12T17:21:13.909401Z",
     "iopub.status.busy": "2023-03-12T17:21:13.908494Z",
     "iopub.status.idle": "2023-03-12T17:21:14.018682Z",
     "shell.execute_reply": "2023-03-12T17:21:14.017867Z"
    },
    "papermill": {
     "duration": 0.124828,
     "end_time": "2023-03-12T17:21:14.020769",
     "exception": false,
     "start_time": "2023-03-12T17:21:13.895941",
     "status": "completed"
    },
    "tags": []
   },
   "outputs": [
    {
     "data": {
      "text/html": [
       "<div>\n",
       "<style scoped>\n",
       "    .dataframe tbody tr th:only-of-type {\n",
       "        vertical-align: middle;\n",
       "    }\n",
       "\n",
       "    .dataframe tbody tr th {\n",
       "        vertical-align: top;\n",
       "    }\n",
       "\n",
       "    .dataframe thead th {\n",
       "        text-align: right;\n",
       "    }\n",
       "</style>\n",
       "<table border=\"1\" class=\"dataframe\">\n",
       "  <thead>\n",
       "    <tr style=\"text-align: right;\">\n",
       "      <th></th>\n",
       "      <th>age</th>\n",
       "      <th>is_male</th>\n",
       "      <th>user_id</th>\n",
       "    </tr>\n",
       "  </thead>\n",
       "  <tbody>\n",
       "    <tr>\n",
       "      <th>0</th>\n",
       "      <td>31.0</td>\n",
       "      <td>1</td>\n",
       "      <td>350459</td>\n",
       "    </tr>\n",
       "    <tr>\n",
       "      <th>1</th>\n",
       "      <td>35.0</td>\n",
       "      <td>1</td>\n",
       "      <td>188276</td>\n",
       "    </tr>\n",
       "    <tr>\n",
       "      <th>2</th>\n",
       "      <td>41.0</td>\n",
       "      <td>0</td>\n",
       "      <td>99002</td>\n",
       "    </tr>\n",
       "    <tr>\n",
       "      <th>3</th>\n",
       "      <td>33.0</td>\n",
       "      <td>0</td>\n",
       "      <td>155506</td>\n",
       "    </tr>\n",
       "    <tr>\n",
       "      <th>4</th>\n",
       "      <td>54.0</td>\n",
       "      <td>0</td>\n",
       "      <td>213873</td>\n",
       "    </tr>\n",
       "  </tbody>\n",
       "</table>\n",
       "</div>"
      ],
      "text/plain": [
       "    age is_male  user_id\n",
       "0  31.0       1   350459\n",
       "1  35.0       1   188276\n",
       "2  41.0       0    99002\n",
       "3  33.0       0   155506\n",
       "4  54.0       0   213873"
      ]
     },
     "execution_count": 12,
     "metadata": {},
     "output_type": "execute_result"
    }
   ],
   "source": [
    "targets = pd.read_feather(f'{LOCAL_DATA_PATH}/{TARGET_FILE}')\n",
    "targets.head()"
   ]
  },
  {
   "cell_type": "code",
   "execution_count": 13,
   "id": "5fd2088c",
   "metadata": {
    "execution": {
     "iopub.execute_input": "2023-03-12T17:21:14.046509Z",
     "iopub.status.busy": "2023-03-12T17:21:14.045104Z",
     "iopub.status.idle": "2023-03-12T17:21:14.070301Z",
     "shell.execute_reply": "2023-03-12T17:21:14.069139Z"
    },
    "papermill": {
     "duration": 0.04046,
     "end_time": "2023-03-12T17:21:14.072647",
     "exception": false,
     "start_time": "2023-03-12T17:21:14.032187",
     "status": "completed"
    },
    "tags": []
   },
   "outputs": [
    {
     "data": {
      "text/html": [
       "<div>\n",
       "<style scoped>\n",
       "    .dataframe tbody tr th:only-of-type {\n",
       "        vertical-align: middle;\n",
       "    }\n",
       "\n",
       "    .dataframe tbody tr th {\n",
       "        vertical-align: top;\n",
       "    }\n",
       "\n",
       "    .dataframe thead tr th {\n",
       "        text-align: left;\n",
       "    }\n",
       "</style>\n",
       "<table border=\"1\" class=\"dataframe\">\n",
       "  <thead>\n",
       "    <tr>\n",
       "      <th></th>\n",
       "      <th>field</th>\n",
       "      <th>type</th>\n",
       "    </tr>\n",
       "  </thead>\n",
       "  <tbody>\n",
       "    <tr>\n",
       "      <th>0</th>\n",
       "      <td>age</td>\n",
       "      <td>double</td>\n",
       "    </tr>\n",
       "    <tr>\n",
       "      <th>1</th>\n",
       "      <td>is_male</td>\n",
       "      <td>string</td>\n",
       "    </tr>\n",
       "    <tr>\n",
       "      <th>2</th>\n",
       "      <td>user_id</td>\n",
       "      <td>int64</td>\n",
       "    </tr>\n",
       "  </tbody>\n",
       "</table>\n",
       "</div>"
      ],
      "text/plain": [
       "     field    type\n",
       "0      age  double\n",
       "1  is_male  string\n",
       "2  user_id   int64"
      ]
     },
     "execution_count": 13,
     "metadata": {},
     "output_type": "execute_result"
    }
   ],
   "source": [
    "targets = pa.Table.from_pandas(targets)\n",
    "pd.DataFrame([(z.name, z.type) for z in targets.schema], columns = [['field', 'type']])"
   ]
  },
  {
   "cell_type": "markdown",
   "id": "c6465629",
   "metadata": {
    "papermill": {
     "duration": 0.011667,
     "end_time": "2023-03-12T17:21:14.095958",
     "exception": false,
     "start_time": "2023-03-12T17:21:14.084291",
     "status": "completed"
    },
    "tags": []
   },
   "source": [
    "## Counting users <-> items embedding"
   ]
  },
  {
   "cell_type": "code",
   "execution_count": 14,
   "id": "ea5a2506",
   "metadata": {
    "execution": {
     "iopub.execute_input": "2023-03-12T17:21:14.122361Z",
     "iopub.status.busy": "2023-03-12T17:21:14.121954Z",
     "iopub.status.idle": "2023-03-12T17:21:50.936745Z",
     "shell.execute_reply": "2023-03-12T17:21:50.935918Z"
    },
    "papermill": {
     "duration": 36.831437,
     "end_time": "2023-03-12T17:21:50.939871",
     "exception": false,
     "start_time": "2023-03-12T17:21:14.108434",
     "status": "completed"
    },
    "tags": []
   },
   "outputs": [
    {
     "name": "stdout",
     "output_type": "stream",
     "text": [
      "199683 urls\n",
      "415317 users\n",
      "CPU times: user 1min 9s, sys: 14.2 s, total: 1min 23s\n",
      "Wall time: 36.8 s\n"
     ]
    }
   ],
   "source": [
    "%%time\n",
    "if (IS_EMBEDDING_USED):\n",
    "    data_agg = data.groupby(['user_id', 'url_host'], maintain_order=True).agg(\n",
    "        pl.sum(\"request_cnt\")\n",
    "    )\n",
    "    url_set = set(data_agg.select(['url_host']).to_pandas()['url_host'])\n",
    "    print(f'{len(url_set)} urls')\n",
    "    url_dict = {url: idurl for url, idurl in zip(url_set, range(len(url_set)))}\n",
    "    usr_set = set(data_agg.select(['user_id']).to_pandas()['user_id'])\n",
    "    print(f'{len(usr_set)} users')\n",
    "    usr_dict = {usr: user_id for usr, user_id in zip(usr_set, range(len(usr_set)))}"
   ]
  },
  {
   "cell_type": "code",
   "execution_count": 15,
   "id": "c5d1d232",
   "metadata": {
    "execution": {
     "iopub.execute_input": "2023-03-12T17:21:50.967388Z",
     "iopub.status.busy": "2023-03-12T17:21:50.966369Z",
     "iopub.status.idle": "2023-03-12T17:21:53.222070Z",
     "shell.execute_reply": "2023-03-12T17:21:53.220633Z"
    },
    "papermill": {
     "duration": 2.271478,
     "end_time": "2023-03-12T17:21:53.224707",
     "exception": false,
     "start_time": "2023-03-12T17:21:50.953229",
     "status": "completed"
    },
    "tags": []
   },
   "outputs": [
    {
     "name": "stdout",
     "output_type": "stream",
     "text": [
      "CPU times: user 1.79 s, sys: 470 ms, total: 2.26 s\n",
      "Wall time: 2.25 s\n"
     ]
    }
   ],
   "source": [
    "%%time\n",
    "if (IS_EMBEDDING_USED):\n",
    "    values = np.array(data_agg['request_cnt'].to_pandas())\n",
    "    rows = np.array(data_agg['user_id'].to_pandas().map(usr_dict))\n",
    "    cols = np.array(data_agg['url_host'].to_pandas().map(url_dict))\n",
    "    mat = scipy.sparse.coo_matrix((values, (rows, cols)), shape=(rows.max() + 1, cols.max() + 1))\n",
    "    als = implicit.approximate_als.FaissAlternatingLeastSquares(\n",
    "        factors = FACTORS, iterations = FAISS_ITERATIONS, use_gpu = IS_GPU_USED, calculate_training_loss = True, regularization = 0.1\n",
    "    )"
   ]
  },
  {
   "cell_type": "code",
   "execution_count": 16,
   "id": "6aad5ea5",
   "metadata": {
    "execution": {
     "iopub.execute_input": "2023-03-12T17:21:53.251071Z",
     "iopub.status.busy": "2023-03-12T17:21:53.249889Z",
     "iopub.status.idle": "2023-03-12T23:05:22.252623Z",
     "shell.execute_reply": "2023-03-12T23:05:22.251124Z"
    },
    "papermill": {
     "duration": 20609.019324,
     "end_time": "2023-03-12T23:05:22.255928",
     "exception": false,
     "start_time": "2023-03-12T17:21:53.236604",
     "status": "completed"
    },
    "tags": []
   },
   "outputs": [
    {
     "data": {
      "application/vnd.jupyter.widget-view+json": {
       "model_id": "2c72c0ea42f446c9a6c8ffeaf5196395",
       "version_major": 2,
       "version_minor": 0
      },
      "text/plain": [
       "  0%|          | 0/1500 [00:00<?, ?it/s]"
      ]
     },
     "metadata": {},
     "output_type": "display_data"
    },
    {
     "name": "stdout",
     "output_type": "stream",
     "text": [
      "CPU times: user 21h 4min 42s, sys: 11min 51s, total: 21h 16min 33s\n",
      "Wall time: 5h 43min 28s\n"
     ]
    }
   ],
   "source": [
    "%%time\n",
    "if (IS_EMBEDDING_USED):\n",
    "    als.fit(mat)"
   ]
  },
  {
   "cell_type": "code",
   "execution_count": 17,
   "id": "021297f7",
   "metadata": {
    "execution": {
     "iopub.execute_input": "2023-03-12T23:05:22.285265Z",
     "iopub.status.busy": "2023-03-12T23:05:22.284660Z",
     "iopub.status.idle": "2023-03-12T23:05:22.294877Z",
     "shell.execute_reply": "2023-03-12T23:05:22.293463Z"
    },
    "papermill": {
     "duration": 0.028069,
     "end_time": "2023-03-12T23:05:22.297535",
     "exception": false,
     "start_time": "2023-03-12T23:05:22.269466",
     "status": "completed"
    },
    "tags": []
   },
   "outputs": [
    {
     "name": "stdout",
     "output_type": "stream",
     "text": [
      "199683\n"
     ]
    }
   ],
   "source": [
    "if (IS_EMBEDDING_USED):\n",
    "    u_factors = als.user_factors \n",
    "    print(len(u_factors))"
   ]
  },
  {
   "cell_type": "code",
   "execution_count": 18,
   "id": "c6e65cab",
   "metadata": {
    "execution": {
     "iopub.execute_input": "2023-03-12T23:05:22.324211Z",
     "iopub.status.busy": "2023-03-12T23:05:22.323496Z",
     "iopub.status.idle": "2023-03-12T23:05:22.330813Z",
     "shell.execute_reply": "2023-03-12T23:05:22.328985Z"
    },
    "papermill": {
     "duration": 0.023353,
     "end_time": "2023-03-12T23:05:22.333441",
     "exception": false,
     "start_time": "2023-03-12T23:05:22.310088",
     "status": "completed"
    },
    "tags": []
   },
   "outputs": [
    {
     "name": "stdout",
     "output_type": "stream",
     "text": [
      "415317\n"
     ]
    }
   ],
   "source": [
    "if (IS_EMBEDDING_USED):\n",
    "    d_factors = als.item_factors\n",
    "    print(len(d_factors))"
   ]
  },
  {
   "cell_type": "markdown",
   "id": "988fde3d",
   "metadata": {
    "papermill": {
     "duration": 0.012077,
     "end_time": "2023-03-12T23:05:22.358636",
     "exception": false,
     "start_time": "2023-03-12T23:05:22.346559",
     "status": "completed"
    },
    "tags": []
   },
   "source": [
    "## Sex prediction"
   ]
  },
  {
   "cell_type": "code",
   "execution_count": 19,
   "id": "6b0fcd61",
   "metadata": {
    "execution": {
     "iopub.execute_input": "2023-03-12T23:05:22.385221Z",
     "iopub.status.busy": "2023-03-12T23:05:22.384520Z",
     "iopub.status.idle": "2023-03-12T23:05:22.419541Z",
     "shell.execute_reply": "2023-03-12T23:05:22.418542Z"
    },
    "papermill": {
     "duration": 0.051346,
     "end_time": "2023-03-12T23:05:22.422095",
     "exception": false,
     "start_time": "2023-03-12T23:05:22.370749",
     "status": "completed"
    },
    "tags": []
   },
   "outputs": [],
   "source": [
    "id_to_submit = pd.read_feather(f'{LOCAL_DATA_PATH}/{SUBMISSION_FILE}')"
   ]
  },
  {
   "cell_type": "code",
   "execution_count": 20,
   "id": "35f86b67",
   "metadata": {
    "execution": {
     "iopub.execute_input": "2023-03-12T23:05:22.449081Z",
     "iopub.status.busy": "2023-03-12T23:05:22.448636Z",
     "iopub.status.idle": "2023-03-12T23:05:24.393448Z",
     "shell.execute_reply": "2023-03-12T23:05:24.391811Z"
    },
    "papermill": {
     "duration": 1.962323,
     "end_time": "2023-03-12T23:05:24.397203",
     "exception": false,
     "start_time": "2023-03-12T23:05:22.434880",
     "status": "completed"
    },
    "scrolled": true,
    "tags": []
   },
   "outputs": [
    {
     "name": "stdout",
     "output_type": "stream",
     "text": [
      "1    135314\n",
      "0    128982\n",
      "Name: is_male, dtype: int64\n"
     ]
    }
   ],
   "source": [
    "if (IS_EMBEDDING_USED):\n",
    "    inv_usr_map = {v: k for k, v in usr_dict.items()}\n",
    "    usr_emb = pd.DataFrame(d_factors)\n",
    "    usr_emb['user_id'] = usr_emb.index.map(inv_usr_map)\n",
    "    usr_targets = targets.to_pandas()\n",
    "    df = usr_targets.merge(usr_emb, how = 'inner', on = ['user_id'])\n",
    "    df = df[df['is_male'] != 'NA']\n",
    "    df = df.dropna()\n",
    "    df['is_male'] = df['is_male'].map(int)\n",
    "    print(df['is_male'].value_counts())"
   ]
  },
  {
   "cell_type": "markdown",
   "id": "ac81e742",
   "metadata": {
    "papermill": {
     "duration": 0.012827,
     "end_time": "2023-03-12T23:05:24.423161",
     "exception": false,
     "start_time": "2023-03-12T23:05:24.410334",
     "status": "completed"
    },
    "tags": []
   },
   "source": [
    "#### Model trainings"
   ]
  },
  {
   "cell_type": "code",
   "execution_count": 21,
   "id": "2b6e64ff",
   "metadata": {
    "execution": {
     "iopub.execute_input": "2023-03-12T23:05:24.451074Z",
     "iopub.status.busy": "2023-03-12T23:05:24.449856Z",
     "iopub.status.idle": "2023-03-12T23:05:24.460523Z",
     "shell.execute_reply": "2023-03-12T23:05:24.459607Z"
    },
    "papermill": {
     "duration": 0.026949,
     "end_time": "2023-03-12T23:05:24.462876",
     "exception": false,
     "start_time": "2023-03-12T23:05:24.435927",
     "status": "completed"
    },
    "tags": []
   },
   "outputs": [],
   "source": [
    "max_gini = 0\n",
    "train_index = 0\n",
    "test_index = 0\n",
    "\n",
    "if (IS_MODEL_CATBOOST):\n",
    "    clf = CatBoostClassifier()\n",
    "elif (IS_MODEL_RANDFOREST):\n",
    "    clf = RandomForestClassifier(random_state=SPLIT_SEED)"
   ]
  },
  {
   "cell_type": "code",
   "execution_count": 22,
   "id": "74fd2566",
   "metadata": {
    "execution": {
     "iopub.execute_input": "2023-03-12T23:05:24.489879Z",
     "iopub.status.busy": "2023-03-12T23:05:24.488796Z",
     "iopub.status.idle": "2023-03-12T23:13:09.621123Z",
     "shell.execute_reply": "2023-03-12T23:13:09.619994Z"
    },
    "papermill": {
     "duration": 465.159397,
     "end_time": "2023-03-12T23:13:09.634746",
     "exception": false,
     "start_time": "2023-03-12T23:05:24.475349",
     "status": "completed"
    },
    "tags": []
   },
   "outputs": [
    {
     "name": "stdout",
     "output_type": "stream",
     "text": [
      "Train indexes: [52860 52861 52862 52863 52864]; Test indexes: [0 1 2 3 4];\n",
      "Train length: 211436; Test length: 52860; Dataset length: 264296;\n",
      "Current GINI is 0.681, current max is 0.681\n",
      "\n",
      "Train indexes: [0 1 2 3 4]; Test indexes: [52860 52861 52862 52863 52864];\n",
      "Train length: 211437; Test length: 52859; Dataset length: 264296;\n",
      "Current GINI is 0.676, current max is 0.681\n",
      "\n",
      "Train indexes: [0 1 2 3 4]; Test indexes: [105719 105720 105721 105722 105723];\n",
      "Train length: 211437; Test length: 52859; Dataset length: 264296;\n",
      "Current GINI is 0.673, current max is 0.681\n",
      "\n",
      "Train indexes: [0 1 2 3 4]; Test indexes: [158578 158579 158580 158581 158582];\n",
      "Train length: 211437; Test length: 52859; Dataset length: 264296;\n",
      "Current GINI is 0.672, current max is 0.681\n",
      "\n",
      "Train indexes: [0 1 2 3 4]; Test indexes: [211437 211438 211439 211440 211441];\n",
      "Train length: 211437; Test length: 52859; Dataset length: 264296;\n",
      "Current GINI is 0.672, current max is 0.681\n",
      "\n",
      "CPU times: user 29min 38s, sys: 29.5 s, total: 30min 8s\n",
      "Wall time: 7min 45s\n"
     ]
    }
   ],
   "source": [
    "%%time\n",
    "if (IS_MODEL_CATBOOST or IS_MODEL_RANDFOREST):\n",
    "    x = df.drop(['user_id', 'age', 'is_male'], axis = 1)\n",
    "    y = df['is_male']\n",
    "\n",
    "    kf = KFold(n_splits=KFOLD_SPLITS)\n",
    "\n",
    "    for train_index, test_index in kf.split(x):\n",
    "        print(\"Train indexes: \", train_index[:5],\n",
    "              \"; Test indexes: \", test_index[:5], \";\\n\",\n",
    "              \"Train length: \", len(train_index), \n",
    "              \"; Test length: \", len(test_index), \n",
    "              \"; Dataset length: \", len(x), ';', sep='', end='\\n')\n",
    "        \n",
    "        x_train, x_test = x.iloc[train_index], x.iloc[test_index]\n",
    "        y_train, y_test = y.iloc[train_index], y.iloc[test_index]\n",
    "        \n",
    "        if (IS_MODEL_CATBOOST):\n",
    "            clf.fit(x_train, y_train, verbose = False)\n",
    "        elif (IS_MODEL_RANDFOREST):\n",
    "            clf.fit(x_train, y_train)\n",
    "        \n",
    "        gini = float(f'{2 * m.roc_auc_score(y_test, clf.predict_proba(x_test)[:,1]) - 1:2.3f}')\n",
    "        if gini > max_gini:\n",
    "            max_gini = gini\n",
    "            max_train_index = train_index\n",
    "            max_test_index = test_index\n",
    "        \n",
    "        print(f'Current GINI is {gini}, current max is {max_gini}', end=\"\\n\\n\")"
   ]
  },
  {
   "cell_type": "code",
   "execution_count": 23,
   "id": "195f7576",
   "metadata": {
    "execution": {
     "iopub.execute_input": "2023-03-12T23:13:09.661734Z",
     "iopub.status.busy": "2023-03-12T23:13:09.661318Z",
     "iopub.status.idle": "2023-03-12T23:13:09.668084Z",
     "shell.execute_reply": "2023-03-12T23:13:09.666723Z"
    },
    "papermill": {
     "duration": 0.023014,
     "end_time": "2023-03-12T23:13:09.670203",
     "exception": false,
     "start_time": "2023-03-12T23:13:09.647189",
     "status": "completed"
    },
    "tags": []
   },
   "outputs": [
    {
     "name": "stdout",
     "output_type": "stream",
     "text": [
      "Max GINI is 0.681\n",
      "Max train index is [52860 52861 52862 52863 52864]\n",
      "Max test index is [0 1 2 3 4]\n"
     ]
    }
   ],
   "source": [
    "print(f'Max GINI is {max_gini}')\n",
    "print(f'Max train index is {max_train_index[:5]}')\n",
    "print(f'Max test index is {max_test_index[:5]}')"
   ]
  },
  {
   "cell_type": "markdown",
   "id": "3b8a7060",
   "metadata": {
    "papermill": {
     "duration": 0.012314,
     "end_time": "2023-03-12T23:13:09.695345",
     "exception": false,
     "start_time": "2023-03-12T23:13:09.683031",
     "status": "completed"
    },
    "tags": []
   },
   "source": [
    "have to use predict_proba because we need probability of the sex"
   ]
  },
  {
   "cell_type": "code",
   "execution_count": 24,
   "id": "cdda3180",
   "metadata": {
    "execution": {
     "iopub.execute_input": "2023-03-12T23:13:09.722306Z",
     "iopub.status.busy": "2023-03-12T23:13:09.721863Z",
     "iopub.status.idle": "2023-03-12T23:14:43.326722Z",
     "shell.execute_reply": "2023-03-12T23:14:43.325482Z"
    },
    "papermill": {
     "duration": 93.634704,
     "end_time": "2023-03-12T23:14:43.342770",
     "exception": false,
     "start_time": "2023-03-12T23:13:09.708066",
     "status": "completed"
    },
    "tags": []
   },
   "outputs": [
    {
     "data": {
      "text/html": [
       "<div>\n",
       "<style scoped>\n",
       "    .dataframe tbody tr th:only-of-type {\n",
       "        vertical-align: middle;\n",
       "    }\n",
       "\n",
       "    .dataframe tbody tr th {\n",
       "        vertical-align: top;\n",
       "    }\n",
       "\n",
       "    .dataframe thead th {\n",
       "        text-align: right;\n",
       "    }\n",
       "</style>\n",
       "<table border=\"1\" class=\"dataframe\">\n",
       "  <thead>\n",
       "    <tr style=\"text-align: right;\">\n",
       "      <th></th>\n",
       "      <th>user_id</th>\n",
       "      <th>is_male</th>\n",
       "    </tr>\n",
       "  </thead>\n",
       "  <tbody>\n",
       "    <tr>\n",
       "      <th>0</th>\n",
       "      <td>221301</td>\n",
       "      <td>0.935098</td>\n",
       "    </tr>\n",
       "    <tr>\n",
       "      <th>1</th>\n",
       "      <td>31271</td>\n",
       "      <td>0.525328</td>\n",
       "    </tr>\n",
       "    <tr>\n",
       "      <th>2</th>\n",
       "      <td>211594</td>\n",
       "      <td>0.517376</td>\n",
       "    </tr>\n",
       "    <tr>\n",
       "      <th>3</th>\n",
       "      <td>253119</td>\n",
       "      <td>0.455791</td>\n",
       "    </tr>\n",
       "    <tr>\n",
       "      <th>4</th>\n",
       "      <td>192578</td>\n",
       "      <td>0.801503</td>\n",
       "    </tr>\n",
       "  </tbody>\n",
       "</table>\n",
       "</div>"
      ],
      "text/plain": [
       "   user_id   is_male\n",
       "0   221301  0.935098\n",
       "1    31271  0.525328\n",
       "2   211594  0.517376\n",
       "3   253119  0.455791\n",
       "4   192578  0.801503"
      ]
     },
     "execution_count": 24,
     "metadata": {},
     "output_type": "execute_result"
    }
   ],
   "source": [
    "if (IS_MODEL_CATBOOST or IS_MODEL_RANDFOREST):\n",
    "    if (IS_MODEL_CATBOOST):\n",
    "        clf.fit(x.iloc[max_train_index], y.iloc[max_train_index], verbose = False)\n",
    "    elif (IS_MODEL_RANDFOREST):\n",
    "        clf.fit(x.iloc[max_train_index], y.iloc[max_train_index])\n",
    "    id_to_submit['user_id'].unique\n",
    "    id_to_submit['is_male'] = clf.predict_proba(id_to_submit.merge(usr_emb, how = 'left', on = ['user_id']).drop(['user_id'], axis = 1))[:,1]\n",
    "    \n",
    "id_to_submit.head()"
   ]
  },
  {
   "cell_type": "code",
   "execution_count": 25,
   "id": "b6401605",
   "metadata": {
    "execution": {
     "iopub.execute_input": "2023-03-12T23:14:43.371579Z",
     "iopub.status.busy": "2023-03-12T23:14:43.370375Z",
     "iopub.status.idle": "2023-03-12T23:14:43.487399Z",
     "shell.execute_reply": "2023-03-12T23:14:43.486021Z"
    },
    "papermill": {
     "duration": 0.134417,
     "end_time": "2023-03-12T23:14:43.490132",
     "exception": false,
     "start_time": "2023-03-12T23:14:43.355715",
     "status": "completed"
    },
    "tags": []
   },
   "outputs": [
    {
     "name": "stdout",
     "output_type": "stream",
     "text": [
      "Current GINI score:  0.681\n"
     ]
    }
   ],
   "source": [
    "print(\"Current GINI score: \", float(f'{2 * m.roc_auc_score(y.iloc[max_test_index], clf.predict_proba(x.iloc[max_test_index])[:,1]) - 1:2.3f}'))"
   ]
  },
  {
   "cell_type": "markdown",
   "id": "d292e34e",
   "metadata": {
    "papermill": {
     "duration": 0.012385,
     "end_time": "2023-03-12T23:14:43.515358",
     "exception": false,
     "start_time": "2023-03-12T23:14:43.502973",
     "status": "completed"
    },
    "tags": []
   },
   "source": [
    "## Age prediction"
   ]
  },
  {
   "cell_type": "code",
   "execution_count": 26,
   "id": "24613433",
   "metadata": {
    "execution": {
     "iopub.execute_input": "2023-03-12T23:14:43.542938Z",
     "iopub.status.busy": "2023-03-12T23:14:43.541923Z",
     "iopub.status.idle": "2023-03-12T23:14:43.547884Z",
     "shell.execute_reply": "2023-03-12T23:14:43.546671Z"
    },
    "papermill": {
     "duration": 0.022291,
     "end_time": "2023-03-12T23:14:43.550139",
     "exception": false,
     "start_time": "2023-03-12T23:14:43.527848",
     "status": "completed"
    },
    "tags": []
   },
   "outputs": [],
   "source": [
    "def age_bucket(x):\n",
    "    return bisect.bisect_left([18,25,35,45,55,65], x)"
   ]
  },
  {
   "cell_type": "code",
   "execution_count": 27,
   "id": "d3e762ff",
   "metadata": {
    "execution": {
     "iopub.execute_input": "2023-03-12T23:14:43.578077Z",
     "iopub.status.busy": "2023-03-12T23:14:43.577286Z",
     "iopub.status.idle": "2023-03-12T23:14:45.278777Z",
     "shell.execute_reply": "2023-03-12T23:14:45.277962Z"
    },
    "papermill": {
     "duration": 1.717704,
     "end_time": "2023-03-12T23:14:45.280936",
     "exception": false,
     "start_time": "2023-03-12T23:14:43.563232",
     "status": "completed"
    },
    "tags": []
   },
   "outputs": [
    {
     "data": {
      "text/plain": [
       "<AxesSubplot:xlabel='age', ylabel='Count'>"
      ]
     },
     "execution_count": 27,
     "metadata": {},
     "output_type": "execute_result"
    },
    {
     "data": {
      "image/png": "[encoded data removed]",
      "text/plain": [
       "<Figure size 432x288 with 1 Axes>"
      ]
     },
     "metadata": {},
     "output_type": "display_data"
    }
   ],
   "source": [
    "df = usr_targets.merge(usr_emb, how = 'inner', on = ['user_id'])\n",
    "df = df[df['age'] != 'NA']\n",
    "df = df.dropna()\n",
    "df['age'] = df['age'].map(age_bucket)\n",
    "sns.histplot(df['age'], bins = 7)"
   ]
  },
  {
   "cell_type": "code",
   "execution_count": 28,
   "id": "374916e2",
   "metadata": {
    "execution": {
     "iopub.execute_input": "2023-03-12T23:14:45.314197Z",
     "iopub.status.busy": "2023-03-12T23:14:45.313289Z",
     "iopub.status.idle": "2023-03-12T23:14:45.324503Z",
     "shell.execute_reply": "2023-03-12T23:14:45.323596Z"
    },
    "papermill": {
     "duration": 0.031091,
     "end_time": "2023-03-12T23:14:45.326631",
     "exception": false,
     "start_time": "2023-03-12T23:14:45.295540",
     "status": "completed"
    },
    "tags": []
   },
   "outputs": [],
   "source": [
    "max_f1 = 0\n",
    "train_index = 0\n",
    "test_index = 0\n",
    "\n",
    "if (IS_MODEL_CATBOOST):\n",
    "    clf = CatBoostClassifier()\n",
    "elif (IS_MODEL_RANDFOREST):\n",
    "    clf = RandomForestClassifier(random_state=SPLIT_SEED)"
   ]
  },
  {
   "cell_type": "code",
   "execution_count": 29,
   "id": "0a48b168",
   "metadata": {
    "execution": {
     "iopub.execute_input": "2023-03-12T23:14:45.356134Z",
     "iopub.status.busy": "2023-03-12T23:14:45.355438Z",
     "iopub.status.idle": "2023-03-12T23:58:49.631173Z",
     "shell.execute_reply": "2023-03-12T23:58:49.629694Z"
    },
    "papermill": {
     "duration": 2644.307618,
     "end_time": "2023-03-12T23:58:49.647947",
     "exception": false,
     "start_time": "2023-03-12T23:14:45.340329",
     "status": "completed"
    },
    "tags": []
   },
   "outputs": [
    {
     "name": "stdout",
     "output_type": "stream",
     "text": [
      "Train indexes: [52860 52861 52862 52863 52864]; Test indexes: [0 1 2 3 4];\n",
      "Train length: 211436; Test length: 52860; Dataset length: 264296;\n",
      "Current F1 is 0.41312335312206694, current max is 0.41312335312206694\n",
      "\n",
      "Train indexes: [0 1 2 3 4]; Test indexes: [52860 52861 52862 52863 52864];\n",
      "Train length: 211437; Test length: 52859; Dataset length: 264296;\n",
      "Current F1 is 0.41614252558975573, current max is 0.41614252558975573\n",
      "\n",
      "Train indexes: [0 1 2 3 4]; Test indexes: [105719 105720 105721 105722 105723];\n",
      "Train length: 211437; Test length: 52859; Dataset length: 264296;\n",
      "Current F1 is 0.4154105353668965, current max is 0.41614252558975573\n",
      "\n",
      "Train indexes: [0 1 2 3 4]; Test indexes: [158578 158579 158580 158581 158582];\n",
      "Train length: 211437; Test length: 52859; Dataset length: 264296;\n",
      "Current F1 is 0.41081082348612225, current max is 0.41614252558975573\n",
      "\n",
      "Train indexes: [0 1 2 3 4]; Test indexes: [211437 211438 211439 211440 211441];\n",
      "Train length: 211437; Test length: 52859; Dataset length: 264296;\n",
      "Current F1 is 0.4115674404814611, current max is 0.41614252558975573\n",
      "\n"
     ]
    }
   ],
   "source": [
    "if (IS_MODEL_CATBOOST or IS_MODEL_RANDFOREST):\n",
    "    x = df.drop(['user_id', 'age', 'is_male'], axis = 1)\n",
    "    y = df['age']\n",
    "\n",
    "    kf = KFold(n_splits=KFOLD_SPLITS)\n",
    "\n",
    "    for train_index, test_index in kf.split(x):\n",
    "        print(\"Train indexes: \", train_index[:5],\n",
    "              \"; Test indexes: \", test_index[:5], \";\\n\",\n",
    "              \"Train length: \", len(train_index), \n",
    "              \"; Test length: \", len(test_index), \n",
    "              \"; Dataset length: \", len(x), ';', sep='', end='\\n')\n",
    "        \n",
    "        x_train, x_test = x.iloc[train_index], x.iloc[test_index]\n",
    "        y_train, y_test = y.iloc[train_index], y.iloc[test_index]\n",
    "        if (IS_MODEL_CATBOOST):\n",
    "            clf.fit(x_train, y_train, verbose = False)\n",
    "        elif (IS_MODEL_RANDFOREST):\n",
    "            clf.fit(x_train, y_train)\n",
    "        \n",
    "        f1 = m.f1_score(y_test, clf.predict(x_test), average='weighted')\n",
    "        if f1 > max_f1:\n",
    "            max_f1 = f1\n",
    "            max_train_index = train_index\n",
    "            max_test_index = test_index\n",
    "        \n",
    "        print(f'Current F1 is {f1}, current max is {max_f1}', end=\"\\n\\n\")"
   ]
  },
  {
   "cell_type": "code",
   "execution_count": 30,
   "id": "f644d2f4",
   "metadata": {
    "execution": {
     "iopub.execute_input": "2023-03-12T23:58:49.677780Z",
     "iopub.status.busy": "2023-03-12T23:58:49.677367Z",
     "iopub.status.idle": "2023-03-12T23:58:49.684580Z",
     "shell.execute_reply": "2023-03-12T23:58:49.683253Z"
    },
    "papermill": {
     "duration": 0.025374,
     "end_time": "2023-03-12T23:58:49.687342",
     "exception": false,
     "start_time": "2023-03-12T23:58:49.661968",
     "status": "completed"
    },
    "tags": []
   },
   "outputs": [
    {
     "name": "stdout",
     "output_type": "stream",
     "text": [
      "Max F1 is 0.41614252558975573\n",
      "Max train index is [0 1 2 3 4]\n",
      "Max test index is [52860 52861 52862 52863 52864]\n"
     ]
    }
   ],
   "source": [
    "print(f'Max F1 is {max_f1}')\n",
    "print(f'Max train index is {max_train_index[:5]}')\n",
    "print(f'Max test index is {max_test_index[:5]}')"
   ]
  },
  {
   "cell_type": "code",
   "execution_count": 31,
   "id": "29c03c07",
   "metadata": {
    "execution": {
     "iopub.execute_input": "2023-03-12T23:58:49.717776Z",
     "iopub.status.busy": "2023-03-12T23:58:49.717377Z",
     "iopub.status.idle": "2023-03-13T00:07:40.013854Z",
     "shell.execute_reply": "2023-03-13T00:07:40.012678Z"
    },
    "papermill": {
     "duration": 530.328613,
     "end_time": "2023-03-13T00:07:40.030444",
     "exception": false,
     "start_time": "2023-03-12T23:58:49.701831",
     "status": "completed"
    },
    "tags": []
   },
   "outputs": [
    {
     "data": {
      "text/html": [
       "<div>\n",
       "<style scoped>\n",
       "    .dataframe tbody tr th:only-of-type {\n",
       "        vertical-align: middle;\n",
       "    }\n",
       "\n",
       "    .dataframe tbody tr th {\n",
       "        vertical-align: top;\n",
       "    }\n",
       "\n",
       "    .dataframe thead th {\n",
       "        text-align: right;\n",
       "    }\n",
       "</style>\n",
       "<table border=\"1\" class=\"dataframe\">\n",
       "  <thead>\n",
       "    <tr style=\"text-align: right;\">\n",
       "      <th></th>\n",
       "      <th>user_id</th>\n",
       "      <th>is_male</th>\n",
       "      <th>age</th>\n",
       "    </tr>\n",
       "  </thead>\n",
       "  <tbody>\n",
       "    <tr>\n",
       "      <th>0</th>\n",
       "      <td>221301</td>\n",
       "      <td>0.935098</td>\n",
       "      <td>2</td>\n",
       "    </tr>\n",
       "    <tr>\n",
       "      <th>1</th>\n",
       "      <td>31271</td>\n",
       "      <td>0.525328</td>\n",
       "      <td>3</td>\n",
       "    </tr>\n",
       "    <tr>\n",
       "      <th>2</th>\n",
       "      <td>211594</td>\n",
       "      <td>0.517376</td>\n",
       "      <td>2</td>\n",
       "    </tr>\n",
       "    <tr>\n",
       "      <th>3</th>\n",
       "      <td>253119</td>\n",
       "      <td>0.455791</td>\n",
       "      <td>3</td>\n",
       "    </tr>\n",
       "    <tr>\n",
       "      <th>4</th>\n",
       "      <td>192578</td>\n",
       "      <td>0.801503</td>\n",
       "      <td>2</td>\n",
       "    </tr>\n",
       "  </tbody>\n",
       "</table>\n",
       "</div>"
      ],
      "text/plain": [
       "   user_id   is_male  age\n",
       "0   221301  0.935098    2\n",
       "1    31271  0.525328    3\n",
       "2   211594  0.517376    2\n",
       "3   253119  0.455791    3\n",
       "4   192578  0.801503    2"
      ]
     },
     "execution_count": 31,
     "metadata": {},
     "output_type": "execute_result"
    }
   ],
   "source": [
    "if (IS_MODEL_CATBOOST or IS_MODEL_RANDFOREST):\n",
    "    if (IS_MODEL_CATBOOST):\n",
    "        clf.fit(x.iloc[max_train_index], y.iloc[max_train_index], verbose = False)\n",
    "    elif (IS_MODEL_RANDFOREST):\n",
    "        clf.fit(x.iloc[max_train_index], y.iloc[max_train_index])\n",
    "    id_to_submit['age'] = clf.predict(id_to_submit[['user_id']].merge(usr_emb, how = 'left', on = ['user_id']).drop(['user_id'], axis = 1))\n",
    "    \n",
    "id_to_submit.head()"
   ]
  },
  {
   "cell_type": "code",
   "execution_count": 32,
   "id": "b8b0b378",
   "metadata": {
    "execution": {
     "iopub.execute_input": "2023-03-13T00:07:40.060232Z",
     "iopub.status.busy": "2023-03-13T00:07:40.059787Z",
     "iopub.status.idle": "2023-03-13T00:07:40.377691Z",
     "shell.execute_reply": "2023-03-13T00:07:40.376475Z"
    },
    "papermill": {
     "duration": 0.335542,
     "end_time": "2023-03-13T00:07:40.380111",
     "exception": false,
     "start_time": "2023-03-13T00:07:40.044569",
     "status": "completed"
    },
    "tags": []
   },
   "outputs": [
    {
     "name": "stdout",
     "output_type": "stream",
     "text": [
      "              precision    recall  f1-score   support\n",
      "\n",
      "         <18       0.00      0.00      0.00       154\n",
      "       18-25       0.52      0.29      0.37      6301\n",
      "       25-34       0.48      0.62      0.54     17210\n",
      "       35-44       0.40      0.53      0.46     15316\n",
      "       45-54       0.38      0.19      0.25      8206\n",
      "       55-65       0.41      0.19      0.26      4589\n",
      "         65+       0.37      0.02      0.04      1083\n",
      "\n",
      "    accuracy                           0.44     52859\n",
      "   macro avg       0.36      0.26      0.28     52859\n",
      "weighted avg       0.43      0.44      0.42     52859\n",
      "\n"
     ]
    }
   ],
   "source": [
    "if (IS_MODEL_CATBOOST or IS_MODEL_RANDFOREST):\n",
    "    print(m.classification_report(\n",
    "          y.iloc[max_test_index], \n",
    "          clf.predict(x.iloc[max_test_index]), \n",
    "          target_names = ['<18', '18-25','25-34', '35-44', '45-54', '55-65', '65+']\n",
    "    ))"
   ]
  },
  {
   "cell_type": "markdown",
   "id": "3239d098",
   "metadata": {
    "papermill": {
     "duration": 0.013904,
     "end_time": "2023-03-13T00:07:40.408412",
     "exception": false,
     "start_time": "2023-03-13T00:07:40.394508",
     "status": "completed"
    },
    "tags": []
   },
   "source": [
    "## Submission"
   ]
  },
  {
   "cell_type": "code",
   "execution_count": 33,
   "id": "119feda8",
   "metadata": {
    "execution": {
     "iopub.execute_input": "2023-03-13T00:07:40.439176Z",
     "iopub.status.busy": "2023-03-13T00:07:40.438753Z",
     "iopub.status.idle": "2023-03-13T00:07:40.852596Z",
     "shell.execute_reply": "2023-03-13T00:07:40.851286Z"
    },
    "papermill": {
     "duration": 0.432469,
     "end_time": "2023-03-13T00:07:40.855538",
     "exception": false,
     "start_time": "2023-03-13T00:07:40.423069",
     "status": "completed"
    },
    "tags": []
   },
   "outputs": [
    {
     "data": {
      "text/html": [
       "<div>\n",
       "<style scoped>\n",
       "    .dataframe tbody tr th:only-of-type {\n",
       "        vertical-align: middle;\n",
       "    }\n",
       "\n",
       "    .dataframe tbody tr th {\n",
       "        vertical-align: top;\n",
       "    }\n",
       "\n",
       "    .dataframe thead th {\n",
       "        text-align: right;\n",
       "    }\n",
       "</style>\n",
       "<table border=\"1\" class=\"dataframe\">\n",
       "  <thead>\n",
       "    <tr style=\"text-align: right;\">\n",
       "      <th></th>\n",
       "      <th>user_id</th>\n",
       "      <th>is_male</th>\n",
       "      <th>age</th>\n",
       "    </tr>\n",
       "  </thead>\n",
       "  <tbody>\n",
       "    <tr>\n",
       "      <th>0</th>\n",
       "      <td>221301</td>\n",
       "      <td>0.935098</td>\n",
       "      <td>2</td>\n",
       "    </tr>\n",
       "    <tr>\n",
       "      <th>1</th>\n",
       "      <td>31271</td>\n",
       "      <td>0.525328</td>\n",
       "      <td>3</td>\n",
       "    </tr>\n",
       "    <tr>\n",
       "      <th>2</th>\n",
       "      <td>211594</td>\n",
       "      <td>0.517376</td>\n",
       "      <td>2</td>\n",
       "    </tr>\n",
       "    <tr>\n",
       "      <th>3</th>\n",
       "      <td>253119</td>\n",
       "      <td>0.455791</td>\n",
       "      <td>3</td>\n",
       "    </tr>\n",
       "    <tr>\n",
       "      <th>4</th>\n",
       "      <td>192578</td>\n",
       "      <td>0.801503</td>\n",
       "      <td>2</td>\n",
       "    </tr>\n",
       "  </tbody>\n",
       "</table>\n",
       "</div>"
      ],
      "text/plain": [
       "   user_id   is_male  age\n",
       "0   221301  0.935098    2\n",
       "1    31271  0.525328    3\n",
       "2   211594  0.517376    2\n",
       "3   253119  0.455791    3\n",
       "4   192578  0.801503    2"
      ]
     },
     "metadata": {},
     "output_type": "display_data"
    },
    {
     "data": {
      "text/plain": [
       "0.519091    112\n",
       "0.445849     78\n",
       "0.517253     78\n",
       "0.491210     72\n",
       "0.515606     67\n",
       "           ... \n",
       "0.368196      1\n",
       "0.008533      1\n",
       "0.711050      1\n",
       "0.811603      1\n",
       "0.513986      1\n",
       "Name: is_male, Length: 141979, dtype: int64"
      ]
     },
     "metadata": {},
     "output_type": "display_data"
    },
    {
     "data": {
      "text/plain": [
       "2    61045\n",
       "3    56587\n",
       "4    11354\n",
       "1     9827\n",
       "5     5792\n",
       "6      118\n",
       "0        1\n",
       "Name: age, dtype: int64"
      ]
     },
     "metadata": {},
     "output_type": "display_data"
    }
   ],
   "source": [
    "display(id_to_submit.head())\n",
    "display(id_to_submit.is_male.value_counts())\n",
    "display(id_to_submit.age.value_counts())\n",
    "id_to_submit.to_csv('submission.csv', index = False)"
   ]
  },
  {
   "cell_type": "code",
   "execution_count": 34,
   "id": "1cad3b50",
   "metadata": {
    "execution": {
     "iopub.execute_input": "2023-03-13T00:07:40.886635Z",
     "iopub.status.busy": "2023-03-13T00:07:40.886243Z",
     "iopub.status.idle": "2023-03-13T00:07:40.892410Z",
     "shell.execute_reply": "2023-03-13T00:07:40.891233Z"
    },
    "papermill": {
     "duration": 0.024457,
     "end_time": "2023-03-13T00:07:40.894858",
     "exception": false,
     "start_time": "2023-03-13T00:07:40.870401",
     "status": "completed"
    },
    "tags": []
   },
   "outputs": [
    {
     "name": "stdout",
     "output_type": "stream",
     "text": [
      "Score: 1.5132850511795115\n"
     ]
    }
   ],
   "source": [
    "print(f'Score: {max_gini + 2*max_f1}')"
   ]
  }
 ],
 "metadata": {
  "kernelspec": {
   "display_name": "Python 3",
   "language": "python",
   "name": "python3"
  },
  "language_info": {
   "codemirror_mode": {
    "name": "ipython",
    "version": 3
   },
   "file_extension": ".py",
   "mimetype": "text/x-python",
   "name": "python",
   "nbconvert_exporter": "python",
   "pygments_lexer": "ipython3",
   "version": "3.7.12"
  },
  "papermill": {
   "default_parameters": {},
   "duration": 24539.674845,
   "end_time": "2023-03-13T00:07:44.330069",
   "environment_variables": {},
   "exception": null,
   "input_path": "__notebook__.ipynb",
   "output_path": "__notebook__.ipynb",
   "parameters": {},
   "start_time": "2023-03-12T17:18:44.655224",
   "version": "2.3.4"
  },
  "widgets": {
   "application/vnd.jupyter.widget-state+json": {
    "state": {
     "2c72c0ea42f446c9a6c8ffeaf5196395": {
      "model_module": "@jupyter-widgets/controls",
      "model_module_version": "1.5.0",
      "model_name": "HBoxModel",
      "state": {
       "_dom_classes": [],
       "_model_module": "@jupyter-widgets/controls",
       "_model_module_version": "1.5.0",
       "_model_name": "HBoxModel",
       "_view_count": null,
       "_view_module": "@jupyter-widgets/controls",
       "_view_module_version": "1.5.0",
       "_view_name": "HBoxView",
       "box_style": "",
       "children": [
        "IPY_MODEL_acd30293533e44ed9d91f9e5c565c0b5",
        "IPY_MODEL_d0aaa1fab57f4188b4fd93570007ed64",
        "IPY_MODEL_6bcbb9f16d124297912c3b0da65b71fe"
       ],
       "layout": "IPY_MODEL_74dedd60ee1a4c40ba14732227aded86"
      }
     },
     "35845dab513b46c3ad415ffb5ad93360": {
      "model_module": "@jupyter-widgets/base",
      "model_module_version": "1.2.0",
      "model_name": "LayoutModel",
      "state": {
       "_model_module": "@jupyter-widgets/base",
       "_model_module_version": "1.2.0",
       "_model_name": "LayoutModel",
       "_view_count": null,
       "_view_module": "@jupyter-widgets/base",
       "_view_module_version": "1.2.0",
       "_view_name": "LayoutView",
       "align_content": null,
       "align_items": null,
       "align_self": null,
       "border": null,
       "bottom": null,
       "display": null,
       "flex": null,
       "flex_flow": null,
       "grid_area": null,
       "grid_auto_columns": null,
       "grid_auto_flow": null,
       "grid_auto_rows": null,
       "grid_column": null,
       "grid_gap": null,
       "grid_row": null,
       "grid_template_areas": null,
       "grid_template_columns": null,
       "grid_template_rows": null,
       "height": null,
       "justify_content": null,
       "justify_items": null,
       "left": null,
       "margin": null,
       "max_height": null,
       "max_width": null,
       "min_height": null,
       "min_width": null,
       "object_fit": null,
       "object_position": null,
       "order": null,
       "overflow": null,
       "overflow_x": null,
       "overflow_y": null,
       "padding": null,
       "right": null,
       "top": null,
       "visibility": null,
       "width": null
      }
     },
     "6bcbb9f16d124297912c3b0da65b71fe": {
      "model_module": "@jupyter-widgets/controls",
      "model_module_version": "1.5.0",
      "model_name": "HTMLModel",
      "state": {
       "_dom_classes": [],
       "_model_module": "@jupyter-widgets/controls",
       "_model_module_version": "1.5.0",
       "_model_name": "HTMLModel",
       "_view_count": null,
       "_view_module": "@jupyter-widgets/controls",
       "_view_module_version": "1.5.0",
       "_view_name": "HTMLView",
       "description": "",
       "description_tooltip": null,
       "layout": "IPY_MODEL_84b7eff88f4a48588ecffdc581122b61",
       "placeholder": "​",
       "style": "IPY_MODEL_b434ab7d9b6d4fdcb69ea8a78f1032e0",
       "value": " 1500/1500 [5:43:20&lt;00:00, 13.69s/it, loss=0.000246]"
      }
     },
     "74dedd60ee1a4c40ba14732227aded86": {
      "model_module": "@jupyter-widgets/base",
      "model_module_version": "1.2.0",
      "model_name": "LayoutModel",
      "state": {
       "_model_module": "@jupyter-widgets/base",
       "_model_module_version": "1.2.0",
       "_model_name": "LayoutModel",
       "_view_count": null,
       "_view_module": "@jupyter-widgets/base",
       "_view_module_version": "1.2.0",
       "_view_name": "LayoutView",
       "align_content": null,
       "align_items": null,
       "align_self": null,
       "border": null,
       "bottom": null,
       "display": null,
       "flex": null,
       "flex_flow": null,
       "grid_area": null,
       "grid_auto_columns": null,
       "grid_auto_flow": null,
       "grid_auto_rows": null,
       "grid_column": null,
       "grid_gap": null,
       "grid_row": null,
       "grid_template_areas": null,
       "grid_template_columns": null,
       "grid_template_rows": null,
       "height": null,
       "justify_content": null,
       "justify_items": null,
       "left": null,
       "margin": null,
       "max_height": null,
       "max_width": null,
       "min_height": null,
       "min_width": null,
       "object_fit": null,
       "object_position": null,
       "order": null,
       "overflow": null,
       "overflow_x": null,
       "overflow_y": null,
       "padding": null,
       "right": null,
       "top": null,
       "visibility": null,
       "width": null
      }
     },
     "84b7eff88f4a48588ecffdc581122b61": {
      "model_module": "@jupyter-widgets/base",
      "model_module_version": "1.2.0",
      "model_name": "LayoutModel",
      "state": {
       "_model_module": "@jupyter-widgets/base",
       "_model_module_version": "1.2.0",
       "_model_name": "LayoutModel",
       "_view_count": null,
       "_view_module": "@jupyter-widgets/base",
       "_view_module_version": "1.2.0",
       "_view_name": "LayoutView",
       "align_content": null,
       "align_items": null,
       "align_self": null,
       "border": null,
       "bottom": null,
       "display": null,
       "flex": null,
       "flex_flow": null,
       "grid_area": null,
       "grid_auto_columns": null,
       "grid_auto_flow": null,
       "grid_auto_rows": null,
       "grid_column": null,
       "grid_gap": null,
       "grid_row": null,
       "grid_template_areas": null,
       "grid_template_columns": null,
       "grid_template_rows": null,
       "height": null,
       "justify_content": null,
       "justify_items": null,
       "left": null,
       "margin": null,
       "max_height": null,
       "max_width": null,
       "min_height": null,
       "min_width": null,
       "object_fit": null,
       "object_position": null,
       "order": null,
       "overflow": null,
       "overflow_x": null,
       "overflow_y": null,
       "padding": null,
       "right": null,
       "top": null,
       "visibility": null,
       "width": null
      }
     },
     "8ce4fd48824347959b820539cad42bc5": {
      "model_module": "@jupyter-widgets/base",
      "model_module_version": "1.2.0",
      "model_name": "LayoutModel",
      "state": {
       "_model_module": "@jupyter-widgets/base",
       "_model_module_version": "1.2.0",
       "_model_name": "LayoutModel",
       "_view_count": null,
       "_view_module": "@jupyter-widgets/base",
       "_view_module_version": "1.2.0",
       "_view_name": "LayoutView",
       "align_content": null,
       "align_items": null,
       "align_self": null,
       "border": null,
       "bottom": null,
       "display": null,
       "flex": null,
       "flex_flow": null,
       "grid_area": null,
       "grid_auto_columns": null,
       "grid_auto_flow": null,
       "grid_auto_rows": null,
       "grid_column": null,
       "grid_gap": null,
       "grid_row": null,
       "grid_template_areas": null,
       "grid_template_columns": null,
       "grid_template_rows": null,
       "height": null,
       "justify_content": null,
       "justify_items": null,
       "left": null,
       "margin": null,
       "max_height": null,
       "max_width": null,
       "min_height": null,
       "min_width": null,
       "object_fit": null,
       "object_position": null,
       "order": null,
       "overflow": null,
       "overflow_x": null,
       "overflow_y": null,
       "padding": null,
       "right": null,
       "top": null,
       "visibility": null,
       "width": null
      }
     },
     "acd30293533e44ed9d91f9e5c565c0b5": {
      "model_module": "@jupyter-widgets/controls",
      "model_module_version": "1.5.0",
      "model_name": "HTMLModel",
      "state": {
       "_dom_classes": [],
       "_model_module": "@jupyter-widgets/controls",
       "_model_module_version": "1.5.0",
       "_model_name": "HTMLModel",
       "_view_count": null,
       "_view_module": "@jupyter-widgets/controls",
       "_view_module_version": "1.5.0",
       "_view_name": "HTMLView",
       "description": "",
       "description_tooltip": null,
       "layout": "IPY_MODEL_35845dab513b46c3ad415ffb5ad93360",
       "placeholder": "​",
       "style": "IPY_MODEL_be769b80971f4cdd85e3331f34d9b1eb",
       "value": "100%"
      }
     },
     "b434ab7d9b6d4fdcb69ea8a78f1032e0": {
      "model_module": "@jupyter-widgets/controls",
      "model_module_version": "1.5.0",
      "model_name": "DescriptionStyleModel",
      "state": {
       "_model_module": "@jupyter-widgets/controls",
       "_model_module_version": "1.5.0",
       "_model_name": "DescriptionStyleModel",
       "_view_count": null,
       "_view_module": "@jupyter-widgets/base",
       "_view_module_version": "1.2.0",
       "_view_name": "StyleView",
       "description_width": ""
      }
     },
     "b7adb61b95ef4a67ae7a2c4c46bbb97d": {
      "model_module": "@jupyter-widgets/controls",
      "model_module_version": "1.5.0",
      "model_name": "ProgressStyleModel",
      "state": {
       "_model_module": "@jupyter-widgets/controls",
       "_model_module_version": "1.5.0",
       "_model_name": "ProgressStyleModel",
       "_view_count": null,
       "_view_module": "@jupyter-widgets/base",
       "_view_module_version": "1.2.0",
       "_view_name": "StyleView",
       "bar_color": null,
       "description_width": ""
      }
     },
     "be769b80971f4cdd85e3331f34d9b1eb": {
      "model_module": "@jupyter-widgets/controls",
      "model_module_version": "1.5.0",
      "model_name": "DescriptionStyleModel",
      "state": {
       "_model_module": "@jupyter-widgets/controls",
       "_model_module_version": "1.5.0",
       "_model_name": "DescriptionStyleModel",
       "_view_count": null,
       "_view_module": "@jupyter-widgets/base",
       "_view_module_version": "1.2.0",
       "_view_name": "StyleView",
       "description_width": ""
      }
     },
     "d0aaa1fab57f4188b4fd93570007ed64": {
      "model_module": "@jupyter-widgets/controls",
      "model_module_version": "1.5.0",
      "model_name": "FloatProgressModel",
      "state": {
       "_dom_classes": [],
       "_model_module": "@jupyter-widgets/controls",
       "_model_module_version": "1.5.0",
       "_model_name": "FloatProgressModel",
       "_view_count": null,
       "_view_module": "@jupyter-widgets/controls",
       "_view_module_version": "1.5.0",
       "_view_name": "ProgressView",
       "bar_style": "success",
       "description": "",
       "description_tooltip": null,
       "layout": "IPY_MODEL_8ce4fd48824347959b820539cad42bc5",
       "max": 1500.0,
       "min": 0.0,
       "orientation": "horizontal",
       "style": "IPY_MODEL_b7adb61b95ef4a67ae7a2c4c46bbb97d",
       "value": 1500.0
      }
     }
    },
    "version_major": 2,
    "version_minor": 0
   }
  }
 },
 "nbformat": 4,
 "nbformat_minor": 5
}
